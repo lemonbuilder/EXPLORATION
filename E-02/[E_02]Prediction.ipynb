{
  "nbformat": 4,
  "nbformat_minor": 0,
  "metadata": {
    "colab": {
      "name": "[E-02]Prediction.ipynb",
      "provenance": [],
      "collapsed_sections": [
        "leVYjy_xVvHH",
        "0cBbyPWRSO06"
      ],
      "mount_file_id": "1UdNGlLkpS17Yto3-DG3T1If0tOQWmJHb",
      "authorship_tag": "ABX9TyOXO/RDEoYGYntsWO0PHGwS",
      "include_colab_link": true
    },
    "kernelspec": {
      "name": "python3",
      "display_name": "Python 3"
    },
    "language_info": {
      "name": "python"
    }
  },
  "cells": [
    {
      "cell_type": "markdown",
      "metadata": {
        "id": "view-in-github",
        "colab_type": "text"
      },
      "source": [
        "<a href=\"https://colab.research.google.com/github/lemonbuilder/EXPLORATION/blob/main/E-02/%5BE_02%5DPrediction.ipynb\" target=\"_parent\"><img src=\"https://colab.research.google.com/assets/colab-badge.svg\" alt=\"Open In Colab\"/></a>"
      ]
    },
    {
      "cell_type": "markdown",
      "source": [
        "# [E-02] PREDICTION\n",
        "\n",
        "\n",
        "<br>\n",
        "\n",
        "< 목 차 >\n",
        "\n",
        "###I.   서 론\n",
        "\n",
        "###II.  본 론\n",
        "\n",
        "1.   **당뇨병 수치 예측** \n",
        "\n",
        "    1) 데이터 분석  \n",
        "    2) 함수 구현을 통한 학습 및 예측  \n",
        "    3) 라이브러리를 활용한 학습 및 예측  \n",
        "    4) 소결  \n",
        "\n",
        "2.   **자전거 대여량 예측**  \n",
        "\n",
        "    1) 데이터 분석  \n",
        "    2) 학습 및 예측  \n",
        "    3) 소결   \n",
        "\n",
        "\n",
        "###III. 결 론\n",
        "\n",
        "<br><br><br>\n",
        "\n"
      ],
      "metadata": {
        "id": "leVYjy_xVvHH"
      }
    },
    {
      "cell_type": "markdown",
      "source": [
        "\n",
        "\n",
        "---\n",
        "\n",
        "# **I.  서 론**\n",
        "\n",
        "<br>\n",
        "\n",
        "\n",
        "####**[ 배경 및 의의 ]**\n",
        "\n",
        "우리가 흔히 다루는 데이터셋 안에는 많은 유형의 정보가 포함되어 있다. 그 중에는 우리가 알고자 하는 내용과 관련이 높은 정보가 있는가 하면, 그렇지 않은 정보도 있다. 데이터를 적절히 활용하여 원하는 바를 얻기 위해서는 데이터 간의 상관관계를 이해하고, 결과에 영향을 미치는 요소들을 통제∙조정할 필요가 있다.\n",
        "\n",
        "이번 Exploration에서는 데이터를 기반으로 특정수치를 예측하는 방법을 알아본다. 예측을 위해서는 예측 대상과 데이터 간에 개연성이 있어야 한다. 한 변수가 다른 변수와 선형적으로 연관되어 있다면, 우리는 그러한 관계를 토대로 특정값을 추론하는 것이 가능할 것이다. 또한 예측값과 실제 수치 사이의 오차를 통해 예측의 정확도를 추측하고 더 나은 값을 찾아나가는 학습방식을 익혀본다. \n",
        "\n",
        "<br>\n",
        "\n",
        "####**[ 목표 ]**\n",
        "*   머신러닝을 통한 예측구조의 이해\n",
        "*   변수 간 상관관계에 대한 숙지\n",
        "*   예측치와 실제 데이터 간의 격차를 줄이는 원리 학습\n",
        "*   데이터셋을 활용한 특정값 예측 실시\n",
        "*   예측 결과의 타당성 고찰\n",
        "*   해결되지 않은 부분에 대한 인지 및 향후 보완사항 검토\n",
        "\n",
        "\n",
        "<br><br><br>\n"
      ],
      "metadata": {
        "id": "0cBbyPWRSO06"
      }
    },
    {
      "cell_type": "markdown",
      "source": [
        "\n",
        "\n",
        "---\n",
        "\n",
        "# **II. 본 론**"
      ],
      "metadata": {
        "id": "S8GdvnPWSxWA"
      }
    },
    {
      "cell_type": "markdown",
      "source": [
        "\n",
        "\n",
        "\n",
        "##**1. 당뇨병 수치 예측**"
      ],
      "metadata": {
        "id": "aKGjl_wKXs-5"
      }
    },
    {
      "cell_type": "markdown",
      "source": [
        "<br><br>\n",
        "\n",
        "###**1) 데이터 분석**\n",
        "\n",
        "<br>\n",
        "\n",
        "첫 번째 프로젝트는 scikit-learn에서 제공하는 당뇨병 환자 데이터를 사용하여 당뇨병 수치를 예측하는 것이다. 데이터 셋팅을 위해 필요한 모듈을 import하고, 해당 테이터를 로딩한다. 데이터를 변수에 저장한 후 전반적인 내용을 파악했다.  \n",
        "\n",
        "총 442개의 데이터가 각각 10가지의 값을 가지고 있다. 나이(age), 성별(sex), 체질량지수(bmi), 혈압(bp), 혈청 정보(s1~s6) 등과 같은 환자의 특성이 나와있다. \n",
        "\n",
        "DESCR을 통해 확인한 결과, target(label)에는 환자별 질병 진행률을 정량적으로 측정한 값이 담겨있다고 한다.\n",
        "\n"
      ],
      "metadata": {
        "id": "ZsWosgCFLBvR"
      }
    },
    {
      "cell_type": "code",
      "execution_count": 126,
      "metadata": {
        "colab": {
          "base_uri": "https://localhost:8080/"
        },
        "id": "uKKXVNBvq0N8",
        "outputId": "c215f5fc-196e-476f-9a0e-ca696bca2293"
      },
      "outputs": [
        {
          "output_type": "stream",
          "name": "stdout",
          "text": [
            "- x.shape: (442, 10)\n",
            "- y.shape: (442,)\n",
            "- data 정보: dict_keys(['data', 'target', 'frame', 'DESCR', 'feature_names', 'data_filename', 'target_filename', 'data_module'])\n",
            "- feature: ['age', 'sex', 'bmi', 'bp', 's1', 's2', 's3', 's4', 's5', 's6']\n"
          ]
        }
      ],
      "source": [
        "'''당뇨병(diabetes) 환자 데이터'''\n",
        "from sklearn.datasets import load_diabetes\n",
        "import numpy as np \n",
        "\n",
        "diabetes=load_diabetes()\n",
        "\n",
        "# 데이터 할당\n",
        "df_x=diabetes.data\n",
        "df_y=diabetes.target\n",
        "\n",
        "# 데이터 개요 확인\n",
        "print(f'- x.shape: {df_x.shape}')\n",
        "print(f'- y.shape: {df_y.shape}')\n",
        "print(f'- data 정보: {diabetes.keys()}') \n",
        "print(f'- feature: {diabetes.feature_names}') "
      ]
    },
    {
      "cell_type": "code",
      "source": [
        "# 데이터 세부사항 확인\n",
        "print(diabetes.DESCR)"
      ],
      "metadata": {
        "colab": {
          "base_uri": "https://localhost:8080/"
        },
        "id": "kgqlapVhRWFu",
        "outputId": "0abda30c-f17f-49a6-f994-d4621795a4c7"
      },
      "execution_count": 127,
      "outputs": [
        {
          "output_type": "stream",
          "name": "stdout",
          "text": [
            ".. _diabetes_dataset:\n",
            "\n",
            "Diabetes dataset\n",
            "----------------\n",
            "\n",
            "Ten baseline variables, age, sex, body mass index, average blood\n",
            "pressure, and six blood serum measurements were obtained for each of n =\n",
            "442 diabetes patients, as well as the response of interest, a\n",
            "quantitative measure of disease progression one year after baseline.\n",
            "\n",
            "**Data Set Characteristics:**\n",
            "\n",
            "  :Number of Instances: 442\n",
            "\n",
            "  :Number of Attributes: First 10 columns are numeric predictive values\n",
            "\n",
            "  :Target: Column 11 is a quantitative measure of disease progression one year after baseline\n",
            "\n",
            "  :Attribute Information:\n",
            "      - age     age in years\n",
            "      - sex\n",
            "      - bmi     body mass index\n",
            "      - bp      average blood pressure\n",
            "      - s1      tc, total serum cholesterol\n",
            "      - s2      ldl, low-density lipoproteins\n",
            "      - s3      hdl, high-density lipoproteins\n",
            "      - s4      tch, total cholesterol / HDL\n",
            "      - s5      ltg, possibly log of serum triglycerides level\n",
            "      - s6      glu, blood sugar level\n",
            "\n",
            "Note: Each of these 10 feature variables have been mean centered and scaled by the standard deviation times `n_samples` (i.e. the sum of squares of each column totals 1).\n",
            "\n",
            "Source URL:\n",
            "https://www4.stat.ncsu.edu/~boos/var.select/diabetes.html\n",
            "\n",
            "For more information see:\n",
            "Bradley Efron, Trevor Hastie, Iain Johnstone and Robert Tibshirani (2004) \"Least Angle Regression,\" Annals of Statistics (with discussion), 407-499.\n",
            "(https://web.stanford.edu/~hastie/Papers/LARS/LeastAngle_2002.pdf)\n"
          ]
        }
      ]
    },
    {
      "cell_type": "code",
      "source": [
        "# 자료형 변환; data frame\n",
        "import pandas as pd\n",
        "diabetes_df = pd.DataFrame(data=df_x, columns=diabetes.feature_names)\n",
        "diabetes_df[\"label\"] = diabetes.target\n",
        "diabetes_df"
      ],
      "metadata": {
        "colab": {
          "base_uri": "https://localhost:8080/",
          "height": 423
        },
        "id": "iDHXJwWKxUl4",
        "outputId": "b7a2e707-e002-4fc9-803c-99c07d6e0aa5"
      },
      "execution_count": 128,
      "outputs": [
        {
          "output_type": "execute_result",
          "data": {
            "text/plain": [
              "          age       sex       bmi        bp        s1        s2        s3  \\\n",
              "0    0.038076  0.050680  0.061696  0.021872 -0.044223 -0.034821 -0.043401   \n",
              "1   -0.001882 -0.044642 -0.051474 -0.026328 -0.008449 -0.019163  0.074412   \n",
              "2    0.085299  0.050680  0.044451 -0.005671 -0.045599 -0.034194 -0.032356   \n",
              "3   -0.089063 -0.044642 -0.011595 -0.036656  0.012191  0.024991 -0.036038   \n",
              "4    0.005383 -0.044642 -0.036385  0.021872  0.003935  0.015596  0.008142   \n",
              "..        ...       ...       ...       ...       ...       ...       ...   \n",
              "437  0.041708  0.050680  0.019662  0.059744 -0.005697 -0.002566 -0.028674   \n",
              "438 -0.005515  0.050680 -0.015906 -0.067642  0.049341  0.079165 -0.028674   \n",
              "439  0.041708  0.050680 -0.015906  0.017282 -0.037344 -0.013840 -0.024993   \n",
              "440 -0.045472 -0.044642  0.039062  0.001215  0.016318  0.015283 -0.028674   \n",
              "441 -0.045472 -0.044642 -0.073030 -0.081414  0.083740  0.027809  0.173816   \n",
              "\n",
              "           s4        s5        s6  label  \n",
              "0   -0.002592  0.019908 -0.017646  151.0  \n",
              "1   -0.039493 -0.068330 -0.092204   75.0  \n",
              "2   -0.002592  0.002864 -0.025930  141.0  \n",
              "3    0.034309  0.022692 -0.009362  206.0  \n",
              "4   -0.002592 -0.031991 -0.046641  135.0  \n",
              "..        ...       ...       ...    ...  \n",
              "437 -0.002592  0.031193  0.007207  178.0  \n",
              "438  0.034309 -0.018118  0.044485  104.0  \n",
              "439 -0.011080 -0.046879  0.015491  132.0  \n",
              "440  0.026560  0.044528 -0.025930  220.0  \n",
              "441 -0.039493 -0.004220  0.003064   57.0  \n",
              "\n",
              "[442 rows x 11 columns]"
            ],
            "text/html": [
              "\n",
              "  <div id=\"df-8024d784-57e0-450a-a03d-11aef7540853\">\n",
              "    <div class=\"colab-df-container\">\n",
              "      <div>\n",
              "<style scoped>\n",
              "    .dataframe tbody tr th:only-of-type {\n",
              "        vertical-align: middle;\n",
              "    }\n",
              "\n",
              "    .dataframe tbody tr th {\n",
              "        vertical-align: top;\n",
              "    }\n",
              "\n",
              "    .dataframe thead th {\n",
              "        text-align: right;\n",
              "    }\n",
              "</style>\n",
              "<table border=\"1\" class=\"dataframe\">\n",
              "  <thead>\n",
              "    <tr style=\"text-align: right;\">\n",
              "      <th></th>\n",
              "      <th>age</th>\n",
              "      <th>sex</th>\n",
              "      <th>bmi</th>\n",
              "      <th>bp</th>\n",
              "      <th>s1</th>\n",
              "      <th>s2</th>\n",
              "      <th>s3</th>\n",
              "      <th>s4</th>\n",
              "      <th>s5</th>\n",
              "      <th>s6</th>\n",
              "      <th>label</th>\n",
              "    </tr>\n",
              "  </thead>\n",
              "  <tbody>\n",
              "    <tr>\n",
              "      <th>0</th>\n",
              "      <td>0.038076</td>\n",
              "      <td>0.050680</td>\n",
              "      <td>0.061696</td>\n",
              "      <td>0.021872</td>\n",
              "      <td>-0.044223</td>\n",
              "      <td>-0.034821</td>\n",
              "      <td>-0.043401</td>\n",
              "      <td>-0.002592</td>\n",
              "      <td>0.019908</td>\n",
              "      <td>-0.017646</td>\n",
              "      <td>151.0</td>\n",
              "    </tr>\n",
              "    <tr>\n",
              "      <th>1</th>\n",
              "      <td>-0.001882</td>\n",
              "      <td>-0.044642</td>\n",
              "      <td>-0.051474</td>\n",
              "      <td>-0.026328</td>\n",
              "      <td>-0.008449</td>\n",
              "      <td>-0.019163</td>\n",
              "      <td>0.074412</td>\n",
              "      <td>-0.039493</td>\n",
              "      <td>-0.068330</td>\n",
              "      <td>-0.092204</td>\n",
              "      <td>75.0</td>\n",
              "    </tr>\n",
              "    <tr>\n",
              "      <th>2</th>\n",
              "      <td>0.085299</td>\n",
              "      <td>0.050680</td>\n",
              "      <td>0.044451</td>\n",
              "      <td>-0.005671</td>\n",
              "      <td>-0.045599</td>\n",
              "      <td>-0.034194</td>\n",
              "      <td>-0.032356</td>\n",
              "      <td>-0.002592</td>\n",
              "      <td>0.002864</td>\n",
              "      <td>-0.025930</td>\n",
              "      <td>141.0</td>\n",
              "    </tr>\n",
              "    <tr>\n",
              "      <th>3</th>\n",
              "      <td>-0.089063</td>\n",
              "      <td>-0.044642</td>\n",
              "      <td>-0.011595</td>\n",
              "      <td>-0.036656</td>\n",
              "      <td>0.012191</td>\n",
              "      <td>0.024991</td>\n",
              "      <td>-0.036038</td>\n",
              "      <td>0.034309</td>\n",
              "      <td>0.022692</td>\n",
              "      <td>-0.009362</td>\n",
              "      <td>206.0</td>\n",
              "    </tr>\n",
              "    <tr>\n",
              "      <th>4</th>\n",
              "      <td>0.005383</td>\n",
              "      <td>-0.044642</td>\n",
              "      <td>-0.036385</td>\n",
              "      <td>0.021872</td>\n",
              "      <td>0.003935</td>\n",
              "      <td>0.015596</td>\n",
              "      <td>0.008142</td>\n",
              "      <td>-0.002592</td>\n",
              "      <td>-0.031991</td>\n",
              "      <td>-0.046641</td>\n",
              "      <td>135.0</td>\n",
              "    </tr>\n",
              "    <tr>\n",
              "      <th>...</th>\n",
              "      <td>...</td>\n",
              "      <td>...</td>\n",
              "      <td>...</td>\n",
              "      <td>...</td>\n",
              "      <td>...</td>\n",
              "      <td>...</td>\n",
              "      <td>...</td>\n",
              "      <td>...</td>\n",
              "      <td>...</td>\n",
              "      <td>...</td>\n",
              "      <td>...</td>\n",
              "    </tr>\n",
              "    <tr>\n",
              "      <th>437</th>\n",
              "      <td>0.041708</td>\n",
              "      <td>0.050680</td>\n",
              "      <td>0.019662</td>\n",
              "      <td>0.059744</td>\n",
              "      <td>-0.005697</td>\n",
              "      <td>-0.002566</td>\n",
              "      <td>-0.028674</td>\n",
              "      <td>-0.002592</td>\n",
              "      <td>0.031193</td>\n",
              "      <td>0.007207</td>\n",
              "      <td>178.0</td>\n",
              "    </tr>\n",
              "    <tr>\n",
              "      <th>438</th>\n",
              "      <td>-0.005515</td>\n",
              "      <td>0.050680</td>\n",
              "      <td>-0.015906</td>\n",
              "      <td>-0.067642</td>\n",
              "      <td>0.049341</td>\n",
              "      <td>0.079165</td>\n",
              "      <td>-0.028674</td>\n",
              "      <td>0.034309</td>\n",
              "      <td>-0.018118</td>\n",
              "      <td>0.044485</td>\n",
              "      <td>104.0</td>\n",
              "    </tr>\n",
              "    <tr>\n",
              "      <th>439</th>\n",
              "      <td>0.041708</td>\n",
              "      <td>0.050680</td>\n",
              "      <td>-0.015906</td>\n",
              "      <td>0.017282</td>\n",
              "      <td>-0.037344</td>\n",
              "      <td>-0.013840</td>\n",
              "      <td>-0.024993</td>\n",
              "      <td>-0.011080</td>\n",
              "      <td>-0.046879</td>\n",
              "      <td>0.015491</td>\n",
              "      <td>132.0</td>\n",
              "    </tr>\n",
              "    <tr>\n",
              "      <th>440</th>\n",
              "      <td>-0.045472</td>\n",
              "      <td>-0.044642</td>\n",
              "      <td>0.039062</td>\n",
              "      <td>0.001215</td>\n",
              "      <td>0.016318</td>\n",
              "      <td>0.015283</td>\n",
              "      <td>-0.028674</td>\n",
              "      <td>0.026560</td>\n",
              "      <td>0.044528</td>\n",
              "      <td>-0.025930</td>\n",
              "      <td>220.0</td>\n",
              "    </tr>\n",
              "    <tr>\n",
              "      <th>441</th>\n",
              "      <td>-0.045472</td>\n",
              "      <td>-0.044642</td>\n",
              "      <td>-0.073030</td>\n",
              "      <td>-0.081414</td>\n",
              "      <td>0.083740</td>\n",
              "      <td>0.027809</td>\n",
              "      <td>0.173816</td>\n",
              "      <td>-0.039493</td>\n",
              "      <td>-0.004220</td>\n",
              "      <td>0.003064</td>\n",
              "      <td>57.0</td>\n",
              "    </tr>\n",
              "  </tbody>\n",
              "</table>\n",
              "<p>442 rows × 11 columns</p>\n",
              "</div>\n",
              "      <button class=\"colab-df-convert\" onclick=\"convertToInteractive('df-8024d784-57e0-450a-a03d-11aef7540853')\"\n",
              "              title=\"Convert this dataframe to an interactive table.\"\n",
              "              style=\"display:none;\">\n",
              "        \n",
              "  <svg xmlns=\"http://www.w3.org/2000/svg\" height=\"24px\"viewBox=\"0 0 24 24\"\n",
              "       width=\"24px\">\n",
              "    <path d=\"M0 0h24v24H0V0z\" fill=\"none\"/>\n",
              "    <path d=\"M18.56 5.44l.94 2.06.94-2.06 2.06-.94-2.06-.94-.94-2.06-.94 2.06-2.06.94zm-11 1L8.5 8.5l.94-2.06 2.06-.94-2.06-.94L8.5 2.5l-.94 2.06-2.06.94zm10 10l.94 2.06.94-2.06 2.06-.94-2.06-.94-.94-2.06-.94 2.06-2.06.94z\"/><path d=\"M17.41 7.96l-1.37-1.37c-.4-.4-.92-.59-1.43-.59-.52 0-1.04.2-1.43.59L10.3 9.45l-7.72 7.72c-.78.78-.78 2.05 0 2.83L4 21.41c.39.39.9.59 1.41.59.51 0 1.02-.2 1.41-.59l7.78-7.78 2.81-2.81c.8-.78.8-2.07 0-2.86zM5.41 20L4 18.59l7.72-7.72 1.47 1.35L5.41 20z\"/>\n",
              "  </svg>\n",
              "      </button>\n",
              "      \n",
              "  <style>\n",
              "    .colab-df-container {\n",
              "      display:flex;\n",
              "      flex-wrap:wrap;\n",
              "      gap: 12px;\n",
              "    }\n",
              "\n",
              "    .colab-df-convert {\n",
              "      background-color: #E8F0FE;\n",
              "      border: none;\n",
              "      border-radius: 50%;\n",
              "      cursor: pointer;\n",
              "      display: none;\n",
              "      fill: #1967D2;\n",
              "      height: 32px;\n",
              "      padding: 0 0 0 0;\n",
              "      width: 32px;\n",
              "    }\n",
              "\n",
              "    .colab-df-convert:hover {\n",
              "      background-color: #E2EBFA;\n",
              "      box-shadow: 0px 1px 2px rgba(60, 64, 67, 0.3), 0px 1px 3px 1px rgba(60, 64, 67, 0.15);\n",
              "      fill: #174EA6;\n",
              "    }\n",
              "\n",
              "    [theme=dark] .colab-df-convert {\n",
              "      background-color: #3B4455;\n",
              "      fill: #D2E3FC;\n",
              "    }\n",
              "\n",
              "    [theme=dark] .colab-df-convert:hover {\n",
              "      background-color: #434B5C;\n",
              "      box-shadow: 0px 1px 3px 1px rgba(0, 0, 0, 0.15);\n",
              "      filter: drop-shadow(0px 1px 2px rgba(0, 0, 0, 0.3));\n",
              "      fill: #FFFFFF;\n",
              "    }\n",
              "  </style>\n",
              "\n",
              "      <script>\n",
              "        const buttonEl =\n",
              "          document.querySelector('#df-8024d784-57e0-450a-a03d-11aef7540853 button.colab-df-convert');\n",
              "        buttonEl.style.display =\n",
              "          google.colab.kernel.accessAllowed ? 'block' : 'none';\n",
              "\n",
              "        async function convertToInteractive(key) {\n",
              "          const element = document.querySelector('#df-8024d784-57e0-450a-a03d-11aef7540853');\n",
              "          const dataTable =\n",
              "            await google.colab.kernel.invokeFunction('convertToInteractive',\n",
              "                                                     [key], {});\n",
              "          if (!dataTable) return;\n",
              "\n",
              "          const docLinkHtml = 'Like what you see? Visit the ' +\n",
              "            '<a target=\"_blank\" href=https://colab.research.google.com/notebooks/data_table.ipynb>data table notebook</a>'\n",
              "            + ' to learn more about interactive tables.';\n",
              "          element.innerHTML = '';\n",
              "          dataTable['output_type'] = 'display_data';\n",
              "          await google.colab.output.renderOutput(dataTable, element);\n",
              "          const docLink = document.createElement('div');\n",
              "          docLink.innerHTML = docLinkHtml;\n",
              "          element.appendChild(docLink);\n",
              "        }\n",
              "      </script>\n",
              "    </div>\n",
              "  </div>\n",
              "  "
            ]
          },
          "metadata": {},
          "execution_count": 128
        }
      ]
    },
    {
      "cell_type": "markdown",
      "source": [
        "<br><br>\n",
        "\n",
        "###**2) 함수 구현을 통한 학습 및 예측**\n",
        "\n",
        "<br>\n",
        "\n",
        "여기서 **우리가 풀고자 하는 문제**는 무엇인가?\n",
        "\n",
        "나이, 성별, 체질량지수 등과 같은 환자의 특성을 토대로 당뇨병 진행률 값(당뇨수치)을 예측하는 것이다. 이에 대한 **전제사항**은 다음과 같다.\n",
        "\n",
        "\n",
        "\n",
        "*   환자의 특성(나이, 성별, 체질량지수 등)과 당뇨수치 간에는 상관관계가 존재한다.\n",
        "*   특성이 유사한 환자는 유사한 당뇨 진행률을 보일 것이다.\n",
        "\n",
        "그렇다면 정말 환자 특성과 당뇨수치 사이에 상관관계가 있을까. 각 지표별 상관계수(Correlation Coefficient)를 구해보자.\n"
      ],
      "metadata": {
        "id": "Di98XLNVX3py"
      }
    },
    {
      "cell_type": "code",
      "source": [
        "# 상관관계 먼저 알아보자\n",
        "print('- 나이(age)와의 상관관계: \\n', np.corrcoef(diabetes_df[\"age\"], diabetes_df[\"label\"]), '\\n')\n",
        "print('- 성별(sex)과의 상관관계: \\n', np.corrcoef(diabetes_df[\"sex\"], diabetes_df[\"label\"]), '\\n')\n",
        "print('- 체질량지수(bmi)와의 상관관계: \\n', np.corrcoef(diabetes_df[\"bmi\"], diabetes_df[\"label\"]), '\\n')\n",
        "print('- 혈압(bp)과의 상관관계: \\n', np.corrcoef(diabetes_df[\"bp\"], diabetes_df[\"label\"]), '\\n')\n",
        "print('- 혈청정보01(s1)과의 상관관계: \\n', np.corrcoef(diabetes_df[\"s1\"], diabetes_df[\"label\"]), '\\n')\n",
        "print('- 혈청정보02(s2)과의 상관관계: \\n', np.corrcoef(diabetes_df[\"s2\"], diabetes_df[\"label\"]), '\\n')\n",
        "print('- 혈청정보03(s3)과의 상관관계: \\n', np.corrcoef(diabetes_df[\"s3\"], diabetes_df[\"label\"]), '\\n')\n",
        "print('- 혈청정보04(s4)과의 상관관계: \\n', np.corrcoef(diabetes_df[\"s4\"], diabetes_df[\"label\"]), '\\n')\n",
        "print('- 혈청정보05(s5)과의 상관관계: \\n', np.corrcoef(diabetes_df[\"s5\"], diabetes_df[\"label\"]), '\\n')\n",
        "print('- 혈청정보06(s6)과의 상관관계: \\n', np.corrcoef(diabetes_df[\"s6\"], diabetes_df[\"label\"]))"
      ],
      "metadata": {
        "colab": {
          "base_uri": "https://localhost:8080/"
        },
        "id": "L2uSGHHkktl3",
        "outputId": "8f5f2e87-2416-4af3-ebd5-4de4716c4ab9"
      },
      "execution_count": 129,
      "outputs": [
        {
          "output_type": "stream",
          "name": "stdout",
          "text": [
            "- 나이(age)와의 상관관계: \n",
            " [[1.         0.18788875]\n",
            " [0.18788875 1.        ]] \n",
            "\n",
            "- 성별(sex)과의 상관관계: \n",
            " [[1.       0.043062]\n",
            " [0.043062 1.      ]] \n",
            "\n",
            "- 체질량지수(bmi)와의 상관관계: \n",
            " [[1.         0.58645013]\n",
            " [0.58645013 1.        ]] \n",
            "\n",
            "- 혈압(bp)과의 상관관계: \n",
            " [[1.         0.44148385]\n",
            " [0.44148385 1.        ]] \n",
            "\n",
            "- 혈청정보01(s1)과의 상관관계: \n",
            " [[1.         0.21202248]\n",
            " [0.21202248 1.        ]] \n",
            "\n",
            "- 혈청정보02(s2)과의 상관관계: \n",
            " [[1.         0.17405359]\n",
            " [0.17405359 1.        ]] \n",
            "\n",
            "- 혈청정보03(s3)과의 상관관계: \n",
            " [[ 1.         -0.39478925]\n",
            " [-0.39478925  1.        ]] \n",
            "\n",
            "- 혈청정보04(s4)과의 상관관계: \n",
            " [[1.         0.43045288]\n",
            " [0.43045288 1.        ]] \n",
            "\n",
            "- 혈청정보05(s5)과의 상관관계: \n",
            " [[1.         0.56588343]\n",
            " [0.56588343 1.        ]] \n",
            "\n",
            "- 혈청정보06(s6)과의 상관관계: \n",
            " [[1.         0.38248348]\n",
            " [0.38248348 1.        ]]\n"
          ]
        }
      ]
    },
    {
      "cell_type": "markdown",
      "source": [
        "<br><br>\n",
        "\n",
        "체질량지수(bmi)와 당뇨수치 간의 상관계수가 0.59로 뚜렷한 양적 선형관계에 있다고 볼 수 있다. 그 다음으로 s5(혈청 내 트리클리세리드 수치)의 상관계수가 0.57, 혈압(bp) 0.44, s4(혈청 내 콜레스트롤) 0.43 순으로 강한 상관관계를 갖는다.\n",
        "\n",
        "이후에 예측결과를 평가할 때에도 뚜렷한 상관관계를 보인 위 4개 지표(bmi, s5, bp, s4)를 중심으로 분석을 실시한다면 더 유의미한 결론에 도달할 수 있을 것으로 기대된다.\n",
        "\n",
        "자, 이제 본격적으로 학습을 위한 셋팅에 들어가자."
      ],
      "metadata": {
        "id": "bXIMkIhMuboo"
      }
    },
    {
      "cell_type": "code",
      "source": [
        "''' 학습 데이터 셋팅 '''\n",
        "# 데이터 준비\n",
        "import numpy as np\n",
        "X = np.array(df_x)\n",
        "y = np.array(df_y)\n",
        "\n",
        "# 데이터 분리\n",
        "from sklearn.model_selection import train_test_split\n",
        "X_train, X_test, y_train, y_test = train_test_split(X, y, test_size=0.2, random_state=42)\n",
        "\n",
        "print('- X_train 개수: ', len(X_train),', X_test 개수: ', len(X_test))"
      ],
      "metadata": {
        "colab": {
          "base_uri": "https://localhost:8080/"
        },
        "id": "MvPMfxSiFMuS",
        "outputId": "1ac0bb17-f70c-4630-ae80-91e26794e5f4"
      },
      "execution_count": 130,
      "outputs": [
        {
          "output_type": "stream",
          "name": "stdout",
          "text": [
            "- X_train 개수:  353 , X_test 개수:  89\n"
          ]
        }
      ]
    },
    {
      "cell_type": "markdown",
      "source": [
        "\n",
        "<br><br>\n",
        "\n",
        "이번 문제를 해결하기 위해 경사법을 활용한다.\n",
        "\n",
        "경사법은 현 위치에서 기울어진 방향으로 일정 거리만큼 이동한다. 그런 다음 이동한 곳에서도 마찬가지로 기울기를 구하고, 또 그 기울어진 방향으로 나아가는 것을 반복한다. 이렇게 해서 함수의 값을 점차 줄이는 것이 경사법(gradient method)이다. 경사법은 최소값을 찾느냐, 최대값을 찾느냐에 따라 이름이 달라진다. 최소값을 찾는 것을 **경사하강법(gradient descent method)**이라고 한다. 경사법은 기계학습을 최적화하는 데 흔히 쓰는 방법이다. 특히 신경망 학습에 경사법이 많이 사용된다.[[1]](https://colab.research.google.com/drive/1UdNGlLkpS17Yto3-DG3T1If0tOQWmJHb#scrollTo=VvtvwZRiR-eU)\n",
        "\n",
        "즉, 우리가 예측한 값과 정답 사이의 차이(손실, loss)를 함수로 나타내고, 그 함수가 최소가 되는 지점을 찾는 것이다. 손실값(loss)이 클수록 정답과는 동떨어진 것이고, 손실값이 작을수록 예측이 올바르다고 판단할 수 있다.\n",
        "\n",
        "손실함수(loss function)와 경사하강법(gradient descent method)을 활용하여 당뇨수치를 예측하는 모델을 구현해보자."
      ],
      "metadata": {
        "id": "e3tfBVJWKtuh"
      }
    },
    {
      "cell_type": "code",
      "source": [
        "'''모델 셋팅'''\n",
        "# 가중치 셋팅\n",
        "W = np.random.rand(10)\n",
        "b = np.random.rand()\n",
        "\n",
        "# 모델 함수 구현\n",
        "def model(X, W, b):\n",
        "    predictions = 0\n",
        "    for i in range(10):\n",
        "        predictions += X[:, i] * W[i]\n",
        "    predictions += b\n",
        "    return predictions\n",
        "\n",
        "# 손실함수 loss 정의\n",
        "def MSE(a, b):\n",
        "    mse = ((a - b) ** 2).mean()  # 두 값의 차이의 제곱의 평균\n",
        "    return mse\n",
        "\n",
        "def loss(X, W, b, y):\n",
        "    predictions = model(X, W, b)\n",
        "    L = MSE(predictions, y)\n",
        "    return L\n",
        "\n",
        "def gradient(X, W, b, y):\n",
        "    # N은 가중치의 개수\n",
        "    N = len(W)\n",
        "    \n",
        "    # y_pred 준비\n",
        "    y_pred = model(X, W, b)\n",
        "    \n",
        "    # 공식에 맞게 gradient 계산\n",
        "    dW = 1/N * 2 * X.T.dot(y_pred - y)\n",
        "        \n",
        "    # b의 gradient 계산\n",
        "    db = 2 * (y_pred - y).mean()\n",
        "    return dW, db\n",
        "\n",
        "dW, db = gradient(X, W, b, y)\n",
        "print(\"dW:\", dW)\n",
        "print(\"db:\", db)\n"
      ],
      "metadata": {
        "colab": {
          "base_uri": "https://localhost:8080/"
        },
        "id": "7X5F9GZlSQC7",
        "outputId": "b4e9d96d-dcbb-45bf-cdba-502946eb5539"
      },
      "execution_count": 131,
      "outputs": [
        {
          "output_type": "stream",
          "name": "stdout",
          "text": [
            "dW: [ -60.56339652  -13.86709446 -189.69937937 -142.7415175   -68.29951105\n",
            "  -56.0729911   127.8221069  -139.1497128  -182.94827596 -123.62430042]\n",
            "db: -303.5277847411652\n"
          ]
        }
      ]
    },
    {
      "cell_type": "markdown",
      "source": [
        "<br><br>\n",
        "\n",
        "우리는 아직 우리가 구하고자 하는 함수식이 정확히 무엇인지 모르는 상태에서 기울기를 조금씩 이동해가며 이를 찾아내야 한다. 이때 이동해가는 발걸음의 보폭이 곧 학습률(learning rate)이 된다. 또 몇 걸음이나 갈 것인지를 조정해가며 기울기가 0이 되는 지점, 즉 최소값(극소점)을 적절히 찾아야 한다. 왜냐하면 극소점을 지나치면 다시 기울기가 커지고 우리는 길을 헤매게 될테니까 말이다.\n",
        "\n",
        "먼저 함수의 개략적인 윤곽을 머릿 속에 넣기위해 약간은 큰 보폭(학습률)으로 먼저 학습해보자. learning rate = 0.99로 설정하고, 5000회 반복한다. \n",
        "\n",
        "아래 보는 것과 같이, 손실값이 점차 감소하다가 Iteration 4470 이후 부터는 Loss 2868.5466의 값이 반복됨을 알 수 있다."
      ],
      "metadata": {
        "id": "qcStqgXffbrN"
      }
    },
    {
      "cell_type": "code",
      "source": [
        "''' 큰 그림에서 먼저보기 '''\n",
        "LEARNING_RATE = 0.99\n",
        "\n",
        "losses = []\n",
        "\n",
        "for i in range(1, 5000):\n",
        "    dW, db = gradient(X_train, W, b, y_train)\n",
        "    W -= LEARNING_RATE * dW\n",
        "    b -= LEARNING_RATE * db\n",
        "    L = loss(X_train, W, b, y_train)\n",
        "    losses.append(L)\n",
        "    if i % 10 == 0:\n",
        "        print('Iteration %d : Loss %0.4f' % (i, L))"
      ],
      "metadata": {
        "colab": {
          "base_uri": "https://localhost:8080/"
        },
        "outputId": "7465926e-7179-42cd-ca73-a045dbe186cc",
        "id": "c8TcItG5gwfa"
      },
      "execution_count": 132,
      "outputs": [
        {
          "output_type": "stream",
          "name": "stdout",
          "text": [
            "Iteration 10 : Loss 19155.6323\n",
            "Iteration 20 : Loss 13990.8358\n",
            "Iteration 30 : Loss 10481.6560\n",
            "Iteration 40 : Loss 8083.0464\n",
            "Iteration 50 : Loss 6442.6141\n",
            "Iteration 60 : Loss 5320.5476\n",
            "Iteration 70 : Loss 4552.9680\n",
            "Iteration 80 : Loss 4027.8186\n",
            "Iteration 90 : Loss 3668.4680\n",
            "Iteration 100 : Loss 3422.5101\n",
            "Iteration 110 : Loss 3254.1049\n",
            "Iteration 120 : Loss 3138.7423\n",
            "Iteration 130 : Loss 3059.6601\n",
            "Iteration 140 : Loss 3005.3947\n",
            "Iteration 150 : Loss 2968.1063\n",
            "Iteration 160 : Loss 2942.4333\n",
            "Iteration 170 : Loss 2924.7088\n",
            "Iteration 180 : Loss 2912.4249\n",
            "Iteration 190 : Loss 2903.8664\n",
            "Iteration 200 : Loss 2897.8602\n",
            "Iteration 210 : Loss 2893.6039\n",
            "Iteration 220 : Loss 2890.5487\n",
            "Iteration 230 : Loss 2888.3189\n",
            "Iteration 240 : Loss 2886.6577\n",
            "Iteration 250 : Loss 2885.3894\n",
            "Iteration 260 : Loss 2884.3934\n",
            "Iteration 270 : Loss 2883.5875\n",
            "Iteration 280 : Loss 2882.9151\n",
            "Iteration 290 : Loss 2882.3376\n",
            "Iteration 300 : Loss 2881.8283\n",
            "Iteration 310 : Loss 2881.3689\n",
            "Iteration 320 : Loss 2880.9470\n",
            "Iteration 330 : Loss 2880.5537\n",
            "Iteration 340 : Loss 2880.1830\n",
            "Iteration 350 : Loss 2879.8308\n",
            "Iteration 360 : Loss 2879.4939\n",
            "Iteration 370 : Loss 2879.1704\n",
            "Iteration 380 : Loss 2878.8587\n",
            "Iteration 390 : Loss 2878.5577\n",
            "Iteration 400 : Loss 2878.2665\n",
            "Iteration 410 : Loss 2877.9845\n",
            "Iteration 420 : Loss 2877.7112\n",
            "Iteration 430 : Loss 2877.4461\n",
            "Iteration 440 : Loss 2877.1890\n",
            "Iteration 450 : Loss 2876.9394\n",
            "Iteration 460 : Loss 2876.6971\n",
            "Iteration 470 : Loss 2876.4619\n",
            "Iteration 480 : Loss 2876.2335\n",
            "Iteration 490 : Loss 2876.0118\n",
            "Iteration 500 : Loss 2875.7964\n",
            "Iteration 510 : Loss 2875.5873\n",
            "Iteration 520 : Loss 2875.3843\n",
            "Iteration 530 : Loss 2875.1871\n",
            "Iteration 540 : Loss 2874.9956\n",
            "Iteration 550 : Loss 2874.8096\n",
            "Iteration 560 : Loss 2874.6290\n",
            "Iteration 570 : Loss 2874.4536\n",
            "Iteration 580 : Loss 2874.2832\n",
            "Iteration 590 : Loss 2874.1178\n",
            "Iteration 600 : Loss 2873.9572\n",
            "Iteration 610 : Loss 2873.8011\n",
            "Iteration 620 : Loss 2873.6496\n",
            "Iteration 630 : Loss 2873.5025\n",
            "Iteration 640 : Loss 2873.3595\n",
            "Iteration 650 : Loss 2873.2208\n",
            "Iteration 660 : Loss 2873.0860\n",
            "Iteration 670 : Loss 2872.9551\n",
            "Iteration 680 : Loss 2872.8279\n",
            "Iteration 690 : Loss 2872.7045\n",
            "Iteration 700 : Loss 2872.5846\n",
            "Iteration 710 : Loss 2872.4681\n",
            "Iteration 720 : Loss 2872.3551\n",
            "Iteration 730 : Loss 2872.2452\n",
            "Iteration 740 : Loss 2872.1386\n",
            "Iteration 750 : Loss 2872.0350\n",
            "Iteration 760 : Loss 2871.9344\n",
            "Iteration 770 : Loss 2871.8367\n",
            "Iteration 780 : Loss 2871.7418\n",
            "Iteration 790 : Loss 2871.6497\n",
            "Iteration 800 : Loss 2871.5602\n",
            "Iteration 810 : Loss 2871.4733\n",
            "Iteration 820 : Loss 2871.3889\n",
            "Iteration 830 : Loss 2871.3069\n",
            "Iteration 840 : Loss 2871.2273\n",
            "Iteration 850 : Loss 2871.1500\n",
            "Iteration 860 : Loss 2871.0750\n",
            "Iteration 870 : Loss 2871.0021\n",
            "Iteration 880 : Loss 2870.9312\n",
            "Iteration 890 : Loss 2870.8625\n",
            "Iteration 900 : Loss 2870.7957\n",
            "Iteration 910 : Loss 2870.7308\n",
            "Iteration 920 : Loss 2870.6679\n",
            "Iteration 930 : Loss 2870.6067\n",
            "Iteration 940 : Loss 2870.5473\n",
            "Iteration 950 : Loss 2870.4896\n",
            "Iteration 960 : Loss 2870.4336\n",
            "Iteration 970 : Loss 2870.3791\n",
            "Iteration 980 : Loss 2870.3263\n",
            "Iteration 990 : Loss 2870.2750\n",
            "Iteration 1000 : Loss 2870.2251\n",
            "Iteration 1010 : Loss 2870.1767\n",
            "Iteration 1020 : Loss 2870.1297\n",
            "Iteration 1030 : Loss 2870.0841\n",
            "Iteration 1040 : Loss 2870.0397\n",
            "Iteration 1050 : Loss 2869.9967\n",
            "Iteration 1060 : Loss 2869.9549\n",
            "Iteration 1070 : Loss 2869.9142\n",
            "Iteration 1080 : Loss 2869.8748\n",
            "Iteration 1090 : Loss 2869.8365\n",
            "Iteration 1100 : Loss 2869.7993\n",
            "Iteration 1110 : Loss 2869.7632\n",
            "Iteration 1120 : Loss 2869.7281\n",
            "Iteration 1130 : Loss 2869.6940\n",
            "Iteration 1140 : Loss 2869.6609\n",
            "Iteration 1150 : Loss 2869.6288\n",
            "Iteration 1160 : Loss 2869.5976\n",
            "Iteration 1170 : Loss 2869.5673\n",
            "Iteration 1180 : Loss 2869.5379\n",
            "Iteration 1190 : Loss 2869.5093\n",
            "Iteration 1200 : Loss 2869.4815\n",
            "Iteration 1210 : Loss 2869.4546\n",
            "Iteration 1220 : Loss 2869.4284\n",
            "Iteration 1230 : Loss 2869.4029\n",
            "Iteration 1240 : Loss 2869.3782\n",
            "Iteration 1250 : Loss 2869.3543\n",
            "Iteration 1260 : Loss 2869.3310\n",
            "Iteration 1270 : Loss 2869.3084\n",
            "Iteration 1280 : Loss 2869.2864\n",
            "Iteration 1290 : Loss 2869.2651\n",
            "Iteration 1300 : Loss 2869.2443\n",
            "Iteration 1310 : Loss 2869.2242\n",
            "Iteration 1320 : Loss 2869.2047\n",
            "Iteration 1330 : Loss 2869.1857\n",
            "Iteration 1340 : Loss 2869.1673\n",
            "Iteration 1350 : Loss 2869.1494\n",
            "Iteration 1360 : Loss 2869.1320\n",
            "Iteration 1370 : Loss 2869.1151\n",
            "Iteration 1380 : Loss 2869.0987\n",
            "Iteration 1390 : Loss 2869.0828\n",
            "Iteration 1400 : Loss 2869.0673\n",
            "Iteration 1410 : Loss 2869.0523\n",
            "Iteration 1420 : Loss 2869.0377\n",
            "Iteration 1430 : Loss 2869.0236\n",
            "Iteration 1440 : Loss 2869.0098\n",
            "Iteration 1450 : Loss 2868.9965\n",
            "Iteration 1460 : Loss 2868.9835\n",
            "Iteration 1470 : Loss 2868.9709\n",
            "Iteration 1480 : Loss 2868.9586\n",
            "Iteration 1490 : Loss 2868.9468\n",
            "Iteration 1500 : Loss 2868.9352\n",
            "Iteration 1510 : Loss 2868.9240\n",
            "Iteration 1520 : Loss 2868.9131\n",
            "Iteration 1530 : Loss 2868.9026\n",
            "Iteration 1540 : Loss 2868.8923\n",
            "Iteration 1550 : Loss 2868.8823\n",
            "Iteration 1560 : Loss 2868.8726\n",
            "Iteration 1570 : Loss 2868.8632\n",
            "Iteration 1580 : Loss 2868.8541\n",
            "Iteration 1590 : Loss 2868.8452\n",
            "Iteration 1600 : Loss 2868.8366\n",
            "Iteration 1610 : Loss 2868.8283\n",
            "Iteration 1620 : Loss 2868.8201\n",
            "Iteration 1630 : Loss 2868.8123\n",
            "Iteration 1640 : Loss 2868.8046\n",
            "Iteration 1650 : Loss 2868.7972\n",
            "Iteration 1660 : Loss 2868.7899\n",
            "Iteration 1670 : Loss 2868.7829\n",
            "Iteration 1680 : Loss 2868.7761\n",
            "Iteration 1690 : Loss 2868.7695\n",
            "Iteration 1700 : Loss 2868.7631\n",
            "Iteration 1710 : Loss 2868.7568\n",
            "Iteration 1720 : Loss 2868.7507\n",
            "Iteration 1730 : Loss 2868.7449\n",
            "Iteration 1740 : Loss 2868.7391\n",
            "Iteration 1750 : Loss 2868.7336\n",
            "Iteration 1760 : Loss 2868.7282\n",
            "Iteration 1770 : Loss 2868.7230\n",
            "Iteration 1780 : Loss 2868.7179\n",
            "Iteration 1790 : Loss 2868.7129\n",
            "Iteration 1800 : Loss 2868.7081\n",
            "Iteration 1810 : Loss 2868.7035\n",
            "Iteration 1820 : Loss 2868.6990\n",
            "Iteration 1830 : Loss 2868.6946\n",
            "Iteration 1840 : Loss 2868.6903\n",
            "Iteration 1850 : Loss 2868.6861\n",
            "Iteration 1860 : Loss 2868.6821\n",
            "Iteration 1870 : Loss 2868.6782\n",
            "Iteration 1880 : Loss 2868.6744\n",
            "Iteration 1890 : Loss 2868.6707\n",
            "Iteration 1900 : Loss 2868.6672\n",
            "Iteration 1910 : Loss 2868.6637\n",
            "Iteration 1920 : Loss 2868.6603\n",
            "Iteration 1930 : Loss 2868.6570\n",
            "Iteration 1940 : Loss 2868.6538\n",
            "Iteration 1950 : Loss 2868.6507\n",
            "Iteration 1960 : Loss 2868.6477\n",
            "Iteration 1970 : Loss 2868.6448\n",
            "Iteration 1980 : Loss 2868.6420\n",
            "Iteration 1990 : Loss 2868.6392\n",
            "Iteration 2000 : Loss 2868.6366\n",
            "Iteration 2010 : Loss 2868.6340\n",
            "Iteration 2020 : Loss 2868.6315\n",
            "Iteration 2030 : Loss 2868.6290\n",
            "Iteration 2040 : Loss 2868.6266\n",
            "Iteration 2050 : Loss 2868.6243\n",
            "Iteration 2060 : Loss 2868.6221\n",
            "Iteration 2070 : Loss 2868.6199\n",
            "Iteration 2080 : Loss 2868.6178\n",
            "Iteration 2090 : Loss 2868.6157\n",
            "Iteration 2100 : Loss 2868.6137\n",
            "Iteration 2110 : Loss 2868.6118\n",
            "Iteration 2120 : Loss 2868.6099\n",
            "Iteration 2130 : Loss 2868.6081\n",
            "Iteration 2140 : Loss 2868.6063\n",
            "Iteration 2150 : Loss 2868.6046\n",
            "Iteration 2160 : Loss 2868.6029\n",
            "Iteration 2170 : Loss 2868.6013\n",
            "Iteration 2180 : Loss 2868.5997\n",
            "Iteration 2190 : Loss 2868.5982\n",
            "Iteration 2200 : Loss 2868.5967\n",
            "Iteration 2210 : Loss 2868.5953\n",
            "Iteration 2220 : Loss 2868.5939\n",
            "Iteration 2230 : Loss 2868.5925\n",
            "Iteration 2240 : Loss 2868.5912\n",
            "Iteration 2250 : Loss 2868.5899\n",
            "Iteration 2260 : Loss 2868.5886\n",
            "Iteration 2270 : Loss 2868.5874\n",
            "Iteration 2280 : Loss 2868.5862\n",
            "Iteration 2290 : Loss 2868.5851\n",
            "Iteration 2300 : Loss 2868.5840\n",
            "Iteration 2310 : Loss 2868.5829\n",
            "Iteration 2320 : Loss 2868.5819\n",
            "Iteration 2330 : Loss 2868.5808\n",
            "Iteration 2340 : Loss 2868.5799\n",
            "Iteration 2350 : Loss 2868.5789\n",
            "Iteration 2360 : Loss 2868.5780\n",
            "Iteration 2370 : Loss 2868.5771\n",
            "Iteration 2380 : Loss 2868.5762\n",
            "Iteration 2390 : Loss 2868.5753\n",
            "Iteration 2400 : Loss 2868.5745\n",
            "Iteration 2410 : Loss 2868.5737\n",
            "Iteration 2420 : Loss 2868.5729\n",
            "Iteration 2430 : Loss 2868.5722\n",
            "Iteration 2440 : Loss 2868.5714\n",
            "Iteration 2450 : Loss 2868.5707\n",
            "Iteration 2460 : Loss 2868.5700\n",
            "Iteration 2470 : Loss 2868.5693\n",
            "Iteration 2480 : Loss 2868.5687\n",
            "Iteration 2490 : Loss 2868.5680\n",
            "Iteration 2500 : Loss 2868.5674\n",
            "Iteration 2510 : Loss 2868.5668\n",
            "Iteration 2520 : Loss 2868.5662\n",
            "Iteration 2530 : Loss 2868.5657\n",
            "Iteration 2540 : Loss 2868.5651\n",
            "Iteration 2550 : Loss 2868.5646\n",
            "Iteration 2560 : Loss 2868.5641\n",
            "Iteration 2570 : Loss 2868.5636\n",
            "Iteration 2580 : Loss 2868.5631\n",
            "Iteration 2590 : Loss 2868.5626\n",
            "Iteration 2600 : Loss 2868.5621\n",
            "Iteration 2610 : Loss 2868.5617\n",
            "Iteration 2620 : Loss 2868.5612\n",
            "Iteration 2630 : Loss 2868.5608\n",
            "Iteration 2640 : Loss 2868.5604\n",
            "Iteration 2650 : Loss 2868.5600\n",
            "Iteration 2660 : Loss 2868.5596\n",
            "Iteration 2670 : Loss 2868.5593\n",
            "Iteration 2680 : Loss 2868.5589\n",
            "Iteration 2690 : Loss 2868.5585\n",
            "Iteration 2700 : Loss 2868.5582\n",
            "Iteration 2710 : Loss 2868.5579\n",
            "Iteration 2720 : Loss 2868.5575\n",
            "Iteration 2730 : Loss 2868.5572\n",
            "Iteration 2740 : Loss 2868.5569\n",
            "Iteration 2750 : Loss 2868.5566\n",
            "Iteration 2760 : Loss 2868.5563\n",
            "Iteration 2770 : Loss 2868.5560\n",
            "Iteration 2780 : Loss 2868.5558\n",
            "Iteration 2790 : Loss 2868.5555\n",
            "Iteration 2800 : Loss 2868.5552\n",
            "Iteration 2810 : Loss 2868.5550\n",
            "Iteration 2820 : Loss 2868.5548\n",
            "Iteration 2830 : Loss 2868.5545\n",
            "Iteration 2840 : Loss 2868.5543\n",
            "Iteration 2850 : Loss 2868.5541\n",
            "Iteration 2860 : Loss 2868.5539\n",
            "Iteration 2870 : Loss 2868.5536\n",
            "Iteration 2880 : Loss 2868.5534\n",
            "Iteration 2890 : Loss 2868.5532\n",
            "Iteration 2900 : Loss 2868.5530\n",
            "Iteration 2910 : Loss 2868.5529\n",
            "Iteration 2920 : Loss 2868.5527\n",
            "Iteration 2930 : Loss 2868.5525\n",
            "Iteration 2940 : Loss 2868.5523\n",
            "Iteration 2950 : Loss 2868.5522\n",
            "Iteration 2960 : Loss 2868.5520\n",
            "Iteration 2970 : Loss 2868.5519\n",
            "Iteration 2980 : Loss 2868.5517\n",
            "Iteration 2990 : Loss 2868.5516\n",
            "Iteration 3000 : Loss 2868.5514\n",
            "Iteration 3010 : Loss 2868.5513\n",
            "Iteration 3020 : Loss 2868.5511\n",
            "Iteration 3030 : Loss 2868.5510\n",
            "Iteration 3040 : Loss 2868.5509\n",
            "Iteration 3050 : Loss 2868.5508\n",
            "Iteration 3060 : Loss 2868.5506\n",
            "Iteration 3070 : Loss 2868.5505\n",
            "Iteration 3080 : Loss 2868.5504\n",
            "Iteration 3090 : Loss 2868.5503\n",
            "Iteration 3100 : Loss 2868.5502\n",
            "Iteration 3110 : Loss 2868.5501\n",
            "Iteration 3120 : Loss 2868.5500\n",
            "Iteration 3130 : Loss 2868.5499\n",
            "Iteration 3140 : Loss 2868.5498\n",
            "Iteration 3150 : Loss 2868.5497\n",
            "Iteration 3160 : Loss 2868.5496\n",
            "Iteration 3170 : Loss 2868.5495\n",
            "Iteration 3180 : Loss 2868.5494\n",
            "Iteration 3190 : Loss 2868.5494\n",
            "Iteration 3200 : Loss 2868.5493\n",
            "Iteration 3210 : Loss 2868.5492\n",
            "Iteration 3220 : Loss 2868.5491\n",
            "Iteration 3230 : Loss 2868.5490\n",
            "Iteration 3240 : Loss 2868.5490\n",
            "Iteration 3250 : Loss 2868.5489\n",
            "Iteration 3260 : Loss 2868.5488\n",
            "Iteration 3270 : Loss 2868.5488\n",
            "Iteration 3280 : Loss 2868.5487\n",
            "Iteration 3290 : Loss 2868.5486\n",
            "Iteration 3300 : Loss 2868.5486\n",
            "Iteration 3310 : Loss 2868.5485\n",
            "Iteration 3320 : Loss 2868.5485\n",
            "Iteration 3330 : Loss 2868.5484\n",
            "Iteration 3340 : Loss 2868.5484\n",
            "Iteration 3350 : Loss 2868.5483\n",
            "Iteration 3360 : Loss 2868.5483\n",
            "Iteration 3370 : Loss 2868.5482\n",
            "Iteration 3380 : Loss 2868.5482\n",
            "Iteration 3390 : Loss 2868.5481\n",
            "Iteration 3400 : Loss 2868.5481\n",
            "Iteration 3410 : Loss 2868.5480\n",
            "Iteration 3420 : Loss 2868.5480\n",
            "Iteration 3430 : Loss 2868.5480\n",
            "Iteration 3440 : Loss 2868.5479\n",
            "Iteration 3450 : Loss 2868.5479\n",
            "Iteration 3460 : Loss 2868.5478\n",
            "Iteration 3470 : Loss 2868.5478\n",
            "Iteration 3480 : Loss 2868.5478\n",
            "Iteration 3490 : Loss 2868.5477\n",
            "Iteration 3500 : Loss 2868.5477\n",
            "Iteration 3510 : Loss 2868.5477\n",
            "Iteration 3520 : Loss 2868.5476\n",
            "Iteration 3530 : Loss 2868.5476\n",
            "Iteration 3540 : Loss 2868.5476\n",
            "Iteration 3550 : Loss 2868.5475\n",
            "Iteration 3560 : Loss 2868.5475\n",
            "Iteration 3570 : Loss 2868.5475\n",
            "Iteration 3580 : Loss 2868.5475\n",
            "Iteration 3590 : Loss 2868.5474\n",
            "Iteration 3600 : Loss 2868.5474\n",
            "Iteration 3610 : Loss 2868.5474\n",
            "Iteration 3620 : Loss 2868.5474\n",
            "Iteration 3630 : Loss 2868.5473\n",
            "Iteration 3640 : Loss 2868.5473\n",
            "Iteration 3650 : Loss 2868.5473\n",
            "Iteration 3660 : Loss 2868.5473\n",
            "Iteration 3670 : Loss 2868.5473\n",
            "Iteration 3680 : Loss 2868.5472\n",
            "Iteration 3690 : Loss 2868.5472\n",
            "Iteration 3700 : Loss 2868.5472\n",
            "Iteration 3710 : Loss 2868.5472\n",
            "Iteration 3720 : Loss 2868.5472\n",
            "Iteration 3730 : Loss 2868.5472\n",
            "Iteration 3740 : Loss 2868.5471\n",
            "Iteration 3750 : Loss 2868.5471\n",
            "Iteration 3760 : Loss 2868.5471\n",
            "Iteration 3770 : Loss 2868.5471\n",
            "Iteration 3780 : Loss 2868.5471\n",
            "Iteration 3790 : Loss 2868.5471\n",
            "Iteration 3800 : Loss 2868.5470\n",
            "Iteration 3810 : Loss 2868.5470\n",
            "Iteration 3820 : Loss 2868.5470\n",
            "Iteration 3830 : Loss 2868.5470\n",
            "Iteration 3840 : Loss 2868.5470\n",
            "Iteration 3850 : Loss 2868.5470\n",
            "Iteration 3860 : Loss 2868.5470\n",
            "Iteration 3870 : Loss 2868.5470\n",
            "Iteration 3880 : Loss 2868.5470\n",
            "Iteration 3890 : Loss 2868.5469\n",
            "Iteration 3900 : Loss 2868.5469\n",
            "Iteration 3910 : Loss 2868.5469\n",
            "Iteration 3920 : Loss 2868.5469\n",
            "Iteration 3930 : Loss 2868.5469\n",
            "Iteration 3940 : Loss 2868.5469\n",
            "Iteration 3950 : Loss 2868.5469\n",
            "Iteration 3960 : Loss 2868.5469\n",
            "Iteration 3970 : Loss 2868.5469\n",
            "Iteration 3980 : Loss 2868.5469\n",
            "Iteration 3990 : Loss 2868.5469\n",
            "Iteration 4000 : Loss 2868.5468\n",
            "Iteration 4010 : Loss 2868.5468\n",
            "Iteration 4020 : Loss 2868.5468\n",
            "Iteration 4030 : Loss 2868.5468\n",
            "Iteration 4040 : Loss 2868.5468\n",
            "Iteration 4050 : Loss 2868.5468\n",
            "Iteration 4060 : Loss 2868.5468\n",
            "Iteration 4070 : Loss 2868.5468\n",
            "Iteration 4080 : Loss 2868.5468\n",
            "Iteration 4090 : Loss 2868.5468\n",
            "Iteration 4100 : Loss 2868.5468\n",
            "Iteration 4110 : Loss 2868.5468\n",
            "Iteration 4120 : Loss 2868.5468\n",
            "Iteration 4130 : Loss 2868.5468\n",
            "Iteration 4140 : Loss 2868.5468\n",
            "Iteration 4150 : Loss 2868.5468\n",
            "Iteration 4160 : Loss 2868.5467\n",
            "Iteration 4170 : Loss 2868.5467\n",
            "Iteration 4180 : Loss 2868.5467\n",
            "Iteration 4190 : Loss 2868.5467\n",
            "Iteration 4200 : Loss 2868.5467\n",
            "Iteration 4210 : Loss 2868.5467\n",
            "Iteration 4220 : Loss 2868.5467\n",
            "Iteration 4230 : Loss 2868.5467\n",
            "Iteration 4240 : Loss 2868.5467\n",
            "Iteration 4250 : Loss 2868.5467\n",
            "Iteration 4260 : Loss 2868.5467\n",
            "Iteration 4270 : Loss 2868.5467\n",
            "Iteration 4280 : Loss 2868.5467\n",
            "Iteration 4290 : Loss 2868.5467\n",
            "Iteration 4300 : Loss 2868.5467\n",
            "Iteration 4310 : Loss 2868.5467\n",
            "Iteration 4320 : Loss 2868.5467\n",
            "Iteration 4330 : Loss 2868.5467\n",
            "Iteration 4340 : Loss 2868.5467\n",
            "Iteration 4350 : Loss 2868.5467\n",
            "Iteration 4360 : Loss 2868.5467\n",
            "Iteration 4370 : Loss 2868.5467\n",
            "Iteration 4380 : Loss 2868.5467\n",
            "Iteration 4390 : Loss 2868.5467\n",
            "Iteration 4400 : Loss 2868.5467\n",
            "Iteration 4410 : Loss 2868.5467\n",
            "Iteration 4420 : Loss 2868.5467\n",
            "Iteration 4430 : Loss 2868.5467\n",
            "Iteration 4440 : Loss 2868.5467\n",
            "Iteration 4450 : Loss 2868.5467\n",
            "Iteration 4460 : Loss 2868.5467\n",
            "Iteration 4470 : Loss 2868.5466\n",
            "Iteration 4480 : Loss 2868.5466\n",
            "Iteration 4490 : Loss 2868.5466\n",
            "Iteration 4500 : Loss 2868.5466\n",
            "Iteration 4510 : Loss 2868.5466\n",
            "Iteration 4520 : Loss 2868.5466\n",
            "Iteration 4530 : Loss 2868.5466\n",
            "Iteration 4540 : Loss 2868.5466\n",
            "Iteration 4550 : Loss 2868.5466\n",
            "Iteration 4560 : Loss 2868.5466\n",
            "Iteration 4570 : Loss 2868.5466\n",
            "Iteration 4580 : Loss 2868.5466\n",
            "Iteration 4590 : Loss 2868.5466\n",
            "Iteration 4600 : Loss 2868.5466\n",
            "Iteration 4610 : Loss 2868.5466\n",
            "Iteration 4620 : Loss 2868.5466\n",
            "Iteration 4630 : Loss 2868.5466\n",
            "Iteration 4640 : Loss 2868.5466\n",
            "Iteration 4650 : Loss 2868.5466\n",
            "Iteration 4660 : Loss 2868.5466\n",
            "Iteration 4670 : Loss 2868.5466\n",
            "Iteration 4680 : Loss 2868.5466\n",
            "Iteration 4690 : Loss 2868.5466\n",
            "Iteration 4700 : Loss 2868.5466\n",
            "Iteration 4710 : Loss 2868.5466\n",
            "Iteration 4720 : Loss 2868.5466\n",
            "Iteration 4730 : Loss 2868.5466\n",
            "Iteration 4740 : Loss 2868.5466\n",
            "Iteration 4750 : Loss 2868.5466\n",
            "Iteration 4760 : Loss 2868.5466\n",
            "Iteration 4770 : Loss 2868.5466\n",
            "Iteration 4780 : Loss 2868.5466\n",
            "Iteration 4790 : Loss 2868.5466\n",
            "Iteration 4800 : Loss 2868.5466\n",
            "Iteration 4810 : Loss 2868.5466\n",
            "Iteration 4820 : Loss 2868.5466\n",
            "Iteration 4830 : Loss 2868.5466\n",
            "Iteration 4840 : Loss 2868.5466\n",
            "Iteration 4850 : Loss 2868.5466\n",
            "Iteration 4860 : Loss 2868.5466\n",
            "Iteration 4870 : Loss 2868.5466\n",
            "Iteration 4880 : Loss 2868.5466\n",
            "Iteration 4890 : Loss 2868.5466\n",
            "Iteration 4900 : Loss 2868.5466\n",
            "Iteration 4910 : Loss 2868.5466\n",
            "Iteration 4920 : Loss 2868.5466\n",
            "Iteration 4930 : Loss 2868.5466\n",
            "Iteration 4940 : Loss 2868.5466\n",
            "Iteration 4950 : Loss 2868.5466\n",
            "Iteration 4960 : Loss 2868.5466\n",
            "Iteration 4970 : Loss 2868.5466\n",
            "Iteration 4980 : Loss 2868.5466\n",
            "Iteration 4990 : Loss 2868.5466\n"
          ]
        }
      ]
    },
    {
      "cell_type": "markdown",
      "source": [
        "    ► 손실값이 점차 감소하다가 Iteration 4470 이후 부터는 Loss 2868.5466의 값이 반복됨"
      ],
      "metadata": {
        "id": "M-tbqwrb3dLW"
      }
    },
    {
      "cell_type": "markdown",
      "source": [
        "<br>\n",
        "\n",
        "그래프로 그려서 시각화 하자. 기울기(W)와 절편(b), mse는 다음과 같이 계산되었다."
      ],
      "metadata": {
        "id": "GopUUsbqhhKz"
      }
    },
    {
      "cell_type": "code",
      "source": [
        "import matplotlib.pyplot as plt\n",
        "plt.plot(losses)\n",
        "plt.show()"
      ],
      "metadata": {
        "colab": {
          "base_uri": "https://localhost:8080/",
          "height": 265
        },
        "outputId": "e1b3838a-dd8f-4ac5-b5bc-d51b9638dfc7",
        "id": "AoMsKeHZaof3"
      },
      "execution_count": 133,
      "outputs": [
        {
          "output_type": "display_data",
          "data": {
            "text/plain": [
              "<Figure size 432x288 with 1 Axes>"
            ],
            "image/png": "[encoded data removed]"
          },
          "metadata": {
            "needs_background": "light"
          }
        }
      ]
    },
    {
      "cell_type": "code",
      "source": [
        "print(W) \n",
        "print(b)"
      ],
      "metadata": {
        "colab": {
          "base_uri": "https://localhost:8080/"
        },
        "outputId": "e85d8665-ab47-48f8-91f8-78da9364bc17",
        "id": "USqQztAznSKD"
      },
      "execution_count": 134,
      "outputs": [
        {
          "output_type": "stream",
          "name": "stdout",
          "text": [
            "[  37.90357261 -241.96504598  542.43698958  347.70476961 -930.88232545\n",
            "  517.5898467   163.14386208  275.23025652  735.96720951   48.67525655]\n",
            "151.34562581243765\n"
          ]
        }
      ]
    },
    {
      "cell_type": "code",
      "source": [
        "prediction = model(X_test, W, b)\n",
        "mse = loss(X_test, W, b, y_test)\n",
        "print('► mse: ', mse)"
      ],
      "metadata": {
        "colab": {
          "base_uri": "https://localhost:8080/"
        },
        "outputId": "51b28562-627b-4d36-aae8-96bf668540e6",
        "id": "UtlK5tyvnSKS"
      },
      "execution_count": 135,
      "outputs": [
        {
          "output_type": "stream",
          "name": "stdout",
          "text": [
            "► mse:  2900.150405231308\n"
          ]
        }
      ]
    },
    {
      "cell_type": "markdown",
      "source": [
        "<br><br>\n",
        "\n",
        "확인 차 학습률을 0.001로 낮추고, 5만회 반복했다. 출력은 1000회 단위로 실시하였다.\n",
        "\n",
        "아래에서 보는 바와 같이 이번 경우에도 Loss 2868.5466가 반복된다. 손실값이 최저에 도달했다고 판단한다."
      ],
      "metadata": {
        "id": "L9mBT5SsmWvw"
      }
    },
    {
      "cell_type": "code",
      "source": [
        "LEARNING_RATE = 0.001\n",
        "\n",
        "losses02 = []\n",
        "\n",
        "for i in range(1, 50000):\n",
        "    dW, db = gradient(X_train, W, b, y_train)\n",
        "    W -= LEARNING_RATE * dW\n",
        "    b -= LEARNING_RATE * db\n",
        "    L = loss(X_train, W, b, y_train)\n",
        "    losses02.append(L)\n",
        "    if i % 1000 == 0:\n",
        "        print('Iteration %d : Loss %0.4f' % (i, L))"
      ],
      "metadata": {
        "colab": {
          "base_uri": "https://localhost:8080/"
        },
        "id": "b6gAfy8mWIdQ",
        "outputId": "b40b3ac8-b708-4dee-eb2e-96e519fd3c36"
      },
      "execution_count": 137,
      "outputs": [
        {
          "output_type": "stream",
          "name": "stdout",
          "text": [
            "Iteration 1000 : Loss 2868.5466\n",
            "Iteration 2000 : Loss 2868.5466\n",
            "Iteration 3000 : Loss 2868.5466\n",
            "Iteration 4000 : Loss 2868.5466\n",
            "Iteration 5000 : Loss 2868.5466\n",
            "Iteration 6000 : Loss 2868.5466\n",
            "Iteration 7000 : Loss 2868.5466\n",
            "Iteration 8000 : Loss 2868.5466\n",
            "Iteration 9000 : Loss 2868.5466\n",
            "Iteration 10000 : Loss 2868.5466\n",
            "Iteration 11000 : Loss 2868.5466\n",
            "Iteration 12000 : Loss 2868.5466\n",
            "Iteration 13000 : Loss 2868.5466\n",
            "Iteration 14000 : Loss 2868.5466\n",
            "Iteration 15000 : Loss 2868.5466\n",
            "Iteration 16000 : Loss 2868.5466\n",
            "Iteration 17000 : Loss 2868.5466\n",
            "Iteration 18000 : Loss 2868.5466\n",
            "Iteration 19000 : Loss 2868.5466\n",
            "Iteration 20000 : Loss 2868.5466\n",
            "Iteration 21000 : Loss 2868.5466\n",
            "Iteration 22000 : Loss 2868.5466\n",
            "Iteration 23000 : Loss 2868.5466\n",
            "Iteration 24000 : Loss 2868.5466\n",
            "Iteration 25000 : Loss 2868.5466\n",
            "Iteration 26000 : Loss 2868.5466\n",
            "Iteration 27000 : Loss 2868.5466\n",
            "Iteration 28000 : Loss 2868.5466\n",
            "Iteration 29000 : Loss 2868.5466\n",
            "Iteration 30000 : Loss 2868.5466\n",
            "Iteration 31000 : Loss 2868.5466\n",
            "Iteration 32000 : Loss 2868.5466\n",
            "Iteration 33000 : Loss 2868.5466\n",
            "Iteration 34000 : Loss 2868.5466\n",
            "Iteration 35000 : Loss 2868.5466\n",
            "Iteration 36000 : Loss 2868.5466\n",
            "Iteration 37000 : Loss 2868.5466\n",
            "Iteration 38000 : Loss 2868.5466\n",
            "Iteration 39000 : Loss 2868.5466\n",
            "Iteration 40000 : Loss 2868.5466\n",
            "Iteration 41000 : Loss 2868.5466\n",
            "Iteration 42000 : Loss 2868.5466\n",
            "Iteration 43000 : Loss 2868.5466\n",
            "Iteration 44000 : Loss 2868.5466\n",
            "Iteration 45000 : Loss 2868.5466\n",
            "Iteration 46000 : Loss 2868.5466\n",
            "Iteration 47000 : Loss 2868.5466\n",
            "Iteration 48000 : Loss 2868.5466\n",
            "Iteration 49000 : Loss 2868.5466\n"
          ]
        }
      ]
    },
    {
      "cell_type": "code",
      "source": [
        "print(W) \n",
        "print(b)"
      ],
      "metadata": {
        "colab": {
          "base_uri": "https://localhost:8080/"
        },
        "id": "b12DqlnBX3d9",
        "outputId": "4719ba5d-a451-4f8c-b654-693df792150e"
      },
      "execution_count": 138,
      "outputs": [
        {
          "output_type": "stream",
          "name": "stdout",
          "text": [
            "[  37.9033407  -241.96513156  542.43618984  347.70502127 -930.92353131\n",
            "  517.62217511  163.16234434  275.23593501  735.9830025    48.67496248]\n",
            "151.3456279146185\n"
          ]
        }
      ]
    },
    {
      "cell_type": "code",
      "source": [
        "prediction = model(X_test, W, b)\n",
        "mse = loss(X_test, W, b, y_test)\n",
        "print('► mse: ', mse)"
      ],
      "metadata": {
        "colab": {
          "base_uri": "https://localhost:8080/"
        },
        "id": "jwO61SfQYYyP",
        "outputId": "18377147-4a0f-4aff-bb7f-8b71c7f63a7f"
      },
      "execution_count": 139,
      "outputs": [
        {
          "output_type": "stream",
          "name": "stdout",
          "text": [
            "► mse:  2900.1520332772925\n"
          ]
        }
      ]
    },
    {
      "cell_type": "markdown",
      "source": [
        "<br><br>\n",
        "\n",
        "예측값(pred)과 데이터값(true)을 그래프로 나타내어 비교해보자.\n",
        "\n",
        "체질량지수(bmi)를 기준으로 하였을 때 양의 선형관계가 나타나며, 예측값을 비교적 유사하게 맞추었음을 알 수 있다."
      ],
      "metadata": {
        "id": "HKJ_imlqpIFM"
      }
    },
    {
      "cell_type": "code",
      "source": [
        "plt.scatter(X_test[:, 2], y_test, label=\"true\")\n",
        "plt.scatter(X_test[:, 2], prediction, label=\"pred\")\n",
        "plt.legend()\n",
        "plt.show()"
      ],
      "metadata": {
        "colab": {
          "base_uri": "https://localhost:8080/",
          "height": 265
        },
        "outputId": "4bda1140-a291-4f66-f161-ac71e019308b",
        "id": "OknN2I_2poXT"
      },
      "execution_count": 140,
      "outputs": [
        {
          "output_type": "display_data",
          "data": {
            "text/plain": [
              "<Figure size 432x288 with 1 Axes>"
            ],
            "image/png": "[encoded data removed]"
          },
          "metadata": {
            "needs_background": "light"
          }
        }
      ]
    },
    {
      "cell_type": "markdown",
      "source": [
        "<br><br><br>\n",
        "\n",
        "###**3) 라이브러리를 활용한 학습 및 예측**\n",
        "\n",
        "<br>\n",
        "\n",
        "라이브러리를 사용해서 동일한 과정을 다시 한 번 수행해 보도록 한다. 앞선 과정에서 예측의 원리와 작동구조를 파악했다면, 이번에는 라이브러리를 활용하는 방법을 익힌다. 각각의 결과도 비교해보도록 하겠다.\n",
        "\n",
        "scikit-learn에 포함된 선형회귀 모델(LinearRegression)을 사용한다. 모델을 import하고, 학습과 예측을 실시했다."
      ],
      "metadata": {
        "id": "yowvf3huaxz_"
      }
    },
    {
      "cell_type": "code",
      "source": [
        "# 선형회귀 모델 import\n",
        "from sklearn.linear_model import LinearRegression\n",
        "model = LinearRegression()\n",
        "\n",
        "# 모델 학습\n",
        "model.fit(X_train, y_train)\n",
        "\n",
        "# 예측 실시\n",
        "predictions = model.predict(X_test)\n",
        "predictions \n"
      ],
      "metadata": {
        "colab": {
          "base_uri": "https://localhost:8080/"
        },
        "id": "7d8bgQ_patb9",
        "outputId": "1ae79692-08de-4ae6-c0de-a48fd890fddb"
      },
      "execution_count": 141,
      "outputs": [
        {
          "output_type": "execute_result",
          "data": {
            "text/plain": [
              "array([139.5483133 , 179.52030578, 134.04133298, 291.41193598,\n",
              "       123.78723656,  92.17357677, 258.23409704, 181.33895238,\n",
              "        90.22217862, 108.63143298,  94.13938654, 168.43379636,\n",
              "        53.50669663, 206.63040068, 100.13238561, 130.66881649,\n",
              "       219.53270758, 250.78291772, 196.36682356, 218.57497401,\n",
              "       207.35002447,  88.48361667,  70.43428801, 188.95725301,\n",
              "       154.88720039, 159.35957695, 188.31587948, 180.38835506,\n",
              "        47.98988446, 108.97514644, 174.78080029,  86.36598906,\n",
              "       132.95890535, 184.5410226 , 173.83298051, 190.35863287,\n",
              "       124.41740796, 119.65426903, 147.95402494,  59.05311211,\n",
              "        71.62636914, 107.68722902, 165.45544477, 155.00784964,\n",
              "       171.04558668,  61.45763075,  71.66975626, 114.96330486,\n",
              "        51.57808027, 167.57781958, 152.52505798,  62.95827693,\n",
              "       103.49862017, 109.20495627, 175.63844013, 154.60247734,\n",
              "        94.41476124, 210.74244148, 120.25601864,  77.61590087,\n",
              "       187.93503183, 206.49543321, 140.63018684, 105.59463059,\n",
              "       130.704246  , 202.18650868, 171.1330116 , 164.91246096,\n",
              "       124.72637597, 144.81210187, 181.99631481, 199.41234515,\n",
              "       234.21402489, 145.96053305,  79.86349114, 157.36828831,\n",
              "       192.74737754, 208.8980067 , 158.58505486, 206.0226849 ,\n",
              "       107.47978402, 140.93428553,  54.81856678,  55.92807758,\n",
              "       115.00974554,  78.95886675,  81.55731377,  54.3774778 ,\n",
              "       166.25477778])"
            ]
          },
          "metadata": {},
          "execution_count": 141
        }
      ]
    },
    {
      "cell_type": "markdown",
      "source": [
        "<br><br>\n",
        "\n",
        "모델 성능평가(mse) 결과, 앞서 측정된 값과 매우 유사한 수치가 나왔다. 직접 함수를 구현한 것과 라이브러리를 활용한 것의 결과값이 유사하다고 볼 수 있다. \n",
        "\n",
        "라이브러리의 결과물 역시 시각화 하여 예측값(pred)과 데이터값(true)을 비교해 보도록 한다. 시각화는 상관계수가 높게 나왔던 지표를 중심으로 실시하였다."
      ],
      "metadata": {
        "id": "hIk14CjSsyJF"
      }
    },
    {
      "cell_type": "code",
      "source": [
        "# 모델 성능평가\n",
        "from sklearn.metrics import mean_squared_error\n",
        "\n",
        "mse = mean_squared_error(y_test, predictions)\n",
        "mse"
      ],
      "metadata": {
        "colab": {
          "base_uri": "https://localhost:8080/"
        },
        "id": "5kquk5DdbCeE",
        "outputId": "68197e39-0154-41b3-af35-72cd8c29dee9"
      },
      "execution_count": 142,
      "outputs": [
        {
          "output_type": "execute_result",
          "data": {
            "text/plain": [
              "2900.1732878832318"
            ]
          },
          "metadata": {},
          "execution_count": 142
        }
      ]
    },
    {
      "cell_type": "code",
      "source": [
        "# 시각화01. - 지표: 체질량지수(bmi)\n",
        "plt.scatter(X_test[:, 2], y_test, label=\"true\")\n",
        "plt.scatter(X_test[:, 2], predictions, label=\"pred\")\n",
        "plt.legend()\n",
        "plt.title('< bmi >')\n",
        "plt.show()"
      ],
      "metadata": {
        "colab": {
          "base_uri": "https://localhost:8080/",
          "height": 281
        },
        "id": "LVwcYObCbG3W",
        "outputId": "b00c327a-bd67-4048-8538-a3c359000786"
      },
      "execution_count": 143,
      "outputs": [
        {
          "output_type": "display_data",
          "data": {
            "text/plain": [
              "<Figure size 432x288 with 1 Axes>"
            ],
            "image/png": "[encoded data removed]"
          },
          "metadata": {
            "needs_background": "light"
          }
        }
      ]
    },
    {
      "cell_type": "code",
      "source": [
        "# 시각화02. - 지표: 혈청 내 트리글리세리드(s5)\n",
        "plt.scatter(X_test[:, 8], y_test, label=\"true\")\n",
        "plt.scatter(X_test[:, 8], predictions, label=\"pred\")\n",
        "plt.legend()\n",
        "plt.title('< s5 >')\n",
        "plt.show()"
      ],
      "metadata": {
        "colab": {
          "base_uri": "https://localhost:8080/",
          "height": 281
        },
        "id": "SUC8s50cve5Y",
        "outputId": "55b08491-394b-4fcb-f720-f9218b1e5bc3"
      },
      "execution_count": 144,
      "outputs": [
        {
          "output_type": "display_data",
          "data": {
            "text/plain": [
              "<Figure size 432x288 with 1 Axes>"
            ],
            "image/png": "[encoded data removed]"
          },
          "metadata": {
            "needs_background": "light"
          }
        }
      ]
    },
    {
      "cell_type": "code",
      "source": [
        "# 시각화03. - 지표: 혈압(bp)\n",
        "plt.scatter(X_test[:, 3], y_test, label=\"true\")\n",
        "plt.scatter(X_test[:, 3], predictions, label=\"pred\")\n",
        "plt.legend()\n",
        "plt.title('< bp >')\n",
        "plt.show()"
      ],
      "metadata": {
        "colab": {
          "base_uri": "https://localhost:8080/",
          "height": 281
        },
        "id": "PLateF0Vvl3V",
        "outputId": "940c3aaf-426d-41e3-c07f-ef59cb9aa534"
      },
      "execution_count": 145,
      "outputs": [
        {
          "output_type": "display_data",
          "data": {
            "text/plain": [
              "<Figure size 432x288 with 1 Axes>"
            ],
            "image/png": "[encoded data removed]"
          },
          "metadata": {
            "needs_background": "light"
          }
        }
      ]
    },
    {
      "cell_type": "code",
      "source": [
        "# 시각화04. - 지표: 혈청 내 콜레스트롤(s4)\n",
        "plt.scatter(X_test[:, 2], y_test, label=\"true\")\n",
        "plt.scatter(X_test[:, 2], predictions, label=\"pred\")\n",
        "plt.legend()\n",
        "plt.title('< s4 >')\n",
        "plt.show()"
      ],
      "metadata": {
        "colab": {
          "base_uri": "https://localhost:8080/",
          "height": 281
        },
        "id": "Ik0cQBoYvjF_",
        "outputId": "fb8dc453-ed02-43c3-f93a-00c0ee91bdf2"
      },
      "execution_count": 146,
      "outputs": [
        {
          "output_type": "display_data",
          "data": {
            "text/plain": [
              "<Figure size 432x288 with 1 Axes>"
            ],
            "image/png": "[encoded data removed]"
          },
          "metadata": {
            "needs_background": "light"
          }
        }
      ]
    },
    {
      "cell_type": "markdown",
      "source": [
        "<br><br><br>\n",
        "\n",
        "###**4) 소 결**\n",
        "\n",
        "<br>\n",
        "\n",
        "환자 특성을 기준으로 당뇨수치를 예측해 보았다. 나이, 성별, 체질량지수, 혈압, 혈청정보 등 다양한 특성이 데이터셋 내에 포함되어 있었다. 상관계수를 통해 당뇨수치와 뚜렷한 선형관계에 있는 특성을 파악하였으며, 체질량지수(bmi), s5(혈청 내 트리클리세리드 수치), 혈압(bp), s4(혈청 내 콜레스트롤)순으로 상관관계가 높은 것으로 분석되었다.\n",
        "\n",
        "예측값과 실제 수치 간의 오차를 줄이기 위해 손실함수를 사용하였으며, 학습률 및 반복횟수를 여러 차례 조정해가며 손실을 줄여나가는 과정을 거쳤다. 결과적으로 **MSE**를 **2900**까지 낮출 수 있었다. \n",
        "\n",
        "함수를 직접 구현한 경우와 사이킷런을 활용하여 선형회귀를 진행한 두 가지 경우 모두 결과는 유사하게 도출되었다. 각각의 경우를 통해서 손실함수의 개념 및 역할을 익힐 수 있었으며, 선형 방정식 형태로 된 모델을 학습시켜 실수형 데이터를 예측하는 프로세스를 경험할 수 있었다. \n"
      ],
      "metadata": {
        "id": "E97cdlshg_H-"
      }
    },
    {
      "cell_type": "markdown",
      "source": [
        "-\n",
        "\n",
        "<br><br><br><br><br><br>\n"
      ],
      "metadata": {
        "id": "_RwKEC6inZkj"
      }
    },
    {
      "cell_type": "markdown",
      "source": [
        "\n",
        "\n",
        "---\n",
        "\n",
        "\n",
        "\n",
        "\n",
        "##**2. 자전거 대여량 예측**\n"
      ],
      "metadata": {
        "id": "TCF2_woftwyA"
      }
    },
    {
      "cell_type": "markdown",
      "source": [
        "<br><br>\n",
        "\n",
        "###**1) 데이터 분석**\n",
        "\n",
        "<br>\n",
        "\n",
        "두 번째 프로젝트는 Kaggle에서 제공하는 'Bike Sharing Demand' 데이터를 사용한다. 해당 테이터를 로딩하고, 데이터를 변수에 저장한 후 전반적인 내용을 파악했다.  \n",
        "\n",
        "해당 데이터셋에는 날짜 및 시간, 계절, 휴일여부, 온도, 습도 등의 정보가 담겨있고, 각 일시별 자전거 대여량('count' 컬럼)이 나와있다.  \n",
        "\n",
        "문제에서 제시한 대로 datetime 컬럼을 datetime 자료형으로 변환하고 연, 월, 일, 시, 분, 초까지 6가지 컬럼을 생성한다. \n"
      ],
      "metadata": {
        "id": "mhUQoWxRtwyM"
      }
    },
    {
      "cell_type": "code",
      "source": [
        "# 데이터 가져오기\n",
        "import pandas as pd\n",
        "train = pd.read_csv('/content/drive/MyDrive/data/train.csv')\n",
        "train.head()"
      ],
      "metadata": {
        "colab": {
          "base_uri": "https://localhost:8080/",
          "height": 206
        },
        "id": "W4x7km-Obnqb",
        "outputId": "656ba256-b7b0-403a-99f2-09bc94adc0c7"
      },
      "execution_count": 147,
      "outputs": [
        {
          "output_type": "execute_result",
          "data": {
            "text/plain": [
              "              datetime  season  holiday  workingday  weather  temp   atemp  \\\n",
              "0  2011-01-01 00:00:00       1        0           0        1  9.84  14.395   \n",
              "1  2011-01-01 01:00:00       1        0           0        1  9.02  13.635   \n",
              "2  2011-01-01 02:00:00       1        0           0        1  9.02  13.635   \n",
              "3  2011-01-01 03:00:00       1        0           0        1  9.84  14.395   \n",
              "4  2011-01-01 04:00:00       1        0           0        1  9.84  14.395   \n",
              "\n",
              "   humidity  windspeed  casual  registered  count  \n",
              "0        81        0.0       3          13     16  \n",
              "1        80        0.0       8          32     40  \n",
              "2        80        0.0       5          27     32  \n",
              "3        75        0.0       3          10     13  \n",
              "4        75        0.0       0           1      1  "
            ],
            "text/html": [
              "\n",
              "  <div id=\"df-cd3c074f-1a54-4236-a4f0-bd5d89afccbe\">\n",
              "    <div class=\"colab-df-container\">\n",
              "      <div>\n",
              "<style scoped>\n",
              "    .dataframe tbody tr th:only-of-type {\n",
              "        vertical-align: middle;\n",
              "    }\n",
              "\n",
              "    .dataframe tbody tr th {\n",
              "        vertical-align: top;\n",
              "    }\n",
              "\n",
              "    .dataframe thead th {\n",
              "        text-align: right;\n",
              "    }\n",
              "</style>\n",
              "<table border=\"1\" class=\"dataframe\">\n",
              "  <thead>\n",
              "    <tr style=\"text-align: right;\">\n",
              "      <th></th>\n",
              "      <th>datetime</th>\n",
              "      <th>season</th>\n",
              "      <th>holiday</th>\n",
              "      <th>workingday</th>\n",
              "      <th>weather</th>\n",
              "      <th>temp</th>\n",
              "      <th>atemp</th>\n",
              "      <th>humidity</th>\n",
              "      <th>windspeed</th>\n",
              "      <th>casual</th>\n",
              "      <th>registered</th>\n",
              "      <th>count</th>\n",
              "    </tr>\n",
              "  </thead>\n",
              "  <tbody>\n",
              "    <tr>\n",
              "      <th>0</th>\n",
              "      <td>2011-01-01 00:00:00</td>\n",
              "      <td>1</td>\n",
              "      <td>0</td>\n",
              "      <td>0</td>\n",
              "      <td>1</td>\n",
              "      <td>9.84</td>\n",
              "      <td>14.395</td>\n",
              "      <td>81</td>\n",
              "      <td>0.0</td>\n",
              "      <td>3</td>\n",
              "      <td>13</td>\n",
              "      <td>16</td>\n",
              "    </tr>\n",
              "    <tr>\n",
              "      <th>1</th>\n",
              "      <td>2011-01-01 01:00:00</td>\n",
              "      <td>1</td>\n",
              "      <td>0</td>\n",
              "      <td>0</td>\n",
              "      <td>1</td>\n",
              "      <td>9.02</td>\n",
              "      <td>13.635</td>\n",
              "      <td>80</td>\n",
              "      <td>0.0</td>\n",
              "      <td>8</td>\n",
              "      <td>32</td>\n",
              "      <td>40</td>\n",
              "    </tr>\n",
              "    <tr>\n",
              "      <th>2</th>\n",
              "      <td>2011-01-01 02:00:00</td>\n",
              "      <td>1</td>\n",
              "      <td>0</td>\n",
              "      <td>0</td>\n",
              "      <td>1</td>\n",
              "      <td>9.02</td>\n",
              "      <td>13.635</td>\n",
              "      <td>80</td>\n",
              "      <td>0.0</td>\n",
              "      <td>5</td>\n",
              "      <td>27</td>\n",
              "      <td>32</td>\n",
              "    </tr>\n",
              "    <tr>\n",
              "      <th>3</th>\n",
              "      <td>2011-01-01 03:00:00</td>\n",
              "      <td>1</td>\n",
              "      <td>0</td>\n",
              "      <td>0</td>\n",
              "      <td>1</td>\n",
              "      <td>9.84</td>\n",
              "      <td>14.395</td>\n",
              "      <td>75</td>\n",
              "      <td>0.0</td>\n",
              "      <td>3</td>\n",
              "      <td>10</td>\n",
              "      <td>13</td>\n",
              "    </tr>\n",
              "    <tr>\n",
              "      <th>4</th>\n",
              "      <td>2011-01-01 04:00:00</td>\n",
              "      <td>1</td>\n",
              "      <td>0</td>\n",
              "      <td>0</td>\n",
              "      <td>1</td>\n",
              "      <td>9.84</td>\n",
              "      <td>14.395</td>\n",
              "      <td>75</td>\n",
              "      <td>0.0</td>\n",
              "      <td>0</td>\n",
              "      <td>1</td>\n",
              "      <td>1</td>\n",
              "    </tr>\n",
              "  </tbody>\n",
              "</table>\n",
              "</div>\n",
              "      <button class=\"colab-df-convert\" onclick=\"convertToInteractive('df-cd3c074f-1a54-4236-a4f0-bd5d89afccbe')\"\n",
              "              title=\"Convert this dataframe to an interactive table.\"\n",
              "              style=\"display:none;\">\n",
              "        \n",
              "  <svg xmlns=\"http://www.w3.org/2000/svg\" height=\"24px\"viewBox=\"0 0 24 24\"\n",
              "       width=\"24px\">\n",
              "    <path d=\"M0 0h24v24H0V0z\" fill=\"none\"/>\n",
              "    <path d=\"M18.56 5.44l.94 2.06.94-2.06 2.06-.94-2.06-.94-.94-2.06-.94 2.06-2.06.94zm-11 1L8.5 8.5l.94-2.06 2.06-.94-2.06-.94L8.5 2.5l-.94 2.06-2.06.94zm10 10l.94 2.06.94-2.06 2.06-.94-2.06-.94-.94-2.06-.94 2.06-2.06.94z\"/><path d=\"M17.41 7.96l-1.37-1.37c-.4-.4-.92-.59-1.43-.59-.52 0-1.04.2-1.43.59L10.3 9.45l-7.72 7.72c-.78.78-.78 2.05 0 2.83L4 21.41c.39.39.9.59 1.41.59.51 0 1.02-.2 1.41-.59l7.78-7.78 2.81-2.81c.8-.78.8-2.07 0-2.86zM5.41 20L4 18.59l7.72-7.72 1.47 1.35L5.41 20z\"/>\n",
              "  </svg>\n",
              "      </button>\n",
              "      \n",
              "  <style>\n",
              "    .colab-df-container {\n",
              "      display:flex;\n",
              "      flex-wrap:wrap;\n",
              "      gap: 12px;\n",
              "    }\n",
              "\n",
              "    .colab-df-convert {\n",
              "      background-color: #E8F0FE;\n",
              "      border: none;\n",
              "      border-radius: 50%;\n",
              "      cursor: pointer;\n",
              "      display: none;\n",
              "      fill: #1967D2;\n",
              "      height: 32px;\n",
              "      padding: 0 0 0 0;\n",
              "      width: 32px;\n",
              "    }\n",
              "\n",
              "    .colab-df-convert:hover {\n",
              "      background-color: #E2EBFA;\n",
              "      box-shadow: 0px 1px 2px rgba(60, 64, 67, 0.3), 0px 1px 3px 1px rgba(60, 64, 67, 0.15);\n",
              "      fill: #174EA6;\n",
              "    }\n",
              "\n",
              "    [theme=dark] .colab-df-convert {\n",
              "      background-color: #3B4455;\n",
              "      fill: #D2E3FC;\n",
              "    }\n",
              "\n",
              "    [theme=dark] .colab-df-convert:hover {\n",
              "      background-color: #434B5C;\n",
              "      box-shadow: 0px 1px 3px 1px rgba(0, 0, 0, 0.15);\n",
              "      filter: drop-shadow(0px 1px 2px rgba(0, 0, 0, 0.3));\n",
              "      fill: #FFFFFF;\n",
              "    }\n",
              "  </style>\n",
              "\n",
              "      <script>\n",
              "        const buttonEl =\n",
              "          document.querySelector('#df-cd3c074f-1a54-4236-a4f0-bd5d89afccbe button.colab-df-convert');\n",
              "        buttonEl.style.display =\n",
              "          google.colab.kernel.accessAllowed ? 'block' : 'none';\n",
              "\n",
              "        async function convertToInteractive(key) {\n",
              "          const element = document.querySelector('#df-cd3c074f-1a54-4236-a4f0-bd5d89afccbe');\n",
              "          const dataTable =\n",
              "            await google.colab.kernel.invokeFunction('convertToInteractive',\n",
              "                                                     [key], {});\n",
              "          if (!dataTable) return;\n",
              "\n",
              "          const docLinkHtml = 'Like what you see? Visit the ' +\n",
              "            '<a target=\"_blank\" href=https://colab.research.google.com/notebooks/data_table.ipynb>data table notebook</a>'\n",
              "            + ' to learn more about interactive tables.';\n",
              "          element.innerHTML = '';\n",
              "          dataTable['output_type'] = 'display_data';\n",
              "          await google.colab.output.renderOutput(dataTable, element);\n",
              "          const docLink = document.createElement('div');\n",
              "          docLink.innerHTML = docLinkHtml;\n",
              "          element.appendChild(docLink);\n",
              "        }\n",
              "      </script>\n",
              "    </div>\n",
              "  </div>\n",
              "  "
            ]
          },
          "metadata": {},
          "execution_count": 147
        }
      ]
    },
    {
      "cell_type": "code",
      "source": [
        "# 자료형 변환 및 컬럼 생성\n",
        "train['datetime'] = pd.to_datetime(train['datetime'], dayfirst=True)\n",
        "\n",
        "train['year'] = train['datetime'].dt.year\n",
        "train['month'] = train['datetime'].dt.month\n",
        "train['day'] = train['datetime'].dt.day\n",
        "train['hour'] = train['datetime'].dt.hour\n",
        "train['minute'] = train['datetime'].dt.minute\n",
        "train['second'] = train['datetime'].dt.second\n",
        "train.head()"
      ],
      "metadata": {
        "colab": {
          "base_uri": "https://localhost:8080/",
          "height": 206
        },
        "id": "9YRQhIGVQIq9",
        "outputId": "6674ad1c-b62e-44df-9996-a95441df472f"
      },
      "execution_count": 148,
      "outputs": [
        {
          "output_type": "execute_result",
          "data": {
            "text/plain": [
              "             datetime  season  holiday  workingday  weather  temp   atemp  \\\n",
              "0 2011-01-01 00:00:00       1        0           0        1  9.84  14.395   \n",
              "1 2011-01-01 01:00:00       1        0           0        1  9.02  13.635   \n",
              "2 2011-01-01 02:00:00       1        0           0        1  9.02  13.635   \n",
              "3 2011-01-01 03:00:00       1        0           0        1  9.84  14.395   \n",
              "4 2011-01-01 04:00:00       1        0           0        1  9.84  14.395   \n",
              "\n",
              "   humidity  windspeed  casual  registered  count  year  month  day  hour  \\\n",
              "0        81        0.0       3          13     16  2011      1    1     0   \n",
              "1        80        0.0       8          32     40  2011      1    1     1   \n",
              "2        80        0.0       5          27     32  2011      1    1     2   \n",
              "3        75        0.0       3          10     13  2011      1    1     3   \n",
              "4        75        0.0       0           1      1  2011      1    1     4   \n",
              "\n",
              "   minute  second  \n",
              "0       0       0  \n",
              "1       0       0  \n",
              "2       0       0  \n",
              "3       0       0  \n",
              "4       0       0  "
            ],
            "text/html": [
              "\n",
              "  <div id=\"df-c9de9d78-4c82-4d1f-997d-6f522aed6290\">\n",
              "    <div class=\"colab-df-container\">\n",
              "      <div>\n",
              "<style scoped>\n",
              "    .dataframe tbody tr th:only-of-type {\n",
              "        vertical-align: middle;\n",
              "    }\n",
              "\n",
              "    .dataframe tbody tr th {\n",
              "        vertical-align: top;\n",
              "    }\n",
              "\n",
              "    .dataframe thead th {\n",
              "        text-align: right;\n",
              "    }\n",
              "</style>\n",
              "<table border=\"1\" class=\"dataframe\">\n",
              "  <thead>\n",
              "    <tr style=\"text-align: right;\">\n",
              "      <th></th>\n",
              "      <th>datetime</th>\n",
              "      <th>season</th>\n",
              "      <th>holiday</th>\n",
              "      <th>workingday</th>\n",
              "      <th>weather</th>\n",
              "      <th>temp</th>\n",
              "      <th>atemp</th>\n",
              "      <th>humidity</th>\n",
              "      <th>windspeed</th>\n",
              "      <th>casual</th>\n",
              "      <th>registered</th>\n",
              "      <th>count</th>\n",
              "      <th>year</th>\n",
              "      <th>month</th>\n",
              "      <th>day</th>\n",
              "      <th>hour</th>\n",
              "      <th>minute</th>\n",
              "      <th>second</th>\n",
              "    </tr>\n",
              "  </thead>\n",
              "  <tbody>\n",
              "    <tr>\n",
              "      <th>0</th>\n",
              "      <td>2011-01-01 00:00:00</td>\n",
              "      <td>1</td>\n",
              "      <td>0</td>\n",
              "      <td>0</td>\n",
              "      <td>1</td>\n",
              "      <td>9.84</td>\n",
              "      <td>14.395</td>\n",
              "      <td>81</td>\n",
              "      <td>0.0</td>\n",
              "      <td>3</td>\n",
              "      <td>13</td>\n",
              "      <td>16</td>\n",
              "      <td>2011</td>\n",
              "      <td>1</td>\n",
              "      <td>1</td>\n",
              "      <td>0</td>\n",
              "      <td>0</td>\n",
              "      <td>0</td>\n",
              "    </tr>\n",
              "    <tr>\n",
              "      <th>1</th>\n",
              "      <td>2011-01-01 01:00:00</td>\n",
              "      <td>1</td>\n",
              "      <td>0</td>\n",
              "      <td>0</td>\n",
              "      <td>1</td>\n",
              "      <td>9.02</td>\n",
              "      <td>13.635</td>\n",
              "      <td>80</td>\n",
              "      <td>0.0</td>\n",
              "      <td>8</td>\n",
              "      <td>32</td>\n",
              "      <td>40</td>\n",
              "      <td>2011</td>\n",
              "      <td>1</td>\n",
              "      <td>1</td>\n",
              "      <td>1</td>\n",
              "      <td>0</td>\n",
              "      <td>0</td>\n",
              "    </tr>\n",
              "    <tr>\n",
              "      <th>2</th>\n",
              "      <td>2011-01-01 02:00:00</td>\n",
              "      <td>1</td>\n",
              "      <td>0</td>\n",
              "      <td>0</td>\n",
              "      <td>1</td>\n",
              "      <td>9.02</td>\n",
              "      <td>13.635</td>\n",
              "      <td>80</td>\n",
              "      <td>0.0</td>\n",
              "      <td>5</td>\n",
              "      <td>27</td>\n",
              "      <td>32</td>\n",
              "      <td>2011</td>\n",
              "      <td>1</td>\n",
              "      <td>1</td>\n",
              "      <td>2</td>\n",
              "      <td>0</td>\n",
              "      <td>0</td>\n",
              "    </tr>\n",
              "    <tr>\n",
              "      <th>3</th>\n",
              "      <td>2011-01-01 03:00:00</td>\n",
              "      <td>1</td>\n",
              "      <td>0</td>\n",
              "      <td>0</td>\n",
              "      <td>1</td>\n",
              "      <td>9.84</td>\n",
              "      <td>14.395</td>\n",
              "      <td>75</td>\n",
              "      <td>0.0</td>\n",
              "      <td>3</td>\n",
              "      <td>10</td>\n",
              "      <td>13</td>\n",
              "      <td>2011</td>\n",
              "      <td>1</td>\n",
              "      <td>1</td>\n",
              "      <td>3</td>\n",
              "      <td>0</td>\n",
              "      <td>0</td>\n",
              "    </tr>\n",
              "    <tr>\n",
              "      <th>4</th>\n",
              "      <td>2011-01-01 04:00:00</td>\n",
              "      <td>1</td>\n",
              "      <td>0</td>\n",
              "      <td>0</td>\n",
              "      <td>1</td>\n",
              "      <td>9.84</td>\n",
              "      <td>14.395</td>\n",
              "      <td>75</td>\n",
              "      <td>0.0</td>\n",
              "      <td>0</td>\n",
              "      <td>1</td>\n",
              "      <td>1</td>\n",
              "      <td>2011</td>\n",
              "      <td>1</td>\n",
              "      <td>1</td>\n",
              "      <td>4</td>\n",
              "      <td>0</td>\n",
              "      <td>0</td>\n",
              "    </tr>\n",
              "  </tbody>\n",
              "</table>\n",
              "</div>\n",
              "      <button class=\"colab-df-convert\" onclick=\"convertToInteractive('df-c9de9d78-4c82-4d1f-997d-6f522aed6290')\"\n",
              "              title=\"Convert this dataframe to an interactive table.\"\n",
              "              style=\"display:none;\">\n",
              "        \n",
              "  <svg xmlns=\"http://www.w3.org/2000/svg\" height=\"24px\"viewBox=\"0 0 24 24\"\n",
              "       width=\"24px\">\n",
              "    <path d=\"M0 0h24v24H0V0z\" fill=\"none\"/>\n",
              "    <path d=\"M18.56 5.44l.94 2.06.94-2.06 2.06-.94-2.06-.94-.94-2.06-.94 2.06-2.06.94zm-11 1L8.5 8.5l.94-2.06 2.06-.94-2.06-.94L8.5 2.5l-.94 2.06-2.06.94zm10 10l.94 2.06.94-2.06 2.06-.94-2.06-.94-.94-2.06-.94 2.06-2.06.94z\"/><path d=\"M17.41 7.96l-1.37-1.37c-.4-.4-.92-.59-1.43-.59-.52 0-1.04.2-1.43.59L10.3 9.45l-7.72 7.72c-.78.78-.78 2.05 0 2.83L4 21.41c.39.39.9.59 1.41.59.51 0 1.02-.2 1.41-.59l7.78-7.78 2.81-2.81c.8-.78.8-2.07 0-2.86zM5.41 20L4 18.59l7.72-7.72 1.47 1.35L5.41 20z\"/>\n",
              "  </svg>\n",
              "      </button>\n",
              "      \n",
              "  <style>\n",
              "    .colab-df-container {\n",
              "      display:flex;\n",
              "      flex-wrap:wrap;\n",
              "      gap: 12px;\n",
              "    }\n",
              "\n",
              "    .colab-df-convert {\n",
              "      background-color: #E8F0FE;\n",
              "      border: none;\n",
              "      border-radius: 50%;\n",
              "      cursor: pointer;\n",
              "      display: none;\n",
              "      fill: #1967D2;\n",
              "      height: 32px;\n",
              "      padding: 0 0 0 0;\n",
              "      width: 32px;\n",
              "    }\n",
              "\n",
              "    .colab-df-convert:hover {\n",
              "      background-color: #E2EBFA;\n",
              "      box-shadow: 0px 1px 2px rgba(60, 64, 67, 0.3), 0px 1px 3px 1px rgba(60, 64, 67, 0.15);\n",
              "      fill: #174EA6;\n",
              "    }\n",
              "\n",
              "    [theme=dark] .colab-df-convert {\n",
              "      background-color: #3B4455;\n",
              "      fill: #D2E3FC;\n",
              "    }\n",
              "\n",
              "    [theme=dark] .colab-df-convert:hover {\n",
              "      background-color: #434B5C;\n",
              "      box-shadow: 0px 1px 3px 1px rgba(0, 0, 0, 0.15);\n",
              "      filter: drop-shadow(0px 1px 2px rgba(0, 0, 0, 0.3));\n",
              "      fill: #FFFFFF;\n",
              "    }\n",
              "  </style>\n",
              "\n",
              "      <script>\n",
              "        const buttonEl =\n",
              "          document.querySelector('#df-c9de9d78-4c82-4d1f-997d-6f522aed6290 button.colab-df-convert');\n",
              "        buttonEl.style.display =\n",
              "          google.colab.kernel.accessAllowed ? 'block' : 'none';\n",
              "\n",
              "        async function convertToInteractive(key) {\n",
              "          const element = document.querySelector('#df-c9de9d78-4c82-4d1f-997d-6f522aed6290');\n",
              "          const dataTable =\n",
              "            await google.colab.kernel.invokeFunction('convertToInteractive',\n",
              "                                                     [key], {});\n",
              "          if (!dataTable) return;\n",
              "\n",
              "          const docLinkHtml = 'Like what you see? Visit the ' +\n",
              "            '<a target=\"_blank\" href=https://colab.research.google.com/notebooks/data_table.ipynb>data table notebook</a>'\n",
              "            + ' to learn more about interactive tables.';\n",
              "          element.innerHTML = '';\n",
              "          dataTable['output_type'] = 'display_data';\n",
              "          await google.colab.output.renderOutput(dataTable, element);\n",
              "          const docLink = document.createElement('div');\n",
              "          docLink.innerHTML = docLinkHtml;\n",
              "          element.appendChild(docLink);\n",
              "        }\n",
              "      </script>\n",
              "    </div>\n",
              "  </div>\n",
              "  "
            ]
          },
          "metadata": {},
          "execution_count": 148
        }
      ]
    },
    {
      "cell_type": "markdown",
      "source": [
        "<br><br>\n",
        "\n",
        "별도 컬럼으로 생성한 6가지 정보를 시각화 해보자. \n",
        "\n",
        "subplot을 활용하면 한 번에 다수의 그래프 함께 나타낼 수 있다. 총 6개의 그래프를 함께 표현하기 위해 3행2열의 프레임을 설정했다."
      ],
      "metadata": {
        "id": "6szmpDRp4jg6"
      }
    },
    {
      "cell_type": "code",
      "source": [
        "import seaborn as sns\n",
        "import matplotlib.pyplot as plt\n",
        "\n",
        "plt.subplot(3, 2, 1)\n",
        "sns.countplot(x=\"year\", data=train)\n",
        "plt.title('year')\n",
        "\n",
        "plt.subplot(3, 2, 2)\n",
        "sns.countplot(x=\"month\", data=train)\n",
        "plt.title('month')\n",
        "\n",
        "plt.subplot(3, 2, 3)\n",
        "sns.countplot(x=\"day\", data=train)\n",
        "plt.title('day')\n",
        "\n",
        "plt.subplot(3, 2, 4)\n",
        "sns.countplot(x=\"hour\", data=train)\n",
        "plt.title('hour')\n",
        "\n",
        "plt.subplot(3, 2, 5)\n",
        "sns.countplot(x=\"minute\", data=train)\n",
        "plt.title('minute')\n",
        "\n",
        "plt.subplot(3, 2, 6)\n",
        "sns.countplot(x=\"second\", data=train)\n",
        "plt.title('second')\n",
        "plt.show()"
      ],
      "metadata": {
        "colab": {
          "base_uri": "https://localhost:8080/",
          "height": 295
        },
        "id": "O_LIxq7VUmyE",
        "outputId": "98321fa3-3a59-4823-f346-ff59f4fec2ec"
      },
      "execution_count": 149,
      "outputs": [
        {
          "output_type": "display_data",
          "data": {
            "text/plain": [
              "<Figure size 432x288 with 6 Axes>"
            ],
            "image/png": "[encoded data removed]"
          },
          "metadata": {
            "needs_background": "light"
          }
        }
      ]
    },
    {
      "cell_type": "markdown",
      "source": [
        "<br><br>\n",
        "\n",
        "그래프들 사이의 간격이 좁아서 가독성이 떨어진다. 해결해보자.\n",
        "\n",
        "아래는 Figure.add_subplot를 사용하여 작성한 그래프다. 지정한 figure에 직접 subplot을 만들어 준다. subplot은 객체로 반환되며, 이를 조작하면 만들어진 subplot을 조정할 수 있다. figsize로 전체적인 그래프 크기를 키울 수 있고, hspace로 간격확대가 가능하다."
      ],
      "metadata": {
        "id": "DjkyHsXyeSwk"
      }
    },
    {
      "cell_type": "code",
      "source": [
        "fig = plt.figure(figsize=(12,14))\n",
        "fig.subplots_adjust(hspace=0.5)\n",
        "\n",
        "g1 = fig.add_subplot(3, 2, 1)\n",
        "sns.countplot(x=\"year\", data=train)\n",
        "plt.title('< YEAR >')\n",
        "\n",
        "g2 = fig.add_subplot(3, 2, 2)\n",
        "sns.countplot(x=\"month\", data=train)\n",
        "plt.title('< MONTH >')\n",
        "\n",
        "g3 = fig.add_subplot(3, 2, 3)\n",
        "sns.countplot(x=\"day\", data=train)\n",
        "plt.title('< DAY >')\n",
        "\n",
        "g4 = fig.add_subplot(3, 2, 4)\n",
        "sns.countplot(x=\"hour\", data=train)\n",
        "plt.title('< HOUR >')\n",
        "\n",
        "g5 = fig.add_subplot(3, 2, 5)\n",
        "sns.countplot(x=\"minute\", data=train)\n",
        "plt.title('< MINUTE >')\n",
        "\n",
        "g6 = fig.add_subplot(3, 2, 6)\n",
        "sns.countplot(x=\"second\", data=train)\n",
        "plt.title('< SECOND >')\n",
        "plt.show()"
      ],
      "metadata": {
        "colab": {
          "base_uri": "https://localhost:8080/",
          "height": 839
        },
        "id": "gbdcNkzleepL",
        "outputId": "4ea5e1a9-6269-4a8e-fc0d-771889580777"
      },
      "execution_count": 150,
      "outputs": [
        {
          "output_type": "display_data",
          "data": {
            "text/plain": [
              "<Figure size 864x1008 with 6 Axes>"
            ],
            "image/png": "[encoded data removed]"
          },
          "metadata": {
            "needs_background": "light"
          }
        }
      ]
    },
    {
      "cell_type": "markdown",
      "source": [
        "<br><br>\n",
        "\n",
        "학습을 위한 데이터를 셋팅하기에 앞서, 컬럼들 중 불필요한 정보를 지닌 컬럼을 삭제하도록 한다. \n",
        "\n",
        "자료를 다시 한 번 확인해 보자. 아직 어떤 데이터가 불필요한지 정확하게 판단하기는 어렵다. 우선 모든 데이터가 결측값으로 판단되는 컬럼(minute, second)은 제거해도 무방하다고 생각된다."
      ],
      "metadata": {
        "id": "TM5J-DJH5nvd"
      }
    },
    {
      "cell_type": "code",
      "source": [
        "train.describe()"
      ],
      "metadata": {
        "colab": {
          "base_uri": "https://localhost:8080/",
          "height": 364
        },
        "id": "qWuKPHFUpO2V",
        "outputId": "1e707113-0788-4440-ab9c-1418dd13c72e"
      },
      "execution_count": 151,
      "outputs": [
        {
          "output_type": "execute_result",
          "data": {
            "text/plain": [
              "             season       holiday    workingday       weather         temp  \\\n",
              "count  10886.000000  10886.000000  10886.000000  10886.000000  10886.00000   \n",
              "mean       2.506614      0.028569      0.680875      1.418427     20.23086   \n",
              "std        1.116174      0.166599      0.466159      0.633839      7.79159   \n",
              "min        1.000000      0.000000      0.000000      1.000000      0.82000   \n",
              "25%        2.000000      0.000000      0.000000      1.000000     13.94000   \n",
              "50%        3.000000      0.000000      1.000000      1.000000     20.50000   \n",
              "75%        4.000000      0.000000      1.000000      2.000000     26.24000   \n",
              "max        4.000000      1.000000      1.000000      4.000000     41.00000   \n",
              "\n",
              "              atemp      humidity     windspeed        casual    registered  \\\n",
              "count  10886.000000  10886.000000  10886.000000  10886.000000  10886.000000   \n",
              "mean      23.655084     61.886460     12.799395     36.021955    155.552177   \n",
              "std        8.474601     19.245033      8.164537     49.960477    151.039033   \n",
              "min        0.760000      0.000000      0.000000      0.000000      0.000000   \n",
              "25%       16.665000     47.000000      7.001500      4.000000     36.000000   \n",
              "50%       24.240000     62.000000     12.998000     17.000000    118.000000   \n",
              "75%       31.060000     77.000000     16.997900     49.000000    222.000000   \n",
              "max       45.455000    100.000000     56.996900    367.000000    886.000000   \n",
              "\n",
              "              count          year         month           day          hour  \\\n",
              "count  10886.000000  10886.000000  10886.000000  10886.000000  10886.000000   \n",
              "mean     191.574132   2011.501929      6.521495      9.992559     11.541613   \n",
              "std      181.144454      0.500019      3.444373      5.476608      6.915838   \n",
              "min        1.000000   2011.000000      1.000000      1.000000      0.000000   \n",
              "25%       42.000000   2011.000000      4.000000      5.000000      6.000000   \n",
              "50%      145.000000   2012.000000      7.000000     10.000000     12.000000   \n",
              "75%      284.000000   2012.000000     10.000000     15.000000     18.000000   \n",
              "max      977.000000   2012.000000     12.000000     19.000000     23.000000   \n",
              "\n",
              "        minute   second  \n",
              "count  10886.0  10886.0  \n",
              "mean       0.0      0.0  \n",
              "std        0.0      0.0  \n",
              "min        0.0      0.0  \n",
              "25%        0.0      0.0  \n",
              "50%        0.0      0.0  \n",
              "75%        0.0      0.0  \n",
              "max        0.0      0.0  "
            ],
            "text/html": [
              "\n",
              "  <div id=\"df-86c4412b-9bf6-43bd-9a1c-d012e4c3477a\">\n",
              "    <div class=\"colab-df-container\">\n",
              "      <div>\n",
              "<style scoped>\n",
              "    .dataframe tbody tr th:only-of-type {\n",
              "        vertical-align: middle;\n",
              "    }\n",
              "\n",
              "    .dataframe tbody tr th {\n",
              "        vertical-align: top;\n",
              "    }\n",
              "\n",
              "    .dataframe thead th {\n",
              "        text-align: right;\n",
              "    }\n",
              "</style>\n",
              "<table border=\"1\" class=\"dataframe\">\n",
              "  <thead>\n",
              "    <tr style=\"text-align: right;\">\n",
              "      <th></th>\n",
              "      <th>season</th>\n",
              "      <th>holiday</th>\n",
              "      <th>workingday</th>\n",
              "      <th>weather</th>\n",
              "      <th>temp</th>\n",
              "      <th>atemp</th>\n",
              "      <th>humidity</th>\n",
              "      <th>windspeed</th>\n",
              "      <th>casual</th>\n",
              "      <th>registered</th>\n",
              "      <th>count</th>\n",
              "      <th>year</th>\n",
              "      <th>month</th>\n",
              "      <th>day</th>\n",
              "      <th>hour</th>\n",
              "      <th>minute</th>\n",
              "      <th>second</th>\n",
              "    </tr>\n",
              "  </thead>\n",
              "  <tbody>\n",
              "    <tr>\n",
              "      <th>count</th>\n",
              "      <td>10886.000000</td>\n",
              "      <td>10886.000000</td>\n",
              "      <td>10886.000000</td>\n",
              "      <td>10886.000000</td>\n",
              "      <td>10886.00000</td>\n",
              "      <td>10886.000000</td>\n",
              "      <td>10886.000000</td>\n",
              "      <td>10886.000000</td>\n",
              "      <td>10886.000000</td>\n",
              "      <td>10886.000000</td>\n",
              "      <td>10886.000000</td>\n",
              "      <td>10886.000000</td>\n",
              "      <td>10886.000000</td>\n",
              "      <td>10886.000000</td>\n",
              "      <td>10886.000000</td>\n",
              "      <td>10886.0</td>\n",
              "      <td>10886.0</td>\n",
              "    </tr>\n",
              "    <tr>\n",
              "      <th>mean</th>\n",
              "      <td>2.506614</td>\n",
              "      <td>0.028569</td>\n",
              "      <td>0.680875</td>\n",
              "      <td>1.418427</td>\n",
              "      <td>20.23086</td>\n",
              "      <td>23.655084</td>\n",
              "      <td>61.886460</td>\n",
              "      <td>12.799395</td>\n",
              "      <td>36.021955</td>\n",
              "      <td>155.552177</td>\n",
              "      <td>191.574132</td>\n",
              "      <td>2011.501929</td>\n",
              "      <td>6.521495</td>\n",
              "      <td>9.992559</td>\n",
              "      <td>11.541613</td>\n",
              "      <td>0.0</td>\n",
              "      <td>0.0</td>\n",
              "    </tr>\n",
              "    <tr>\n",
              "      <th>std</th>\n",
              "      <td>1.116174</td>\n",
              "      <td>0.166599</td>\n",
              "      <td>0.466159</td>\n",
              "      <td>0.633839</td>\n",
              "      <td>7.79159</td>\n",
              "      <td>8.474601</td>\n",
              "      <td>19.245033</td>\n",
              "      <td>8.164537</td>\n",
              "      <td>49.960477</td>\n",
              "      <td>151.039033</td>\n",
              "      <td>181.144454</td>\n",
              "      <td>0.500019</td>\n",
              "      <td>3.444373</td>\n",
              "      <td>5.476608</td>\n",
              "      <td>6.915838</td>\n",
              "      <td>0.0</td>\n",
              "      <td>0.0</td>\n",
              "    </tr>\n",
              "    <tr>\n",
              "      <th>min</th>\n",
              "      <td>1.000000</td>\n",
              "      <td>0.000000</td>\n",
              "      <td>0.000000</td>\n",
              "      <td>1.000000</td>\n",
              "      <td>0.82000</td>\n",
              "      <td>0.760000</td>\n",
              "      <td>0.000000</td>\n",
              "      <td>0.000000</td>\n",
              "      <td>0.000000</td>\n",
              "      <td>0.000000</td>\n",
              "      <td>1.000000</td>\n",
              "      <td>2011.000000</td>\n",
              "      <td>1.000000</td>\n",
              "      <td>1.000000</td>\n",
              "      <td>0.000000</td>\n",
              "      <td>0.0</td>\n",
              "      <td>0.0</td>\n",
              "    </tr>\n",
              "    <tr>\n",
              "      <th>25%</th>\n",
              "      <td>2.000000</td>\n",
              "      <td>0.000000</td>\n",
              "      <td>0.000000</td>\n",
              "      <td>1.000000</td>\n",
              "      <td>13.94000</td>\n",
              "      <td>16.665000</td>\n",
              "      <td>47.000000</td>\n",
              "      <td>7.001500</td>\n",
              "      <td>4.000000</td>\n",
              "      <td>36.000000</td>\n",
              "      <td>42.000000</td>\n",
              "      <td>2011.000000</td>\n",
              "      <td>4.000000</td>\n",
              "      <td>5.000000</td>\n",
              "      <td>6.000000</td>\n",
              "      <td>0.0</td>\n",
              "      <td>0.0</td>\n",
              "    </tr>\n",
              "    <tr>\n",
              "      <th>50%</th>\n",
              "      <td>3.000000</td>\n",
              "      <td>0.000000</td>\n",
              "      <td>1.000000</td>\n",
              "      <td>1.000000</td>\n",
              "      <td>20.50000</td>\n",
              "      <td>24.240000</td>\n",
              "      <td>62.000000</td>\n",
              "      <td>12.998000</td>\n",
              "      <td>17.000000</td>\n",
              "      <td>118.000000</td>\n",
              "      <td>145.000000</td>\n",
              "      <td>2012.000000</td>\n",
              "      <td>7.000000</td>\n",
              "      <td>10.000000</td>\n",
              "      <td>12.000000</td>\n",
              "      <td>0.0</td>\n",
              "      <td>0.0</td>\n",
              "    </tr>\n",
              "    <tr>\n",
              "      <th>75%</th>\n",
              "      <td>4.000000</td>\n",
              "      <td>0.000000</td>\n",
              "      <td>1.000000</td>\n",
              "      <td>2.000000</td>\n",
              "      <td>26.24000</td>\n",
              "      <td>31.060000</td>\n",
              "      <td>77.000000</td>\n",
              "      <td>16.997900</td>\n",
              "      <td>49.000000</td>\n",
              "      <td>222.000000</td>\n",
              "      <td>284.000000</td>\n",
              "      <td>2012.000000</td>\n",
              "      <td>10.000000</td>\n",
              "      <td>15.000000</td>\n",
              "      <td>18.000000</td>\n",
              "      <td>0.0</td>\n",
              "      <td>0.0</td>\n",
              "    </tr>\n",
              "    <tr>\n",
              "      <th>max</th>\n",
              "      <td>4.000000</td>\n",
              "      <td>1.000000</td>\n",
              "      <td>1.000000</td>\n",
              "      <td>4.000000</td>\n",
              "      <td>41.00000</td>\n",
              "      <td>45.455000</td>\n",
              "      <td>100.000000</td>\n",
              "      <td>56.996900</td>\n",
              "      <td>367.000000</td>\n",
              "      <td>886.000000</td>\n",
              "      <td>977.000000</td>\n",
              "      <td>2012.000000</td>\n",
              "      <td>12.000000</td>\n",
              "      <td>19.000000</td>\n",
              "      <td>23.000000</td>\n",
              "      <td>0.0</td>\n",
              "      <td>0.0</td>\n",
              "    </tr>\n",
              "  </tbody>\n",
              "</table>\n",
              "</div>\n",
              "      <button class=\"colab-df-convert\" onclick=\"convertToInteractive('df-86c4412b-9bf6-43bd-9a1c-d012e4c3477a')\"\n",
              "              title=\"Convert this dataframe to an interactive table.\"\n",
              "              style=\"display:none;\">\n",
              "        \n",
              "  <svg xmlns=\"http://www.w3.org/2000/svg\" height=\"24px\"viewBox=\"0 0 24 24\"\n",
              "       width=\"24px\">\n",
              "    <path d=\"M0 0h24v24H0V0z\" fill=\"none\"/>\n",
              "    <path d=\"M18.56 5.44l.94 2.06.94-2.06 2.06-.94-2.06-.94-.94-2.06-.94 2.06-2.06.94zm-11 1L8.5 8.5l.94-2.06 2.06-.94-2.06-.94L8.5 2.5l-.94 2.06-2.06.94zm10 10l.94 2.06.94-2.06 2.06-.94-2.06-.94-.94-2.06-.94 2.06-2.06.94z\"/><path d=\"M17.41 7.96l-1.37-1.37c-.4-.4-.92-.59-1.43-.59-.52 0-1.04.2-1.43.59L10.3 9.45l-7.72 7.72c-.78.78-.78 2.05 0 2.83L4 21.41c.39.39.9.59 1.41.59.51 0 1.02-.2 1.41-.59l7.78-7.78 2.81-2.81c.8-.78.8-2.07 0-2.86zM5.41 20L4 18.59l7.72-7.72 1.47 1.35L5.41 20z\"/>\n",
              "  </svg>\n",
              "      </button>\n",
              "      \n",
              "  <style>\n",
              "    .colab-df-container {\n",
              "      display:flex;\n",
              "      flex-wrap:wrap;\n",
              "      gap: 12px;\n",
              "    }\n",
              "\n",
              "    .colab-df-convert {\n",
              "      background-color: #E8F0FE;\n",
              "      border: none;\n",
              "      border-radius: 50%;\n",
              "      cursor: pointer;\n",
              "      display: none;\n",
              "      fill: #1967D2;\n",
              "      height: 32px;\n",
              "      padding: 0 0 0 0;\n",
              "      width: 32px;\n",
              "    }\n",
              "\n",
              "    .colab-df-convert:hover {\n",
              "      background-color: #E2EBFA;\n",
              "      box-shadow: 0px 1px 2px rgba(60, 64, 67, 0.3), 0px 1px 3px 1px rgba(60, 64, 67, 0.15);\n",
              "      fill: #174EA6;\n",
              "    }\n",
              "\n",
              "    [theme=dark] .colab-df-convert {\n",
              "      background-color: #3B4455;\n",
              "      fill: #D2E3FC;\n",
              "    }\n",
              "\n",
              "    [theme=dark] .colab-df-convert:hover {\n",
              "      background-color: #434B5C;\n",
              "      box-shadow: 0px 1px 3px 1px rgba(0, 0, 0, 0.15);\n",
              "      filter: drop-shadow(0px 1px 2px rgba(0, 0, 0, 0.3));\n",
              "      fill: #FFFFFF;\n",
              "    }\n",
              "  </style>\n",
              "\n",
              "      <script>\n",
              "        const buttonEl =\n",
              "          document.querySelector('#df-86c4412b-9bf6-43bd-9a1c-d012e4c3477a button.colab-df-convert');\n",
              "        buttonEl.style.display =\n",
              "          google.colab.kernel.accessAllowed ? 'block' : 'none';\n",
              "\n",
              "        async function convertToInteractive(key) {\n",
              "          const element = document.querySelector('#df-86c4412b-9bf6-43bd-9a1c-d012e4c3477a');\n",
              "          const dataTable =\n",
              "            await google.colab.kernel.invokeFunction('convertToInteractive',\n",
              "                                                     [key], {});\n",
              "          if (!dataTable) return;\n",
              "\n",
              "          const docLinkHtml = 'Like what you see? Visit the ' +\n",
              "            '<a target=\"_blank\" href=https://colab.research.google.com/notebooks/data_table.ipynb>data table notebook</a>'\n",
              "            + ' to learn more about interactive tables.';\n",
              "          element.innerHTML = '';\n",
              "          dataTable['output_type'] = 'display_data';\n",
              "          await google.colab.output.renderOutput(dataTable, element);\n",
              "          const docLink = document.createElement('div');\n",
              "          docLink.innerHTML = docLinkHtml;\n",
              "          element.appendChild(docLink);\n",
              "        }\n",
              "      </script>\n",
              "    </div>\n",
              "  </div>\n",
              "  "
            ]
          },
          "metadata": {},
          "execution_count": 151
        }
      ]
    },
    {
      "cell_type": "markdown",
      "source": [
        "<br><br>\n",
        "\n",
        "중요한 데이터를 지닌 컬럼은 남기고, 불필요한 데이터는 삭제하기 위해 컬럼별 데이터와 대여량(count)과의 상관관계를 조사해보자.\n",
        "\n",
        "아래 보는 것과 같이, registered, casual, hour, temp, atemp, humidity 순으로 상관계수가 높게 측정되었다. 단, 여기서 registered는 등록된 사용자의 대여수이고, casual은 등록되지 않은 사용자의 대여수로 실제 대여정보에 해당하므로 제외한다. 시간(hour)과의 상관계수는 0.40으로 양의 선형관계를 나타내며, 온도(temp)와 체감온도(atemp)는 0.39의 상관계수를 보였다. humidity의 상관계수는 -0.32로 음의 선형관계를 나타낸다.\n",
        "\n",
        "상관관계가 높은 컬럼을 남기되, 자료의 균형을 맞추기 위해 년-월-일 컬럼도 포함하였다."
      ],
      "metadata": {
        "id": "hU27cGCnEcHz"
      }
    },
    {
      "cell_type": "code",
      "source": [
        "# 상관관계 조사\n",
        "print('- season과의 상관관계: \\n', np.corrcoef(train[\"season\"], train[\"count\"]), '\\n')\n",
        "print('- holiday과의 상관관계: \\n', np.corrcoef(train[\"holiday\"], train[\"count\"]), '\\n')\n",
        "print('- workingday과의 상관관계: \\n', np.corrcoef(train[\"workingday\"], train[\"count\"]), '\\n')\n",
        "print('- weather과의 상관관계: \\n', np.corrcoef(train[\"weather\"], train[\"count\"]), '\\n')\n",
        "print('- temp과의 상관관계: \\n', np.corrcoef(train[\"temp\"], train[\"count\"]), '\\n')\n",
        "print('- atemp과의 상관관계: \\n', np.corrcoef(train[\"atemp\"], train[\"count\"]), '\\n')\n",
        "print('- humidity과의 상관관계: \\n', np.corrcoef(train[\"humidity\"], train[\"count\"]), '\\n')\n",
        "print('- windspeed과의 상관관계: \\n', np.corrcoef(train[\"windspeed\"], train[\"count\"]), '\\n')\n",
        "print('- casual과의 상관관계: \\n', np.corrcoef(train[\"casual\"], train[\"count\"]), '\\n')\n",
        "print('- registered과의 상관관계: \\n', np.corrcoef(train[\"registered\"], train[\"count\"]), '\\n')\n",
        "print('- year과의 상관관계: \\n', np.corrcoef(train[\"year\"], train[\"count\"]), '\\n')\n",
        "print('- month과의 상관관계: \\n', np.corrcoef(train[\"month\"], train[\"count\"]), '\\n')\n",
        "print('- day과의 상관관계: \\n', np.corrcoef(train[\"day\"], train[\"count\"]), '\\n')\n",
        "print('- hour과의 상관관계: \\n', np.corrcoef(train[\"hour\"], train[\"count\"]))"
      ],
      "metadata": {
        "colab": {
          "base_uri": "https://localhost:8080/"
        },
        "id": "t0-TPRdbEcw9",
        "outputId": "ec8ebbcf-8ba4-4fec-8883-4a2f8fbb829d"
      },
      "execution_count": 152,
      "outputs": [
        {
          "output_type": "stream",
          "name": "stdout",
          "text": [
            "- season과의 상관관계: \n",
            " [[1.         0.16343902]\n",
            " [0.16343902 1.        ]] \n",
            "\n",
            "- holiday과의 상관관계: \n",
            " [[ 1.         -0.00539298]\n",
            " [-0.00539298  1.        ]] \n",
            "\n",
            "- workingday과의 상관관계: \n",
            " [[1.         0.01159387]\n",
            " [0.01159387 1.        ]] \n",
            "\n",
            "- weather과의 상관관계: \n",
            " [[ 1.        -0.1286552]\n",
            " [-0.1286552  1.       ]] \n",
            "\n",
            "- temp과의 상관관계: \n",
            " [[1.         0.39445364]\n",
            " [0.39445364 1.        ]] \n",
            "\n",
            "- atemp과의 상관관계: \n",
            " [[1.         0.38978444]\n",
            " [0.38978444 1.        ]] \n",
            "\n",
            "- humidity과의 상관관계: \n",
            " [[ 1.         -0.31737148]\n",
            " [-0.31737148  1.        ]] \n",
            "\n",
            "- windspeed과의 상관관계: \n",
            " [[1.         0.10136947]\n",
            " [0.10136947 1.        ]] \n",
            "\n",
            "- casual과의 상관관계: \n",
            " [[1.         0.69041357]\n",
            " [0.69041357 1.        ]] \n",
            "\n",
            "- registered과의 상관관계: \n",
            " [[1.         0.97094811]\n",
            " [0.97094811 1.        ]] \n",
            "\n",
            "- year과의 상관관계: \n",
            " [[1.        0.2604033]\n",
            " [0.2604033 1.       ]] \n",
            "\n",
            "- month과의 상관관계: \n",
            " [[1.         0.16686223]\n",
            " [0.16686223 1.        ]] \n",
            "\n",
            "- day과의 상관관계: \n",
            " [[1.         0.01982578]\n",
            " [0.01982578 1.        ]] \n",
            "\n",
            "- hour과의 상관관계: \n",
            " [[1.         0.40060119]\n",
            " [0.40060119 1.        ]]\n"
          ]
        }
      ]
    },
    {
      "cell_type": "code",
      "source": [
        "# X, y 컬럼 선택\n",
        "column = ['temp', 'atemp', 'humidity', 'year', 'month', 'day', 'hour']\n",
        "X = train[column]\n",
        "y = train['count']\n",
        "print(X.head())"
      ],
      "metadata": {
        "colab": {
          "base_uri": "https://localhost:8080/"
        },
        "id": "t3v4knDEni2B",
        "outputId": "12ad4073-98ad-4866-fc11-932a2a008c23"
      },
      "execution_count": 153,
      "outputs": [
        {
          "output_type": "stream",
          "name": "stdout",
          "text": [
            "   temp   atemp  humidity  year  month  day  hour\n",
            "0  9.84  14.395        81  2011      1    1     0\n",
            "1  9.02  13.635        80  2011      1    1     1\n",
            "2  9.02  13.635        80  2011      1    1     2\n",
            "3  9.84  14.395        75  2011      1    1     3\n",
            "4  9.84  14.395        75  2011      1    1     4\n"
          ]
        }
      ]
    },
    {
      "cell_type": "markdown",
      "source": [
        "<br><br>\n",
        "\n",
        "###**2) 학습 및 예측**\n",
        "\n",
        "<br>\n",
        "\n",
        "학습을 위해 데이터를 분리하고, LinearRegression model을 활용하여 학습을 실시한다.\n",
        "\n",
        "학습된 모델을 Test 하고, 예측값을 도출한다. mse와 rmse를 계산하여 오차를 측정했다. 결과는 다음과 같다."
      ],
      "metadata": {
        "id": "qsE7BfjK4ddQ"
      }
    },
    {
      "cell_type": "code",
      "source": [
        "# train/test 데이터 분리 \n",
        "from sklearn.model_selection import train_test_split\n",
        "\n",
        "X_train, X_test, y_train, y_test = train_test_split(X, y, test_size=0.2, random_state=42)\n",
        "print(X_train.shape, y_train.shape)\n",
        "print(X_test.shape, y_test.shape)\n",
        "\n",
        "# LinearRegression 모델 학습\n",
        "from sklearn.linear_model import LinearRegression\n",
        "\n",
        "model = LinearRegression()\n",
        "model.fit(X_train, y_train)"
      ],
      "metadata": {
        "colab": {
          "base_uri": "https://localhost:8080/"
        },
        "id": "HDIveGr5pjZx",
        "outputId": "ff6191bf-4955-46e0-a4f1-495bcadd0f04"
      },
      "execution_count": 154,
      "outputs": [
        {
          "output_type": "stream",
          "name": "stdout",
          "text": [
            "(8708, 7) (8708,)\n",
            "(2178, 7) (2178,)\n"
          ]
        },
        {
          "output_type": "execute_result",
          "data": {
            "text/plain": [
              "LinearRegression()"
            ]
          },
          "metadata": {},
          "execution_count": 154
        }
      ]
    },
    {
      "cell_type": "code",
      "source": [
        "# 예측값 출력 및 손실함수값 계산\n",
        "from sklearn.metrics import mean_squared_error\n",
        "\n",
        "predictions = model.predict(X_test)\n",
        "\n",
        "mse = mean_squared_error(y_test, predictions)\n",
        "rmse = (mse)**(1/2)\n",
        "print('► MSE: ', mse)\n",
        "print('► RMSE: ', rmse)"
      ],
      "metadata": {
        "colab": {
          "base_uri": "https://localhost:8080/"
        },
        "id": "56ShAVN8qHMW",
        "outputId": "91b13a80-12b4-431f-af76-71c17eda00ba"
      },
      "execution_count": 155,
      "outputs": [
        {
          "output_type": "stream",
          "name": "stdout",
          "text": [
            "► MSE:  19977.71364383958\n",
            "► RMSE:  141.34254010679015\n"
          ]
        }
      ]
    },
    {
      "cell_type": "markdown",
      "source": [
        "<br><br>\n",
        "\n",
        "시각화를 통해 예측의 타당성을 분석해보자. 유의미한 관계에 있는 지표를 중심으로 그래프를 작성했다.\n",
        "\n",
        "아래의 그래프를 살펴보면, 선형의 관계가 뚜렷한 지점에서 예측이 잘 맞았다. 실제 데이터 값이 경향성을 벗어나는 지점일수록 예측이 어려웠음을 알 수 있다."
      ],
      "metadata": {
        "id": "rLOT7lHe5F8q"
      }
    },
    {
      "cell_type": "code",
      "source": [
        "# 예측결과 시각화: Temp 기준\n",
        "plt.scatter(X_test['temp'], y_test, label=\"true\")\n",
        "plt.scatter(X_test['temp'], predictions, label=\"pred\")\n",
        "plt.xlabel('temp')\n",
        "plt.ylabel('count')\n",
        "plt.legend()\n",
        "plt.show()"
      ],
      "metadata": {
        "colab": {
          "base_uri": "https://localhost:8080/",
          "height": 279
        },
        "id": "ADH7cuVBqHWs",
        "outputId": "0bc018c1-296a-4fea-c11f-168693337ec1"
      },
      "execution_count": 156,
      "outputs": [
        {
          "output_type": "display_data",
          "data": {
            "text/plain": [
              "<Figure size 432x288 with 1 Axes>"
            ],
            "image/png": "[encoded data removed]"
          },
          "metadata": {
            "needs_background": "light"
          }
        }
      ]
    },
    {
      "cell_type": "code",
      "source": [
        "# 예측결과 시각화: Atemp 기준\n",
        "plt.scatter(X_test['atemp'], y_test, label=\"true\")\n",
        "plt.scatter(X_test['atemp'], predictions, label=\"pred\")\n",
        "plt.xlabel('atemp')\n",
        "plt.ylabel('count')\n",
        "plt.legend()\n",
        "plt.show()"
      ],
      "metadata": {
        "colab": {
          "base_uri": "https://localhost:8080/",
          "height": 279
        },
        "outputId": "ac195866-f426-40ce-b32f-91e26a9bc16f",
        "id": "h3OmCAv5J6jy"
      },
      "execution_count": 157,
      "outputs": [
        {
          "output_type": "display_data",
          "data": {
            "text/plain": [
              "<Figure size 432x288 with 1 Axes>"
            ],
            "image/png": "[encoded data removed]"
          },
          "metadata": {
            "needs_background": "light"
          }
        }
      ]
    },
    {
      "cell_type": "code",
      "source": [
        "# 예측결과 시각화: Humidity 기준\n",
        "plt.scatter(X_test['humidity'], y_test, label=\"true\")\n",
        "plt.scatter(X_test['humidity'], predictions, label=\"pred\")\n",
        "plt.xlabel('humidity')\n",
        "plt.ylabel('count')\n",
        "plt.legend()\n",
        "plt.show()"
      ],
      "metadata": {
        "colab": {
          "base_uri": "https://localhost:8080/",
          "height": 279
        },
        "outputId": "755f2793-d91c-4732-f142-1b9b994a48b3",
        "id": "NvaWSTGQLUqC"
      },
      "execution_count": 158,
      "outputs": [
        {
          "output_type": "display_data",
          "data": {
            "text/plain": [
              "<Figure size 432x288 with 1 Axes>"
            ],
            "image/png": "[encoded data removed]"
          },
          "metadata": {
            "needs_background": "light"
          }
        }
      ]
    },
    {
      "cell_type": "code",
      "source": [
        "# 예측결과 시각화: Hour 기준\n",
        "plt.scatter(X_test['hour'], y_test, label=\"true\")\n",
        "plt.scatter(X_test['hour'], predictions, label=\"pred\")\n",
        "plt.xlabel('hour')\n",
        "plt.ylabel('count')\n",
        "plt.legend()\n",
        "plt.show()"
      ],
      "metadata": {
        "colab": {
          "base_uri": "https://localhost:8080/",
          "height": 279
        },
        "outputId": "a9c5da88-ac01-406d-e6ce-acf7cd6fcb20",
        "id": "x52tRTtirKln"
      },
      "execution_count": 159,
      "outputs": [
        {
          "output_type": "display_data",
          "data": {
            "text/plain": [
              "<Figure size 432x288 with 1 Axes>"
            ],
            "image/png": "[encoded data removed]"
          },
          "metadata": {
            "needs_background": "light"
          }
        }
      ]
    },
    {
      "cell_type": "markdown",
      "source": [
        "<br><br>\n",
        "\n",
        "###**3) 소 결**\n",
        "\n",
        "<br>\n",
        "\n",
        "데이터의 특징과 상관관계에 따라 특정 컬럼을 선택하거나 삭제하는 과정이 예측률에 영향을 미쳤다. 모델의 성능을 높이기 위해 데이터를 가감해가면서 결과를 비교하였고, 적정 셋팅을 찾아 **RMSE** 값을 **141**까지 낮출 수 있었다. \n",
        "\n",
        "결과를 시각화하여 예측의 타당성을 분석한 결과, 선형의 관계가 뚜렷한 지점에서 예측이 잘 맞았고, 경향성을 벗어나는 지점일수록 예측이 어려웠다. \n",
        "\n",
        "시각화한 자료를 통해 결과를 직관적으로 이해하는 데 도움이 되었다. 다만, 이를 해석하는 데에 있어 다양한 관점이 있을 수 있고, 관점에 따라 동일한 그래프에 대해서도 결론이 조금씩 달라질 수 있겠다는 생각이 들었다. 객관성을 유지하며 그래프가 지닌 함의를 읽어내기 위한 맥락적 이해와 경험이 필요하겠다."
      ],
      "metadata": {
        "id": "ffgPlpFeKUO7"
      }
    },
    {
      "cell_type": "markdown",
      "source": [
        "-\n",
        "\n",
        "<br><br><br><br><br><br>\n"
      ],
      "metadata": {
        "id": "JU74Ue5Xwvl_"
      }
    },
    {
      "cell_type": "markdown",
      "source": [
        "\n",
        "\n",
        "---\n",
        "\n",
        "# **III. 결 론**\n",
        "\n",
        "<br>\n",
        "\n",
        "####**[ 맺음말 ]**\n",
        "\n",
        "변수 간의 상관관계를 기반으로 예측모델의 성능을 향상할 수 있는 데이터를 셋팅하는 것이 중요함을 깨달았다. 결국 데이터셋을 얼마나 정확히 이해하느냐가 셋팅의 방향을 좌우할 것이고, 이것이 문제해결에 주요한 키가 될 수 있다.\n",
        "\n",
        "또한, 손실(loss)을 줄여나가는 것은 예측의 정확도를 높이는 데에 중요한 과정임을 경험했다. 미분을 통해 손실의 최소값을 찾아나가는 방법을 활용할 수 있으며, 이때 손실함수의 기울기가 척도가 된다.\n",
        "\n",
        "프로젝트를 진행하며 결과값에 따라 데이터 셋팅이나 하이퍼파라미터를 조정하고, 이에 따른 변화를 피드백하는 과정을 여러차례 거쳤다. 시행착오를 통해 예측정확도를 높여갈 수 있었으며, 결과값을 그래프로 시각화하여 진행과정의 적정성 및 추가적으로 필요한 과정이 무엇인지를 파악할 수 있었다.\n",
        "\n",
        "<br>\n",
        "\n",
        "다만, 실제 데이터에 비해 비교적 단순한 간이 데이터를 가지고 예측을 수행했음에도 도출된 결과를 어떻게 해석해야하는지에 대한 어려움이 컸다. 수치는 계산되어 나오지만 그 해석은 오롯이 나의 몫이었다. 자칫하면 정량적 예측값을 지나치게 단순화하여 판단하거나, 시각화 자료를 곡해하여 분석의 객관성을 잃을 수도 있겠다는 우려가 들었다. \n",
        "\n",
        "결론을 내리기에 앞서 전체 맥락을 이해하고 총체적인 관점에서 다시 한 번 분석내용을 살펴볼 필요가 있음을 느꼈다.\n",
        "\n",
        "<br>\n",
        "\n",
        "####**[ 향후 과제 ]**\n",
        "\n",
        "시각화 결과에 대한 타당한 해석을 돕는 보조적인 지표나 인자들이 무엇인지 파악하고, 이를 구현하는 방법을 숙지한다면 보다 설득력있는 결론을 내릴 수 있을 것이다.\n",
        "\n",
        "또한, 이번 프로젝트에서는 상관계수를 토대로 변수 간 단순 상관관계를 파악하고 데이터 셋팅의 근거로 활용하였으나, 유의성 검증 등을 거쳐 관계성을 구체화하고 분석의 신뢰도를 높일 필요가 있다.\n",
        "\n",
        "\n"
      ],
      "metadata": {
        "id": "1GyE3sDpSy4a"
      }
    },
    {
      "cell_type": "markdown",
      "source": [
        "            \n",
        "<br><br><br>\n",
        "\n",
        "\n",
        "\n",
        "---\n",
        "\n",
        "<br>\n",
        "\n",
        "    < 참고문헌 >\n",
        "\n",
        "        [1] ⌈밑바닥부터 시작하는 딥러닝⌋, 한빛미디어, 사이토고키 지음\n",
        "        [2] Forecasting: Principles and Practice, https://otexts.com/fppkr\n",
        "        [2] https://en.wikipedia.org/wiki/Forecasting\n",
        "\n",
        "\n",
        "\n",
        "<br><br>\n",
        "\n",
        "\n"
      ],
      "metadata": {
        "id": "VvtvwZRiR-eU"
      }
    }
  ]
}