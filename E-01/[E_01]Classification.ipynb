{
  "nbformat": 4,
  "nbformat_minor": 0,
  "metadata": {
    "colab": {
      "name": "[E-01]Classification.ipynb",
      "provenance": [],
      "collapsed_sections": [],
      "toc_visible": true,
      "authorship_tag": "ABX9TyP7xAq6aWQU01tiK2z8w5e2",
      "include_colab_link": true
    },
    "kernelspec": {
      "name": "python3",
      "display_name": "Python 3"
    },
    "language_info": {
      "name": "python"
    }
  },
  "cells": [
    {
      "cell_type": "markdown",
      "metadata": {
        "id": "view-in-github",
        "colab_type": "text"
      },
      "source": [
        "<a href=\"https://colab.research.google.com/github/lemonbuilder/EXPLORATION/blob/main/E-01/%5BE_01%5DClassification.ipynb\" target=\"_parent\"><img src=\"https://colab.research.google.com/assets/colab-badge.svg\" alt=\"Open In Colab\"/></a>"
      ]
    },
    {
      "cell_type": "markdown",
      "source": [
        "# [E-01] Classification\n",
        "\n",
        "\n",
        "<br>\n",
        "\n",
        "< 목 차 >\n",
        "\n",
        "####I.   서 론\n",
        "\n",
        "####II.  본 론\n",
        "\n",
        "1.   load_digits: 손글씨 이미지 판별\n",
        "2.   load_wine: 와인 종류 판별\n",
        "3.   load_breast_cancer: 유방암 여부 진단\n",
        "\n",
        "####III. 결 론\n",
        "\n",
        "<br><br><br>\n",
        "\n"
      ],
      "metadata": {
        "id": "leVYjy_xVvHH"
      }
    },
    {
      "cell_type": "markdown",
      "source": [
        "\n",
        "\n",
        "---\n",
        "\n",
        "# **I.  서 론**\n",
        "\n",
        "<br>\n",
        "\n",
        "###**[배경 및 의의]**\n",
        "\n",
        "머신러닝의 알고리즘 종류는 크게 3가지로 나눌 수 있다. 지도학습(Supervised Learning), 비지도학습(Unsupervised Learning), 강화학습(Reinforcement Learning)으로 구분되는 알고리즘을 이해하는 것은 이를 통해 문제를 해결하기 위한 출발점이라 할 수 있다. 또한 향후에 다른 알고리즘을 이해하는 데에도 기반이 될 것이다. \n",
        "\n",
        "첫 EXPLORATION에서는 머신러닝의 알고리즘 체계를 이해하고, 그 중 지도학습에 속하는 분류(Classification) 알고리즘을 활용해봄으로써 범주형 변수에 대한 예측을 실시하고자 한다. \n",
        "\n",
        "첫 단계인 만큼 완벽한 문제해결을 목표로 하기보다는 결과를 합리적으로 해석하고 더 나은 대안을 찾는 방식을 고민하는 것에 중점을 두었다. 그 과정에서 머신러닝 라이브러리를 이해하고 적합하게 활용할 수 있는 기본소양이 쌓이기를 기대한다.\n",
        "\n",
        "<br>\n",
        "\n",
        "###**[목표]**\n",
        "*   머신러닝 라이브러리를 활용한 데이터 분석방법 숙지\n",
        "*   분류에 대한 이해와 이를 통한 문제해결력 함양\n",
        "*   학습모델의 활용\n",
        "*   결과평가 및 적정모델 선정에 있어 적합한 방안 고찰\n",
        "*   아직 다 이해하지 못한 부분에 대한 인지 및 향후 보완사항 검토\n",
        "\n",
        "\n",
        "<br><br><br>\n"
      ],
      "metadata": {
        "id": "0cBbyPWRSO06"
      }
    },
    {
      "cell_type": "markdown",
      "source": [
        "\n",
        "\n",
        "---\n",
        "\n",
        "# **II. 본 론**"
      ],
      "metadata": {
        "id": "S8GdvnPWSxWA"
      }
    },
    {
      "cell_type": "markdown",
      "source": [
        "\n",
        "\n",
        "\n",
        "##**1. load_digits : 손글씨 이미지 판별**"
      ],
      "metadata": {
        "id": "aKGjl_wKXs-5"
      }
    },
    {
      "cell_type": "markdown",
      "source": [
        "\n",
        "데이터 셋팅을 위해 필요한 모듈을 import하고, scikit-learn에서 해당 테이터를 로딩한다. 데이터를 변수에 저장한 후 전반적인 내용을 파악했다. \n",
        "\n",
        "총 1797개의 데이터가 각각 64(8x8)개의 값을 담고 있다.\n",
        "\n",
        "target(label)은 0부터 9까지의 숫자이며, 우리가 맞추고자 하는 바이기도 하다.\n",
        "\n",
        "DESCR 메서드를 통해 데이터셋의 상세설명을 확인하였을 때, 이 손글씨를 작성하는 데에 총 43명이 기여했다는 것을 알 수 있었다. 페이지 관계 상 이 부분은 별도로 출력하지 않는다. \n"
      ],
      "metadata": {
        "id": "ZsWosgCFLBvR"
      }
    },
    {
      "cell_type": "code",
      "execution_count": null,
      "metadata": {
        "colab": {
          "base_uri": "https://localhost:8080/"
        },
        "id": "VtSobM1ofz_Q",
        "outputId": "9d3ba0e1-45e7-4081-cdc7-55dde7088f42"
      },
      "outputs": [
        {
          "output_type": "stream",
          "name": "stdout",
          "text": [
            "- data 형태: (1797, 64)\n",
            "- data 정보: dict_keys(['data', 'target', 'frame', 'feature_names', 'target_names', 'images', 'DESCR'])\n",
            "- label: [0 1 2 3 4 5 6 7 8 9]\n",
            "- feature: ['pixel_0_0', 'pixel_0_1', 'pixel_0_2', 'pixel_0_3', 'pixel_0_4', 'pixel_0_5', 'pixel_0_6', 'pixel_0_7', 'pixel_1_0', 'pixel_1_1', 'pixel_1_2', 'pixel_1_3', 'pixel_1_4', 'pixel_1_5', 'pixel_1_6', 'pixel_1_7', 'pixel_2_0', 'pixel_2_1', 'pixel_2_2', 'pixel_2_3', 'pixel_2_4', 'pixel_2_5', 'pixel_2_6', 'pixel_2_7', 'pixel_3_0', 'pixel_3_1', 'pixel_3_2', 'pixel_3_3', 'pixel_3_4', 'pixel_3_5', 'pixel_3_6', 'pixel_3_7', 'pixel_4_0', 'pixel_4_1', 'pixel_4_2', 'pixel_4_3', 'pixel_4_4', 'pixel_4_5', 'pixel_4_6', 'pixel_4_7', 'pixel_5_0', 'pixel_5_1', 'pixel_5_2', 'pixel_5_3', 'pixel_5_4', 'pixel_5_5', 'pixel_5_6', 'pixel_5_7', 'pixel_6_0', 'pixel_6_1', 'pixel_6_2', 'pixel_6_3', 'pixel_6_4', 'pixel_6_5', 'pixel_6_6', 'pixel_6_7', 'pixel_7_0', 'pixel_7_1', 'pixel_7_2', 'pixel_7_3', 'pixel_7_4', 'pixel_7_5', 'pixel_7_6', 'pixel_7_7']\n"
          ]
        }
      ],
      "source": [
        "''' 데이터 셋팅 '''\n",
        "# 필요한 모듈 import\n",
        "from sklearn.datasets import load_digits\n",
        "from sklearn.model_selection import train_test_split\n",
        "from sklearn.metrics import classification_report\n",
        "import pandas as pd\n",
        "\n",
        "# 데이터 준비\n",
        "hw = load_digits()\n",
        "\n",
        "# 데이터 이해\n",
        "hw_data = hw.data\n",
        "print(f'- data 형태: {hw_data.shape}') \n",
        "print(f'- data 정보: {hw.keys()}') \n",
        "\n",
        "hw.DESCR    # 데이터 상세정보 확인(출력생략)\n",
        "\n",
        "hw_label = hw.target\n",
        "print(f'- label: {hw.target_names}')\n",
        "print(f'- feature: {hw.feature_names}') "
      ]
    },
    {
      "cell_type": "code",
      "source": [
        "# 자료형 변환; data frame\n",
        "hw_df = pd.DataFrame(data=hw_data, columns=hw.feature_names)\n",
        "hw_df[\"label\"] = hw.target\n",
        "hw_df"
      ],
      "metadata": {
        "colab": {
          "base_uri": "https://localhost:8080/",
          "height": 488
        },
        "id": "-Yzldc18hUi3",
        "outputId": "c294f47c-09e6-4a8d-9857-eabb87fc81ab"
      },
      "execution_count": null,
      "outputs": [
        {
          "output_type": "execute_result",
          "data": {
            "text/plain": [
              "      pixel_0_0  pixel_0_1  pixel_0_2  pixel_0_3  pixel_0_4  pixel_0_5  \\\n",
              "0           0.0        0.0        5.0       13.0        9.0        1.0   \n",
              "1           0.0        0.0        0.0       12.0       13.0        5.0   \n",
              "2           0.0        0.0        0.0        4.0       15.0       12.0   \n",
              "3           0.0        0.0        7.0       15.0       13.0        1.0   \n",
              "4           0.0        0.0        0.0        1.0       11.0        0.0   \n",
              "...         ...        ...        ...        ...        ...        ...   \n",
              "1792        0.0        0.0        4.0       10.0       13.0        6.0   \n",
              "1793        0.0        0.0        6.0       16.0       13.0       11.0   \n",
              "1794        0.0        0.0        1.0       11.0       15.0        1.0   \n",
              "1795        0.0        0.0        2.0       10.0        7.0        0.0   \n",
              "1796        0.0        0.0       10.0       14.0        8.0        1.0   \n",
              "\n",
              "      pixel_0_6  pixel_0_7  pixel_1_0  pixel_1_1  ...  pixel_6_7  pixel_7_0  \\\n",
              "0           0.0        0.0        0.0        0.0  ...        0.0        0.0   \n",
              "1           0.0        0.0        0.0        0.0  ...        0.0        0.0   \n",
              "2           0.0        0.0        0.0        0.0  ...        0.0        0.0   \n",
              "3           0.0        0.0        0.0        8.0  ...        0.0        0.0   \n",
              "4           0.0        0.0        0.0        0.0  ...        0.0        0.0   \n",
              "...         ...        ...        ...        ...  ...        ...        ...   \n",
              "1792        0.0        0.0        0.0        1.0  ...        0.0        0.0   \n",
              "1793        1.0        0.0        0.0        0.0  ...        0.0        0.0   \n",
              "1794        0.0        0.0        0.0        0.0  ...        0.0        0.0   \n",
              "1795        0.0        0.0        0.0        0.0  ...        0.0        0.0   \n",
              "1796        0.0        0.0        0.0        2.0  ...        0.0        0.0   \n",
              "\n",
              "      pixel_7_1  pixel_7_2  pixel_7_3  pixel_7_4  pixel_7_5  pixel_7_6  \\\n",
              "0           0.0        6.0       13.0       10.0        0.0        0.0   \n",
              "1           0.0        0.0       11.0       16.0       10.0        0.0   \n",
              "2           0.0        0.0        3.0       11.0       16.0        9.0   \n",
              "3           0.0        7.0       13.0       13.0        9.0        0.0   \n",
              "4           0.0        0.0        2.0       16.0        4.0        0.0   \n",
              "...         ...        ...        ...        ...        ...        ...   \n",
              "1792        0.0        2.0       14.0       15.0        9.0        0.0   \n",
              "1793        0.0        6.0       16.0       14.0        6.0        0.0   \n",
              "1794        0.0        2.0        9.0       13.0        6.0        0.0   \n",
              "1795        0.0        5.0       12.0       16.0       12.0        0.0   \n",
              "1796        1.0        8.0       12.0       14.0       12.0        1.0   \n",
              "\n",
              "      pixel_7_7  label  \n",
              "0           0.0      0  \n",
              "1           0.0      1  \n",
              "2           0.0      2  \n",
              "3           0.0      3  \n",
              "4           0.0      4  \n",
              "...         ...    ...  \n",
              "1792        0.0      9  \n",
              "1793        0.0      0  \n",
              "1794        0.0      8  \n",
              "1795        0.0      9  \n",
              "1796        0.0      8  \n",
              "\n",
              "[1797 rows x 65 columns]"
            ],
            "text/html": [
              "\n",
              "  <div id=\"df-90d22d31-561e-4eec-9369-d8eeb857bcfa\">\n",
              "    <div class=\"colab-df-container\">\n",
              "      <div>\n",
              "<style scoped>\n",
              "    .dataframe tbody tr th:only-of-type {\n",
              "        vertical-align: middle;\n",
              "    }\n",
              "\n",
              "    .dataframe tbody tr th {\n",
              "        vertical-align: top;\n",
              "    }\n",
              "\n",
              "    .dataframe thead th {\n",
              "        text-align: right;\n",
              "    }\n",
              "</style>\n",
              "<table border=\"1\" class=\"dataframe\">\n",
              "  <thead>\n",
              "    <tr style=\"text-align: right;\">\n",
              "      <th></th>\n",
              "      <th>pixel_0_0</th>\n",
              "      <th>pixel_0_1</th>\n",
              "      <th>pixel_0_2</th>\n",
              "      <th>pixel_0_3</th>\n",
              "      <th>pixel_0_4</th>\n",
              "      <th>pixel_0_5</th>\n",
              "      <th>pixel_0_6</th>\n",
              "      <th>pixel_0_7</th>\n",
              "      <th>pixel_1_0</th>\n",
              "      <th>pixel_1_1</th>\n",
              "      <th>...</th>\n",
              "      <th>pixel_6_7</th>\n",
              "      <th>pixel_7_0</th>\n",
              "      <th>pixel_7_1</th>\n",
              "      <th>pixel_7_2</th>\n",
              "      <th>pixel_7_3</th>\n",
              "      <th>pixel_7_4</th>\n",
              "      <th>pixel_7_5</th>\n",
              "      <th>pixel_7_6</th>\n",
              "      <th>pixel_7_7</th>\n",
              "      <th>label</th>\n",
              "    </tr>\n",
              "  </thead>\n",
              "  <tbody>\n",
              "    <tr>\n",
              "      <th>0</th>\n",
              "      <td>0.0</td>\n",
              "      <td>0.0</td>\n",
              "      <td>5.0</td>\n",
              "      <td>13.0</td>\n",
              "      <td>9.0</td>\n",
              "      <td>1.0</td>\n",
              "      <td>0.0</td>\n",
              "      <td>0.0</td>\n",
              "      <td>0.0</td>\n",
              "      <td>0.0</td>\n",
              "      <td>...</td>\n",
              "      <td>0.0</td>\n",
              "      <td>0.0</td>\n",
              "      <td>0.0</td>\n",
              "      <td>6.0</td>\n",
              "      <td>13.0</td>\n",
              "      <td>10.0</td>\n",
              "      <td>0.0</td>\n",
              "      <td>0.0</td>\n",
              "      <td>0.0</td>\n",
              "      <td>0</td>\n",
              "    </tr>\n",
              "    <tr>\n",
              "      <th>1</th>\n",
              "      <td>0.0</td>\n",
              "      <td>0.0</td>\n",
              "      <td>0.0</td>\n",
              "      <td>12.0</td>\n",
              "      <td>13.0</td>\n",
              "      <td>5.0</td>\n",
              "      <td>0.0</td>\n",
              "      <td>0.0</td>\n",
              "      <td>0.0</td>\n",
              "      <td>0.0</td>\n",
              "      <td>...</td>\n",
              "      <td>0.0</td>\n",
              "      <td>0.0</td>\n",
              "      <td>0.0</td>\n",
              "      <td>0.0</td>\n",
              "      <td>11.0</td>\n",
              "      <td>16.0</td>\n",
              "      <td>10.0</td>\n",
              "      <td>0.0</td>\n",
              "      <td>0.0</td>\n",
              "      <td>1</td>\n",
              "    </tr>\n",
              "    <tr>\n",
              "      <th>2</th>\n",
              "      <td>0.0</td>\n",
              "      <td>0.0</td>\n",
              "      <td>0.0</td>\n",
              "      <td>4.0</td>\n",
              "      <td>15.0</td>\n",
              "      <td>12.0</td>\n",
              "      <td>0.0</td>\n",
              "      <td>0.0</td>\n",
              "      <td>0.0</td>\n",
              "      <td>0.0</td>\n",
              "      <td>...</td>\n",
              "      <td>0.0</td>\n",
              "      <td>0.0</td>\n",
              "      <td>0.0</td>\n",
              "      <td>0.0</td>\n",
              "      <td>3.0</td>\n",
              "      <td>11.0</td>\n",
              "      <td>16.0</td>\n",
              "      <td>9.0</td>\n",
              "      <td>0.0</td>\n",
              "      <td>2</td>\n",
              "    </tr>\n",
              "    <tr>\n",
              "      <th>3</th>\n",
              "      <td>0.0</td>\n",
              "      <td>0.0</td>\n",
              "      <td>7.0</td>\n",
              "      <td>15.0</td>\n",
              "      <td>13.0</td>\n",
              "      <td>1.0</td>\n",
              "      <td>0.0</td>\n",
              "      <td>0.0</td>\n",
              "      <td>0.0</td>\n",
              "      <td>8.0</td>\n",
              "      <td>...</td>\n",
              "      <td>0.0</td>\n",
              "      <td>0.0</td>\n",
              "      <td>0.0</td>\n",
              "      <td>7.0</td>\n",
              "      <td>13.0</td>\n",
              "      <td>13.0</td>\n",
              "      <td>9.0</td>\n",
              "      <td>0.0</td>\n",
              "      <td>0.0</td>\n",
              "      <td>3</td>\n",
              "    </tr>\n",
              "    <tr>\n",
              "      <th>4</th>\n",
              "      <td>0.0</td>\n",
              "      <td>0.0</td>\n",
              "      <td>0.0</td>\n",
              "      <td>1.0</td>\n",
              "      <td>11.0</td>\n",
              "      <td>0.0</td>\n",
              "      <td>0.0</td>\n",
              "      <td>0.0</td>\n",
              "      <td>0.0</td>\n",
              "      <td>0.0</td>\n",
              "      <td>...</td>\n",
              "      <td>0.0</td>\n",
              "      <td>0.0</td>\n",
              "      <td>0.0</td>\n",
              "      <td>0.0</td>\n",
              "      <td>2.0</td>\n",
              "      <td>16.0</td>\n",
              "      <td>4.0</td>\n",
              "      <td>0.0</td>\n",
              "      <td>0.0</td>\n",
              "      <td>4</td>\n",
              "    </tr>\n",
              "    <tr>\n",
              "      <th>...</th>\n",
              "      <td>...</td>\n",
              "      <td>...</td>\n",
              "      <td>...</td>\n",
              "      <td>...</td>\n",
              "      <td>...</td>\n",
              "      <td>...</td>\n",
              "      <td>...</td>\n",
              "      <td>...</td>\n",
              "      <td>...</td>\n",
              "      <td>...</td>\n",
              "      <td>...</td>\n",
              "      <td>...</td>\n",
              "      <td>...</td>\n",
              "      <td>...</td>\n",
              "      <td>...</td>\n",
              "      <td>...</td>\n",
              "      <td>...</td>\n",
              "      <td>...</td>\n",
              "      <td>...</td>\n",
              "      <td>...</td>\n",
              "      <td>...</td>\n",
              "    </tr>\n",
              "    <tr>\n",
              "      <th>1792</th>\n",
              "      <td>0.0</td>\n",
              "      <td>0.0</td>\n",
              "      <td>4.0</td>\n",
              "      <td>10.0</td>\n",
              "      <td>13.0</td>\n",
              "      <td>6.0</td>\n",
              "      <td>0.0</td>\n",
              "      <td>0.0</td>\n",
              "      <td>0.0</td>\n",
              "      <td>1.0</td>\n",
              "      <td>...</td>\n",
              "      <td>0.0</td>\n",
              "      <td>0.0</td>\n",
              "      <td>0.0</td>\n",
              "      <td>2.0</td>\n",
              "      <td>14.0</td>\n",
              "      <td>15.0</td>\n",
              "      <td>9.0</td>\n",
              "      <td>0.0</td>\n",
              "      <td>0.0</td>\n",
              "      <td>9</td>\n",
              "    </tr>\n",
              "    <tr>\n",
              "      <th>1793</th>\n",
              "      <td>0.0</td>\n",
              "      <td>0.0</td>\n",
              "      <td>6.0</td>\n",
              "      <td>16.0</td>\n",
              "      <td>13.0</td>\n",
              "      <td>11.0</td>\n",
              "      <td>1.0</td>\n",
              "      <td>0.0</td>\n",
              "      <td>0.0</td>\n",
              "      <td>0.0</td>\n",
              "      <td>...</td>\n",
              "      <td>0.0</td>\n",
              "      <td>0.0</td>\n",
              "      <td>0.0</td>\n",
              "      <td>6.0</td>\n",
              "      <td>16.0</td>\n",
              "      <td>14.0</td>\n",
              "      <td>6.0</td>\n",
              "      <td>0.0</td>\n",
              "      <td>0.0</td>\n",
              "      <td>0</td>\n",
              "    </tr>\n",
              "    <tr>\n",
              "      <th>1794</th>\n",
              "      <td>0.0</td>\n",
              "      <td>0.0</td>\n",
              "      <td>1.0</td>\n",
              "      <td>11.0</td>\n",
              "      <td>15.0</td>\n",
              "      <td>1.0</td>\n",
              "      <td>0.0</td>\n",
              "      <td>0.0</td>\n",
              "      <td>0.0</td>\n",
              "      <td>0.0</td>\n",
              "      <td>...</td>\n",
              "      <td>0.0</td>\n",
              "      <td>0.0</td>\n",
              "      <td>0.0</td>\n",
              "      <td>2.0</td>\n",
              "      <td>9.0</td>\n",
              "      <td>13.0</td>\n",
              "      <td>6.0</td>\n",
              "      <td>0.0</td>\n",
              "      <td>0.0</td>\n",
              "      <td>8</td>\n",
              "    </tr>\n",
              "    <tr>\n",
              "      <th>1795</th>\n",
              "      <td>0.0</td>\n",
              "      <td>0.0</td>\n",
              "      <td>2.0</td>\n",
              "      <td>10.0</td>\n",
              "      <td>7.0</td>\n",
              "      <td>0.0</td>\n",
              "      <td>0.0</td>\n",
              "      <td>0.0</td>\n",
              "      <td>0.0</td>\n",
              "      <td>0.0</td>\n",
              "      <td>...</td>\n",
              "      <td>0.0</td>\n",
              "      <td>0.0</td>\n",
              "      <td>0.0</td>\n",
              "      <td>5.0</td>\n",
              "      <td>12.0</td>\n",
              "      <td>16.0</td>\n",
              "      <td>12.0</td>\n",
              "      <td>0.0</td>\n",
              "      <td>0.0</td>\n",
              "      <td>9</td>\n",
              "    </tr>\n",
              "    <tr>\n",
              "      <th>1796</th>\n",
              "      <td>0.0</td>\n",
              "      <td>0.0</td>\n",
              "      <td>10.0</td>\n",
              "      <td>14.0</td>\n",
              "      <td>8.0</td>\n",
              "      <td>1.0</td>\n",
              "      <td>0.0</td>\n",
              "      <td>0.0</td>\n",
              "      <td>0.0</td>\n",
              "      <td>2.0</td>\n",
              "      <td>...</td>\n",
              "      <td>0.0</td>\n",
              "      <td>0.0</td>\n",
              "      <td>1.0</td>\n",
              "      <td>8.0</td>\n",
              "      <td>12.0</td>\n",
              "      <td>14.0</td>\n",
              "      <td>12.0</td>\n",
              "      <td>1.0</td>\n",
              "      <td>0.0</td>\n",
              "      <td>8</td>\n",
              "    </tr>\n",
              "  </tbody>\n",
              "</table>\n",
              "<p>1797 rows × 65 columns</p>\n",
              "</div>\n",
              "      <button class=\"colab-df-convert\" onclick=\"convertToInteractive('df-90d22d31-561e-4eec-9369-d8eeb857bcfa')\"\n",
              "              title=\"Convert this dataframe to an interactive table.\"\n",
              "              style=\"display:none;\">\n",
              "        \n",
              "  <svg xmlns=\"http://www.w3.org/2000/svg\" height=\"24px\"viewBox=\"0 0 24 24\"\n",
              "       width=\"24px\">\n",
              "    <path d=\"M0 0h24v24H0V0z\" fill=\"none\"/>\n",
              "    <path d=\"M18.56 5.44l.94 2.06.94-2.06 2.06-.94-2.06-.94-.94-2.06-.94 2.06-2.06.94zm-11 1L8.5 8.5l.94-2.06 2.06-.94-2.06-.94L8.5 2.5l-.94 2.06-2.06.94zm10 10l.94 2.06.94-2.06 2.06-.94-2.06-.94-.94-2.06-.94 2.06-2.06.94z\"/><path d=\"M17.41 7.96l-1.37-1.37c-.4-.4-.92-.59-1.43-.59-.52 0-1.04.2-1.43.59L10.3 9.45l-7.72 7.72c-.78.78-.78 2.05 0 2.83L4 21.41c.39.39.9.59 1.41.59.51 0 1.02-.2 1.41-.59l7.78-7.78 2.81-2.81c.8-.78.8-2.07 0-2.86zM5.41 20L4 18.59l7.72-7.72 1.47 1.35L5.41 20z\"/>\n",
              "  </svg>\n",
              "      </button>\n",
              "      \n",
              "  <style>\n",
              "    .colab-df-container {\n",
              "      display:flex;\n",
              "      flex-wrap:wrap;\n",
              "      gap: 12px;\n",
              "    }\n",
              "\n",
              "    .colab-df-convert {\n",
              "      background-color: #E8F0FE;\n",
              "      border: none;\n",
              "      border-radius: 50%;\n",
              "      cursor: pointer;\n",
              "      display: none;\n",
              "      fill: #1967D2;\n",
              "      height: 32px;\n",
              "      padding: 0 0 0 0;\n",
              "      width: 32px;\n",
              "    }\n",
              "\n",
              "    .colab-df-convert:hover {\n",
              "      background-color: #E2EBFA;\n",
              "      box-shadow: 0px 1px 2px rgba(60, 64, 67, 0.3), 0px 1px 3px 1px rgba(60, 64, 67, 0.15);\n",
              "      fill: #174EA6;\n",
              "    }\n",
              "\n",
              "    [theme=dark] .colab-df-convert {\n",
              "      background-color: #3B4455;\n",
              "      fill: #D2E3FC;\n",
              "    }\n",
              "\n",
              "    [theme=dark] .colab-df-convert:hover {\n",
              "      background-color: #434B5C;\n",
              "      box-shadow: 0px 1px 3px 1px rgba(0, 0, 0, 0.15);\n",
              "      filter: drop-shadow(0px 1px 2px rgba(0, 0, 0, 0.3));\n",
              "      fill: #FFFFFF;\n",
              "    }\n",
              "  </style>\n",
              "\n",
              "      <script>\n",
              "        const buttonEl =\n",
              "          document.querySelector('#df-90d22d31-561e-4eec-9369-d8eeb857bcfa button.colab-df-convert');\n",
              "        buttonEl.style.display =\n",
              "          google.colab.kernel.accessAllowed ? 'block' : 'none';\n",
              "\n",
              "        async function convertToInteractive(key) {\n",
              "          const element = document.querySelector('#df-90d22d31-561e-4eec-9369-d8eeb857bcfa');\n",
              "          const dataTable =\n",
              "            await google.colab.kernel.invokeFunction('convertToInteractive',\n",
              "                                                     [key], {});\n",
              "          if (!dataTable) return;\n",
              "\n",
              "          const docLinkHtml = 'Like what you see? Visit the ' +\n",
              "            '<a target=\"_blank\" href=https://colab.research.google.com/notebooks/data_table.ipynb>data table notebook</a>'\n",
              "            + ' to learn more about interactive tables.';\n",
              "          element.innerHTML = '';\n",
              "          dataTable['output_type'] = 'display_data';\n",
              "          await google.colab.output.renderOutput(dataTable, element);\n",
              "          const docLink = document.createElement('div');\n",
              "          docLink.innerHTML = docLinkHtml;\n",
              "          element.appendChild(docLink);\n",
              "        }\n",
              "      </script>\n",
              "    </div>\n",
              "  </div>\n",
              "  "
            ]
          },
          "metadata": {},
          "execution_count": 105
        }
      ]
    },
    {
      "cell_type": "markdown",
      "source": [
        "<br>\n",
        "\n",
        "학습을 위해 데이터를 구분한다.\n",
        "\n",
        "학습에 사용될 Training Dataset과 모델의 성능을 평가할 Test Dataset으로 데이터를 나누기 위해 scikit-learn이 제공하는 **train_test_split**을 활용하였다.\n",
        "\n",
        "Test Dataset의 비율은 전체 데이터의 20%로  설정(test_size=0.2)하고, 랜덤성을 특정(random_state=42)하였다.\n",
        "\n",
        "아래와 같이 Training Dataset(X_train) 1437개, Test Dataset(X_test) 360개로 구분되었다."
      ],
      "metadata": {
        "id": "KvmmL2J8pLjL"
      }
    },
    {
      "cell_type": "code",
      "source": [
        "# 데이터 구분 (X: input, y: target)\n",
        "X_train, X_test, y_train, y_test = train_test_split(hw_data, hw_label, test_size=0.2, random_state=42)\n",
        "\n",
        "print('- X_train 개수: ', len(X_train),', X_test 개수: ', len(X_test))\n"
      ],
      "metadata": {
        "colab": {
          "base_uri": "https://localhost:8080/"
        },
        "id": "m2WibXlfivxz",
        "outputId": "dca75f55-4659-44b4-ddf8-0ebccd731fb8"
      },
      "execution_count": null,
      "outputs": [
        {
          "output_type": "stream",
          "name": "stdout",
          "text": [
            "- X_train 개수:  1437 , X_test 개수:  360\n"
          ]
        }
      ]
    },
    {
      "cell_type": "markdown",
      "source": [
        "<br>\n",
        "\n",
        "데이터 셋팅이 완료 되었으니 이제 학습을 시켜보자.\n",
        "\n",
        "제시된 총 다섯가지의 모델을 사용하여 학습한다.\n",
        "\n",
        "*   **Decision Tree**\n",
        "*   **Random Forest**\n",
        "*   **Support Vector Machine(SVM)**\n",
        "*   **SGD Classifier**\n",
        "*   **Logistic Regression**"
      ],
      "metadata": {
        "id": "Fnpk1I1oq91T"
      }
    },
    {
      "cell_type": "markdown",
      "source": [
        "<br>\n",
        "\n",
        "###**[학습01.] Decision Tree**"
      ],
      "metadata": {
        "id": "Cf1AxKs-lmrX"
      }
    },
    {
      "cell_type": "code",
      "source": [
        "''' 학습 셋팅 '''\n",
        "from sklearn.tree import DecisionTreeClassifier\n",
        "decision_tree = DecisionTreeClassifier(random_state=32)\n",
        "\n",
        "# 학습\n",
        "decision_tree.fit(X_train, y_train)\n",
        "\n",
        "# 예측\n",
        "y_pred_01 = decision_tree.predict(X_test)\n",
        "\n",
        "# 정확도\n",
        "from sklearn.metrics import accuracy_score\n",
        "accuracy = accuracy_score(y_test, y_pred_01)\n",
        "print(f'► Decision Tree의 정확도는 {accuracy}') "
      ],
      "metadata": {
        "colab": {
          "base_uri": "https://localhost:8080/"
        },
        "id": "SYPVCmTJlkjA",
        "outputId": "94a3a46e-c2bb-47c6-c2e3-cc2906f2b095"
      },
      "execution_count": null,
      "outputs": [
        {
          "output_type": "stream",
          "name": "stdout",
          "text": [
            "► Decision Tree의 정확도는 0.8527777777777777\n"
          ]
        }
      ]
    },
    {
      "cell_type": "markdown",
      "source": [
        "<br>\n",
        "\n",
        "###**[학습02.] Random Forest**"
      ],
      "metadata": {
        "id": "CrIapxB_yEvN"
      }
    },
    {
      "cell_type": "code",
      "source": [
        "''' 학습 셋팅 '''\n",
        "from sklearn.ensemble import RandomForestClassifier\n",
        "random_forest = RandomForestClassifier(random_state=32)\n",
        "\n",
        "# 학습\n",
        "random_forest.fit(X_train, y_train)\n",
        "\n",
        "# 예측\n",
        "y_pred_02 = random_forest.predict(X_test)\n",
        "\n",
        "# 정확도\n",
        "accuracy = accuracy_score(y_test, y_pred_02)\n",
        "print(f'► Random Forest의 정확도는 {accuracy}') "
      ],
      "metadata": {
        "colab": {
          "base_uri": "https://localhost:8080/"
        },
        "id": "fHB9iN_XyMnq",
        "outputId": "81235181-ac84-46a1-dfcf-1dc921ba9ae3"
      },
      "execution_count": null,
      "outputs": [
        {
          "output_type": "stream",
          "name": "stdout",
          "text": [
            "► Random Forest의 정확도는 0.9805555555555555\n"
          ]
        }
      ]
    },
    {
      "cell_type": "markdown",
      "source": [
        "<br>\n",
        "\n",
        "###**[학습03.] Support Vector Machine(SVM)**"
      ],
      "metadata": {
        "id": "QXaqDach0v6a"
      }
    },
    {
      "cell_type": "code",
      "source": [
        "''' 학습 셋팅 '''\n",
        "from sklearn import svm\n",
        "svm_model = svm.SVC(random_state=32)\n",
        "\n",
        "# 학습\n",
        "svm_model.fit(X_train, y_train)\n",
        "\n",
        "# 예측\n",
        "y_pred_03 = svm_model.predict(X_test)\n",
        "\n",
        "# 정확도\n",
        "accuracy = accuracy_score(y_test, y_pred_03)\n",
        "print(f'► SVM의 정확도는 {accuracy}') \n",
        "\n",
        "''' 이건 한 번 그래프로 그려볼 수 있을까 '''"
      ],
      "metadata": {
        "colab": {
          "base_uri": "https://localhost:8080/",
          "height": 53
        },
        "id": "UBrMqOVmyHVL",
        "outputId": "52005240-5817-46a6-8e36-f3f416d7cc9a"
      },
      "execution_count": null,
      "outputs": [
        {
          "output_type": "stream",
          "name": "stdout",
          "text": [
            "► SVM의 정확도는 0.9861111111111112\n"
          ]
        },
        {
          "output_type": "execute_result",
          "data": {
            "text/plain": [
              "' 이건 한 번 그래프로 그려볼 수 있을까 '"
            ],
            "application/vnd.google.colaboratory.intrinsic+json": {
              "type": "string"
            }
          },
          "metadata": {},
          "execution_count": 109
        }
      ]
    },
    {
      "cell_type": "markdown",
      "source": [
        "<br>\n",
        "\n",
        "###**[학습04.] SGD Classifier**"
      ],
      "metadata": {
        "id": "HbUpTqQL21w-"
      }
    },
    {
      "cell_type": "code",
      "source": [
        "''' 학습 셋팅 '''\n",
        "from sklearn.linear_model import SGDClassifier\n",
        "sgd_model = SGDClassifier(random_state=32)\n",
        "\n",
        "# 학습 \n",
        "sgd_model.fit(X_train, y_train)\n",
        "\n",
        "# 예측\n",
        "y_pred_04 = sgd_model.predict(X_test)\n",
        "\n",
        "# 정확도\n",
        "accuracy = accuracy_score(y_test, y_pred_04)\n",
        "print(f'► SGD Classifier의 정확도는 {accuracy}') "
      ],
      "metadata": {
        "colab": {
          "base_uri": "https://localhost:8080/"
        },
        "id": "sX0E3Ot0x9QB",
        "outputId": "2e40c7fa-654a-4466-abc5-6193e0556a0d"
      },
      "execution_count": null,
      "outputs": [
        {
          "output_type": "stream",
          "name": "stdout",
          "text": [
            "► SGD Classifier의 정확도는 0.9583333333333334\n"
          ]
        }
      ]
    },
    {
      "cell_type": "markdown",
      "source": [
        "<br>\n",
        "\n",
        "###**[학습05.] Logistic Regression**"
      ],
      "metadata": {
        "id": "qE0ZgOs-39T_"
      }
    },
    {
      "cell_type": "code",
      "source": [
        "''' 학습 셋팅 '''\n",
        "from sklearn.linear_model import LogisticRegression\n",
        "logistic_model = LogisticRegression(max_iter=4000)   # max_iter값 증가\n",
        "\n",
        "# 학습\n",
        "logistic_model.fit(X_train, y_train)\n",
        "\n",
        "# 예측\n",
        "y_pred_05 = logistic_model.predict(X_test)\n",
        "\n",
        "# 정확도\n",
        "accuracy = accuracy_score(y_test, y_pred_05)\n",
        "print(f'► Logistic Regression의 정확도는 {accuracy}') "
      ],
      "metadata": {
        "colab": {
          "base_uri": "https://localhost:8080/"
        },
        "id": "IGuKUwb54Dbd",
        "outputId": "0a791b19-7765-4eb7-a20e-8687243f51ea"
      },
      "execution_count": null,
      "outputs": [
        {
          "output_type": "stream",
          "name": "stdout",
          "text": [
            "► Logistic Regression의 정확도는 0.9722222222222222\n"
          ]
        }
      ]
    },
    {
      "cell_type": "markdown",
      "source": [
        "            \n",
        "<br>\n",
        "\n",
        "###**모델 평가**"
      ],
      "metadata": {
        "id": "pBFp8ujD7_5o"
      }
    },
    {
      "cell_type": "markdown",
      "source": [
        "정확도(accuracy)를 비교할 경우,\n",
        "**Support Vector Machine(SVM)**이 정확도 **98.6%**로 가장 적합한 모델로 보인다.  \n",
        "\n",
        "\n",
        "<br>\n",
        "\n",
        "정확도를 보완할 지표로 **F1 score** 값을 추가로 살펴보자.\n",
        "\n",
        "0부터 9까지의 손글씨를 분류하는 행위는 해당 숫자를 Negative로 판별하여 놓치는 경우(FN)와 다른 숫자를 해당 숫자로 오인하여 Positive로 판별하는 경우(FP) 둘 다 치명적인 오류가 될 수 있다고 본다. \n",
        "\n",
        "- *예를 들면, 손글씨로 쓴 전화번호를 인식한다고 쳤을 때 FN, FP의 경우 둘 다 우리는 연락할 방법이 없어진다.*\n",
        "\n",
        "따라서 Recall과 Precision의 조화평균인 F1 score를 선택한다.\n",
        "\n",
        "다음은 Confusion matrix에 의해 각 모델의 성능지표 값을 나타낸 report이다. label별 **F1 score**가 비교적 고르게 나온 것을 알 수 있다. 데이터 밸런스가 좋다고 판단된다. 따라서 앞서 살펴 본 정확도(accuracy)를 지표로 하여 **Support Vector Machine(SVM)**을 채택한다.\n",
        "\n",
        "\n"
      ],
      "metadata": {
        "id": "_0ygT-t19Jw8"
      }
    },
    {
      "cell_type": "code",
      "source": [
        "from sklearn.metrics import confusion_matrix\n",
        "from sklearn.metrics import classification_report\n",
        "\n",
        "# Decision Tree report\n",
        "confusion_matrix(y_test, y_pred_01)\n",
        "print(classification_report(y_test, y_pred_01))"
      ],
      "metadata": {
        "colab": {
          "base_uri": "https://localhost:8080/"
        },
        "id": "_98YeuYn8y5V",
        "outputId": "ca0456d8-6416-4e88-ca47-2c8ebbd761b0"
      },
      "execution_count": null,
      "outputs": [
        {
          "output_type": "stream",
          "name": "stdout",
          "text": [
            "              precision    recall  f1-score   support\n",
            "\n",
            "           0       0.97      0.88      0.92        33\n",
            "           1       0.81      0.79      0.80        28\n",
            "           2       0.87      0.82      0.84        33\n",
            "           3       0.79      0.91      0.85        34\n",
            "           4       0.81      0.85      0.83        46\n",
            "           5       0.91      0.83      0.87        47\n",
            "           6       0.94      0.94      0.94        35\n",
            "           7       0.81      0.85      0.83        34\n",
            "           8       0.85      0.77      0.81        30\n",
            "           9       0.80      0.88      0.83        40\n",
            "\n",
            "    accuracy                           0.85       360\n",
            "   macro avg       0.86      0.85      0.85       360\n",
            "weighted avg       0.86      0.85      0.85       360\n",
            "\n"
          ]
        }
      ]
    },
    {
      "cell_type": "code",
      "source": [
        "# Random Forest report\n",
        "confusion_matrix(y_test, y_pred_02)\n",
        "print(classification_report(y_test, y_pred_02))"
      ],
      "metadata": {
        "colab": {
          "base_uri": "https://localhost:8080/"
        },
        "outputId": "237823ff-7880-428d-8e7b-095e9917e499",
        "id": "71VJl93cAECh"
      },
      "execution_count": null,
      "outputs": [
        {
          "output_type": "stream",
          "name": "stdout",
          "text": [
            "              precision    recall  f1-score   support\n",
            "\n",
            "           0       1.00      1.00      1.00        33\n",
            "           1       0.93      1.00      0.97        28\n",
            "           2       1.00      1.00      1.00        33\n",
            "           3       1.00      1.00      1.00        34\n",
            "           4       1.00      1.00      1.00        46\n",
            "           5       0.96      0.98      0.97        47\n",
            "           6       0.97      0.97      0.97        35\n",
            "           7       0.97      0.97      0.97        34\n",
            "           8       1.00      0.93      0.97        30\n",
            "           9       0.97      0.95      0.96        40\n",
            "\n",
            "    accuracy                           0.98       360\n",
            "   macro avg       0.98      0.98      0.98       360\n",
            "weighted avg       0.98      0.98      0.98       360\n",
            "\n"
          ]
        }
      ]
    },
    {
      "cell_type": "code",
      "source": [
        "# SVM report\n",
        "confusion_matrix(y_test, y_pred_03)\n",
        "print(classification_report(y_test, y_pred_03))"
      ],
      "metadata": {
        "colab": {
          "base_uri": "https://localhost:8080/"
        },
        "outputId": "2c69b7f7-64a5-40d6-9d47-f0e1e2a6d460",
        "id": "iplhlTrIAFhJ"
      },
      "execution_count": null,
      "outputs": [
        {
          "output_type": "stream",
          "name": "stdout",
          "text": [
            "              precision    recall  f1-score   support\n",
            "\n",
            "           0       1.00      1.00      1.00        33\n",
            "           1       1.00      1.00      1.00        28\n",
            "           2       1.00      1.00      1.00        33\n",
            "           3       1.00      1.00      1.00        34\n",
            "           4       1.00      1.00      1.00        46\n",
            "           5       0.98      0.98      0.98        47\n",
            "           6       0.97      1.00      0.99        35\n",
            "           7       0.97      0.97      0.97        34\n",
            "           8       1.00      0.97      0.98        30\n",
            "           9       0.95      0.95      0.95        40\n",
            "\n",
            "    accuracy                           0.99       360\n",
            "   macro avg       0.99      0.99      0.99       360\n",
            "weighted avg       0.99      0.99      0.99       360\n",
            "\n"
          ]
        }
      ]
    },
    {
      "cell_type": "code",
      "source": [
        "# SGD Classifier report\n",
        "confusion_matrix(y_test, y_pred_04)\n",
        "print(classification_report(y_test, y_pred_04))"
      ],
      "metadata": {
        "colab": {
          "base_uri": "https://localhost:8080/"
        },
        "outputId": "4b592888-27d2-4403-b964-3a87550a2b6f",
        "id": "VNO4aF2eAF-l"
      },
      "execution_count": null,
      "outputs": [
        {
          "output_type": "stream",
          "name": "stdout",
          "text": [
            "              precision    recall  f1-score   support\n",
            "\n",
            "           0       1.00      1.00      1.00        33\n",
            "           1       0.93      0.96      0.95        28\n",
            "           2       0.94      1.00      0.97        33\n",
            "           3       0.94      0.97      0.96        34\n",
            "           4       1.00      0.98      0.99        46\n",
            "           5       0.94      0.96      0.95        47\n",
            "           6       0.94      0.97      0.96        35\n",
            "           7       1.00      0.97      0.99        34\n",
            "           8       0.90      0.90      0.90        30\n",
            "           9       0.97      0.88      0.92        40\n",
            "\n",
            "    accuracy                           0.96       360\n",
            "   macro avg       0.96      0.96      0.96       360\n",
            "weighted avg       0.96      0.96      0.96       360\n",
            "\n"
          ]
        }
      ]
    },
    {
      "cell_type": "code",
      "source": [
        "# Logistic Regression report\n",
        "confusion_matrix(y_test, y_pred_05)\n",
        "print(classification_report(y_test, y_pred_05))"
      ],
      "metadata": {
        "colab": {
          "base_uri": "https://localhost:8080/"
        },
        "outputId": "7ec3c237-1078-45d0-b3de-e30cda511602",
        "id": "7nOyoIhJAGjH"
      },
      "execution_count": null,
      "outputs": [
        {
          "output_type": "stream",
          "name": "stdout",
          "text": [
            "              precision    recall  f1-score   support\n",
            "\n",
            "           0       1.00      1.00      1.00        33\n",
            "           1       0.97      1.00      0.98        28\n",
            "           2       0.97      1.00      0.99        33\n",
            "           3       0.97      0.97      0.97        34\n",
            "           4       1.00      0.98      0.99        46\n",
            "           5       0.92      0.94      0.93        47\n",
            "           6       0.97      0.97      0.97        35\n",
            "           7       1.00      0.97      0.99        34\n",
            "           8       0.97      0.97      0.97        30\n",
            "           9       0.97      0.95      0.96        40\n",
            "\n",
            "    accuracy                           0.97       360\n",
            "   macro avg       0.97      0.97      0.97       360\n",
            "weighted avg       0.97      0.97      0.97       360\n",
            "\n"
          ]
        }
      ]
    },
    {
      "cell_type": "markdown",
      "source": [
        "<br>\n",
        "\n",
        "\n",
        "###**소 결**\n",
        "\n"
      ],
      "metadata": {
        "id": "gvqOOHI3IgXt"
      }
    },
    {
      "cell_type": "markdown",
      "source": [
        "5가지 모델을 통해 손글씨 이미지를 판별한 결과는 다음과 같다.\n",
        "\n",
        "*   **Decision Tree**\n",
        "    *   accuracy : 0.85 \n",
        "    *   f1-score : (min)0.80,  (max)0.94\n",
        "*   **Random Forest**\n",
        "    *   accuracy : 0.98\n",
        "    *   f1-score : (min)0.96,  (max)1.00\n",
        "*   **Support Vector Machine(SVM)**\n",
        "    *   accuracy : 0.99\n",
        "    *   f1-score : (min)0.95,  (max)1.00\n",
        "*   **SGD Classifier**\n",
        "    *   accuracy : 0.96\n",
        "    *   f1-score : (min)0.90,  (max)1.00\n",
        "*   **Logistic Regression**\n",
        "    *   accuracy : 0.97\n",
        "    *   f1-score : (min)0.93,  (max)1.00\n",
        "\n",
        "<br>\n",
        "\n",
        "손글씨 분류는 해당 숫자를 Negative로 판별하여 놓치는 경우(FN)와 다른 숫자를 해당 숫자로 오인하여 Positive로 판별하는 경우(FP) 둘 다 치명적인 오류가 될 수 있다고 판단하여 F1 score를 추가 평가지표로 선택했다.\n",
        "\n",
        "정확도(accuracy) 및 F1-score를 기준으로 하여 **Support Vector Machine(SVM)**을 가장 적합한 모델로 채택한다.\n",
        "\n",
        "\n",
        "<br><br><br><br><br><br>\n",
        "\n"
      ],
      "metadata": {
        "id": "wpl4EOZlKRVG"
      }
    },
    {
      "cell_type": "markdown",
      "source": [
        "\n",
        "\n",
        "---\n",
        "##**2. load_wine : 와인 종류 판별**"
      ],
      "metadata": {
        "id": "JyGc8569rtJA"
      }
    },
    {
      "cell_type": "markdown",
      "source": [
        "-\n",
        "\n",
        "데이터 셋팅을 위해 scikit-learn에서 해당 테이터를 로딩한다. 데이터를 변수에 저장한 후 전반적인 내용을 파악했다.\n",
        "\n",
        "데이터는 총 178개로 그 양이 많지 않다. 각각의 데이터는 13개의 값을 담고 있다.\n",
        "\n",
        "target(label)은 'class_0' 'class_1' 'class_2'으로 3가지 종류의 와인을 의미한다.\n",
        "\n",
        "DESCR 메서드를 통해 데이터셋의 상세설명을 확인하면 해당 데이터 상의 와인은 모두 이탈리아 품종으로, 같은 지역에서 서로 다른 경작자에 의해 재배된 것임을 알 수 있다. 페이지 관계 상 이 부분은 별도로 출력하지 않는다. \n"
      ],
      "metadata": {
        "id": "Kh2j1serQx2x"
      }
    },
    {
      "cell_type": "code",
      "execution_count": null,
      "metadata": {
        "colab": {
          "base_uri": "https://localhost:8080/"
        },
        "outputId": "275c1e95-df30-4532-deac-a167bc10145b",
        "id": "26yC3nkvsFbW"
      },
      "outputs": [
        {
          "output_type": "stream",
          "name": "stdout",
          "text": [
            "- data 형태: (178, 13)\n",
            "- data 정보: dict_keys(['data', 'target', 'frame', 'target_names', 'DESCR', 'feature_names'])\n",
            "- label: ['class_0' 'class_1' 'class_2']\n",
            "- feature: ['alcohol', 'malic_acid', 'ash', 'alcalinity_of_ash', 'magnesium', 'total_phenols', 'flavanoids', 'nonflavanoid_phenols', 'proanthocyanins', 'color_intensity', 'hue', 'od280/od315_of_diluted_wines', 'proline']\n"
          ]
        }
      ],
      "source": [
        "''' 데이터 셋팅 '''\n",
        "# 필요한 모듈 import(위에서 이미 import한 모듈은 생략)\n",
        "from sklearn.datasets import load_wine\n",
        "\n",
        "# 데이터 준비\n",
        "wt = load_wine()\n",
        "\n",
        "# 데이터 이해\n",
        "wt_data = wt.data\n",
        "print(f'- data 형태: {wt_data.shape}') \n",
        "print(f'- data 정보: {wt.keys()}')\n",
        "\n",
        "wt.DESCR    # 데이터 상세정보 확인(출력생략)\n",
        "\n",
        "wt_label = wt.target\n",
        "print(f'- label: {wt.target_names}')\n",
        "print(f'- feature: {wt.feature_names}') "
      ]
    },
    {
      "cell_type": "code",
      "source": [
        "# 자료형 변환; data frame\n",
        "wt_df = pd.DataFrame(data=wt_data, columns=wt.feature_names)\n",
        "wt_df[\"label\"] = wt.target\n",
        "wt_df"
      ],
      "metadata": {
        "colab": {
          "base_uri": "https://localhost:8080/",
          "height": 488
        },
        "outputId": "38e40d73-2dcf-4865-e31e-2aa101411af5",
        "id": "bqHaEmovsFbX"
      },
      "execution_count": null,
      "outputs": [
        {
          "output_type": "execute_result",
          "data": {
            "text/plain": [
              "     alcohol  malic_acid   ash  alcalinity_of_ash  magnesium  total_phenols  \\\n",
              "0      14.23        1.71  2.43               15.6      127.0           2.80   \n",
              "1      13.20        1.78  2.14               11.2      100.0           2.65   \n",
              "2      13.16        2.36  2.67               18.6      101.0           2.80   \n",
              "3      14.37        1.95  2.50               16.8      113.0           3.85   \n",
              "4      13.24        2.59  2.87               21.0      118.0           2.80   \n",
              "..       ...         ...   ...                ...        ...            ...   \n",
              "173    13.71        5.65  2.45               20.5       95.0           1.68   \n",
              "174    13.40        3.91  2.48               23.0      102.0           1.80   \n",
              "175    13.27        4.28  2.26               20.0      120.0           1.59   \n",
              "176    13.17        2.59  2.37               20.0      120.0           1.65   \n",
              "177    14.13        4.10  2.74               24.5       96.0           2.05   \n",
              "\n",
              "     flavanoids  nonflavanoid_phenols  proanthocyanins  color_intensity   hue  \\\n",
              "0          3.06                  0.28             2.29             5.64  1.04   \n",
              "1          2.76                  0.26             1.28             4.38  1.05   \n",
              "2          3.24                  0.30             2.81             5.68  1.03   \n",
              "3          3.49                  0.24             2.18             7.80  0.86   \n",
              "4          2.69                  0.39             1.82             4.32  1.04   \n",
              "..          ...                   ...              ...              ...   ...   \n",
              "173        0.61                  0.52             1.06             7.70  0.64   \n",
              "174        0.75                  0.43             1.41             7.30  0.70   \n",
              "175        0.69                  0.43             1.35            10.20  0.59   \n",
              "176        0.68                  0.53             1.46             9.30  0.60   \n",
              "177        0.76                  0.56             1.35             9.20  0.61   \n",
              "\n",
              "     od280/od315_of_diluted_wines  proline  label  \n",
              "0                            3.92   1065.0      0  \n",
              "1                            3.40   1050.0      0  \n",
              "2                            3.17   1185.0      0  \n",
              "3                            3.45   1480.0      0  \n",
              "4                            2.93    735.0      0  \n",
              "..                            ...      ...    ...  \n",
              "173                          1.74    740.0      2  \n",
              "174                          1.56    750.0      2  \n",
              "175                          1.56    835.0      2  \n",
              "176                          1.62    840.0      2  \n",
              "177                          1.60    560.0      2  \n",
              "\n",
              "[178 rows x 14 columns]"
            ],
            "text/html": [
              "\n",
              "  <div id=\"df-78b9e771-0033-451d-a5d2-cfa63fd8297a\">\n",
              "    <div class=\"colab-df-container\">\n",
              "      <div>\n",
              "<style scoped>\n",
              "    .dataframe tbody tr th:only-of-type {\n",
              "        vertical-align: middle;\n",
              "    }\n",
              "\n",
              "    .dataframe tbody tr th {\n",
              "        vertical-align: top;\n",
              "    }\n",
              "\n",
              "    .dataframe thead th {\n",
              "        text-align: right;\n",
              "    }\n",
              "</style>\n",
              "<table border=\"1\" class=\"dataframe\">\n",
              "  <thead>\n",
              "    <tr style=\"text-align: right;\">\n",
              "      <th></th>\n",
              "      <th>alcohol</th>\n",
              "      <th>malic_acid</th>\n",
              "      <th>ash</th>\n",
              "      <th>alcalinity_of_ash</th>\n",
              "      <th>magnesium</th>\n",
              "      <th>total_phenols</th>\n",
              "      <th>flavanoids</th>\n",
              "      <th>nonflavanoid_phenols</th>\n",
              "      <th>proanthocyanins</th>\n",
              "      <th>color_intensity</th>\n",
              "      <th>hue</th>\n",
              "      <th>od280/od315_of_diluted_wines</th>\n",
              "      <th>proline</th>\n",
              "      <th>label</th>\n",
              "    </tr>\n",
              "  </thead>\n",
              "  <tbody>\n",
              "    <tr>\n",
              "      <th>0</th>\n",
              "      <td>14.23</td>\n",
              "      <td>1.71</td>\n",
              "      <td>2.43</td>\n",
              "      <td>15.6</td>\n",
              "      <td>127.0</td>\n",
              "      <td>2.80</td>\n",
              "      <td>3.06</td>\n",
              "      <td>0.28</td>\n",
              "      <td>2.29</td>\n",
              "      <td>5.64</td>\n",
              "      <td>1.04</td>\n",
              "      <td>3.92</td>\n",
              "      <td>1065.0</td>\n",
              "      <td>0</td>\n",
              "    </tr>\n",
              "    <tr>\n",
              "      <th>1</th>\n",
              "      <td>13.20</td>\n",
              "      <td>1.78</td>\n",
              "      <td>2.14</td>\n",
              "      <td>11.2</td>\n",
              "      <td>100.0</td>\n",
              "      <td>2.65</td>\n",
              "      <td>2.76</td>\n",
              "      <td>0.26</td>\n",
              "      <td>1.28</td>\n",
              "      <td>4.38</td>\n",
              "      <td>1.05</td>\n",
              "      <td>3.40</td>\n",
              "      <td>1050.0</td>\n",
              "      <td>0</td>\n",
              "    </tr>\n",
              "    <tr>\n",
              "      <th>2</th>\n",
              "      <td>13.16</td>\n",
              "      <td>2.36</td>\n",
              "      <td>2.67</td>\n",
              "      <td>18.6</td>\n",
              "      <td>101.0</td>\n",
              "      <td>2.80</td>\n",
              "      <td>3.24</td>\n",
              "      <td>0.30</td>\n",
              "      <td>2.81</td>\n",
              "      <td>5.68</td>\n",
              "      <td>1.03</td>\n",
              "      <td>3.17</td>\n",
              "      <td>1185.0</td>\n",
              "      <td>0</td>\n",
              "    </tr>\n",
              "    <tr>\n",
              "      <th>3</th>\n",
              "      <td>14.37</td>\n",
              "      <td>1.95</td>\n",
              "      <td>2.50</td>\n",
              "      <td>16.8</td>\n",
              "      <td>113.0</td>\n",
              "      <td>3.85</td>\n",
              "      <td>3.49</td>\n",
              "      <td>0.24</td>\n",
              "      <td>2.18</td>\n",
              "      <td>7.80</td>\n",
              "      <td>0.86</td>\n",
              "      <td>3.45</td>\n",
              "      <td>1480.0</td>\n",
              "      <td>0</td>\n",
              "    </tr>\n",
              "    <tr>\n",
              "      <th>4</th>\n",
              "      <td>13.24</td>\n",
              "      <td>2.59</td>\n",
              "      <td>2.87</td>\n",
              "      <td>21.0</td>\n",
              "      <td>118.0</td>\n",
              "      <td>2.80</td>\n",
              "      <td>2.69</td>\n",
              "      <td>0.39</td>\n",
              "      <td>1.82</td>\n",
              "      <td>4.32</td>\n",
              "      <td>1.04</td>\n",
              "      <td>2.93</td>\n",
              "      <td>735.0</td>\n",
              "      <td>0</td>\n",
              "    </tr>\n",
              "    <tr>\n",
              "      <th>...</th>\n",
              "      <td>...</td>\n",
              "      <td>...</td>\n",
              "      <td>...</td>\n",
              "      <td>...</td>\n",
              "      <td>...</td>\n",
              "      <td>...</td>\n",
              "      <td>...</td>\n",
              "      <td>...</td>\n",
              "      <td>...</td>\n",
              "      <td>...</td>\n",
              "      <td>...</td>\n",
              "      <td>...</td>\n",
              "      <td>...</td>\n",
              "      <td>...</td>\n",
              "    </tr>\n",
              "    <tr>\n",
              "      <th>173</th>\n",
              "      <td>13.71</td>\n",
              "      <td>5.65</td>\n",
              "      <td>2.45</td>\n",
              "      <td>20.5</td>\n",
              "      <td>95.0</td>\n",
              "      <td>1.68</td>\n",
              "      <td>0.61</td>\n",
              "      <td>0.52</td>\n",
              "      <td>1.06</td>\n",
              "      <td>7.70</td>\n",
              "      <td>0.64</td>\n",
              "      <td>1.74</td>\n",
              "      <td>740.0</td>\n",
              "      <td>2</td>\n",
              "    </tr>\n",
              "    <tr>\n",
              "      <th>174</th>\n",
              "      <td>13.40</td>\n",
              "      <td>3.91</td>\n",
              "      <td>2.48</td>\n",
              "      <td>23.0</td>\n",
              "      <td>102.0</td>\n",
              "      <td>1.80</td>\n",
              "      <td>0.75</td>\n",
              "      <td>0.43</td>\n",
              "      <td>1.41</td>\n",
              "      <td>7.30</td>\n",
              "      <td>0.70</td>\n",
              "      <td>1.56</td>\n",
              "      <td>750.0</td>\n",
              "      <td>2</td>\n",
              "    </tr>\n",
              "    <tr>\n",
              "      <th>175</th>\n",
              "      <td>13.27</td>\n",
              "      <td>4.28</td>\n",
              "      <td>2.26</td>\n",
              "      <td>20.0</td>\n",
              "      <td>120.0</td>\n",
              "      <td>1.59</td>\n",
              "      <td>0.69</td>\n",
              "      <td>0.43</td>\n",
              "      <td>1.35</td>\n",
              "      <td>10.20</td>\n",
              "      <td>0.59</td>\n",
              "      <td>1.56</td>\n",
              "      <td>835.0</td>\n",
              "      <td>2</td>\n",
              "    </tr>\n",
              "    <tr>\n",
              "      <th>176</th>\n",
              "      <td>13.17</td>\n",
              "      <td>2.59</td>\n",
              "      <td>2.37</td>\n",
              "      <td>20.0</td>\n",
              "      <td>120.0</td>\n",
              "      <td>1.65</td>\n",
              "      <td>0.68</td>\n",
              "      <td>0.53</td>\n",
              "      <td>1.46</td>\n",
              "      <td>9.30</td>\n",
              "      <td>0.60</td>\n",
              "      <td>1.62</td>\n",
              "      <td>840.0</td>\n",
              "      <td>2</td>\n",
              "    </tr>\n",
              "    <tr>\n",
              "      <th>177</th>\n",
              "      <td>14.13</td>\n",
              "      <td>4.10</td>\n",
              "      <td>2.74</td>\n",
              "      <td>24.5</td>\n",
              "      <td>96.0</td>\n",
              "      <td>2.05</td>\n",
              "      <td>0.76</td>\n",
              "      <td>0.56</td>\n",
              "      <td>1.35</td>\n",
              "      <td>9.20</td>\n",
              "      <td>0.61</td>\n",
              "      <td>1.60</td>\n",
              "      <td>560.0</td>\n",
              "      <td>2</td>\n",
              "    </tr>\n",
              "  </tbody>\n",
              "</table>\n",
              "<p>178 rows × 14 columns</p>\n",
              "</div>\n",
              "      <button class=\"colab-df-convert\" onclick=\"convertToInteractive('df-78b9e771-0033-451d-a5d2-cfa63fd8297a')\"\n",
              "              title=\"Convert this dataframe to an interactive table.\"\n",
              "              style=\"display:none;\">\n",
              "        \n",
              "  <svg xmlns=\"http://www.w3.org/2000/svg\" height=\"24px\"viewBox=\"0 0 24 24\"\n",
              "       width=\"24px\">\n",
              "    <path d=\"M0 0h24v24H0V0z\" fill=\"none\"/>\n",
              "    <path d=\"M18.56 5.44l.94 2.06.94-2.06 2.06-.94-2.06-.94-.94-2.06-.94 2.06-2.06.94zm-11 1L8.5 8.5l.94-2.06 2.06-.94-2.06-.94L8.5 2.5l-.94 2.06-2.06.94zm10 10l.94 2.06.94-2.06 2.06-.94-2.06-.94-.94-2.06-.94 2.06-2.06.94z\"/><path d=\"M17.41 7.96l-1.37-1.37c-.4-.4-.92-.59-1.43-.59-.52 0-1.04.2-1.43.59L10.3 9.45l-7.72 7.72c-.78.78-.78 2.05 0 2.83L4 21.41c.39.39.9.59 1.41.59.51 0 1.02-.2 1.41-.59l7.78-7.78 2.81-2.81c.8-.78.8-2.07 0-2.86zM5.41 20L4 18.59l7.72-7.72 1.47 1.35L5.41 20z\"/>\n",
              "  </svg>\n",
              "      </button>\n",
              "      \n",
              "  <style>\n",
              "    .colab-df-container {\n",
              "      display:flex;\n",
              "      flex-wrap:wrap;\n",
              "      gap: 12px;\n",
              "    }\n",
              "\n",
              "    .colab-df-convert {\n",
              "      background-color: #E8F0FE;\n",
              "      border: none;\n",
              "      border-radius: 50%;\n",
              "      cursor: pointer;\n",
              "      display: none;\n",
              "      fill: #1967D2;\n",
              "      height: 32px;\n",
              "      padding: 0 0 0 0;\n",
              "      width: 32px;\n",
              "    }\n",
              "\n",
              "    .colab-df-convert:hover {\n",
              "      background-color: #E2EBFA;\n",
              "      box-shadow: 0px 1px 2px rgba(60, 64, 67, 0.3), 0px 1px 3px 1px rgba(60, 64, 67, 0.15);\n",
              "      fill: #174EA6;\n",
              "    }\n",
              "\n",
              "    [theme=dark] .colab-df-convert {\n",
              "      background-color: #3B4455;\n",
              "      fill: #D2E3FC;\n",
              "    }\n",
              "\n",
              "    [theme=dark] .colab-df-convert:hover {\n",
              "      background-color: #434B5C;\n",
              "      box-shadow: 0px 1px 3px 1px rgba(0, 0, 0, 0.15);\n",
              "      filter: drop-shadow(0px 1px 2px rgba(0, 0, 0, 0.3));\n",
              "      fill: #FFFFFF;\n",
              "    }\n",
              "  </style>\n",
              "\n",
              "      <script>\n",
              "        const buttonEl =\n",
              "          document.querySelector('#df-78b9e771-0033-451d-a5d2-cfa63fd8297a button.colab-df-convert');\n",
              "        buttonEl.style.display =\n",
              "          google.colab.kernel.accessAllowed ? 'block' : 'none';\n",
              "\n",
              "        async function convertToInteractive(key) {\n",
              "          const element = document.querySelector('#df-78b9e771-0033-451d-a5d2-cfa63fd8297a');\n",
              "          const dataTable =\n",
              "            await google.colab.kernel.invokeFunction('convertToInteractive',\n",
              "                                                     [key], {});\n",
              "          if (!dataTable) return;\n",
              "\n",
              "          const docLinkHtml = 'Like what you see? Visit the ' +\n",
              "            '<a target=\"_blank\" href=https://colab.research.google.com/notebooks/data_table.ipynb>data table notebook</a>'\n",
              "            + ' to learn more about interactive tables.';\n",
              "          element.innerHTML = '';\n",
              "          dataTable['output_type'] = 'display_data';\n",
              "          await google.colab.output.renderOutput(dataTable, element);\n",
              "          const docLink = document.createElement('div');\n",
              "          docLink.innerHTML = docLinkHtml;\n",
              "          element.appendChild(docLink);\n",
              "        }\n",
              "      </script>\n",
              "    </div>\n",
              "  </div>\n",
              "  "
            ]
          },
          "metadata": {},
          "execution_count": 118
        }
      ]
    },
    {
      "cell_type": "markdown",
      "source": [
        "<br>\n",
        "\n",
        "학습을 위해 데이터를 구분한다.\n",
        "\n",
        "학습에 사용될 Training Dataset과 모델의 성능을 평가할 Test Dataset으로 데이터를 나누기 위해 scikit-learn이 제공하는 train_test_split을 활용하였다.\n",
        "\n",
        "Test Dataset의 비율은 전체 데이터의 20%로 설정(test_size=0.2)하고, 랜덤성을 특정(random_state=42)했다.\n",
        "\n",
        "아래와 같이 Training Dataset(X_train2) 142개, Test Dataset(X_test2) 36개로 구분되었다."
      ],
      "metadata": {
        "id": "5e18SLlYKiVw"
      }
    },
    {
      "cell_type": "code",
      "source": [
        "# 데이터 구분\n",
        "X_train2, X_test2, y_train2, y_test2 = train_test_split(wt_data, wt_label, test_size=0.2, random_state=42)\n",
        "\n",
        "print('- X_train2 개수: ', len(X_train2),',  X_test2 개수: ', len(X_test2))\n"
      ],
      "metadata": {
        "colab": {
          "base_uri": "https://localhost:8080/"
        },
        "outputId": "2ffbd062-8ebd-4c13-ed21-06a18fa221a5",
        "id": "FEkCsqO-sFbY"
      },
      "execution_count": null,
      "outputs": [
        {
          "output_type": "stream",
          "name": "stdout",
          "text": [
            "- X_train2 개수:  142 ,  X_test2 개수:  36\n"
          ]
        }
      ]
    },
    {
      "cell_type": "markdown",
      "source": [
        "<br>\n",
        "\n",
        "데이터 셋팅을 완료했으니 이제 학습할 차례다.\n",
        "\n",
        "<br>\n",
        "\n",
        "###**[학습01.] Decision Tree**"
      ],
      "metadata": {
        "id": "1jAAuVahXFKX"
      }
    },
    {
      "cell_type": "code",
      "source": [
        "''' 학습 셋팅 '''\n",
        "# 학습\n",
        "decision_tree.fit(X_train2, y_train2)\n",
        "\n",
        "# 예측\n",
        "y_pred_11 = decision_tree.predict(X_test2)\n",
        "\n",
        "# 정확도\n",
        "from sklearn.metrics import accuracy_score\n",
        "accuracy = accuracy_score(y_test2, y_pred_11)\n",
        "print(f'► Decision Tree의 정확도는 {accuracy}') "
      ],
      "metadata": {
        "colab": {
          "base_uri": "https://localhost:8080/"
        },
        "outputId": "9b81d6c2-e2a3-4565-cf38-274ef67017bf",
        "id": "z_HU-v4rXFKZ"
      },
      "execution_count": null,
      "outputs": [
        {
          "output_type": "stream",
          "name": "stdout",
          "text": [
            "► Decision Tree의 정확도는 0.9444444444444444\n"
          ]
        }
      ]
    },
    {
      "cell_type": "markdown",
      "source": [
        "<br>\n",
        "\n",
        "###**[학습02.] Random Forest**"
      ],
      "metadata": {
        "id": "6FpcyjKoXFKa"
      }
    },
    {
      "cell_type": "code",
      "source": [
        "''' 학습 셋팅 '''\n",
        "# 학습\n",
        "random_forest.fit(X_train2, y_train2)\n",
        "\n",
        "# 예측\n",
        "y_pred_12 = random_forest.predict(X_test2)\n",
        "\n",
        "# 정확도\n",
        "accuracy = accuracy_score(y_test2, y_pred_12)\n",
        "print(f'► Random Forest의 정확도는 {accuracy}') "
      ],
      "metadata": {
        "colab": {
          "base_uri": "https://localhost:8080/"
        },
        "outputId": "dbabf596-26c3-4e90-844a-eee56d1e80ae",
        "id": "ymWsg_juXFKa"
      },
      "execution_count": null,
      "outputs": [
        {
          "output_type": "stream",
          "name": "stdout",
          "text": [
            "► Random Forest의 정확도는 1.0\n"
          ]
        }
      ]
    },
    {
      "cell_type": "markdown",
      "source": [
        "<br>\n",
        "\n",
        "###**[학습03.] Support Vector Machine(SVM)**"
      ],
      "metadata": {
        "id": "HsBRWZIbXFKb"
      }
    },
    {
      "cell_type": "code",
      "source": [
        "''' 학습 셋팅 '''\n",
        "# 학습\n",
        "svm_model.fit(X_train2, y_train2)\n",
        "\n",
        "# 예측\n",
        "y_pred_13 = svm_model.predict(X_test2)\n",
        "\n",
        "# 정확도\n",
        "accuracy = accuracy_score(y_test2, y_pred_13)\n",
        "print(f'► SVM의 정확도는 {accuracy}') "
      ],
      "metadata": {
        "colab": {
          "base_uri": "https://localhost:8080/"
        },
        "outputId": "60fe2efe-d6cb-4406-dd5e-dd6544ec9c83",
        "id": "HL7lY_F9XFKb"
      },
      "execution_count": null,
      "outputs": [
        {
          "output_type": "stream",
          "name": "stdout",
          "text": [
            "► SVM의 정확도는 0.8055555555555556\n"
          ]
        }
      ]
    },
    {
      "cell_type": "markdown",
      "source": [
        "<br>\n",
        "\n",
        "###**[학습04.] SGD Classifier**"
      ],
      "metadata": {
        "id": "OupzL9PRXFKc"
      }
    },
    {
      "cell_type": "code",
      "source": [
        "''' 학습 셋팅 '''\n",
        "# 학습 \n",
        "sgd_model.fit(X_train2, y_train2)\n",
        "\n",
        "# 예측\n",
        "y_pred_14 = sgd_model.predict(X_test2)\n",
        "\n",
        "# 정확도\n",
        "accuracy = accuracy_score(y_test2, y_pred_14)\n",
        "print(f'► SGD Classifier의 정확도는 {accuracy}') "
      ],
      "metadata": {
        "colab": {
          "base_uri": "https://localhost:8080/"
        },
        "outputId": "5f9aa988-56cf-4fac-f813-5231a4e6f5cd",
        "id": "zeTU80jdXFKc"
      },
      "execution_count": null,
      "outputs": [
        {
          "output_type": "stream",
          "name": "stdout",
          "text": [
            "► SGD Classifier의 정확도는 0.5833333333333334\n"
          ]
        }
      ]
    },
    {
      "cell_type": "markdown",
      "source": [
        "<br>\n",
        "\n",
        "###**[학습05.] Logistic Regression**"
      ],
      "metadata": {
        "id": "lqcHeLE8XFKc"
      }
    },
    {
      "cell_type": "code",
      "source": [
        "''' 학습 셋팅 '''\n",
        "# 학습\n",
        "logistic_model.fit(X_train2, y_train2)\n",
        "\n",
        "# 예측\n",
        "y_pred_15 = logistic_model.predict(X_test2)\n",
        "\n",
        "# 정확도\n",
        "accuracy = accuracy_score(y_test2, y_pred_15)\n",
        "print(f'► Logistic Regression의 정확도는 {accuracy}') "
      ],
      "metadata": {
        "id": "rn6j0hRpXFKd",
        "colab": {
          "base_uri": "https://localhost:8080/"
        },
        "outputId": "ae0511c7-d79c-43c5-c470-069dc6c822ec"
      },
      "execution_count": null,
      "outputs": [
        {
          "output_type": "stream",
          "name": "stdout",
          "text": [
            "► Logistic Regression의 정확도는 1.0\n"
          ]
        }
      ]
    },
    {
      "cell_type": "markdown",
      "source": [
        "            \n",
        "<br>\n",
        "\n",
        "###**모델 평가**"
      ],
      "metadata": {
        "id": "Qj4DHe3EX7OJ"
      }
    },
    {
      "cell_type": "markdown",
      "source": [
        "정확도(accuracy)를 비교할 경우,\n",
        "**Random Forest**와 **Logistic Regression**의 정확도가 **100.0%**로 나타났다.\n",
        "\n",
        "적정성을 의심 해볼 필요가 있는 수치라고 생각된다. 일단 전체 데이터 갯수(178개)가 너무 적은 것이 문제일 수 있겠다. 물론 Random Forest의 경우, Decision Tree를 보완한 대표적 앙상블 학습 알고리즘으로 Decision Tree(94.4%)에 비해 성능이 향상된 측면도 있을 것이다.\n",
        "\n",
        "좀 더 자세한 파악을 위해 오차행렬(confusion_matrix)을 이용한 classification report를 살펴보자.\n",
        "\n",
        "아래의 report를 살펴보면, 우선 SVM과 SGD Classifier의 F1-score가 와인 유형별로 매우 차이 남을 알 수 있다. 반면, Decision Tree의 경우 F1-score가 비교적 고르게 나타나며 Accuracy와도 유사한 값을 보인다. Random Forest와 Logistic Regression 모델은 report 상에서도 모든 값이 1.0으로 나왔다.\n",
        "\n",
        "\n",
        "\n"
      ],
      "metadata": {
        "id": "hJRHla8cX7OY"
      }
    },
    {
      "cell_type": "code",
      "source": [
        "from sklearn.metrics import confusion_matrix\n",
        "from sklearn.metrics import classification_report\n",
        "\n",
        "# Decision Tree report\n",
        "confusion_matrix(y_test2, y_pred_11)\n",
        "print(classification_report(y_test2, y_pred_11))"
      ],
      "metadata": {
        "id": "NVL5lL2xX7OZ",
        "colab": {
          "base_uri": "https://localhost:8080/"
        },
        "outputId": "029f3c2d-a65c-441a-889e-5514f3412cba"
      },
      "execution_count": null,
      "outputs": [
        {
          "output_type": "stream",
          "name": "stdout",
          "text": [
            "              precision    recall  f1-score   support\n",
            "\n",
            "           0       0.93      0.93      0.93        14\n",
            "           1       0.93      1.00      0.97        14\n",
            "           2       1.00      0.88      0.93         8\n",
            "\n",
            "    accuracy                           0.94        36\n",
            "   macro avg       0.95      0.93      0.94        36\n",
            "weighted avg       0.95      0.94      0.94        36\n",
            "\n"
          ]
        }
      ]
    },
    {
      "cell_type": "code",
      "source": [
        "# Random Forest report\n",
        "confusion_matrix(y_test2, y_pred_12)\n",
        "print(classification_report(y_test2, y_pred_12))"
      ],
      "metadata": {
        "id": "5FzFQ39vX7OZ",
        "colab": {
          "base_uri": "https://localhost:8080/"
        },
        "outputId": "2bdfa21b-1ff9-4490-a807-db649540ba8c"
      },
      "execution_count": null,
      "outputs": [
        {
          "output_type": "stream",
          "name": "stdout",
          "text": [
            "              precision    recall  f1-score   support\n",
            "\n",
            "           0       1.00      1.00      1.00        14\n",
            "           1       1.00      1.00      1.00        14\n",
            "           2       1.00      1.00      1.00         8\n",
            "\n",
            "    accuracy                           1.00        36\n",
            "   macro avg       1.00      1.00      1.00        36\n",
            "weighted avg       1.00      1.00      1.00        36\n",
            "\n"
          ]
        }
      ]
    },
    {
      "cell_type": "code",
      "source": [
        "# SVM report\n",
        "confusion_matrix(y_test2, y_pred_13)\n",
        "print(classification_report(y_test2, y_pred_13))"
      ],
      "metadata": {
        "id": "o0YQSPPDX7Oa",
        "colab": {
          "base_uri": "https://localhost:8080/"
        },
        "outputId": "118a0038-a23a-439b-d0a9-969b49a43feb"
      },
      "execution_count": null,
      "outputs": [
        {
          "output_type": "stream",
          "name": "stdout",
          "text": [
            "              precision    recall  f1-score   support\n",
            "\n",
            "           0       1.00      1.00      1.00        14\n",
            "           1       0.73      0.79      0.76        14\n",
            "           2       0.57      0.50      0.53         8\n",
            "\n",
            "    accuracy                           0.81        36\n",
            "   macro avg       0.77      0.76      0.76        36\n",
            "weighted avg       0.80      0.81      0.80        36\n",
            "\n"
          ]
        }
      ]
    },
    {
      "cell_type": "code",
      "source": [
        "# SGD Classifier report\n",
        "confusion_matrix(y_test2, y_pred_14)\n",
        "print(classification_report(y_test2, y_pred_14, zero_division=1))"
      ],
      "metadata": {
        "id": "ZHM3vywRX7Oa",
        "colab": {
          "base_uri": "https://localhost:8080/"
        },
        "outputId": "b222eb6d-7b8c-4493-cfe4-122734af3264"
      },
      "execution_count": null,
      "outputs": [
        {
          "output_type": "stream",
          "name": "stdout",
          "text": [
            "              precision    recall  f1-score   support\n",
            "\n",
            "           0       1.00      0.71      0.83        14\n",
            "           1       1.00      0.21      0.35        14\n",
            "           2       0.35      1.00      0.52         8\n",
            "\n",
            "    accuracy                           0.58        36\n",
            "   macro avg       0.78      0.64      0.57        36\n",
            "weighted avg       0.86      0.58      0.58        36\n",
            "\n"
          ]
        }
      ]
    },
    {
      "cell_type": "code",
      "source": [
        "# Logistic Regression report\n",
        "confusion_matrix(y_test2, y_pred_15)\n",
        "print(classification_report(y_test2, y_pred_15))"
      ],
      "metadata": {
        "id": "DpzMfvQJX7Oa",
        "colab": {
          "base_uri": "https://localhost:8080/"
        },
        "outputId": "67d0a943-ac3a-4f3a-bf7a-8716d39679bd"
      },
      "execution_count": null,
      "outputs": [
        {
          "output_type": "stream",
          "name": "stdout",
          "text": [
            "              precision    recall  f1-score   support\n",
            "\n",
            "           0       1.00      1.00      1.00        14\n",
            "           1       1.00      1.00      1.00        14\n",
            "           2       1.00      1.00      1.00         8\n",
            "\n",
            "    accuracy                           1.00        36\n",
            "   macro avg       1.00      1.00      1.00        36\n",
            "weighted avg       1.00      1.00      1.00        36\n",
            "\n"
          ]
        }
      ]
    },
    {
      "cell_type": "markdown",
      "source": [
        "\n",
        "<br>\n",
        "\n",
        "모델이 적합한 성능을 지녔는지 알아보기 위해 추가적으로 훈련 데이터와 테스트 데이터의 검증점수를 비교해보자. 모델의 과적합 여부를 파악할 수 있다.\n",
        "\n",
        "아래에서 값을 확인하면, Decision Tree의 경우 훈련 데이터의 점수에 비해 테스트 데이터의 점수가 약간 낮게 나왔고 그 차이가 그리 크지 않음을 알 수 있다. Random Forest는 테스트 점수가 더 향상되어 테스트 점수도 만점이 나왔다. \n",
        "\n",
        "Logistic Regression을 보면 훈련 데이터 점수에 비해 테스트 데이터 점수가 더 높은 과소적합(underfitting)임을 알 수 있다. 전체 데이터의 수량 자체가 근본적인 문제라고 생각되나 성능을 개선할 수 있는 방법은 없을지 찾아보고자 한다."
      ],
      "metadata": {
        "id": "0W8oUA_ZU4oE"
      }
    },
    {
      "cell_type": "code",
      "source": [
        "''' 문제점 분석 '''\n",
        "# Decision Tree\n",
        "print('- 훈련 데이터 검증점수:', decision_tree.score(X_train2, y_train2))\n",
        "print('- 테스트 데이터 검증점수:', decision_tree.score(X_test2, y_test2))\n"
      ],
      "metadata": {
        "id": "AcWMjesO_e6V",
        "colab": {
          "base_uri": "https://localhost:8080/"
        },
        "outputId": "d5d14b69-3861-4553-d058-91d20c59b0df"
      },
      "execution_count": null,
      "outputs": [
        {
          "output_type": "stream",
          "name": "stdout",
          "text": [
            "- 훈련 데이터 검증점수: 1.0\n",
            "- 테스트 데이터 검증점수: 0.9444444444444444\n"
          ]
        }
      ]
    },
    {
      "cell_type": "code",
      "source": [
        "# Random Forest\n",
        "print('- 훈련 데이터 검증점수:', random_forest.score(X_train2, y_train2))\n",
        "print('- 테스트 데이터 검증점수:', random_forest.score(X_test2, y_test2))\n"
      ],
      "metadata": {
        "id": "IJpISLGZ-SG9",
        "colab": {
          "base_uri": "https://localhost:8080/"
        },
        "outputId": "2375a75c-3b70-423d-e25a-5742299f31ad"
      },
      "execution_count": null,
      "outputs": [
        {
          "output_type": "stream",
          "name": "stdout",
          "text": [
            "- 훈련 데이터 검증점수: 1.0\n",
            "- 테스트 데이터 검증점수: 1.0\n"
          ]
        }
      ]
    },
    {
      "cell_type": "code",
      "source": [
        "# Logistic Regression: 과소적합\n",
        "print('- 훈련 데이터 검증점수:', logistic_model.score(X_train2, y_train2))\n",
        "print('- 테스트 데이터 검증점수:', logistic_model.score(X_test2, y_test2))\n"
      ],
      "metadata": {
        "id": "dsOVX2Q3kcsB",
        "colab": {
          "base_uri": "https://localhost:8080/"
        },
        "outputId": "6ec6dbf5-b657-4640-b1bf-1ddc4412e0df"
      },
      "execution_count": null,
      "outputs": [
        {
          "output_type": "stream",
          "name": "stdout",
          "text": [
            "- 훈련 데이터 검증점수: 0.9929577464788732\n",
            "- 테스트 데이터 검증점수: 1.0\n"
          ]
        }
      ]
    },
    {
      "cell_type": "markdown",
      "source": [
        "<br>\n",
        "\n",
        "\n",
        "먼저 Random Forest와는 다른 앙상블 모델을 활용하고 그 결과를 비교해 보자.\n",
        "\n",
        "깊이가 얕은 결정트리를 사용하여 이전 트리의 오차를 보완하는 방식으로 앙상블 하는 **그레이디언트 부스팅**과 노드를 분할할 때 최적의 분할을 빠르게 찾을 수 있게 해주는 **히스토그램 기반 그레이티언트 부스팅**을 사용한다.\n",
        "\n",
        "과적합을 억제하면서 높은 성능을 낼 수 있는 방안이 되기를 기대한다.\n"
      ],
      "metadata": {
        "id": "jg1Mz4lFNnP1"
      }
    },
    {
      "cell_type": "code",
      "source": [
        "# 그레이디언트 부스팅\n",
        "from sklearn.model_selection import cross_validate\n",
        "from sklearn.ensemble import GradientBoostingClassifier\n",
        "import numpy as np\n",
        "\n",
        "gb = GradientBoostingClassifier(random_state=42)\n",
        "scores01 = cross_validate(gb, X_train2, y_train2, \n",
        "                       return_train_score=True, n_jobs=-1)    # 교차검증 수행, 검증점수 및 훈련세트 점수도 반환\n",
        "print('- 훈련 데이터 검증점수:', np.mean(scores01['train_score']), ',  테스트 데이터 검증점수:',np.mean(scores01['test_score']))"
      ],
      "metadata": {
        "id": "RvTXZSPG_WRR",
        "colab": {
          "base_uri": "https://localhost:8080/"
        },
        "outputId": "8a53d775-e403-4f6a-c99a-c5b63186015c"
      },
      "execution_count": null,
      "outputs": [
        {
          "output_type": "stream",
          "name": "stdout",
          "text": [
            "- 훈련 데이터 검증점수: 1.0 ,  테스트 데이터 검증점수: 0.922167487684729\n"
          ]
        }
      ]
    },
    {
      "cell_type": "code",
      "source": [
        "# 그레이디언트 부스팅(결정트리 갯수 및 학습률 조정)\n",
        "gb = GradientBoostingClassifier(n_estimators=500, learning_rate=0.2, random_state=42)\n",
        "scores02 = cross_validate(gb, X_train2, y_train2, \n",
        "                       return_train_score=True, n_jobs=-1)\n",
        "print('- 훈련 데이터 검증점수:', np.mean(scores02['train_score']), ',  테스트 데이터 검증점수:', np.mean(scores02['test_score']))"
      ],
      "metadata": {
        "id": "nJJaHkN_EczX",
        "colab": {
          "base_uri": "https://localhost:8080/"
        },
        "outputId": "c27ce274-4564-4899-b38f-39e302a36535"
      },
      "execution_count": null,
      "outputs": [
        {
          "output_type": "stream",
          "name": "stdout",
          "text": [
            "- 훈련 데이터 검증점수: 1.0 ,  테스트 데이터 검증점수: 0.9435960591133006\n"
          ]
        }
      ]
    },
    {
      "cell_type": "code",
      "source": [
        "# 히스토그램 기반 그레이디언트 부스팅\n",
        "from sklearn.experimental import enable_hist_gradient_boosting\n",
        "from sklearn.ensemble import HistGradientBoostingClassifier\n",
        "hgb = HistGradientBoostingClassifier(random_state=42)\n",
        "scores03 = cross_validate(hgb, X_train2, y_train2, return_train_score=True)\n",
        "print('- 훈련 데이터 검증점수:', np.mean(scores03['train_score']), ',  테스트 데이터 검증점수:', np.mean(scores03['test_score']))"
      ],
      "metadata": {
        "id": "PMG4tMCoDHwe",
        "colab": {
          "base_uri": "https://localhost:8080/"
        },
        "outputId": "f31eba3a-5c13-49ca-e366-0d64c44af5a2"
      },
      "execution_count": null,
      "outputs": [
        {
          "output_type": "stream",
          "name": "stdout",
          "text": [
            "- 훈련 데이터 검증점수: 1.0 ,  테스트 데이터 검증점수: 0.9576354679802955\n"
          ]
        }
      ]
    },
    {
      "cell_type": "markdown",
      "source": [
        "\n",
        "<br>\n",
        "\n",
        "그레이디언트 부스팅의 결과를 보면, 테스트 데이터의 검증점수를 적정하게 낮추는 데에는 성공했지만 훈련 데이터의 검증점수는 여전히 1.0로 둘 사이의 갭은 커졌다.\n",
        "\n",
        "그레이디언트 부스팅의 결정트리 갯수를 높이고(500), 학습률을 조정(0.2)해서 테스트 검증점수를 조금 더 높일 수 있었다.\n",
        "\n",
        "그리고 그레이디언트 부스팅보다 조금 더 높은 성능을 기대할 수 있는 히스토그램 기반 그레이디언트 부스팅을 활용하여 훈련 데이터 검증점수와 테스트 데이터 검증점수 간의 차이를 더 좁혔다.\n",
        "\n",
        "다만, 훈련 데이터 검증점수 자체가 지속적으로 1.0로 나오는 부분이 적합한지에 관해서는 향후 추가적인 연구가 필요하다고 생각한다. \n",
        "\n",
        "-\n",
        "\n",
        "이번엔 Logistic Regression 모델의 과소적합 문제를 살펴보자. \n",
        "\n",
        "훈련 데이터 점수(0.99)에 비해 테스트 데이터 점수(1.00)가 더 높으며, 모델이 단순하여 훈련이 적절히 되지 않았을 가능성이 있었다.\n",
        "\n",
        "규제를 통해 훈련정도를 조정할 수 있을지 확인해 보도록 한다. 계수의 제곱(R^2)을 기준으로 규제를 적용하는 **Ridge** 방식을 적용한다."
      ],
      "metadata": {
        "id": "522Riix7Qxkc"
      }
    },
    {
      "cell_type": "code",
      "source": [
        "''' Regularization '''\n",
        "# 표준점수로 변환\n",
        "from sklearn.preprocessing import StandardScaler\n",
        "ss = StandardScaler()\n",
        "ss.fit(X_train2)\n",
        "train_scaled = ss.transform(X_train2)\n",
        "test_scaled = ss.transform(X_test2)\n",
        "\n",
        "# 릿지 규제 적용\n",
        "from sklearn.linear_model import Ridge\n",
        "ridge = Ridge()\n",
        "ridge.fit(train_scaled, y_train2)\n",
        "print(ridge.score(train_scaled, y_train2))\n",
        "print(ridge.score(test_scaled, y_test2))"
      ],
      "metadata": {
        "id": "xTNZANHC8GrC",
        "colab": {
          "base_uri": "https://localhost:8080/"
        },
        "outputId": "08f780a8-6456-42f7-c2a4-1f9106cc99b5"
      },
      "execution_count": null,
      "outputs": [
        {
          "output_type": "stream",
          "name": "stdout",
          "text": [
            "0.9028583074553864\n",
            "0.8822517421818129\n"
          ]
        }
      ]
    },
    {
      "cell_type": "markdown",
      "source": [
        "\n",
        "<br>\n",
        "\n",
        "릿지 규제를 적용함으로써 테스트 세트의 점수가 낮아졌지만 훈련 세트의 점수를 포함하여 전체적으로 점수가 낮아져 성능이 개선되었다고 보기는 어렵다. \n",
        "\n",
        "하이퍼파라미터를 조정하여 적합한 규제 정도를 찾아내기 위해 alpha 값에 대한 R^2의 그래프를 그려보았다. 아래 그래프에서 보는 것과 같이 alpha 값을 조정한다고 해서 특별히 점수가 높아지는 지점은 없다. alpha=1을 넘으면서 점수의 하락폭이 증가하고, alpha=10을 넘으면 더 급격히 떨어짐을 알 수 있다. 훈련 세트와 데이터 세트 간의 간격은 좁아지지만 전체 점수가 하락하는 것이다. 반대로 그래프 상 최고점에 해당하는 alpha 값(0.001)을 적용했을 때도 점수의 향상률은 미미하다.\n",
        "\n",
        "일반적으로 릿지가 과대적합을 규제하는데 적합하나 해당 문제의 과소적합을 조정하는 데에는 뚜렷한 역할을 하지 못한 것으로 보인다. Logistic Regression 모델의 과소적합을 해결하는 방법에 대해서는 향후 추가적인 고찰이 필요하겠다."
      ],
      "metadata": {
        "id": "3Vmt-mQlEQic"
      }
    },
    {
      "cell_type": "code",
      "source": [
        "# 하이퍼파라미터 조정\n",
        "import matplotlib.pyplot as plt\n",
        "train_score = []\n",
        "test_score = []\n",
        "\n",
        "alpha_list = [0.001, 0.01, 0.1, 1, 10, 100]\n",
        "for alpha in alpha_list:\n",
        "    ridge = Ridge(alpha=alpha)\n",
        "    ridge.fit(train_scaled, y_train2)\n",
        "    train_score.append(ridge.score(train_scaled, y_train2))\n",
        "    test_score.append(ridge.score(test_scaled, y_test2))\n",
        "\n",
        "plt.plot(np.log10(alpha_list), train_score, label='train score')\n",
        "plt.plot(np.log10(alpha_list), test_score, label='test score')\n",
        "plt.xlabel('alpha')\n",
        "plt.ylabel('R^2')\n",
        "plt.legend()\n",
        "plt.show()"
      ],
      "metadata": {
        "id": "UXsbcS8N970A",
        "colab": {
          "base_uri": "https://localhost:8080/",
          "height": 279
        },
        "outputId": "9e603713-ee5e-409d-9e4f-f83918bce7e5"
      },
      "execution_count": null,
      "outputs": [
        {
          "output_type": "display_data",
          "data": {
            "text/plain": [
              "<Figure size 432x288 with 1 Axes>"
            ],
            "image/png": "[encoded data removed]"
          },
          "metadata": {
            "needs_background": "light"
          }
        }
      ]
    },
    {
      "cell_type": "code",
      "source": [
        "# 최고점에서의 값 확인(위에서 구한 초기값 적용과 비교: 대동소이)\n",
        "ridge = Ridge(alpha=0.001)\n",
        "ridge.fit(train_scaled, y_train2)\n",
        "print(ridge.score(train_scaled, y_train2))\n",
        "print(ridge.score(test_scaled, y_test2))"
      ],
      "metadata": {
        "id": "P7miHhuH_3Dz",
        "colab": {
          "base_uri": "https://localhost:8080/"
        },
        "outputId": "896f3a1b-153c-4bb2-f2b2-c0bd137757f5"
      },
      "execution_count": null,
      "outputs": [
        {
          "output_type": "stream",
          "name": "stdout",
          "text": [
            "0.9029347422087665\n",
            "0.8825137739188348\n"
          ]
        }
      ]
    },
    {
      "cell_type": "markdown",
      "source": [
        "<br>\n",
        "\n",
        "\n",
        "###**소 결**\n",
        "\n"
      ],
      "metadata": {
        "id": "_mHhcg2nX7Oa"
      }
    },
    {
      "cell_type": "markdown",
      "source": [
        "5가지 모델을 통해 와인종류를 판별한 결과는 다음과 같다.\n",
        "\n",
        "*   **Decision Tree**\n",
        "    *   accuracy : 0.94 \n",
        "    *   f1-score : (min)0.93,  (max)0.97\n",
        "*   **Random Forest**\n",
        "    *   accuracy : 1.00\n",
        "    *   f1-score : (min)1.00,  (max)1.00\n",
        "*   **Support Vector Machine(SVM)**\n",
        "    *   accuracy : 0.81\n",
        "    *   f1-score : (min)0.53,  (max)1.00\n",
        "*   **SGD Classifier**\n",
        "    *   accuracy : 0.58\n",
        "    *   f1-score : (min)0.35,  (max)0.83\n",
        "*   **Logistic Regression**\n",
        "    *   accuracy : 1.00\n",
        "    *   f1-score : (min)1.00,  (max)1.00\n",
        "\n",
        "<br>\n",
        "\n",
        "와인 판별의 경우 재현율(Recall)과 정밀도(Precision)를 고르게 반영하는 것이 적합하다. 따라서 정확도(accuracy)와 함께 F1 score를 추가적인 평가지표로 선택하여 검토한다.\n",
        "\n",
        "정확도가 높은 모델을 중심으로 과적합 여부를 추가적으로 살펴본 결과, Logistic Regression이 과소적합 된것으로 나타났다. 규제적용(Ridge) 시 전체적인 점수가 하향되는 문제가 발생하여 적합한 모델이 아닌 것으로 판단하였다.\n",
        "\n",
        "Random Forest의 경우, 모든 측면에서 점수가 높게(1.00) 측정되어 자체적으로는 성과의 적정성을 판단하기 어려웠다. 추가로 다른 앙상블 모델을 학습시켜 결과를 비교해 보았다. 히스토그램 기반 그레이디언트 부스팅의 학습 점수(1.00)와 테스트 점수(0.96)이 균형감 있게 나왔다. 따라서 기본 모델 중에서는 **랜덤 포레스트**를 선택하고, 대안모델로 **히스토그램 기반 그레이디언트 부스팅**도 적합하다고 결론 내린다.\n",
        "\n",
        "\n",
        "\n",
        "<br><br><br><br><br><br>\n",
        "\n"
      ],
      "metadata": {
        "id": "JjB_JiTrX7Ob"
      }
    },
    {
      "cell_type": "markdown",
      "source": [
        "\n",
        "\n",
        "---\n",
        "##**3. load_breast_cancer: 유방암 여부 진단**"
      ],
      "metadata": {
        "id": "qzjb55U6bnHS"
      }
    },
    {
      "cell_type": "markdown",
      "source": [
        "\n",
        "-\n",
        "\n",
        "데이터 셋팅을 위해 scikit-learn에서 해당 테이터를 로딩한다. 데이터를 변수에 저장한 후 전반적인 내용을 파악했다.\n",
        "\n",
        "총 569개의 데이터가 각각 30개의 값을 담고 있다.\n",
        "\n",
        "target(label)은 악성(malignant)과 양성(benign)으로 구분된다.\n",
        "\n",
        "DESCR 메서드로 확인한 결과, 해당 데이터는 유방에서 미세바늘흡인(FNA)을 통해 디지털화 된 이미지로부터 추출된 정보임을 알 수 있었다. 페이지 관계 상 이 부분은 별도로 출력하지 않는다.\n",
        " \n"
      ],
      "metadata": {
        "id": "BIkO68DWbnHc"
      }
    },
    {
      "cell_type": "code",
      "execution_count": null,
      "metadata": {
        "id": "Dr923aTPbnHc",
        "colab": {
          "base_uri": "https://localhost:8080/"
        },
        "outputId": "71f60537-e188-4a8e-ca01-563ab248eca6"
      },
      "outputs": [
        {
          "output_type": "stream",
          "name": "stdout",
          "text": [
            "- data 형태: (569, 30)\n",
            "- data 정보: dict_keys(['data', 'target', 'frame', 'target_names', 'DESCR', 'feature_names', 'filename', 'data_module'])\n",
            "- label: ['malignant' 'benign']\n",
            "- feature: ['mean radius' 'mean texture' 'mean perimeter' 'mean area'\n",
            " 'mean smoothness' 'mean compactness' 'mean concavity'\n",
            " 'mean concave points' 'mean symmetry' 'mean fractal dimension'\n",
            " 'radius error' 'texture error' 'perimeter error' 'area error'\n",
            " 'smoothness error' 'compactness error' 'concavity error'\n",
            " 'concave points error' 'symmetry error' 'fractal dimension error'\n",
            " 'worst radius' 'worst texture' 'worst perimeter' 'worst area'\n",
            " 'worst smoothness' 'worst compactness' 'worst concavity'\n",
            " 'worst concave points' 'worst symmetry' 'worst fractal dimension']\n"
          ]
        }
      ],
      "source": [
        "''' 데이터 셋팅 '''\n",
        "# 필요한 모듈 import(위에서 이미 import한 모듈은 생략)\n",
        "from sklearn.datasets import load_breast_cancer\n",
        "\n",
        "# 데이터 준비\n",
        "bc = load_breast_cancer()\n",
        "\n",
        "# 데이터 이해\n",
        "bc_data = bc.data\n",
        "print(f'- data 형태: {bc_data.shape}') \n",
        "print(f'- data 정보: {bc.keys()}') \n",
        "\n",
        "bc.DESCR    # 데이터 상세정보 확인(출력생략)\n",
        "\n",
        "bc_label = bc.target\n",
        "print(f'- label: {bc.target_names}')\n",
        "print(f'- feature: {bc.feature_names}') "
      ]
    },
    {
      "cell_type": "code",
      "source": [
        "# 자료형 변환; data frame\n",
        "bc_df = pd.DataFrame(data=bc_data, columns=bc.feature_names)\n",
        "bc_df[\"label\"] = bc.target\n",
        "bc_df"
      ],
      "metadata": {
        "id": "EILfICWAbnHd",
        "colab": {
          "base_uri": "https://localhost:8080/",
          "height": 522
        },
        "outputId": "b12fd5f2-4b7f-4337-8b3b-e1bd383ca361"
      },
      "execution_count": null,
      "outputs": [
        {
          "output_type": "execute_result",
          "data": {
            "text/plain": [
              "     mean radius  mean texture  mean perimeter  mean area  mean smoothness  \\\n",
              "0          17.99         10.38          122.80     1001.0          0.11840   \n",
              "1          20.57         17.77          132.90     1326.0          0.08474   \n",
              "2          19.69         21.25          130.00     1203.0          0.10960   \n",
              "3          11.42         20.38           77.58      386.1          0.14250   \n",
              "4          20.29         14.34          135.10     1297.0          0.10030   \n",
              "..           ...           ...             ...        ...              ...   \n",
              "564        21.56         22.39          142.00     1479.0          0.11100   \n",
              "565        20.13         28.25          131.20     1261.0          0.09780   \n",
              "566        16.60         28.08          108.30      858.1          0.08455   \n",
              "567        20.60         29.33          140.10     1265.0          0.11780   \n",
              "568         7.76         24.54           47.92      181.0          0.05263   \n",
              "\n",
              "     mean compactness  mean concavity  mean concave points  mean symmetry  \\\n",
              "0             0.27760         0.30010              0.14710         0.2419   \n",
              "1             0.07864         0.08690              0.07017         0.1812   \n",
              "2             0.15990         0.19740              0.12790         0.2069   \n",
              "3             0.28390         0.24140              0.10520         0.2597   \n",
              "4             0.13280         0.19800              0.10430         0.1809   \n",
              "..                ...             ...                  ...            ...   \n",
              "564           0.11590         0.24390              0.13890         0.1726   \n",
              "565           0.10340         0.14400              0.09791         0.1752   \n",
              "566           0.10230         0.09251              0.05302         0.1590   \n",
              "567           0.27700         0.35140              0.15200         0.2397   \n",
              "568           0.04362         0.00000              0.00000         0.1587   \n",
              "\n",
              "     mean fractal dimension  ...  worst texture  worst perimeter  worst area  \\\n",
              "0                   0.07871  ...          17.33           184.60      2019.0   \n",
              "1                   0.05667  ...          23.41           158.80      1956.0   \n",
              "2                   0.05999  ...          25.53           152.50      1709.0   \n",
              "3                   0.09744  ...          26.50            98.87       567.7   \n",
              "4                   0.05883  ...          16.67           152.20      1575.0   \n",
              "..                      ...  ...            ...              ...         ...   \n",
              "564                 0.05623  ...          26.40           166.10      2027.0   \n",
              "565                 0.05533  ...          38.25           155.00      1731.0   \n",
              "566                 0.05648  ...          34.12           126.70      1124.0   \n",
              "567                 0.07016  ...          39.42           184.60      1821.0   \n",
              "568                 0.05884  ...          30.37            59.16       268.6   \n",
              "\n",
              "     worst smoothness  worst compactness  worst concavity  \\\n",
              "0             0.16220            0.66560           0.7119   \n",
              "1             0.12380            0.18660           0.2416   \n",
              "2             0.14440            0.42450           0.4504   \n",
              "3             0.20980            0.86630           0.6869   \n",
              "4             0.13740            0.20500           0.4000   \n",
              "..                ...                ...              ...   \n",
              "564           0.14100            0.21130           0.4107   \n",
              "565           0.11660            0.19220           0.3215   \n",
              "566           0.11390            0.30940           0.3403   \n",
              "567           0.16500            0.86810           0.9387   \n",
              "568           0.08996            0.06444           0.0000   \n",
              "\n",
              "     worst concave points  worst symmetry  worst fractal dimension  label  \n",
              "0                  0.2654          0.4601                  0.11890      0  \n",
              "1                  0.1860          0.2750                  0.08902      0  \n",
              "2                  0.2430          0.3613                  0.08758      0  \n",
              "3                  0.2575          0.6638                  0.17300      0  \n",
              "4                  0.1625          0.2364                  0.07678      0  \n",
              "..                    ...             ...                      ...    ...  \n",
              "564                0.2216          0.2060                  0.07115      0  \n",
              "565                0.1628          0.2572                  0.06637      0  \n",
              "566                0.1418          0.2218                  0.07820      0  \n",
              "567                0.2650          0.4087                  0.12400      0  \n",
              "568                0.0000          0.2871                  0.07039      1  \n",
              "\n",
              "[569 rows x 31 columns]"
            ],
            "text/html": [
              "\n",
              "  <div id=\"df-8bfd5309-cf04-4284-91b7-7ce340276926\">\n",
              "    <div class=\"colab-df-container\">\n",
              "      <div>\n",
              "<style scoped>\n",
              "    .dataframe tbody tr th:only-of-type {\n",
              "        vertical-align: middle;\n",
              "    }\n",
              "\n",
              "    .dataframe tbody tr th {\n",
              "        vertical-align: top;\n",
              "    }\n",
              "\n",
              "    .dataframe thead th {\n",
              "        text-align: right;\n",
              "    }\n",
              "</style>\n",
              "<table border=\"1\" class=\"dataframe\">\n",
              "  <thead>\n",
              "    <tr style=\"text-align: right;\">\n",
              "      <th></th>\n",
              "      <th>mean radius</th>\n",
              "      <th>mean texture</th>\n",
              "      <th>mean perimeter</th>\n",
              "      <th>mean area</th>\n",
              "      <th>mean smoothness</th>\n",
              "      <th>mean compactness</th>\n",
              "      <th>mean concavity</th>\n",
              "      <th>mean concave points</th>\n",
              "      <th>mean symmetry</th>\n",
              "      <th>mean fractal dimension</th>\n",
              "      <th>...</th>\n",
              "      <th>worst texture</th>\n",
              "      <th>worst perimeter</th>\n",
              "      <th>worst area</th>\n",
              "      <th>worst smoothness</th>\n",
              "      <th>worst compactness</th>\n",
              "      <th>worst concavity</th>\n",
              "      <th>worst concave points</th>\n",
              "      <th>worst symmetry</th>\n",
              "      <th>worst fractal dimension</th>\n",
              "      <th>label</th>\n",
              "    </tr>\n",
              "  </thead>\n",
              "  <tbody>\n",
              "    <tr>\n",
              "      <th>0</th>\n",
              "      <td>17.99</td>\n",
              "      <td>10.38</td>\n",
              "      <td>122.80</td>\n",
              "      <td>1001.0</td>\n",
              "      <td>0.11840</td>\n",
              "      <td>0.27760</td>\n",
              "      <td>0.30010</td>\n",
              "      <td>0.14710</td>\n",
              "      <td>0.2419</td>\n",
              "      <td>0.07871</td>\n",
              "      <td>...</td>\n",
              "      <td>17.33</td>\n",
              "      <td>184.60</td>\n",
              "      <td>2019.0</td>\n",
              "      <td>0.16220</td>\n",
              "      <td>0.66560</td>\n",
              "      <td>0.7119</td>\n",
              "      <td>0.2654</td>\n",
              "      <td>0.4601</td>\n",
              "      <td>0.11890</td>\n",
              "      <td>0</td>\n",
              "    </tr>\n",
              "    <tr>\n",
              "      <th>1</th>\n",
              "      <td>20.57</td>\n",
              "      <td>17.77</td>\n",
              "      <td>132.90</td>\n",
              "      <td>1326.0</td>\n",
              "      <td>0.08474</td>\n",
              "      <td>0.07864</td>\n",
              "      <td>0.08690</td>\n",
              "      <td>0.07017</td>\n",
              "      <td>0.1812</td>\n",
              "      <td>0.05667</td>\n",
              "      <td>...</td>\n",
              "      <td>23.41</td>\n",
              "      <td>158.80</td>\n",
              "      <td>1956.0</td>\n",
              "      <td>0.12380</td>\n",
              "      <td>0.18660</td>\n",
              "      <td>0.2416</td>\n",
              "      <td>0.1860</td>\n",
              "      <td>0.2750</td>\n",
              "      <td>0.08902</td>\n",
              "      <td>0</td>\n",
              "    </tr>\n",
              "    <tr>\n",
              "      <th>2</th>\n",
              "      <td>19.69</td>\n",
              "      <td>21.25</td>\n",
              "      <td>130.00</td>\n",
              "      <td>1203.0</td>\n",
              "      <td>0.10960</td>\n",
              "      <td>0.15990</td>\n",
              "      <td>0.19740</td>\n",
              "      <td>0.12790</td>\n",
              "      <td>0.2069</td>\n",
              "      <td>0.05999</td>\n",
              "      <td>...</td>\n",
              "      <td>25.53</td>\n",
              "      <td>152.50</td>\n",
              "      <td>1709.0</td>\n",
              "      <td>0.14440</td>\n",
              "      <td>0.42450</td>\n",
              "      <td>0.4504</td>\n",
              "      <td>0.2430</td>\n",
              "      <td>0.3613</td>\n",
              "      <td>0.08758</td>\n",
              "      <td>0</td>\n",
              "    </tr>\n",
              "    <tr>\n",
              "      <th>3</th>\n",
              "      <td>11.42</td>\n",
              "      <td>20.38</td>\n",
              "      <td>77.58</td>\n",
              "      <td>386.1</td>\n",
              "      <td>0.14250</td>\n",
              "      <td>0.28390</td>\n",
              "      <td>0.24140</td>\n",
              "      <td>0.10520</td>\n",
              "      <td>0.2597</td>\n",
              "      <td>0.09744</td>\n",
              "      <td>...</td>\n",
              "      <td>26.50</td>\n",
              "      <td>98.87</td>\n",
              "      <td>567.7</td>\n",
              "      <td>0.20980</td>\n",
              "      <td>0.86630</td>\n",
              "      <td>0.6869</td>\n",
              "      <td>0.2575</td>\n",
              "      <td>0.6638</td>\n",
              "      <td>0.17300</td>\n",
              "      <td>0</td>\n",
              "    </tr>\n",
              "    <tr>\n",
              "      <th>4</th>\n",
              "      <td>20.29</td>\n",
              "      <td>14.34</td>\n",
              "      <td>135.10</td>\n",
              "      <td>1297.0</td>\n",
              "      <td>0.10030</td>\n",
              "      <td>0.13280</td>\n",
              "      <td>0.19800</td>\n",
              "      <td>0.10430</td>\n",
              "      <td>0.1809</td>\n",
              "      <td>0.05883</td>\n",
              "      <td>...</td>\n",
              "      <td>16.67</td>\n",
              "      <td>152.20</td>\n",
              "      <td>1575.0</td>\n",
              "      <td>0.13740</td>\n",
              "      <td>0.20500</td>\n",
              "      <td>0.4000</td>\n",
              "      <td>0.1625</td>\n",
              "      <td>0.2364</td>\n",
              "      <td>0.07678</td>\n",
              "      <td>0</td>\n",
              "    </tr>\n",
              "    <tr>\n",
              "      <th>...</th>\n",
              "      <td>...</td>\n",
              "      <td>...</td>\n",
              "      <td>...</td>\n",
              "      <td>...</td>\n",
              "      <td>...</td>\n",
              "      <td>...</td>\n",
              "      <td>...</td>\n",
              "      <td>...</td>\n",
              "      <td>...</td>\n",
              "      <td>...</td>\n",
              "      <td>...</td>\n",
              "      <td>...</td>\n",
              "      <td>...</td>\n",
              "      <td>...</td>\n",
              "      <td>...</td>\n",
              "      <td>...</td>\n",
              "      <td>...</td>\n",
              "      <td>...</td>\n",
              "      <td>...</td>\n",
              "      <td>...</td>\n",
              "      <td>...</td>\n",
              "    </tr>\n",
              "    <tr>\n",
              "      <th>564</th>\n",
              "      <td>21.56</td>\n",
              "      <td>22.39</td>\n",
              "      <td>142.00</td>\n",
              "      <td>1479.0</td>\n",
              "      <td>0.11100</td>\n",
              "      <td>0.11590</td>\n",
              "      <td>0.24390</td>\n",
              "      <td>0.13890</td>\n",
              "      <td>0.1726</td>\n",
              "      <td>0.05623</td>\n",
              "      <td>...</td>\n",
              "      <td>26.40</td>\n",
              "      <td>166.10</td>\n",
              "      <td>2027.0</td>\n",
              "      <td>0.14100</td>\n",
              "      <td>0.21130</td>\n",
              "      <td>0.4107</td>\n",
              "      <td>0.2216</td>\n",
              "      <td>0.2060</td>\n",
              "      <td>0.07115</td>\n",
              "      <td>0</td>\n",
              "    </tr>\n",
              "    <tr>\n",
              "      <th>565</th>\n",
              "      <td>20.13</td>\n",
              "      <td>28.25</td>\n",
              "      <td>131.20</td>\n",
              "      <td>1261.0</td>\n",
              "      <td>0.09780</td>\n",
              "      <td>0.10340</td>\n",
              "      <td>0.14400</td>\n",
              "      <td>0.09791</td>\n",
              "      <td>0.1752</td>\n",
              "      <td>0.05533</td>\n",
              "      <td>...</td>\n",
              "      <td>38.25</td>\n",
              "      <td>155.00</td>\n",
              "      <td>1731.0</td>\n",
              "      <td>0.11660</td>\n",
              "      <td>0.19220</td>\n",
              "      <td>0.3215</td>\n",
              "      <td>0.1628</td>\n",
              "      <td>0.2572</td>\n",
              "      <td>0.06637</td>\n",
              "      <td>0</td>\n",
              "    </tr>\n",
              "    <tr>\n",
              "      <th>566</th>\n",
              "      <td>16.60</td>\n",
              "      <td>28.08</td>\n",
              "      <td>108.30</td>\n",
              "      <td>858.1</td>\n",
              "      <td>0.08455</td>\n",
              "      <td>0.10230</td>\n",
              "      <td>0.09251</td>\n",
              "      <td>0.05302</td>\n",
              "      <td>0.1590</td>\n",
              "      <td>0.05648</td>\n",
              "      <td>...</td>\n",
              "      <td>34.12</td>\n",
              "      <td>126.70</td>\n",
              "      <td>1124.0</td>\n",
              "      <td>0.11390</td>\n",
              "      <td>0.30940</td>\n",
              "      <td>0.3403</td>\n",
              "      <td>0.1418</td>\n",
              "      <td>0.2218</td>\n",
              "      <td>0.07820</td>\n",
              "      <td>0</td>\n",
              "    </tr>\n",
              "    <tr>\n",
              "      <th>567</th>\n",
              "      <td>20.60</td>\n",
              "      <td>29.33</td>\n",
              "      <td>140.10</td>\n",
              "      <td>1265.0</td>\n",
              "      <td>0.11780</td>\n",
              "      <td>0.27700</td>\n",
              "      <td>0.35140</td>\n",
              "      <td>0.15200</td>\n",
              "      <td>0.2397</td>\n",
              "      <td>0.07016</td>\n",
              "      <td>...</td>\n",
              "      <td>39.42</td>\n",
              "      <td>184.60</td>\n",
              "      <td>1821.0</td>\n",
              "      <td>0.16500</td>\n",
              "      <td>0.86810</td>\n",
              "      <td>0.9387</td>\n",
              "      <td>0.2650</td>\n",
              "      <td>0.4087</td>\n",
              "      <td>0.12400</td>\n",
              "      <td>0</td>\n",
              "    </tr>\n",
              "    <tr>\n",
              "      <th>568</th>\n",
              "      <td>7.76</td>\n",
              "      <td>24.54</td>\n",
              "      <td>47.92</td>\n",
              "      <td>181.0</td>\n",
              "      <td>0.05263</td>\n",
              "      <td>0.04362</td>\n",
              "      <td>0.00000</td>\n",
              "      <td>0.00000</td>\n",
              "      <td>0.1587</td>\n",
              "      <td>0.05884</td>\n",
              "      <td>...</td>\n",
              "      <td>30.37</td>\n",
              "      <td>59.16</td>\n",
              "      <td>268.6</td>\n",
              "      <td>0.08996</td>\n",
              "      <td>0.06444</td>\n",
              "      <td>0.0000</td>\n",
              "      <td>0.0000</td>\n",
              "      <td>0.2871</td>\n",
              "      <td>0.07039</td>\n",
              "      <td>1</td>\n",
              "    </tr>\n",
              "  </tbody>\n",
              "</table>\n",
              "<p>569 rows × 31 columns</p>\n",
              "</div>\n",
              "      <button class=\"colab-df-convert\" onclick=\"convertToInteractive('df-8bfd5309-cf04-4284-91b7-7ce340276926')\"\n",
              "              title=\"Convert this dataframe to an interactive table.\"\n",
              "              style=\"display:none;\">\n",
              "        \n",
              "  <svg xmlns=\"http://www.w3.org/2000/svg\" height=\"24px\"viewBox=\"0 0 24 24\"\n",
              "       width=\"24px\">\n",
              "    <path d=\"M0 0h24v24H0V0z\" fill=\"none\"/>\n",
              "    <path d=\"M18.56 5.44l.94 2.06.94-2.06 2.06-.94-2.06-.94-.94-2.06-.94 2.06-2.06.94zm-11 1L8.5 8.5l.94-2.06 2.06-.94-2.06-.94L8.5 2.5l-.94 2.06-2.06.94zm10 10l.94 2.06.94-2.06 2.06-.94-2.06-.94-.94-2.06-.94 2.06-2.06.94z\"/><path d=\"M17.41 7.96l-1.37-1.37c-.4-.4-.92-.59-1.43-.59-.52 0-1.04.2-1.43.59L10.3 9.45l-7.72 7.72c-.78.78-.78 2.05 0 2.83L4 21.41c.39.39.9.59 1.41.59.51 0 1.02-.2 1.41-.59l7.78-7.78 2.81-2.81c.8-.78.8-2.07 0-2.86zM5.41 20L4 18.59l7.72-7.72 1.47 1.35L5.41 20z\"/>\n",
              "  </svg>\n",
              "      </button>\n",
              "      \n",
              "  <style>\n",
              "    .colab-df-container {\n",
              "      display:flex;\n",
              "      flex-wrap:wrap;\n",
              "      gap: 12px;\n",
              "    }\n",
              "\n",
              "    .colab-df-convert {\n",
              "      background-color: #E8F0FE;\n",
              "      border: none;\n",
              "      border-radius: 50%;\n",
              "      cursor: pointer;\n",
              "      display: none;\n",
              "      fill: #1967D2;\n",
              "      height: 32px;\n",
              "      padding: 0 0 0 0;\n",
              "      width: 32px;\n",
              "    }\n",
              "\n",
              "    .colab-df-convert:hover {\n",
              "      background-color: #E2EBFA;\n",
              "      box-shadow: 0px 1px 2px rgba(60, 64, 67, 0.3), 0px 1px 3px 1px rgba(60, 64, 67, 0.15);\n",
              "      fill: #174EA6;\n",
              "    }\n",
              "\n",
              "    [theme=dark] .colab-df-convert {\n",
              "      background-color: #3B4455;\n",
              "      fill: #D2E3FC;\n",
              "    }\n",
              "\n",
              "    [theme=dark] .colab-df-convert:hover {\n",
              "      background-color: #434B5C;\n",
              "      box-shadow: 0px 1px 3px 1px rgba(0, 0, 0, 0.15);\n",
              "      filter: drop-shadow(0px 1px 2px rgba(0, 0, 0, 0.3));\n",
              "      fill: #FFFFFF;\n",
              "    }\n",
              "  </style>\n",
              "\n",
              "      <script>\n",
              "        const buttonEl =\n",
              "          document.querySelector('#df-8bfd5309-cf04-4284-91b7-7ce340276926 button.colab-df-convert');\n",
              "        buttonEl.style.display =\n",
              "          google.colab.kernel.accessAllowed ? 'block' : 'none';\n",
              "\n",
              "        async function convertToInteractive(key) {\n",
              "          const element = document.querySelector('#df-8bfd5309-cf04-4284-91b7-7ce340276926');\n",
              "          const dataTable =\n",
              "            await google.colab.kernel.invokeFunction('convertToInteractive',\n",
              "                                                     [key], {});\n",
              "          if (!dataTable) return;\n",
              "\n",
              "          const docLinkHtml = 'Like what you see? Visit the ' +\n",
              "            '<a target=\"_blank\" href=https://colab.research.google.com/notebooks/data_table.ipynb>data table notebook</a>'\n",
              "            + ' to learn more about interactive tables.';\n",
              "          element.innerHTML = '';\n",
              "          dataTable['output_type'] = 'display_data';\n",
              "          await google.colab.output.renderOutput(dataTable, element);\n",
              "          const docLink = document.createElement('div');\n",
              "          docLink.innerHTML = docLinkHtml;\n",
              "          element.appendChild(docLink);\n",
              "        }\n",
              "      </script>\n",
              "    </div>\n",
              "  </div>\n",
              "  "
            ]
          },
          "metadata": {},
          "execution_count": 140
        }
      ]
    },
    {
      "cell_type": "markdown",
      "source": [
        "\n",
        "<br>\n",
        "\n",
        "학습을 위해 데이터를 구분한다.\n",
        "\n",
        "학습에 사용될 Training Dataset과 모델의 성능을 평가할 Test Dataset으로 데이터를 나누기 위해 scikit-learn이 제공하는 train_test_split을 활용하였다.\n",
        "\n",
        "Test Dataset의 비율은 전체 데이터의 20%로 설정(test_size=0.2)하고, 랜덤성을 특정(random_state=42)하였다.\n",
        "\n",
        "아래와 같이 Training Dataset(X_train3) 455개, Test Dataset(X_test3) 114개로 구분되었다."
      ],
      "metadata": {
        "id": "NidC8ZmIKQAe"
      }
    },
    {
      "cell_type": "code",
      "source": [
        "# 데이터 구분 \n",
        "X_train3, X_test3, y_train3, y_test3 = train_test_split(bc_data, bc_label, test_size=0.2, random_state=42)\n",
        "\n",
        "print('- X_train3 개수: ', len(X_train3),', X_test3 개수: ', len(X_test3))\n"
      ],
      "metadata": {
        "id": "NoJ1JYiEbnHd",
        "colab": {
          "base_uri": "https://localhost:8080/"
        },
        "outputId": "c1c211ee-f94e-48e3-8e87-9fe0bbe3fd65"
      },
      "execution_count": null,
      "outputs": [
        {
          "output_type": "stream",
          "name": "stdout",
          "text": [
            "- X_train3 개수:  455 , X_test3 개수:  114\n"
          ]
        }
      ]
    },
    {
      "cell_type": "markdown",
      "source": [
        "<br>\n",
        "\n",
        "데이터 셋팅이 마쳤으니 이제 학습을 시켜보자.\n",
        "\n",
        "<br>\n",
        "\n",
        "###**[학습01.] Decision Tree**"
      ],
      "metadata": {
        "id": "y1oCqe04d4IR"
      }
    },
    {
      "cell_type": "code",
      "source": [
        "''' 학습 셋팅 '''\n",
        "# 학습\n",
        "decision_tree.fit(X_train3, y_train3)\n",
        "\n",
        "# 예측\n",
        "y_pred_21 = decision_tree.predict(X_test3)\n",
        "\n",
        "# 정확도\n",
        "from sklearn.metrics import accuracy_score\n",
        "accuracy = accuracy_score(y_test3, y_pred_21)\n",
        "print(f'► Decision Tree의 정확도는 {accuracy}') "
      ],
      "metadata": {
        "id": "9mP3n99_d4Ic",
        "colab": {
          "base_uri": "https://localhost:8080/"
        },
        "outputId": "30698b40-827e-4ede-c8de-5aa1932212b4"
      },
      "execution_count": null,
      "outputs": [
        {
          "output_type": "stream",
          "name": "stdout",
          "text": [
            "► Decision Tree의 정확도는 0.9473684210526315\n"
          ]
        }
      ]
    },
    {
      "cell_type": "markdown",
      "source": [
        "<br>\n",
        "\n",
        "###**[학습02.] Random Forest**"
      ],
      "metadata": {
        "id": "7ey9urj7d4Id"
      }
    },
    {
      "cell_type": "code",
      "source": [
        "''' 학습 셋팅 '''\n",
        "# 학습\n",
        "random_forest.fit(X_train3, y_train3)\n",
        "\n",
        "# 예측\n",
        "y_pred_22 = random_forest.predict(X_test3)\n",
        "\n",
        "# 정확도\n",
        "accuracy = accuracy_score(y_test3, y_pred_22)\n",
        "print(f'► Random Forest의 정확도는 {accuracy}') "
      ],
      "metadata": {
        "id": "TxiLFqNWd4Id",
        "colab": {
          "base_uri": "https://localhost:8080/"
        },
        "outputId": "68c2dcda-5d4c-4668-a5cf-02d12e57fa7a"
      },
      "execution_count": null,
      "outputs": [
        {
          "output_type": "stream",
          "name": "stdout",
          "text": [
            "► Random Forest의 정확도는 0.9649122807017544\n"
          ]
        }
      ]
    },
    {
      "cell_type": "markdown",
      "source": [
        "<br>\n",
        "\n",
        "###**[학습03.] Support Vector Machine(SVM)**"
      ],
      "metadata": {
        "id": "HrgiAeY0d4Id"
      }
    },
    {
      "cell_type": "code",
      "source": [
        "''' 학습 셋팅 '''\n",
        "# 학습\n",
        "svm_model.fit(X_train3, y_train3)\n",
        "\n",
        "# 예측\n",
        "y_pred_23 = svm_model.predict(X_test3)\n",
        "\n",
        "# 정확도\n",
        "accuracy = accuracy_score(y_test3, y_pred_23)\n",
        "print(f'► SVM의 정확도는 {accuracy}') "
      ],
      "metadata": {
        "id": "Zjfec55Yd4Id",
        "colab": {
          "base_uri": "https://localhost:8080/"
        },
        "outputId": "63ec1790-e06b-4c25-924f-5cc980d01fc8"
      },
      "execution_count": null,
      "outputs": [
        {
          "output_type": "stream",
          "name": "stdout",
          "text": [
            "► SVM의 정확도는 0.9473684210526315\n"
          ]
        }
      ]
    },
    {
      "cell_type": "markdown",
      "source": [
        "<br>\n",
        "\n",
        "###**[학습04.] SGD Classifier**"
      ],
      "metadata": {
        "id": "ECphszGkd4Ie"
      }
    },
    {
      "cell_type": "code",
      "source": [
        "''' 학습 셋팅 '''\n",
        "# 학습 \n",
        "sgd_model.fit(X_train3, y_train3)\n",
        "\n",
        "# 예측\n",
        "y_pred_24 = sgd_model.predict(X_test3)\n",
        "\n",
        "# 정확도\n",
        "accuracy = accuracy_score(y_test3, y_pred_24)\n",
        "print(f'► SGD Classifier의 정확도는 {accuracy}') "
      ],
      "metadata": {
        "id": "4Wgm8BZJd4Ie",
        "colab": {
          "base_uri": "https://localhost:8080/"
        },
        "outputId": "6c0febc3-f284-4f8f-9a71-b0d57cf8b54e"
      },
      "execution_count": null,
      "outputs": [
        {
          "output_type": "stream",
          "name": "stdout",
          "text": [
            "► SGD Classifier의 정확도는 0.956140350877193\n"
          ]
        }
      ]
    },
    {
      "cell_type": "markdown",
      "source": [
        "<br>\n",
        "\n",
        "###**[학습05.] Logistic Regression**"
      ],
      "metadata": {
        "id": "0CUFaTDxd4Ie"
      }
    },
    {
      "cell_type": "code",
      "source": [
        "''' 학습 셋팅 '''\n",
        "# 학습\n",
        "logistic_model.fit(X_train3, y_train3)\n",
        "\n",
        "# 예측\n",
        "y_pred_25 = logistic_model.predict(X_test3)\n",
        "\n",
        "# 정확도\n",
        "accuracy = accuracy_score(y_test3, y_pred_25)\n",
        "print(f'► Logistic Regression의 정확도는 {accuracy}') "
      ],
      "metadata": {
        "id": "bRXvbJE3d4Ie",
        "colab": {
          "base_uri": "https://localhost:8080/"
        },
        "outputId": "148f7511-70c3-4569-aa08-a1e640ef0116"
      },
      "execution_count": null,
      "outputs": [
        {
          "output_type": "stream",
          "name": "stdout",
          "text": [
            "► Logistic Regression의 정확도는 0.956140350877193\n"
          ]
        }
      ]
    },
    {
      "cell_type": "markdown",
      "source": [
        "            \n",
        "<br>\n",
        "\n",
        "###**모델 평가**"
      ],
      "metadata": {
        "id": "g6IYX3KEeVzT"
      }
    },
    {
      "cell_type": "markdown",
      "source": [
        "정확도(accuracy)를 비교할 경우,\n",
        "**Random Forest**의 정확도가 **96.5%**, **SGD Classifier, Logistic Regression**의 정확도가 **95.6%**로 높게 나타났다.\n",
        "\n",
        "오차행렬(confusion_matrix)을 이용한 classification report은 아래 보는 것과 같다. 다섯 모델 모두 비교적 균일한 F1 score와 accuracy와의 차이도 크지 않음을 알 수 있다. \n",
        "\n",
        "다만, 유방암 진단이라는 목표는 실제 악성 환자임에도 이를 파악하지 못하여 적정 치료시기를 놓치는 경우가 가장 위험한 오류라고 볼 수 있다. 따라서 FN 낮아야 하므로 Recall(재현률)을 더 중요시 하는 것이 적정하다고 판단된다. 정확도가 높은 모델 가운데 **SGD Classifier**가 악성(malignant)을 의미하는 '0'의 Recall이 1.0로 재현률에 있어 매우 높은 성과를 보임을 알 수 있다.\n",
        "\n",
        "\n",
        "\n",
        "\n"
      ],
      "metadata": {
        "id": "VLIbX_UEeVzd"
      }
    },
    {
      "cell_type": "code",
      "source": [
        "from sklearn.metrics import confusion_matrix\n",
        "from sklearn.metrics import classification_report\n",
        "\n",
        "# Decision Tree report\n",
        "confusion_matrix(y_test3, y_pred_21)\n",
        "print(classification_report(y_test3, y_pred_21))"
      ],
      "metadata": {
        "id": "pa7OS6UzeVzd",
        "colab": {
          "base_uri": "https://localhost:8080/"
        },
        "outputId": "58f70a24-6020-4f0c-8b13-fac70f413cfb"
      },
      "execution_count": null,
      "outputs": [
        {
          "output_type": "stream",
          "name": "stdout",
          "text": [
            "              precision    recall  f1-score   support\n",
            "\n",
            "           0       0.93      0.93      0.93        43\n",
            "           1       0.96      0.96      0.96        71\n",
            "\n",
            "    accuracy                           0.95       114\n",
            "   macro avg       0.94      0.94      0.94       114\n",
            "weighted avg       0.95      0.95      0.95       114\n",
            "\n"
          ]
        }
      ]
    },
    {
      "cell_type": "code",
      "source": [
        "# Random Forest report\n",
        "confusion_matrix(y_test3, y_pred_22)\n",
        "print(classification_report(y_test3, y_pred_22))"
      ],
      "metadata": {
        "id": "2VrPe3r9eVze",
        "colab": {
          "base_uri": "https://localhost:8080/"
        },
        "outputId": "6d4747b3-65ad-4a5c-f204-cba8352c74f0"
      },
      "execution_count": null,
      "outputs": [
        {
          "output_type": "stream",
          "name": "stdout",
          "text": [
            "              precision    recall  f1-score   support\n",
            "\n",
            "           0       0.98      0.93      0.95        43\n",
            "           1       0.96      0.99      0.97        71\n",
            "\n",
            "    accuracy                           0.96       114\n",
            "   macro avg       0.97      0.96      0.96       114\n",
            "weighted avg       0.97      0.96      0.96       114\n",
            "\n"
          ]
        }
      ]
    },
    {
      "cell_type": "code",
      "source": [
        "# SVM report\n",
        "confusion_matrix(y_test3, y_pred_23)\n",
        "print(classification_report(y_test3, y_pred_23))"
      ],
      "metadata": {
        "id": "hJueJD2HeVze",
        "colab": {
          "base_uri": "https://localhost:8080/"
        },
        "outputId": "861bf559-1505-4858-8581-d9063e749d83"
      },
      "execution_count": null,
      "outputs": [
        {
          "output_type": "stream",
          "name": "stdout",
          "text": [
            "              precision    recall  f1-score   support\n",
            "\n",
            "           0       1.00      0.86      0.92        43\n",
            "           1       0.92      1.00      0.96        71\n",
            "\n",
            "    accuracy                           0.95       114\n",
            "   macro avg       0.96      0.93      0.94       114\n",
            "weighted avg       0.95      0.95      0.95       114\n",
            "\n"
          ]
        }
      ]
    },
    {
      "cell_type": "code",
      "source": [
        "# SGD Classifier report\n",
        "confusion_matrix(y_test3, y_pred_24)\n",
        "print(classification_report(y_test3, y_pred_24, zero_division=1))"
      ],
      "metadata": {
        "id": "GlcuruQoeVze",
        "colab": {
          "base_uri": "https://localhost:8080/"
        },
        "outputId": "c4661abc-f5d5-4d44-813c-65ab918f83e3"
      },
      "execution_count": null,
      "outputs": [
        {
          "output_type": "stream",
          "name": "stdout",
          "text": [
            "              precision    recall  f1-score   support\n",
            "\n",
            "           0       0.90      1.00      0.95        43\n",
            "           1       1.00      0.93      0.96        71\n",
            "\n",
            "    accuracy                           0.96       114\n",
            "   macro avg       0.95      0.96      0.95       114\n",
            "weighted avg       0.96      0.96      0.96       114\n",
            "\n"
          ]
        }
      ]
    },
    {
      "cell_type": "code",
      "source": [
        "# Logistic Regression report\n",
        "confusion_matrix(y_test3, y_pred_25)\n",
        "print(classification_report(y_test3, y_pred_25))"
      ],
      "metadata": {
        "id": "ZX870uHzeVzf",
        "colab": {
          "base_uri": "https://localhost:8080/"
        },
        "outputId": "0f9bd8d0-b5e6-469f-dc87-4d745d81c433"
      },
      "execution_count": null,
      "outputs": [
        {
          "output_type": "stream",
          "name": "stdout",
          "text": [
            "              precision    recall  f1-score   support\n",
            "\n",
            "           0       0.97      0.91      0.94        43\n",
            "           1       0.95      0.99      0.97        71\n",
            "\n",
            "    accuracy                           0.96       114\n",
            "   macro avg       0.96      0.95      0.95       114\n",
            "weighted avg       0.96      0.96      0.96       114\n",
            "\n"
          ]
        }
      ]
    },
    {
      "cell_type": "markdown",
      "source": [
        "\n",
        "<br>\n",
        "\n",
        "SGD Classifier의 훈련 세트와 테스트 세트를 그래프로 그려보자. 에포크를 300까지 늘려갈 때 점수변화를 알아볼 수 있도록 셋팅했다.\n",
        "\n",
        "아래 그래프에서 볼 수 있듯이, 이 학습의 경우 에포크 값을 늘리는 것 자체가 큰 의미는 없다. 100번대에서 양호한 점수에 이르는 것으로 보고 이를 기준으로 다시 한 번 학습을 하겠다. \n",
        "\n",
        "이전 정확도에 비해 소폭 상승하여 "
      ],
      "metadata": {
        "id": "7dNYmHYVQovD"
      }
    },
    {
      "cell_type": "code",
      "source": [
        "# SGD Classifier Score Graph: 300번의 에포크 기록 \n",
        "import numpy as np\n",
        "sc = SGDClassifier(random_state=42)\n",
        "train_score = []\n",
        "test_score = []\n",
        "classes = np.unique(y_train3)\n",
        "\n",
        "for _ in range(0, 300):\n",
        "    sc.partial_fit(X_train3, y_train3, classes=classes)\n",
        "    train_score.append(sc.score(X_train3, y_train3))\n",
        "    test_score.append(sc.score(X_test3, y_test3))\n",
        "\n",
        "import matplotlib.pyplot as plt\n",
        "plt.plot(train_score, label=\"train score\")\n",
        "plt.plot(test_score, label=\"test score\")\n",
        "plt.xlabel('epoch')\n",
        "plt.ylabel('accuracy')\n",
        "plt.legend()\n",
        "plt.show()"
      ],
      "metadata": {
        "id": "U5b8yj33qnWs",
        "colab": {
          "base_uri": "https://localhost:8080/",
          "height": 282
        },
        "outputId": "bc294220-ab16-4b9d-c9ff-58aebe60838c"
      },
      "execution_count": null,
      "outputs": [
        {
          "output_type": "display_data",
          "data": {
            "text/plain": [
              "<Figure size 432x288 with 1 Axes>"
            ],
            "image/png": "[encoded data removed]"
          },
          "metadata": {
            "needs_background": "light"
          }
        }
      ]
    },
    {
      "cell_type": "code",
      "source": [
        "''' develop 01 '''\n",
        "sgd_model = SGDClassifier(max_iter=100, tol=None, random_state=32)\n",
        "\n",
        "# 학습 \n",
        "sgd_model.fit(X_train3, y_train3)\n",
        "\n",
        "# 예측\n",
        "y_pred_24 = sgd_model.predict(X_test3)\n",
        "\n",
        "# 정확도\n",
        "accuracy = accuracy_score(y_test3, y_pred_24)\n",
        "print(f'► SGD Classifier의 정확도는 {accuracy}') "
      ],
      "metadata": {
        "colab": {
          "base_uri": "https://localhost:8080/"
        },
        "outputId": "351bf74d-b218-44ca-ddf1-bd8f0244c35a",
        "id": "Jzv6APAPsndr"
      },
      "execution_count": null,
      "outputs": [
        {
          "output_type": "stream",
          "name": "stdout",
          "text": [
            "► SGD Classifier의 정확도는 0.9649122807017544\n"
          ]
        }
      ]
    },
    {
      "cell_type": "markdown",
      "source": [
        "<br>\n",
        "\n",
        "해당 모델의 정확도를 더 높일 수 있는 방안은 없을까? 모델이 예측한 확률 값을 직접적으로 반영하여 평가하는 Log loss를 적용해보자.\n",
        "\n",
        "아래와 같이, 정확도가 97.4%로 증가했다. \n",
        "\n",
        "\n",
        "\n"
      ],
      "metadata": {
        "id": "JCGP-lIfvZW7"
      }
    },
    {
      "cell_type": "code",
      "source": [
        "''' develop 02 '''\n",
        "sgd_model = SGDClassifier(loss='log', max_iter=100, tol=None, random_state=32)\n",
        "\n",
        "# 학습 \n",
        "sgd_model.fit(X_train3, y_train3)\n",
        "\n",
        "# 예측\n",
        "y_pred_24 = sgd_model.predict(X_test3)\n",
        "\n",
        "# 정확도\n",
        "accuracy = accuracy_score(y_test3, y_pred_24)\n",
        "print(f'► SGD Classifier의 정확도는 {accuracy}') "
      ],
      "metadata": {
        "colab": {
          "base_uri": "https://localhost:8080/"
        },
        "outputId": "3756397f-a989-4852-cb85-4c87a2e4c44c",
        "id": "GTgTe9HytluC"
      },
      "execution_count": null,
      "outputs": [
        {
          "output_type": "stream",
          "name": "stdout",
          "text": [
            "► SGD Classifier의 정확도는 0.9736842105263158\n"
          ]
        }
      ]
    },
    {
      "cell_type": "markdown",
      "source": [
        "<br>\n",
        "\n",
        "\n",
        "###**소 결**\n",
        "\n"
      ],
      "metadata": {
        "id": "1ghEis01eVzf"
      }
    },
    {
      "cell_type": "markdown",
      "source": [
        "5가지 모델을 통해 유방암을 진단한 결과는 다음과 같다.\n",
        "\n",
        "*   **Decision Tree**\n",
        "    *   accuracy : 0.95\n",
        "    *   f1-score : (min)0.93,  (max)0.96\n",
        "    *   recall : (min)0.93,  (max)0.96\n",
        "*   **Random Forest**\n",
        "    *   accuracy : 0.96\n",
        "    *   f1-score : (min)0.95,  (max)0.97\n",
        "    *   recall : (min)0.93,  (max)0.99\n",
        "*   **Support Vector Machine(SVM)**\n",
        "    *   accuracy : 0.95\n",
        "    *   f1-score : (min)0.92,  (max)0.96\n",
        "    *   recall : (min)0.86,  (max)1.00\n",
        "*   **SGD Classifier**\n",
        "    *   accuracy : 0.96\n",
        "    *   f1-score : (min)0.95,  (max)0.96\n",
        "    *   recall : (min)0.93,  (max)1.00\n",
        "*   **Logistic Regression**\n",
        "    *   accuracy : 0.96\n",
        "    *   f1-score : (min)0.94,  (max)0.97\n",
        "    *   recall : (min)0.91,  (max)0.99\n",
        "\n",
        "<br>\n",
        "\n",
        "유방암 진단은 악성 환자를 놓치는 FN을 낮추는 것이 중요하므로 재현률(Recall)을 추가 평가지표로 선택했다. 따라서 정밀도와 F1-score 높은 모델들 가운데 Recall값이 가장 높게 나온 **SGD Classifier**가 적합한 모델이라고 판단된다.\n",
        "\n",
        "기본적인 SGD Classifier 모델의 학습에 Epoch 값을 조정하여 성능을 개선할 수 있으며, Log loss을 적용하여 정확도를 증가시킬 수 있었다. 정확도 95.6%에서 Epoch 적용(100) 및 Log loss로 최종 97.4%까지 성능을 향상할 수 있었다.\n",
        "\n",
        "\n",
        "\n",
        "\n",
        "\n",
        "\n",
        "<br><br><br><br><br><br>\n",
        "\n"
      ],
      "metadata": {
        "id": "-bMu6wnoeVzf"
      }
    },
    {
      "cell_type": "markdown",
      "source": [
        "\n",
        "\n",
        "---\n",
        "\n",
        "# **III. 결 론**\n",
        "\n",
        "<br>\n",
        "\n",
        "(1) 손글씨 이미지 판별, (2) 와인 종류 판별, (3) 유방암 여부 진단, 총 3개의 문제를 해결하기 위해 해당 데이터를 import한 후 분석을 실시하고, 제시된 5가지의 Classification model을 기본으로 학습 및 테스트를 수행하였다. 또한 수행 결과의 평가를 위한 지표를 검토하여 가장 적정한 모델을 선택했다. \n",
        "\n",
        "이 과정에서 몇 가지 어려움이 있었다. 과적합이 발생한 경우가 있었고, 정확도(accuracy)가 유사한 모델 간 선택이 문제이기도 했다. 검증점수를 더 높일 수 있는 방법도 고민 되었다.\n",
        "\n",
        "이를 해결하고자 추가적으로 과적합 여부 분석, 대안모델 검토, 규제적용 등을 실시했다. 또한 동일 모델에 Epoch를 조정한 결과를 비교하여 성능에 미치는 영향을 검토하였으며, Log loss를 통해 예측값의 정답확률을 높이기도 했다. 모든 시도가 성능개선에 유효한 역할을 한 것은 아니었지만 보다 나은 문제해결 방안을 찾기위한 노력이었다. 이때 데이터별 검증점수를 시각화하여 눈으로 확인하는 것이 대안을 모색하는 데 도움이 되었다.  \n",
        "\n",
        "세 문제 모두 데이터 셋팅 및 학습은 유사한 구조로 진행됐지만 학습의 결과 및 적정 평가지표는 각각 달랐다. 결과값을 이해하고 평가를 올바르게 하기 위해서는 무엇보다 원 데이터의 이해가 중요하다는 생각이 든다. 데이터에 대한 이해가 선행되어야 해결하고자 하는 문제가 무엇인지 정확히 인식할 수 있고, 그래야 적절한 평가도 가능하다.\n",
        "\n",
        "<br>\n",
        "\n",
        "**[향후 과제]**\n",
        "\n",
        "훈련 데이터의 검증점수가 만점(1.0)인 것 자체가 과대적합(overfitting)으로 해석되어야 하는지 판단하기 어려웠다. 특히 테스트 데이터의 점수는 적정한 차이를 두고 훈련 데이터 점수를 하회하는 경우, 성능이 좋다고 판단하여도 되는지에 관한 배경지식이 아직은 부족하다.\n",
        "\n",
        "규제적용으로 조절되지 않은 과소적합(underfitting)을 해소할 방법을 알아내는 것도 향후 과제이다. 개념적으로는 훈련모델을 보다 고도화하는 것이 하나의 방법이 될 수 있다고 생각되는데 실제로 어떤 대안이 있는지 추가연구가 필요하다.\n",
        "\n",
        "\n"
      ],
      "metadata": {
        "id": "1GyE3sDpSy4a"
      }
    },
    {
      "cell_type": "markdown",
      "source": [
        "            \n",
        "<br><br><br>\n",
        "\n",
        "\n",
        "\n",
        "---\n",
        "\n",
        "<br>\n",
        "\n",
        "< 참고문헌 >\n",
        "\n",
        "- ⌈혼자 공부하는 머신러닝 딥러닝⌋, 한빛미디어, 박해선 지음\n",
        "\n",
        "<br><br>\n",
        "\n",
        "---\n",
        "\n"
      ],
      "metadata": {
        "id": "VvtvwZRiR-eU"
      }
    }
  ]
}