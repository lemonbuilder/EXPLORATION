{
  "nbformat": 4,
  "nbformat_minor": 0,
  "metadata": {
    "colab": {
      "name": "[E-06]LyricsGenerator.ipynb",
      "provenance": [],
      "collapsed_sections": [],
      "toc_visible": true,
      "authorship_tag": "ABX9TyNZAALq4bAqau/D4Fc8ZsUI"
    },
    "kernelspec": {
      "name": "python3",
      "display_name": "Python 3"
    },
    "language_info": {
      "name": "python"
    },
    "widgets": {
      "application/vnd.jupyter.widget-state+json": {
        "fb02e277f578443f9b4cdcde2467de1b": {
          "model_module": "@jupyter-widgets/controls",
          "model_name": "HBoxModel",
          "model_module_version": "1.5.0",
          "state": {
            "_dom_classes": [],
            "_model_module": "@jupyter-widgets/controls",
            "_model_module_version": "1.5.0",
            "_model_name": "HBoxModel",
            "_view_count": null,
            "_view_module": "@jupyter-widgets/controls",
            "_view_module_version": "1.5.0",
            "_view_name": "HBoxView",
            "box_style": "",
            "children": [
              "IPY_MODEL_80c9536622dc4aee984b2a7f782271a7",
              "IPY_MODEL_a2c8d2942087483ca7e3c7a3d1e4e340",
              "IPY_MODEL_599109db0bdc41bbaae950af7f6aa2d4"
            ],
            "layout": "IPY_MODEL_17ebd0db5c6a4f62936d914eabd69d1e"
          }
        },
        "80c9536622dc4aee984b2a7f782271a7": {
          "model_module": "@jupyter-widgets/controls",
          "model_name": "HTMLModel",
          "model_module_version": "1.5.0",
          "state": {
            "_dom_classes": [],
            "_model_module": "@jupyter-widgets/controls",
            "_model_module_version": "1.5.0",
            "_model_name": "HTMLModel",
            "_view_count": null,
            "_view_module": "@jupyter-widgets/controls",
            "_view_module_version": "1.5.0",
            "_view_name": "HTMLView",
            "description": "",
            "description_tooltip": null,
            "layout": "IPY_MODEL_5dc9bd6f72f74027ab6e2c8cb3ef2a35",
            "placeholder": "​",
            "style": "IPY_MODEL_e42857c0a5ed43f7b348e4dd1882585b",
            "value": "Downloading: 100%"
          }
        },
        "a2c8d2942087483ca7e3c7a3d1e4e340": {
          "model_module": "@jupyter-widgets/controls",
          "model_name": "FloatProgressModel",
          "model_module_version": "1.5.0",
          "state": {
            "_dom_classes": [],
            "_model_module": "@jupyter-widgets/controls",
            "_model_module_version": "1.5.0",
            "_model_name": "FloatProgressModel",
            "_view_count": null,
            "_view_module": "@jupyter-widgets/controls",
            "_view_module_version": "1.5.0",
            "_view_name": "ProgressView",
            "bar_style": "success",
            "description": "",
            "description_tooltip": null,
            "layout": "IPY_MODEL_e0bd2d91915948c99ec748968593e954",
            "max": 2825034,
            "min": 0,
            "orientation": "horizontal",
            "style": "IPY_MODEL_50f9330fdf5f456cb0316bea0fafd07c",
            "value": 2825034
          }
        },
        "599109db0bdc41bbaae950af7f6aa2d4": {
          "model_module": "@jupyter-widgets/controls",
          "model_name": "HTMLModel",
          "model_module_version": "1.5.0",
          "state": {
            "_dom_classes": [],
            "_model_module": "@jupyter-widgets/controls",
            "_model_module_version": "1.5.0",
            "_model_name": "HTMLModel",
            "_view_count": null,
            "_view_module": "@jupyter-widgets/controls",
            "_view_module_version": "1.5.0",
            "_view_name": "HTMLView",
            "description": "",
            "description_tooltip": null,
            "layout": "IPY_MODEL_a89d325953844909a224b0ac8e050ad8",
            "placeholder": "​",
            "style": "IPY_MODEL_b976a55f41bd4868b5bbfccd3d0e1009",
            "value": " 2.69M/2.69M [00:00&lt;00:00, 8.54MB/s]"
          }
        },
        "17ebd0db5c6a4f62936d914eabd69d1e": {
          "model_module": "@jupyter-widgets/base",
          "model_name": "LayoutModel",
          "model_module_version": "1.2.0",
          "state": {
            "_model_module": "@jupyter-widgets/base",
            "_model_module_version": "1.2.0",
            "_model_name": "LayoutModel",
            "_view_count": null,
            "_view_module": "@jupyter-widgets/base",
            "_view_module_version": "1.2.0",
            "_view_name": "LayoutView",
            "align_content": null,
            "align_items": null,
            "align_self": null,
            "border": null,
            "bottom": null,
            "display": null,
            "flex": null,
            "flex_flow": null,
            "grid_area": null,
            "grid_auto_columns": null,
            "grid_auto_flow": null,
            "grid_auto_rows": null,
            "grid_column": null,
            "grid_gap": null,
            "grid_row": null,
            "grid_template_areas": null,
            "grid_template_columns": null,
            "grid_template_rows": null,
            "height": null,
            "justify_content": null,
            "justify_items": null,
            "left": null,
            "margin": null,
            "max_height": null,
            "max_width": null,
            "min_height": null,
            "min_width": null,
            "object_fit": null,
            "object_position": null,
            "order": null,
            "overflow": null,
            "overflow_x": null,
            "overflow_y": null,
            "padding": null,
            "right": null,
            "top": null,
            "visibility": null,
            "width": null
          }
        },
        "5dc9bd6f72f74027ab6e2c8cb3ef2a35": {
          "model_module": "@jupyter-widgets/base",
          "model_name": "LayoutModel",
          "model_module_version": "1.2.0",
          "state": {
            "_model_module": "@jupyter-widgets/base",
            "_model_module_version": "1.2.0",
            "_model_name": "LayoutModel",
            "_view_count": null,
            "_view_module": "@jupyter-widgets/base",
            "_view_module_version": "1.2.0",
            "_view_name": "LayoutView",
            "align_content": null,
            "align_items": null,
            "align_self": null,
            "border": null,
            "bottom": null,
            "display": null,
            "flex": null,
            "flex_flow": null,
            "grid_area": null,
            "grid_auto_columns": null,
            "grid_auto_flow": null,
            "grid_auto_rows": null,
            "grid_column": null,
            "grid_gap": null,
            "grid_row": null,
            "grid_template_areas": null,
            "grid_template_columns": null,
            "grid_template_rows": null,
            "height": null,
            "justify_content": null,
            "justify_items": null,
            "left": null,
            "margin": null,
            "max_height": null,
            "max_width": null,
            "min_height": null,
            "min_width": null,
            "object_fit": null,
            "object_position": null,
            "order": null,
            "overflow": null,
            "overflow_x": null,
            "overflow_y": null,
            "padding": null,
            "right": null,
            "top": null,
            "visibility": null,
            "width": null
          }
        },
        "e42857c0a5ed43f7b348e4dd1882585b": {
          "model_module": "@jupyter-widgets/controls",
          "model_name": "DescriptionStyleModel",
          "model_module_version": "1.5.0",
          "state": {
            "_model_module": "@jupyter-widgets/controls",
            "_model_module_version": "1.5.0",
            "_model_name": "DescriptionStyleModel",
            "_view_count": null,
            "_view_module": "@jupyter-widgets/base",
            "_view_module_version": "1.2.0",
            "_view_name": "StyleView",
            "description_width": ""
          }
        },
        "e0bd2d91915948c99ec748968593e954": {
          "model_module": "@jupyter-widgets/base",
          "model_name": "LayoutModel",
          "model_module_version": "1.2.0",
          "state": {
            "_model_module": "@jupyter-widgets/base",
            "_model_module_version": "1.2.0",
            "_model_name": "LayoutModel",
            "_view_count": null,
            "_view_module": "@jupyter-widgets/base",
            "_view_module_version": "1.2.0",
            "_view_name": "LayoutView",
            "align_content": null,
            "align_items": null,
            "align_self": null,
            "border": null,
            "bottom": null,
            "display": null,
            "flex": null,
            "flex_flow": null,
            "grid_area": null,
            "grid_auto_columns": null,
            "grid_auto_flow": null,
            "grid_auto_rows": null,
            "grid_column": null,
            "grid_gap": null,
            "grid_row": null,
            "grid_template_areas": null,
            "grid_template_columns": null,
            "grid_template_rows": null,
            "height": null,
            "justify_content": null,
            "justify_items": null,
            "left": null,
            "margin": null,
            "max_height": null,
            "max_width": null,
            "min_height": null,
            "min_width": null,
            "object_fit": null,
            "object_position": null,
            "order": null,
            "overflow": null,
            "overflow_x": null,
            "overflow_y": null,
            "padding": null,
            "right": null,
            "top": null,
            "visibility": null,
            "width": null
          }
        },
        "50f9330fdf5f456cb0316bea0fafd07c": {
          "model_module": "@jupyter-widgets/controls",
          "model_name": "ProgressStyleModel",
          "model_module_version": "1.5.0",
          "state": {
            "_model_module": "@jupyter-widgets/controls",
            "_model_module_version": "1.5.0",
            "_model_name": "ProgressStyleModel",
            "_view_count": null,
            "_view_module": "@jupyter-widgets/base",
            "_view_module_version": "1.2.0",
            "_view_name": "StyleView",
            "bar_color": null,
            "description_width": ""
          }
        },
        "a89d325953844909a224b0ac8e050ad8": {
          "model_module": "@jupyter-widgets/base",
          "model_name": "LayoutModel",
          "model_module_version": "1.2.0",
          "state": {
            "_model_module": "@jupyter-widgets/base",
            "_model_module_version": "1.2.0",
            "_model_name": "LayoutModel",
            "_view_count": null,
            "_view_module": "@jupyter-widgets/base",
            "_view_module_version": "1.2.0",
            "_view_name": "LayoutView",
            "align_content": null,
            "align_items": null,
            "align_self": null,
            "border": null,
            "bottom": null,
            "display": null,
            "flex": null,
            "flex_flow": null,
            "grid_area": null,
            "grid_auto_columns": null,
            "grid_auto_flow": null,
            "grid_auto_rows": null,
            "grid_column": null,
            "grid_gap": null,
            "grid_row": null,
            "grid_template_areas": null,
            "grid_template_columns": null,
            "grid_template_rows": null,
            "height": null,
            "justify_content": null,
            "justify_items": null,
            "left": null,
            "margin": null,
            "max_height": null,
            "max_width": null,
            "min_height": null,
            "min_width": null,
            "object_fit": null,
            "object_position": null,
            "order": null,
            "overflow": null,
            "overflow_x": null,
            "overflow_y": null,
            "padding": null,
            "right": null,
            "top": null,
            "visibility": null,
            "width": null
          }
        },
        "b976a55f41bd4868b5bbfccd3d0e1009": {
          "model_module": "@jupyter-widgets/controls",
          "model_name": "DescriptionStyleModel",
          "model_module_version": "1.5.0",
          "state": {
            "_model_module": "@jupyter-widgets/controls",
            "_model_module_version": "1.5.0",
            "_model_name": "DescriptionStyleModel",
            "_view_count": null,
            "_view_module": "@jupyter-widgets/base",
            "_view_module_version": "1.2.0",
            "_view_name": "StyleView",
            "description_width": ""
          }
        },
        "9fe1678ccb1f46259cf5696b3ea7a5ff": {
          "model_module": "@jupyter-widgets/controls",
          "model_name": "HBoxModel",
          "model_module_version": "1.5.0",
          "state": {
            "_dom_classes": [],
            "_model_module": "@jupyter-widgets/controls",
            "_model_module_version": "1.5.0",
            "_model_name": "HBoxModel",
            "_view_count": null,
            "_view_module": "@jupyter-widgets/controls",
            "_view_module_version": "1.5.0",
            "_view_name": "HBoxView",
            "box_style": "",
            "children": [
              "IPY_MODEL_012aa6a655f649f2ac4489c7f7453303",
              "IPY_MODEL_32f3b6afd2384f8a914e353e9052c2bf",
              "IPY_MODEL_61c15064317141b4942448b40cd876d4"
            ],
            "layout": "IPY_MODEL_27cce30a7a2d45839d5c367f0330f6ce"
          }
        },
        "012aa6a655f649f2ac4489c7f7453303": {
          "model_module": "@jupyter-widgets/controls",
          "model_name": "HTMLModel",
          "model_module_version": "1.5.0",
          "state": {
            "_dom_classes": [],
            "_model_module": "@jupyter-widgets/controls",
            "_model_module_version": "1.5.0",
            "_model_name": "HTMLModel",
            "_view_count": null,
            "_view_module": "@jupyter-widgets/controls",
            "_view_module_version": "1.5.0",
            "_view_name": "HTMLView",
            "description": "",
            "description_tooltip": null,
            "layout": "IPY_MODEL_3296807401ee4a1d9b235b691b2c5ab0",
            "placeholder": "​",
            "style": "IPY_MODEL_be2e319749d946a78537022987a822af",
            "value": "Downloading: 100%"
          }
        },
        "32f3b6afd2384f8a914e353e9052c2bf": {
          "model_module": "@jupyter-widgets/controls",
          "model_name": "FloatProgressModel",
          "model_module_version": "1.5.0",
          "state": {
            "_dom_classes": [],
            "_model_module": "@jupyter-widgets/controls",
            "_model_module_version": "1.5.0",
            "_model_name": "FloatProgressModel",
            "_view_count": null,
            "_view_module": "@jupyter-widgets/controls",
            "_view_module_version": "1.5.0",
            "_view_name": "ProgressView",
            "bar_style": "success",
            "description": "",
            "description_tooltip": null,
            "layout": "IPY_MODEL_0a29ffa1c3b74215b18e55b353b22cfc",
            "max": 1000,
            "min": 0,
            "orientation": "horizontal",
            "style": "IPY_MODEL_eab8d1df3fb643ea9f8918240e62cba3",
            "value": 1000
          }
        },
        "61c15064317141b4942448b40cd876d4": {
          "model_module": "@jupyter-widgets/controls",
          "model_name": "HTMLModel",
          "model_module_version": "1.5.0",
          "state": {
            "_dom_classes": [],
            "_model_module": "@jupyter-widgets/controls",
            "_model_module_version": "1.5.0",
            "_model_name": "HTMLModel",
            "_view_count": null,
            "_view_module": "@jupyter-widgets/controls",
            "_view_module_version": "1.5.0",
            "_view_name": "HTMLView",
            "description": "",
            "description_tooltip": null,
            "layout": "IPY_MODEL_89aac0e1749143f99d6c697c05c6ce77",
            "placeholder": "​",
            "style": "IPY_MODEL_fe4434d9ae614438a2399a9656dfafb0",
            "value": " 0.98k/0.98k [00:00&lt;00:00, 17.1kB/s]"
          }
        },
        "27cce30a7a2d45839d5c367f0330f6ce": {
          "model_module": "@jupyter-widgets/base",
          "model_name": "LayoutModel",
          "model_module_version": "1.2.0",
          "state": {
            "_model_module": "@jupyter-widgets/base",
            "_model_module_version": "1.2.0",
            "_model_name": "LayoutModel",
            "_view_count": null,
            "_view_module": "@jupyter-widgets/base",
            "_view_module_version": "1.2.0",
            "_view_name": "LayoutView",
            "align_content": null,
            "align_items": null,
            "align_self": null,
            "border": null,
            "bottom": null,
            "display": null,
            "flex": null,
            "flex_flow": null,
            "grid_area": null,
            "grid_auto_columns": null,
            "grid_auto_flow": null,
            "grid_auto_rows": null,
            "grid_column": null,
            "grid_gap": null,
            "grid_row": null,
            "grid_template_areas": null,
            "grid_template_columns": null,
            "grid_template_rows": null,
            "height": null,
            "justify_content": null,
            "justify_items": null,
            "left": null,
            "margin": null,
            "max_height": null,
            "max_width": null,
            "min_height": null,
            "min_width": null,
            "object_fit": null,
            "object_position": null,
            "order": null,
            "overflow": null,
            "overflow_x": null,
            "overflow_y": null,
            "padding": null,
            "right": null,
            "top": null,
            "visibility": null,
            "width": null
          }
        },
        "3296807401ee4a1d9b235b691b2c5ab0": {
          "model_module": "@jupyter-widgets/base",
          "model_name": "LayoutModel",
          "model_module_version": "1.2.0",
          "state": {
            "_model_module": "@jupyter-widgets/base",
            "_model_module_version": "1.2.0",
            "_model_name": "LayoutModel",
            "_view_count": null,
            "_view_module": "@jupyter-widgets/base",
            "_view_module_version": "1.2.0",
            "_view_name": "LayoutView",
            "align_content": null,
            "align_items": null,
            "align_self": null,
            "border": null,
            "bottom": null,
            "display": null,
            "flex": null,
            "flex_flow": null,
            "grid_area": null,
            "grid_auto_columns": null,
            "grid_auto_flow": null,
            "grid_auto_rows": null,
            "grid_column": null,
            "grid_gap": null,
            "grid_row": null,
            "grid_template_areas": null,
            "grid_template_columns": null,
            "grid_template_rows": null,
            "height": null,
            "justify_content": null,
            "justify_items": null,
            "left": null,
            "margin": null,
            "max_height": null,
            "max_width": null,
            "min_height": null,
            "min_width": null,
            "object_fit": null,
            "object_position": null,
            "order": null,
            "overflow": null,
            "overflow_x": null,
            "overflow_y": null,
            "padding": null,
            "right": null,
            "top": null,
            "visibility": null,
            "width": null
          }
        },
        "be2e319749d946a78537022987a822af": {
          "model_module": "@jupyter-widgets/controls",
          "model_name": "DescriptionStyleModel",
          "model_module_version": "1.5.0",
          "state": {
            "_model_module": "@jupyter-widgets/controls",
            "_model_module_version": "1.5.0",
            "_model_name": "DescriptionStyleModel",
            "_view_count": null,
            "_view_module": "@jupyter-widgets/base",
            "_view_module_version": "1.2.0",
            "_view_name": "StyleView",
            "description_width": ""
          }
        },
        "0a29ffa1c3b74215b18e55b353b22cfc": {
          "model_module": "@jupyter-widgets/base",
          "model_name": "LayoutModel",
          "model_module_version": "1.2.0",
          "state": {
            "_model_module": "@jupyter-widgets/base",
            "_model_module_version": "1.2.0",
            "_model_name": "LayoutModel",
            "_view_count": null,
            "_view_module": "@jupyter-widgets/base",
            "_view_module_version": "1.2.0",
            "_view_name": "LayoutView",
            "align_content": null,
            "align_items": null,
            "align_self": null,
            "border": null,
            "bottom": null,
            "display": null,
            "flex": null,
            "flex_flow": null,
            "grid_area": null,
            "grid_auto_columns": null,
            "grid_auto_flow": null,
            "grid_auto_rows": null,
            "grid_column": null,
            "grid_gap": null,
            "grid_row": null,
            "grid_template_areas": null,
            "grid_template_columns": null,
            "grid_template_rows": null,
            "height": null,
            "justify_content": null,
            "justify_items": null,
            "left": null,
            "margin": null,
            "max_height": null,
            "max_width": null,
            "min_height": null,
            "min_width": null,
            "object_fit": null,
            "object_position": null,
            "order": null,
            "overflow": null,
            "overflow_x": null,
            "overflow_y": null,
            "padding": null,
            "right": null,
            "top": null,
            "visibility": null,
            "width": null
          }
        },
        "eab8d1df3fb643ea9f8918240e62cba3": {
          "model_module": "@jupyter-widgets/controls",
          "model_name": "ProgressStyleModel",
          "model_module_version": "1.5.0",
          "state": {
            "_model_module": "@jupyter-widgets/controls",
            "_model_module_version": "1.5.0",
            "_model_name": "ProgressStyleModel",
            "_view_count": null,
            "_view_module": "@jupyter-widgets/base",
            "_view_module_version": "1.2.0",
            "_view_name": "StyleView",
            "bar_color": null,
            "description_width": ""
          }
        },
        "89aac0e1749143f99d6c697c05c6ce77": {
          "model_module": "@jupyter-widgets/base",
          "model_name": "LayoutModel",
          "model_module_version": "1.2.0",
          "state": {
            "_model_module": "@jupyter-widgets/base",
            "_model_module_version": "1.2.0",
            "_model_name": "LayoutModel",
            "_view_count": null,
            "_view_module": "@jupyter-widgets/base",
            "_view_module_version": "1.2.0",
            "_view_name": "LayoutView",
            "align_content": null,
            "align_items": null,
            "align_self": null,
            "border": null,
            "bottom": null,
            "display": null,
            "flex": null,
            "flex_flow": null,
            "grid_area": null,
            "grid_auto_columns": null,
            "grid_auto_flow": null,
            "grid_auto_rows": null,
            "grid_column": null,
            "grid_gap": null,
            "grid_row": null,
            "grid_template_areas": null,
            "grid_template_columns": null,
            "grid_template_rows": null,
            "height": null,
            "justify_content": null,
            "justify_items": null,
            "left": null,
            "margin": null,
            "max_height": null,
            "max_width": null,
            "min_height": null,
            "min_width": null,
            "object_fit": null,
            "object_position": null,
            "order": null,
            "overflow": null,
            "overflow_x": null,
            "overflow_y": null,
            "padding": null,
            "right": null,
            "top": null,
            "visibility": null,
            "width": null
          }
        },
        "fe4434d9ae614438a2399a9656dfafb0": {
          "model_module": "@jupyter-widgets/controls",
          "model_name": "DescriptionStyleModel",
          "model_module_version": "1.5.0",
          "state": {
            "_model_module": "@jupyter-widgets/controls",
            "_model_module_version": "1.5.0",
            "_model_name": "DescriptionStyleModel",
            "_view_count": null,
            "_view_module": "@jupyter-widgets/base",
            "_view_module_version": "1.2.0",
            "_view_name": "StyleView",
            "description_width": ""
          }
        }
      }
    }
  },
  "cells": [
    {
      "cell_type": "markdown",
      "source": [
        "# [E-06] AI로 작사를 한다는 것\n",
        "\n",
        "\n",
        "<br>\n",
        "\n",
        "< 목 차 >\n",
        "\n",
        "###I.   서 론\n",
        "\n",
        "###II.  본 론\n",
        "\n",
        "1. **문장 생성; validation loss 평가**  \n",
        "\n",
        "    1) Baseline 구축  \n",
        "    2) Hyper parameter 조정  \n",
        "    3) Vocabulary 확대\n",
        "\n",
        "2. **시적표현 선별; 정성적 평가**  \n",
        "3. **Case study**  \n",
        "\n",
        "\n",
        "\n",
        "###III. 결 론\n",
        "\n",
        "<br><br><br>\n",
        "\n"
      ],
      "metadata": {
        "id": "leVYjy_xVvHH"
      }
    },
    {
      "cell_type": "markdown",
      "source": [
        "\n",
        "\n",
        "---\n",
        "\n",
        "# **I.  서 론**\n",
        "\n",
        "<br>\n",
        "\n",
        "\n",
        "####**[ 배경 및 의의 ]**\n",
        "\n",
        "**작사**(作詞), 노랫말을 만드는 것. \n",
        "\n",
        "이번 과정에서는 Deep learning 중에서도 **순환신경망(RNN)**을 활용하여 작사를 하는 인공지능을 구현해 본다. 노랫말에는 감정과 생각이 넘치게 담겨있거나 극도로 절제되어 있다. 시적허용이 빈번한 언어표현 중 하나이기도 하다. 그저 '문장 생성'이 아니라 '작사'라면 단순히 어법에 맞는 문장을 만들어내는 그 이상이 되어야 할 것이다. 특히 노래가사가 갖는 함축적이고 은유적인 특성을 담아낼 수 있어야 한다. 그게 가능할까.\n",
        "\n",
        "진심을 담은 글은 사람의 마음도 움직이게 할 수 있다고 믿으며 살았다. 기계가 만들어낸 문장이 사람의 마음을 움직일 수 있을지, 그리고 그런 작업을 내 손으로 해낼 수 있을지. 기대가 되면서도 또 한편으론 묘한 감정으로 Exploration을 시작한다.\n",
        "\n",
        "<br>\n",
        "\n",
        "####**[ 목표 ]**\n",
        "*   자연어 전처리 과정의 이해\n",
        "*   RNN(Recurrent Neural Network)을 활용한 MODEL 구현\n",
        "*   뜻이 통하는 문장의 생성\n",
        "*   노랫말로서의 평가 및 함의 도출\n",
        "*   성능향상을 위한 방안 고찰\n",
        "\n",
        "\n",
        "<br><br><br>\n"
      ],
      "metadata": {
        "id": "0cBbyPWRSO06"
      }
    },
    {
      "cell_type": "markdown",
      "source": [
        "\n",
        "\n",
        "---\n",
        "\n",
        "# **II. 본 론**"
      ],
      "metadata": {
        "id": "S8GdvnPWSxWA"
      }
    },
    {
      "cell_type": "markdown",
      "source": [
        "이번에 구현할 RNN(Recurrent Neural Network) MODEL에서 조정할 수 있는 주요 인자 가운데 Embedding size, Hidden size, Batch size가 있다. 각각의 개념과 함께 함의를 생각봄으로써 어떤 방식으로 이를 조정해나갈 것인지 방향을 설정할 수 있을 것이다. \n",
        "\n",
        "\n",
        "\n",
        "<br>\n",
        "\n",
        "\n",
        "**[개념 정리]**\n",
        "\n",
        "\n",
        "**⎮ Embedding size**\n",
        "\n",
        "Embedding 이란 가중치 매개변수로부터 단어에 해당하는 행(벡터)를 추출하는 계층이다. 이 Embedding 계층에 단어의 임베딩(분산 표현)이 저장된다. \n",
        "\n",
        "Embedding size는 워드 벡터의 차원수, 즉 단어가 추상적으로 표현되는 크기다. 값이 커질수록 단어의 추상적인 특징을 더 잡아낼 수 있지만 그만큼 충분한 데이터가 주어지지 않으면 오히려 혼란을 야기한다.[1]\n",
        "\n",
        "<br>\n",
        "\n",
        "**⎮ Hidden size**\n",
        "\n",
        "RNN 계층의 순환구조 내에는 '닫힌 경로' 또는 '순환하는 경로'가 존재한다. 여기서 데이터가 순환하면서 정보가 끊임없이 갱신되는 것이다. 이로 인해 과거의 정보를 기억하는 동시에 최신 데이터로 갱신할 수 있다.[3] \n",
        "\n",
        "LMS 본문에서는 Hidden state의 차원수에 해당하는 Hidden size를 '모델에 얼마나 많은 일꾼을 둘 것인가'로 이해할 수 있다고 설명한다. 그 일꾼들이 모두 같은 데이터를 보고 각자의 생각을 가지는데, 충분한 데이터가 주어지면 올바른 결정을 내리겠지만 그렇지 않으면 역효과다. \n",
        "\n",
        "<br>\n",
        "\n",
        "**⎮ Batch size**\n",
        "\n",
        "Batch는 하나로 묶은 데이터를 한꺼번에 입력하여 처리하는 방식을 의미한다. Batch를 적용하여 개개의 데이터를 다룰 때보다 큰 배열의 정보를 효율적으로 처리할 수 있고 부하를 줄일 수 있다. 또한 데이터 학습 시 Batch 단위로 대표성을 지닌 가중치를 업데이트 함으로써 Model의 범용성을 높일 수 있다.\n",
        "\n",
        "이때 어느 정도의 데이터를 한 묶음으로 나타낼 것인지가 Batch size다. 일반적으로 Batch size가 너무 클 경우 한 번에 처리해야 할 데이터가 많아지므로 메모리 부족문제가 발생할 수 있고, 너무 작을 경우에는 가중치 업데이트의 표본으로 역할이 어려울 수 있다.  "
      ],
      "metadata": {
        "id": "GdQgnUmzn8Uc"
      }
    },
    {
      "cell_type": "markdown",
      "source": [
        "<br><br><br>\n",
        "\n",
        "\n",
        "##**1. 문장 생성**; validation loss 평가\n",
        "\n",
        "\n"
      ],
      "metadata": {
        "id": "aKGjl_wKXs-5"
      }
    },
    {
      "cell_type": "markdown",
      "source": [
        "<br><br>\n",
        "\n",
        "###**1) Data 처리 및 Baseline 구축**\n",
        "\n",
        "<br>\n",
        "\n"
      ],
      "metadata": {
        "id": "ZsWosgCFLBvR"
      }
    },
    {
      "cell_type": "code",
      "execution_count": null,
      "metadata": {
        "colab": {
          "base_uri": "https://localhost:8080/"
        },
        "id": "NXI8vx0zvBr5",
        "outputId": "79183ffe-d272-48e5-904d-264a58221577"
      },
      "outputs": [
        {
          "output_type": "stream",
          "name": "stdout",
          "text": [
            "Mounted at /content/drive\n"
          ]
        }
      ],
      "source": [
        "''' 구글드라이브 마운트 '''\n",
        "from google.colab import drive\n",
        "drive.mount('/content/drive')"
      ]
    },
    {
      "cell_type": "code",
      "execution_count": null,
      "metadata": {
        "id": "CPBlrza1rBDD"
      },
      "outputs": [],
      "source": [
        "import glob\n",
        "import tensorflow"
      ]
    },
    {
      "cell_type": "code",
      "execution_count": null,
      "metadata": {
        "colab": {
          "base_uri": "https://localhost:8080/"
        },
        "id": "55gWlJuysQaF",
        "outputId": "8620e165-805e-48a9-b550-4febba7d5115"
      },
      "outputs": [
        {
          "output_type": "stream",
          "name": "stdout",
          "text": [
            "데이터 크기: 187088\n",
            "Examples:\n",
            " [\"Let's stay together I, I'm I'm so in love with you\", 'Whatever you want to do', 'Is all right with me']\n"
          ]
        }
      ],
      "source": [
        "txt_file_path = '/content/drive/MyDrive/data/LSMdata/lyrics/*'\n",
        "\n",
        "txt_list = glob.glob(txt_file_path)\n",
        "\n",
        "raw_corpus = []\n",
        "\n",
        "for txt_file in txt_list:\n",
        "    with open(txt_file, \"r\") as f:\n",
        "        raw = f.read().splitlines()\n",
        "        raw_corpus.extend(raw)\n",
        "\n",
        "print(\"데이터 크기:\", len(raw_corpus))\n",
        "print(\"Examples:\\n\", raw_corpus[:3])"
      ]
    },
    {
      "cell_type": "markdown",
      "metadata": {
        "id": "LDxpL8oEwofQ"
      },
      "source": [
        "<br><br>\n",
        "\n",
        "**[ 데이터 정제 ]**\n",
        "\n",
        "preprocess_sentence() 함수를 활용하여 데이터를 정제한다. 이때 지나치게 긴 문장은 과도한 Padding의 원인이 될 수 있어서 토큰의 개수가 15개를 넘어가는 문장을 학습 데이터에서 제외하였다."
      ]
    },
    {
      "cell_type": "code",
      "execution_count": null,
      "metadata": {
        "colab": {
          "base_uri": "https://localhost:8080/"
        },
        "id": "uVCK73oesYPg",
        "outputId": "0da3196a-a785-4e1c-c764-85785683786a"
      },
      "outputs": [
        {
          "output_type": "stream",
          "name": "stdout",
          "text": [
            "<start> this is sample sentence . <end>\n"
          ]
        }
      ],
      "source": [
        "import os, re \n",
        "import numpy as np\n",
        "import tensorflow as tf\n",
        "\n",
        "def preprocess_sentence(sentence):\n",
        "    sentence = sentence.lower().strip() # 1\n",
        "    sentence = re.sub(r\"([?.!,¿])\", r\" \\1 \", sentence) # 2\n",
        "    sentence = re.sub(r'[\" \"]+', \" \", sentence) # 3\n",
        "    sentence = re.sub(r\"[^a-zA-Z?.!,¿]+\", \" \", sentence) # 4\n",
        "    sentence = sentence.strip() # 5\n",
        "    sentence = '<start> ' + sentence + ' <end>' # 6\n",
        "    return sentence\n",
        "\n",
        "print(preprocess_sentence(\"This @_is ;;;sample        sentence.\"))"
      ]
    },
    {
      "cell_type": "code",
      "execution_count": null,
      "metadata": {
        "colab": {
          "base_uri": "https://localhost:8080/"
        },
        "id": "nwWvWevnxwEp",
        "outputId": "273e5fc7-12f1-498a-c32e-5810c872082d"
      },
      "outputs": [
        {
          "output_type": "execute_result",
          "data": {
            "text/plain": [
              "['<start> whatever you want to do <end>',\n",
              " '<start> is all right with me <end>',\n",
              " '<start> cause you make me feel so brand new <end>',\n",
              " '<start> loving you forever <end>',\n",
              " '<start> is what i need <end>',\n",
              " '<start> let me , be the one you come running to <end>',\n",
              " '<start> i ll never be untrue oh baby <end>',\n",
              " '<start> let s , let s stay together gether <end>',\n",
              " '<start> lovin you whether , whether <end>',\n",
              " '<start> times are good or bad , happy or sad <end>']"
            ]
          },
          "metadata": {},
          "execution_count": 12
        }
      ],
      "source": [
        "# 정제된 문장 수집\n",
        "corpus = []\n",
        "\n",
        "for sentence in raw_corpus:\n",
        "    # 삭제\n",
        "    if len(sentence) == 0: continue\n",
        "    if sentence[-1] == \":\": continue\n",
        "    \n",
        "    # 정제\n",
        "    preprocessed_sentence = preprocess_sentence(sentence)\n",
        "    if len(preprocessed_sentence.split()) > 15: continue   # 토큰 생성 시 15개 이상 제외\n",
        "    corpus.append(preprocessed_sentence)\n",
        "        \n",
        "corpus[:10]"
      ]
    },
    {
      "cell_type": "code",
      "execution_count": null,
      "metadata": {
        "colab": {
          "base_uri": "https://localhost:8080/",
          "height": 36
        },
        "id": "W69poq75bWkn",
        "outputId": "acb75165-0c37-4998-81de-d1e8b6abb36c"
      },
      "outputs": [
        {
          "output_type": "execute_result",
          "data": {
            "text/plain": [
              "'<start> whatever you want to do <end>'"
            ],
            "application/vnd.google.colaboratory.intrinsic+json": {
              "type": "string"
            }
          },
          "metadata": {},
          "execution_count": 13
        }
      ],
      "source": [
        "corpus[0]"
      ]
    },
    {
      "cell_type": "markdown",
      "metadata": {
        "id": "yvkW32rU0tUu"
      },
      "source": [
        "<br><br>\n",
        "\n",
        "**[ 토큰 생성 ]**\n",
        "\n",
        "\n",
        "TensorFlow의 Tokenizer와 pad_sequences를 사용하였다. \n",
        "\n",
        "12000단어를 기억할 수 있는 tokenizer를 생성하고, corpus를 이용해 tokenizer 내부의 단어장을 완성한다."
      ]
    },
    {
      "cell_type": "code",
      "execution_count": null,
      "metadata": {
        "colab": {
          "base_uri": "https://localhost:8080/"
        },
        "id": "RJI31QMg0YEe",
        "outputId": "c521c4ff-515c-4aa4-fb0c-a8af41389ea9"
      },
      "outputs": [
        {
          "output_type": "stream",
          "name": "stdout",
          "text": [
            "[[  2 570   7 ...   0   0   0]\n",
            " [  2  26  25 ...   0   0   0]\n",
            " [  2  66   7 ...   0   0   0]\n",
            " ...\n",
            " [  2  21  77 ...   0   0   0]\n",
            " [  2  41  26 ...   0   0   0]\n",
            " [  2  21  77 ...   0   0   0]] <keras_preprocessing.text.Tokenizer object at 0x7ff24e16e3d0>\n"
          ]
        }
      ],
      "source": [
        "def tokenize(corpus):\n",
        "    # tokenizer\n",
        "    tokenizer = tf.keras.preprocessing.text.Tokenizer(\n",
        "        num_words=12000, \n",
        "        filters=' ',\n",
        "        oov_token=\"<unk>\"\n",
        "    )\n",
        "    # corpus를 이용, tokenizer 내부의 단어장을 완성\n",
        "    tokenizer.fit_on_texts(corpus)\n",
        "    # corpus를 Tensor로 변환\n",
        "    tensor = tokenizer.texts_to_sequences(corpus)   \n",
        "    tensor = tf.keras.preprocessing.sequence.pad_sequences(tensor, padding='post')  \n",
        "    \n",
        "    print(tensor,tokenizer)\n",
        "    return tensor, tokenizer\n",
        "\n",
        "tensor, tokenizer = tokenize(corpus)"
      ]
    },
    {
      "cell_type": "code",
      "execution_count": null,
      "metadata": {
        "colab": {
          "base_uri": "https://localhost:8080/"
        },
        "id": "jwu3f-v1bd06",
        "outputId": "9bb44ae4-fc02-4059-adb0-db0fbf1504b2"
      },
      "outputs": [
        {
          "output_type": "stream",
          "name": "stdout",
          "text": [
            "[[  2 570   7 ...   0   0   0]\n",
            " [  2  26  25 ...   0   0   0]\n",
            " [  2  66   7 ...   0   0   0]\n",
            " ...\n",
            " [  2  21  77 ...   0   0   0]\n",
            " [  2  41  26 ...   0   0   0]\n",
            " [  2  21  77 ...   0   0   0]]\n",
            "<keras_preprocessing.text.Tokenizer object at 0x7ff24e16e3d0>\n"
          ]
        },
        {
          "output_type": "execute_result",
          "data": {
            "text/plain": [
              "keras_preprocessing.text.Tokenizer"
            ]
          },
          "metadata": {},
          "execution_count": 16
        }
      ],
      "source": [
        "print(tensor)\n",
        "print(tokenizer)\n",
        "type(tokenizer)"
      ]
    },
    {
      "cell_type": "code",
      "execution_count": null,
      "metadata": {
        "colab": {
          "base_uri": "https://localhost:8080/"
        },
        "id": "JSNHbQHB0--7",
        "outputId": "027a8164-55d8-4b19-880e-1b742b6a4d01"
      },
      "outputs": [
        {
          "output_type": "stream",
          "name": "stdout",
          "text": [
            "1 : <unk>\n",
            "2 : <start>\n",
            "3 : <end>\n",
            "4 : i\n",
            "5 : ,\n",
            "6 : the\n",
            "7 : you\n",
            "8 : and\n",
            "9 : a\n",
            "10 : to\n"
          ]
        }
      ],
      "source": [
        "for idx in tokenizer.index_word:\n",
        "    print(idx, \":\", tokenizer.index_word[idx])\n",
        "\n",
        "    if idx >= 10: break"
      ]
    },
    {
      "cell_type": "code",
      "execution_count": null,
      "metadata": {
        "colab": {
          "base_uri": "https://localhost:8080/"
        },
        "id": "uRxK3cIB1TaB",
        "outputId": "0b38fa29-f9f9-415a-d4b1-8f4c63a56a71"
      },
      "outputs": [
        {
          "output_type": "stream",
          "name": "stdout",
          "text": [
            "[  2 570   7  64  10  48   3   0   0   0   0   0   0   0]\n",
            "[570   7  64  10  48   3   0   0   0   0   0   0   0   0]\n"
          ]
        }
      ],
      "source": [
        "# source 문장 생성\n",
        "src_input = tensor[:, :-1]  \n",
        "\n",
        "# target 문장 생성\n",
        "tgt_input = tensor[:, 1:]    \n",
        "\n",
        "print(src_input[0])\n",
        "print(tgt_input[0])"
      ]
    },
    {
      "cell_type": "code",
      "execution_count": null,
      "metadata": {
        "colab": {
          "base_uri": "https://localhost:8080/"
        },
        "id": "tsDcyOpSf9zu",
        "outputId": "589873c4-23cd-4922-ef9e-d5a9b46a2647"
      },
      "outputs": [
        {
          "output_type": "stream",
          "name": "stdout",
          "text": [
            "(124810, 14)\n",
            "(124810, 14)\n",
            "(31203, 14)\n",
            "(31203, 14)\n"
          ]
        }
      ],
      "source": [
        "from sklearn.model_selection import train_test_split\n",
        "\n",
        "enc_train, enc_val, dec_train, dec_val = train_test_split(src_input, \n",
        "                                                          tgt_input,\n",
        "                                                          test_size=0.2,\n",
        "                                                          shuffle=True, \n",
        "                                                          random_state=42)\n",
        "\n",
        "print(enc_train.shape)\n",
        "print(dec_train.shape)\n",
        "print(enc_val.shape)\n",
        "print(dec_val.shape)"
      ]
    },
    {
      "cell_type": "markdown",
      "metadata": {
        "id": "3TsvddrH3-yy"
      },
      "source": [
        "이제, 데이터셋 객체를 생성한다. tf.data.Dataset객체를 생성하는 방법을 사용하고, 이 경우 데이터 입력 파이프라인을 통한 속도 개선 및 각종 편의 기능을 제공이 가능하다고 한다.\n",
        "\n",
        "data.Dataset.from_tensor_slices() 메소드를 이용해 tf.data.Dataset객체를 생성하였다."
      ]
    },
    {
      "cell_type": "code",
      "execution_count": null,
      "metadata": {
        "colab": {
          "base_uri": "https://localhost:8080/"
        },
        "id": "asf1WyyE39CY",
        "outputId": "f2605962-5969-4491-efff-a6bd7400fbd2"
      },
      "outputs": [
        {
          "output_type": "execute_result",
          "data": {
            "text/plain": [
              "<BatchDataset element_spec=(TensorSpec(shape=(256, 14), dtype=tf.int32, name=None), TensorSpec(shape=(256, 14), dtype=tf.int32, name=None))>"
            ]
          },
          "metadata": {},
          "execution_count": 20
        }
      ],
      "source": [
        "BUFFER_SIZE = len(enc_train)\n",
        "VAL_BUFFER_SIZE = len(enc_val)\n",
        "BATCH_SIZE = 256\n",
        "steps_per_epoch = len(enc_train) // BATCH_SIZE\n",
        "\n",
        " # tokenizer가 구축한 단어사전 + 0:<pad>를 포함\n",
        "VOCAB_SIZE = tokenizer.num_words + 1   \n",
        "\n",
        "dataset = tf.data.Dataset.from_tensor_slices((enc_train, dec_train))\n",
        "val_dataset = tf.data.Dataset.from_tensor_slices((enc_val, dec_val))\n",
        "dataset = dataset.shuffle(BUFFER_SIZE)\n",
        "dataset = dataset.batch(BATCH_SIZE, drop_remainder=True)\n",
        "val_dataset = val_dataset.shuffle(VAL_BUFFER_SIZE)\n",
        "val_dataset = val_dataset.batch(BATCH_SIZE, drop_remainder=True)\n",
        "dataset\n",
        "val_dataset"
      ]
    },
    {
      "cell_type": "markdown",
      "metadata": {
        "id": "ayhNcdqE5u3k"
      },
      "source": [
        "<br><br>\n",
        "\n",
        "**[ Model Baseline ]**\n",
        "\n",
        "Model Baseline을 구축한다. tf.keras.Model을 Subclassing하는 방식으로 1개의 Embedding 레이어, 2개의 LSTM 레이어, 1개의 Dense 레이어로 구성한다.\n",
        "\n",
        "앞서 설명한 MODEL 주요인자(Embedding size, Hidden size)의 초기값은 LSM 본문에서 제시한 수치를 적용하였다."
      ]
    },
    {
      "cell_type": "code",
      "execution_count": null,
      "metadata": {
        "id": "Z-H-Vj-R54h1"
      },
      "outputs": [],
      "source": [
        "class TextGenerator(tf.keras.Model):\n",
        "    def __init__(self, vocab_size, embedding_size, hidden_size):\n",
        "        super().__init__()\n",
        "        \n",
        "        self.embedding = tf.keras.layers.Embedding(vocab_size, embedding_size)\n",
        "        self.rnn_1 = tf.keras.layers.LSTM(hidden_size, return_sequences=True)\n",
        "        self.rnn_2 = tf.keras.layers.LSTM(hidden_size, return_sequences=True)\n",
        "        self.linear = tf.keras.layers.Dense(vocab_size)\n",
        "        \n",
        "    def call(self, x):\n",
        "        out = self.embedding(x)\n",
        "        out = self.rnn_1(out)\n",
        "        out = self.rnn_2(out)\n",
        "        out = self.linear(out)\n",
        "        \n",
        "        return out\n",
        "    \n",
        "embedding_size = 256\n",
        "hidden_size = 1024\n",
        "model = TextGenerator(tokenizer.num_words + 1, embedding_size , hidden_size)"
      ]
    },
    {
      "cell_type": "code",
      "execution_count": null,
      "metadata": {
        "colab": {
          "base_uri": "https://localhost:8080/"
        },
        "id": "FsXgs1VY7mNd",
        "outputId": "148250ae-a020-46d3-ae8e-6c95e5409956"
      },
      "outputs": [
        {
          "output_type": "execute_result",
          "data": {
            "text/plain": [
              "<tf.Tensor: shape=(256, 14, 12001), dtype=float32, numpy=\n",
              "array([[[-2.99471649e-05, -1.44973428e-05,  3.18330385e-05, ...,\n",
              "          3.14648350e-04,  2.06530021e-04,  8.14726664e-05],\n",
              "        [-1.14914175e-04,  1.22720903e-05, -1.35023529e-05, ...,\n",
              "          1.31604756e-04,  1.34788919e-04,  2.11093196e-04],\n",
              "        [-2.55467487e-04,  4.14302689e-04, -3.21768021e-04, ...,\n",
              "          5.45756775e-05,  9.59930694e-05,  2.55789229e-04],\n",
              "        ...,\n",
              "        [ 4.15577961e-04, -1.41334464e-03, -1.75792069e-04, ...,\n",
              "         -1.73327129e-03, -1.50814676e-03, -1.33213529e-03],\n",
              "        [ 4.65762976e-04, -1.45521958e-03, -2.33292812e-04, ...,\n",
              "         -2.11211061e-03, -1.78880326e-03, -1.56622974e-03],\n",
              "        [ 5.33356040e-04, -1.42603402e-03, -3.00203945e-04, ...,\n",
              "         -2.42884853e-03, -2.05076626e-03, -1.75904576e-03]],\n",
              "\n",
              "       [[-2.99471649e-05, -1.44973428e-05,  3.18330385e-05, ...,\n",
              "          3.14648350e-04,  2.06530021e-04,  8.14726664e-05],\n",
              "        [-3.54821350e-05,  4.58741561e-05,  6.86888452e-05, ...,\n",
              "          5.34385268e-04,  4.07935586e-04, -6.37207413e-05],\n",
              "        [-3.90492060e-05,  6.04281704e-05, -1.41435259e-04, ...,\n",
              "          7.05976621e-04,  5.83518296e-04, -2.02500334e-04],\n",
              "        ...,\n",
              "        [ 1.17286225e-03,  1.21573121e-05,  1.48144318e-03, ...,\n",
              "          1.00631314e-05,  4.80063754e-05,  1.13354414e-03],\n",
              "        [ 1.06872816e-03,  1.24837723e-04,  1.12968427e-03, ...,\n",
              "          1.69801846e-04,  1.53506437e-04,  1.09122694e-03],\n",
              "        [ 1.39560155e-03, -1.37001218e-04,  8.72932433e-04, ...,\n",
              "          6.34197087e-04,  3.75267497e-04,  1.10098033e-03]],\n",
              "\n",
              "       [[-2.99471649e-05, -1.44973428e-05,  3.18330385e-05, ...,\n",
              "          3.14648350e-04,  2.06530021e-04,  8.14726664e-05],\n",
              "        [ 9.83882273e-05, -3.06285539e-04,  1.19232682e-04, ...,\n",
              "          4.45610174e-04,  3.80935613e-04,  2.87461124e-04],\n",
              "        [ 2.14439904e-04, -3.59080586e-04,  2.11439445e-04, ...,\n",
              "          6.50769158e-04,  4.51386673e-04,  1.41197655e-04],\n",
              "        ...,\n",
              "        [ 6.15732861e-05, -5.03862859e-04, -8.90809752e-04, ...,\n",
              "         -4.62360447e-04, -6.47352135e-04,  1.36529939e-04],\n",
              "        [ 7.27245642e-05, -7.29785301e-04, -8.92500684e-04, ...,\n",
              "         -1.09669799e-03, -9.55847383e-04, -2.49924517e-04],\n",
              "        [ 1.02418562e-04, -9.06052941e-04, -8.74135469e-04, ...,\n",
              "         -1.67692255e-03, -1.26890396e-03, -6.05864450e-04]],\n",
              "\n",
              "       ...,\n",
              "\n",
              "       [[-2.99471649e-05, -1.44973428e-05,  3.18330385e-05, ...,\n",
              "          3.14648350e-04,  2.06530021e-04,  8.14726664e-05],\n",
              "        [ 4.31930384e-05, -1.61593285e-04,  2.75526894e-04, ...,\n",
              "          2.02420604e-04,  1.32154033e-04,  1.26646773e-04],\n",
              "        [-6.01465501e-07, -3.78207566e-04,  3.37540812e-04, ...,\n",
              "          1.85284473e-04, -5.43463611e-05,  2.30241087e-04],\n",
              "        ...,\n",
              "        [ 1.92205247e-04, -1.06452336e-03, -3.43240361e-04, ...,\n",
              "         -2.53887940e-03, -2.14704638e-03, -1.53729750e-03],\n",
              "        [ 3.29963746e-04, -1.01427222e-03, -4.29589389e-04, ...,\n",
              "         -2.77755246e-03, -2.32591433e-03, -1.68971438e-03],\n",
              "        [ 4.73675871e-04, -9.32581373e-04, -5.16506261e-04, ...,\n",
              "         -2.96830339e-03, -2.49841437e-03, -1.82037032e-03]],\n",
              "\n",
              "       [[-2.99471649e-05, -1.44973428e-05,  3.18330385e-05, ...,\n",
              "          3.14648350e-04,  2.06530021e-04,  8.14726664e-05],\n",
              "        [-1.25287639e-04, -7.00176533e-05, -1.66240847e-04, ...,\n",
              "          3.68700013e-04,  3.85985622e-04, -1.68372244e-05],\n",
              "        [-5.32822974e-04, -7.37209048e-05, -3.37352831e-04, ...,\n",
              "          2.47256481e-04,  7.46399164e-05, -3.00280575e-04],\n",
              "        ...,\n",
              "        [-2.25644253e-04, -1.61546667e-03, -7.26264916e-05, ...,\n",
              "         -1.60568825e-03, -1.07534556e-03, -1.62407476e-03],\n",
              "        [-9.34730269e-05, -1.62408652e-03, -7.40221294e-05, ...,\n",
              "         -2.04723189e-03, -1.36155530e-03, -1.84004288e-03],\n",
              "        [ 3.73297080e-05, -1.57048716e-03, -1.00578603e-04, ...,\n",
              "         -2.41383002e-03, -1.64381287e-03, -2.01786379e-03]],\n",
              "\n",
              "       [[-2.99471649e-05, -1.44973428e-05,  3.18330385e-05, ...,\n",
              "          3.14648350e-04,  2.06530021e-04,  8.14726664e-05],\n",
              "        [ 4.53366752e-04, -1.73932072e-04, -1.30813452e-04, ...,\n",
              "          2.75888597e-04,  3.00244690e-04,  1.83698372e-04],\n",
              "        [ 9.84357670e-04, -3.98924632e-04, -5.20903959e-05, ...,\n",
              "          2.23507523e-04,  2.51201942e-04,  1.66424987e-04],\n",
              "        ...,\n",
              "        [ 9.96893272e-04, -5.20787493e-04, -4.00235731e-04, ...,\n",
              "         -1.05917430e-03, -8.53040430e-04, -1.03155209e-03],\n",
              "        [ 9.71777714e-04, -6.63081766e-04, -4.25997336e-04, ...,\n",
              "         -1.58777810e-03, -1.20136491e-03, -1.23527262e-03],\n",
              "        [ 9.67485947e-04, -7.48934399e-04, -4.54596826e-04, ...,\n",
              "         -2.02885224e-03, -1.52729359e-03, -1.42008346e-03]]],\n",
              "      dtype=float32)>"
            ]
          },
          "metadata": {},
          "execution_count": 22
        }
      ],
      "source": [
        "# 데이터셋에서 데이터 한 배치만 불러와서 모델에 넣기 \n",
        "for src_sample, tgt_sample in dataset.take(1): break\n",
        "\n",
        "model(src_sample)"
      ]
    },
    {
      "cell_type": "markdown",
      "source": [
        "<br><br>\n",
        "\n",
        "Embedding 레이어, 2개의 LSTM 레이어, Dense 레이어로 구성된 Model 형태를 확인할 수 있다."
      ],
      "metadata": {
        "id": "5P-QXoFBf67-"
      }
    },
    {
      "cell_type": "code",
      "execution_count": null,
      "metadata": {
        "colab": {
          "base_uri": "https://localhost:8080/"
        },
        "id": "__iPaV_iAFm8",
        "outputId": "e2c69e42-2851-45f6-83cb-5a1ebf8a85d3"
      },
      "outputs": [
        {
          "output_type": "stream",
          "name": "stdout",
          "text": [
            "Model: \"text_generator\"\n",
            "_________________________________________________________________\n",
            " Layer (type)                Output Shape              Param #   \n",
            "=================================================================\n",
            " embedding (Embedding)       multiple                  3072256   \n",
            "                                                                 \n",
            " lstm (LSTM)                 multiple                  5246976   \n",
            "                                                                 \n",
            " lstm_1 (LSTM)               multiple                  8392704   \n",
            "                                                                 \n",
            " dense (Dense)               multiple                  12301025  \n",
            "                                                                 \n",
            "=================================================================\n",
            "Total params: 29,012,961\n",
            "Trainable params: 29,012,961\n",
            "Non-trainable params: 0\n",
            "_________________________________________________________________\n"
          ]
        }
      ],
      "source": [
        "model.summary()"
      ]
    },
    {
      "cell_type": "markdown",
      "source": [
        "<br><br>\n",
        "\n",
        "**[ Model fitting ]**\n",
        "\n",
        "<br>\n",
        "\n",
        "Model fitting 시, epoch가 일정 수준 이상이 되었을 때 과적합이 발생하는 것을 방지하고자 Callback을 적용하였다.\n",
        "\n",
        "<br>\n",
        "\n",
        "**⎮ CALLBACK**\n",
        "\n",
        "Callback은 훈련과정 중간에 어떤 작업을 수행할 수 있게 하는 객체로, Keras에서 제공하는 클래스다. fit() method의 callbacks매개변수에 리스트로 전달하여 사용한다.[2]\n",
        "\n",
        "**ModelCheckpoint**로 가장 낮은 손실값의 모델을 자동으로 저장해주고, **EarlyStopping**으로 손실값이 낮아지지 않으면 학습을 중지하도록 설정(patience=1)했다. ModelCheckpoint와 EarlySttopping을 함께 사용하면 과적합이 되지 않도록 조정하여 최상의 모델을 찾는 데 용이하며, 컴퓨터 자원 및 시간을 아낄 수 있다.\n",
        "\n",
        "안전장치를 걸어두었으니 epoch 값은 300으로 설정하고, 학습을 시작한다."
      ],
      "metadata": {
        "id": "8plfpiK4fTQ3"
      }
    },
    {
      "cell_type": "code",
      "source": [
        "from tensorflow import keras\n",
        "\n",
        "optimizer = tf.keras.optimizers.Adam()\n",
        "loss = tf.keras.losses.SparseCategoricalCrossentropy(\n",
        "    from_logits=True,\n",
        "    reduction='none'\n",
        ")\n",
        "\n",
        "EPOCH = 300\n",
        "\n",
        "# ModelCheckpoint\n",
        "filename = 'best_epoch{}_batch{}.h5'.format(EPOCH, BATCH_SIZE)\n",
        "checkpoint_cb = tf.keras.callbacks.ModelCheckpoint(filename,\n",
        "                                                   monitor='val_loss',\n",
        "                                                   verbose=1,\n",
        "                                                   save_weights_only=True,\n",
        "                                                   save_best_only=True,\n",
        "                                                   mode='auto')\n",
        "\n",
        "# EarlyStopping \n",
        "early_stopping_cb = tf.keras.callbacks.EarlyStopping(patience=1,\n",
        "                                                   restore_best_weights=True)    # loss 증가 시 종료\n",
        "\n",
        "\n",
        "model.compile(loss=loss, optimizer=optimizer)\n",
        "hist = model.fit(dataset,\n",
        "          validation_data=val_dataset,\n",
        "          epochs=EPOCH,\n",
        "          callbacks=[checkpoint_cb, early_stopping_cb])"
      ],
      "metadata": {
        "colab": {
          "base_uri": "https://localhost:8080/"
        },
        "outputId": "381f6494-5141-48c9-908e-941f39c215e6",
        "id": "BRLmn1c8fCPN"
      },
      "execution_count": null,
      "outputs": [
        {
          "output_type": "stream",
          "name": "stdout",
          "text": [
            "Epoch 1/300\n",
            "487/487 [==============================] - ETA: 0s - loss: 3.4957\n",
            "Epoch 1: val_loss improved from inf to 3.12609, saving model to best_epoch300_batch256.h5\n",
            "487/487 [==============================] - 52s 100ms/step - loss: 3.4957 - val_loss: 3.1261\n",
            "Epoch 2/300\n",
            "487/487 [==============================] - ETA: 0s - loss: 3.0198\n",
            "Epoch 2: val_loss improved from 3.12609 to 2.95559, saving model to best_epoch300_batch256.h5\n",
            "487/487 [==============================] - 48s 98ms/step - loss: 3.0198 - val_loss: 2.9556\n",
            "Epoch 3/300\n",
            "487/487 [==============================] - ETA: 0s - loss: 2.8598\n",
            "Epoch 3: val_loss improved from 2.95559 to 2.84718, saving model to best_epoch300_batch256.h5\n",
            "487/487 [==============================] - 48s 98ms/step - loss: 2.8598 - val_loss: 2.8472\n",
            "Epoch 4/300\n",
            "487/487 [==============================] - ETA: 0s - loss: 2.7383\n",
            "Epoch 4: val_loss improved from 2.84718 to 2.76984, saving model to best_epoch300_batch256.h5\n",
            "487/487 [==============================] - 48s 98ms/step - loss: 2.7383 - val_loss: 2.7698\n",
            "Epoch 5/300\n",
            "487/487 [==============================] - ETA: 0s - loss: 2.6378\n",
            "Epoch 5: val_loss improved from 2.76984 to 2.70724, saving model to best_epoch300_batch256.h5\n",
            "487/487 [==============================] - 48s 98ms/step - loss: 2.6378 - val_loss: 2.7072\n",
            "Epoch 6/300\n",
            "487/487 [==============================] - ETA: 0s - loss: 2.5465\n",
            "Epoch 6: val_loss improved from 2.70724 to 2.66097, saving model to best_epoch300_batch256.h5\n",
            "487/487 [==============================] - 48s 98ms/step - loss: 2.5465 - val_loss: 2.6610\n",
            "Epoch 7/300\n",
            "487/487 [==============================] - ETA: 0s - loss: 2.4621\n",
            "Epoch 7: val_loss improved from 2.66097 to 2.62056, saving model to best_epoch300_batch256.h5\n",
            "487/487 [==============================] - 48s 98ms/step - loss: 2.4621 - val_loss: 2.6206\n",
            "Epoch 8/300\n",
            "487/487 [==============================] - ETA: 0s - loss: 2.3830\n",
            "Epoch 8: val_loss improved from 2.62056 to 2.58517, saving model to best_epoch300_batch256.h5\n",
            "487/487 [==============================] - 48s 98ms/step - loss: 2.3830 - val_loss: 2.5852\n",
            "Epoch 9/300\n",
            "487/487 [==============================] - ETA: 0s - loss: 2.3086\n",
            "Epoch 9: val_loss improved from 2.58517 to 2.55379, saving model to best_epoch300_batch256.h5\n",
            "487/487 [==============================] - 48s 98ms/step - loss: 2.3086 - val_loss: 2.5538\n",
            "Epoch 10/300\n",
            "487/487 [==============================] - ETA: 0s - loss: 2.2379\n",
            "Epoch 10: val_loss improved from 2.55379 to 2.52570, saving model to best_epoch300_batch256.h5\n",
            "487/487 [==============================] - 48s 98ms/step - loss: 2.2379 - val_loss: 2.5257\n",
            "Epoch 11/300\n",
            "487/487 [==============================] - ETA: 0s - loss: 2.1698\n",
            "Epoch 11: val_loss improved from 2.52570 to 2.50364, saving model to best_epoch300_batch256.h5\n",
            "487/487 [==============================] - 48s 98ms/step - loss: 2.1698 - val_loss: 2.5036\n",
            "Epoch 12/300\n",
            "487/487 [==============================] - ETA: 0s - loss: 2.1050\n",
            "Epoch 12: val_loss improved from 2.50364 to 2.48241, saving model to best_epoch300_batch256.h5\n",
            "487/487 [==============================] - 48s 98ms/step - loss: 2.1050 - val_loss: 2.4824\n",
            "Epoch 13/300\n",
            "487/487 [==============================] - ETA: 0s - loss: 2.0429\n",
            "Epoch 13: val_loss improved from 2.48241 to 2.46734, saving model to best_epoch300_batch256.h5\n",
            "487/487 [==============================] - 48s 98ms/step - loss: 2.0429 - val_loss: 2.4673\n",
            "Epoch 14/300\n",
            "487/487 [==============================] - ETA: 0s - loss: 1.9831\n",
            "Epoch 14: val_loss improved from 2.46734 to 2.45595, saving model to best_epoch300_batch256.h5\n",
            "487/487 [==============================] - 48s 98ms/step - loss: 1.9831 - val_loss: 2.4560\n",
            "Epoch 15/300\n",
            "487/487 [==============================] - ETA: 0s - loss: 1.9258\n",
            "Epoch 15: val_loss improved from 2.45595 to 2.44204, saving model to best_epoch300_batch256.h5\n",
            "487/487 [==============================] - 48s 98ms/step - loss: 1.9258 - val_loss: 2.4420\n",
            "Epoch 16/300\n",
            "487/487 [==============================] - ETA: 0s - loss: 1.8708\n",
            "Epoch 16: val_loss improved from 2.44204 to 2.43743, saving model to best_epoch300_batch256.h5\n",
            "487/487 [==============================] - 48s 98ms/step - loss: 1.8708 - val_loss: 2.4374\n",
            "Epoch 17/300\n",
            "487/487 [==============================] - ETA: 0s - loss: 1.8175\n",
            "Epoch 17: val_loss improved from 2.43743 to 2.42631, saving model to best_epoch300_batch256.h5\n",
            "487/487 [==============================] - 48s 98ms/step - loss: 1.8175 - val_loss: 2.4263\n",
            "Epoch 18/300\n",
            "487/487 [==============================] - ETA: 0s - loss: 1.7655\n",
            "Epoch 18: val_loss improved from 2.42631 to 2.42100, saving model to best_epoch300_batch256.h5\n",
            "487/487 [==============================] - 48s 98ms/step - loss: 1.7655 - val_loss: 2.4210\n",
            "Epoch 19/300\n",
            "487/487 [==============================] - ETA: 0s - loss: 1.7162\n",
            "Epoch 19: val_loss did not improve from 2.42100\n",
            "487/487 [==============================] - 48s 98ms/step - loss: 1.7162 - val_loss: 2.4222\n"
          ]
        }
      ]
    },
    {
      "cell_type": "markdown",
      "source": [
        "<br>\n",
        "\n",
        "Epoch 18에서 val_loss 값이 2.42으로 가장 낮았다가 다음 번에 증가함을 알 수 있다. 아직 목표 손실값(2.2 이하)에는 미치지 못한다.\n",
        "\n",
        "그래프로 확인해보면 다음과 같다.\n",
        "\n",
        "<br>"
      ],
      "metadata": {
        "id": "OGgBud5jh2-O"
      }
    },
    {
      "cell_type": "code",
      "execution_count": null,
      "metadata": {
        "colab": {
          "base_uri": "https://localhost:8080/",
          "height": 295
        },
        "outputId": "3f4629dc-f3fb-4ddf-a213-e3fd568d2888",
        "id": "ZgE8MzLqfRSG"
      },
      "outputs": [
        {
          "output_type": "display_data",
          "data": {
            "text/plain": [
              "<Figure size 432x288 with 1 Axes>"
            ],
            "image/png": "[encoded data removed]"
          },
          "metadata": {
            "needs_background": "light"
          }
        }
      ],
      "source": [
        "loss = hist.history['loss']\n",
        "val_loss = hist.history['val_loss']\n",
        "epochs_range = range(19)\n",
        "\n",
        "import matplotlib.pyplot as plt\n",
        "%matplotlib inline\n",
        "\n",
        "plt.plot(epochs_range, loss, label='Training Loss')\n",
        "plt.plot(epochs_range, val_loss, label='Validation Loss')\n",
        "plt.legend()\n",
        "plt.title('Training and Validation Loss')\n",
        "plt.xlabel('epoch')\n",
        "plt.ylabel('Cross Entropy')\n",
        "\n",
        "plt.show()"
      ]
    },
    {
      "cell_type": "markdown",
      "metadata": {
        "id": "8XsPDXKND-tp"
      },
      "source": [
        "<br><br>\n",
        "\n",
        "**[문장 생성]**\n",
        "\n",
        "generate_text 함수를 만들어, Model에게 시작 문장을 전달하면 Model이 이를 바탕으로 작문을 진행하게 한다."
      ]
    },
    {
      "cell_type": "code",
      "execution_count": null,
      "metadata": {
        "id": "Q3vjDBJzDWO9"
      },
      "outputs": [],
      "source": [
        "def generate_text(model, tokenizer, init_sentence=\"<start>\", max_len=50):\n",
        "    # init_sentence도 텐서로 변환\n",
        "    test_input = tokenizer.texts_to_sequences([init_sentence])\n",
        "    test_tensor = tf.convert_to_tensor(test_input, dtype=tf.int64)\n",
        "    end_token = tokenizer.word_index[\"<end>\"]\n",
        "\n",
        "    while True:\n",
        "        # 1\n",
        "        predict = model(test_tensor) \n",
        "        # 2\n",
        "        predict_word = tf.argmax(tf.nn.softmax(predict, axis=-1), axis=-1)[:, -1] \n",
        "        # 3 \n",
        "        test_tensor = tf.concat([test_tensor, tf.expand_dims(predict_word, axis=0)], axis=-1)\n",
        "        # 4\n",
        "        if predict_word.numpy()[0] == end_token: break\n",
        "        if test_tensor.shape[1] >= max_len: break\n",
        "\n",
        "    generated = \"\"\n",
        "    # tokenizer를 이용해 word index를 단어로 하나씩 변환 \n",
        "    for word_index in test_tensor[0].numpy():\n",
        "        generated += tokenizer.index_word[word_index] + \" \"\n",
        "\n",
        "    return generated"
      ]
    },
    {
      "cell_type": "markdown",
      "source": [
        "<br><br>\n",
        "\n",
        "**[생성된 문장]**\n",
        "\n",
        "Baseline Model을 통해 생성해 낸 문장은 다음과 같다. 아직 덜 완성된 듯한 문장도 보인다."
      ],
      "metadata": {
        "id": "0vlW5anminwn"
      }
    },
    {
      "cell_type": "code",
      "execution_count": null,
      "metadata": {
        "id": "-ueUgXY1DclC",
        "colab": {
          "base_uri": "https://localhost:8080/",
          "height": 36
        },
        "outputId": "ca41fdfb-8e7c-410a-a394-e11e23feedb3"
      },
      "outputs": [
        {
          "output_type": "execute_result",
          "data": {
            "text/plain": [
              "'<start> he s a monster <end> '"
            ],
            "application/vnd.google.colaboratory.intrinsic+json": {
              "type": "string"
            }
          },
          "metadata": {},
          "execution_count": 29
        }
      ],
      "source": [
        "generate_text(model, tokenizer, init_sentence=\"<start> he\")"
      ]
    },
    {
      "cell_type": "code",
      "execution_count": null,
      "metadata": {
        "id": "6m15h01YMI5e",
        "colab": {
          "base_uri": "https://localhost:8080/",
          "height": 36
        },
        "outputId": "3fd9e9ad-45b5-469b-e871-c9b8065691e4"
      },
      "outputs": [
        {
          "output_type": "execute_result",
          "data": {
            "text/plain": [
              "'<start> life is a gamble better make a fuss <end> '"
            ],
            "application/vnd.google.colaboratory.intrinsic+json": {
              "type": "string"
            }
          },
          "metadata": {},
          "execution_count": 30
        }
      ],
      "source": [
        "generate_text(model, tokenizer, init_sentence=\"<start> life\")"
      ]
    },
    {
      "cell_type": "code",
      "execution_count": null,
      "metadata": {
        "id": "7VbWGyZKv5hY",
        "colab": {
          "base_uri": "https://localhost:8080/",
          "height": 36
        },
        "outputId": "4fd1186e-9b12-450a-ee36-87f891635cdc"
      },
      "outputs": [
        {
          "output_type": "execute_result",
          "data": {
            "text/plain": [
              "'<start> what a victorious thrill <end> '"
            ],
            "application/vnd.google.colaboratory.intrinsic+json": {
              "type": "string"
            }
          },
          "metadata": {},
          "execution_count": 31
        }
      ],
      "source": [
        "generate_text(model, tokenizer, init_sentence=\"<start> what a\")"
      ]
    },
    {
      "cell_type": "code",
      "execution_count": null,
      "metadata": {
        "id": "weM9akmMO8ZS",
        "colab": {
          "base_uri": "https://localhost:8080/",
          "height": 36
        },
        "outputId": "a97706f6-7464-4ca2-a83a-c0ef3ff0e247"
      },
      "outputs": [
        {
          "output_type": "execute_result",
          "data": {
            "text/plain": [
              "'<start> we are in a world , <end> '"
            ],
            "application/vnd.google.colaboratory.intrinsic+json": {
              "type": "string"
            }
          },
          "metadata": {},
          "execution_count": 32
        }
      ],
      "source": [
        "generate_text(model, tokenizer, init_sentence=\"<start> we are in\")"
      ]
    },
    {
      "cell_type": "code",
      "execution_count": null,
      "metadata": {
        "id": "7D93wMd9xGw-",
        "colab": {
          "base_uri": "https://localhost:8080/",
          "height": 36
        },
        "outputId": "2d03344b-b65a-4330-af25-faedefb1bd4d"
      },
      "outputs": [
        {
          "output_type": "execute_result",
          "data": {
            "text/plain": [
              "'<start> mind is when i see you <end> '"
            ],
            "application/vnd.google.colaboratory.intrinsic+json": {
              "type": "string"
            }
          },
          "metadata": {},
          "execution_count": 33
        }
      ],
      "source": [
        "generate_text(model, tokenizer, init_sentence=\"<start> mind is\")"
      ]
    },
    {
      "cell_type": "code",
      "execution_count": null,
      "metadata": {
        "id": "A5Eu-pZs2LjW",
        "colab": {
          "base_uri": "https://localhost:8080/",
          "height": 36
        },
        "outputId": "567d0032-faeb-49d4-98e8-62983dbc225e"
      },
      "outputs": [
        {
          "output_type": "execute_result",
          "data": {
            "text/plain": [
              "'<start> money is on my mind <end> '"
            ],
            "application/vnd.google.colaboratory.intrinsic+json": {
              "type": "string"
            }
          },
          "metadata": {},
          "execution_count": 34
        }
      ],
      "source": [
        "generate_text(model, tokenizer, init_sentence=\"<start> money is\")"
      ]
    },
    {
      "cell_type": "code",
      "execution_count": null,
      "metadata": {
        "id": "1wHkHrYI2XTn",
        "colab": {
          "base_uri": "https://localhost:8080/",
          "height": 36
        },
        "outputId": "66a75edf-97ab-44d1-d879-15e36bbf37e7"
      },
      "outputs": [
        {
          "output_type": "execute_result",
          "data": {
            "text/plain": [
              "'<start> first i know i m a <unk> <end> '"
            ],
            "application/vnd.google.colaboratory.intrinsic+json": {
              "type": "string"
            }
          },
          "metadata": {},
          "execution_count": 35
        }
      ],
      "source": [
        "generate_text(model, tokenizer, init_sentence=\"<start> first\")"
      ]
    },
    {
      "cell_type": "code",
      "execution_count": null,
      "metadata": {
        "id": "wr67FO4t20HD",
        "colab": {
          "base_uri": "https://localhost:8080/",
          "height": 36
        },
        "outputId": "477a6a9b-fd7a-4378-a69c-3ba9db0105db"
      },
      "outputs": [
        {
          "output_type": "execute_result",
          "data": {
            "text/plain": [
              "'<start> the most important thing is <end> '"
            ],
            "application/vnd.google.colaboratory.intrinsic+json": {
              "type": "string"
            }
          },
          "metadata": {},
          "execution_count": 36
        }
      ],
      "source": [
        "generate_text(model, tokenizer, init_sentence=\"<start> The most important thing is\")"
      ]
    },
    {
      "cell_type": "markdown",
      "source": [
        "<br><br>\n",
        "\n",
        "###**2) Hyper parameter 조정**\n",
        "\n",
        "<br>\n",
        "\n",
        "Baseline을 토대로 Hyper parameter를 조정하고, 이에 따른 Validation loss를 확인하였다. 수치를 변화시킴에 따라 훈련을 시키는 형태와 사이즈가 달라지며, 이로 인해 loss값이 달라짐을 알 수 있다. \n",
        "\n",
        "<br>\n",
        "\n",
        "**[ Hyper parameter 조정 및 결과 ]**"
      ],
      "metadata": {
        "id": "bmc7vWHJdhED"
      }
    },
    {
      "cell_type": "markdown",
      "source": [
        "| - | BATCH SIZE | EMBEDDING SIZE | HIDDEN SIZE | VALIDATION LOSS | BEST POINT | note |\n",
        "|:---:|:---:|:---:|:---:|:---:|:---:|:---:|\n",
        "|1차|256|256| 1024 |**2.42**| epoch 18 | Baseline |\n",
        "|2차|256|2048| 1024 |**2.29**| epoch 9 | - |\n",
        "|3차|256|256| 2048 |**2.26**| epoch 15 | - |\n",
        "|**4차**|**256**|**2048**| **2048** |**2.10**| **epoch 7** |  **✓ loss 2.2 이하 달성** |\n",
        "|5차|128|256| 1024 |**2.44**| epoch 14 | Batch size 상관성 확인(1차 기준 Emb, Hidd 통제) |\n",
        "|6차|512|256| 1024 |**2.41**| epoch 28 | Batch size 상관성 확인(1차 기준 Emb, Hidd 통제) |\n"
      ],
      "metadata": {
        "id": "nGJZcAZ1Nbqn"
      }
    },
    {
      "cell_type": "markdown",
      "source": [
        "<br>\n",
        "\n",
        "validation loss를 기준으로, 4차 시도의 설정(batch size=256 , embedding size=2048 , hidden size=2048)을 적용했을 때 결과가 가장 양호했다. epoch 7 일 때 loss 2.10을 기록했다.\n",
        "\n",
        "LMS에서 요구한 기본조건과 다른 설정(최대 토큰길이 등)으로 16회 가량 추가 테스트한 결과를 포함하여 고려하였을 때, EMBEDDING SIZE 및 HIDDEN SIZE가 증가함에 따라 대체적으로 loss가 낮아짐을 알 수 있었다.(음의 상관관계)\n",
        "\n",
        "또한, BATCH SIZE도 loss값과 관련이 있는지 알아보기 위해 128, 256, 512로 값을 달리해가며 테스트하였으나 loss은 크게 달라지지 않았다. \n",
        "\n",
        "\n",
        "다음은 **loss 최소치(2.10)**를 보인 **4차 테스트**에 대한 내용이다."
      ],
      "metadata": {
        "id": "FeSbspssrxtP"
      }
    },
    {
      "cell_type": "code",
      "source": [
        "from tensorflow import keras\n",
        "\n",
        "optimizer = tf.keras.optimizers.Adam()\n",
        "loss = tf.keras.losses.SparseCategoricalCrossentropy(\n",
        "    from_logits=True,\n",
        "    reduction='none'\n",
        ")\n",
        "\n",
        "EPOCH = 300\n",
        "\n",
        "# ModelCheckpoint\n",
        "filename = 'best_epoch{}_batch{}.h5'.format(EPOCH, BATCH_SIZE)\n",
        "checkpoint_cb = tf.keras.callbacks.ModelCheckpoint(filename,\n",
        "                                                   monitor='val_loss',\n",
        "                                                   verbose=1,\n",
        "                                                   save_weights_only=True,\n",
        "                                                   save_best_only=True,\n",
        "                                                   mode='auto')\n",
        "\n",
        "# EarlyStopping \n",
        "early_stopping_cb = tf.keras.callbacks.EarlyStopping(patience=1,\n",
        "                                                   restore_best_weights=True)    # 증가 1번까지만 참고 끝내는 걸로 변경\n",
        "\n",
        "\n",
        "model.compile(loss=loss, optimizer=optimizer)\n",
        "hist = model.fit(dataset,\n",
        "          validation_data=val_dataset,\n",
        "          epochs=EPOCH,\n",
        "          callbacks=[checkpoint_cb, early_stopping_cb])"
      ],
      "metadata": {
        "colab": {
          "base_uri": "https://localhost:8080/"
        },
        "outputId": "0bca23d9-05c6-454f-8da0-357737eaaa66",
        "id": "5SPF8nk2nIol"
      },
      "execution_count": null,
      "outputs": [
        {
          "output_type": "stream",
          "name": "stdout",
          "text": [
            "Epoch 1/300\n",
            "487/487 [==============================] - ETA: 0s - loss: 3.1506\n",
            "Epoch 1: val_loss improved from inf to 2.80135, saving model to best_epoch300_batch256.h5\n",
            "487/487 [==============================] - 149s 298ms/step - loss: 3.1506 - val_loss: 2.8013\n",
            "Epoch 2/300\n",
            "487/487 [==============================] - ETA: 0s - loss: 2.6181\n",
            "Epoch 2: val_loss improved from 2.80135 to 2.54780, saving model to best_epoch300_batch256.h5\n",
            "487/487 [==============================] - 144s 295ms/step - loss: 2.6181 - val_loss: 2.5478\n",
            "Epoch 3/300\n",
            "487/487 [==============================] - ETA: 0s - loss: 2.2740\n",
            "Epoch 3: val_loss improved from 2.54780 to 2.37036, saving model to best_epoch300_batch256.h5\n",
            "487/487 [==============================] - 144s 295ms/step - loss: 2.2740 - val_loss: 2.3704\n",
            "Epoch 4/300\n",
            "487/487 [==============================] - ETA: 0s - loss: 1.9401\n",
            "Epoch 4: val_loss improved from 2.37036 to 2.23908, saving model to best_epoch300_batch256.h5\n",
            "487/487 [==============================] - 144s 295ms/step - loss: 1.9401 - val_loss: 2.2391\n",
            "Epoch 5/300\n",
            "487/487 [==============================] - ETA: 0s - loss: 1.6339\n",
            "Epoch 5: val_loss improved from 2.23908 to 2.15260, saving model to best_epoch300_batch256.h5\n",
            "487/487 [==============================] - 144s 295ms/step - loss: 1.6339 - val_loss: 2.1526\n",
            "Epoch 6/300\n",
            "487/487 [==============================] - ETA: 0s - loss: 1.3795\n",
            "Epoch 6: val_loss improved from 2.15260 to 2.10881, saving model to best_epoch300_batch256.h5\n",
            "487/487 [==============================] - 144s 295ms/step - loss: 1.3795 - val_loss: 2.1088\n",
            "Epoch 7/300\n",
            "487/487 [==============================] - ETA: 0s - loss: 1.1899\n",
            "Epoch 7: val_loss improved from 2.10881 to 2.10213, saving model to best_epoch300_batch256.h5\n",
            "487/487 [==============================] - 144s 295ms/step - loss: 1.1899 - val_loss: 2.1021\n",
            "Epoch 8/300\n",
            "487/487 [==============================] - ETA: 0s - loss: 1.0678\n",
            "Epoch 8: val_loss did not improve from 2.10213\n",
            "487/487 [==============================] - 144s 294ms/step - loss: 1.0678 - val_loss: 2.1197\n"
          ]
        }
      ]
    },
    {
      "cell_type": "code",
      "execution_count": null,
      "metadata": {
        "colab": {
          "base_uri": "https://localhost:8080/",
          "height": 295
        },
        "outputId": "34003719-98d8-46a6-c221-13c68e9c12d2",
        "id": "Kk7704bgnIoz"
      },
      "outputs": [
        {
          "output_type": "display_data",
          "data": {
            "text/plain": [
              "<Figure size 432x288 with 1 Axes>"
            ],
            "image/png": "[encoded data removed]"
          },
          "metadata": {
            "needs_background": "light"
          }
        }
      ],
      "source": [
        "loss = hist.history['loss']\n",
        "val_loss = hist.history['val_loss']\n",
        "epochs_range = range(8)\n",
        "\n",
        "import matplotlib.pyplot as plt\n",
        "%matplotlib inline\n",
        "\n",
        "plt.plot(epochs_range, loss, label='Training Loss')\n",
        "plt.plot(epochs_range, val_loss, label='Validation Loss')\n",
        "plt.legend()\n",
        "plt.title('Training and Validation Loss')\n",
        "plt.xlabel('epoch')\n",
        "plt.ylabel('Cross Entropy')\n",
        "\n",
        "plt.show()"
      ]
    },
    {
      "cell_type": "markdown",
      "source": [
        "<br><br>\n",
        "\n",
        "**[생성된 문장]**\n",
        "\n",
        "Baseline Model을 통해 생성해 낸 문장에 비해 완성도가 있다. 또한 제법 긴 문장(first you get her name , then you get her number)도 만들어냈다."
      ],
      "metadata": {
        "id": "goL5OrEdnU6g"
      }
    },
    {
      "cell_type": "code",
      "execution_count": null,
      "metadata": {
        "colab": {
          "base_uri": "https://localhost:8080/",
          "height": 36
        },
        "outputId": "da38eed0-da3c-473d-88e8-c3a7d7a76575",
        "id": "QanfCjtKnbzj"
      },
      "outputs": [
        {
          "output_type": "execute_result",
          "data": {
            "text/plain": [
              "'<start> he s the only one for me <end> '"
            ],
            "application/vnd.google.colaboratory.intrinsic+json": {
              "type": "string"
            }
          },
          "metadata": {},
          "execution_count": 23
        }
      ],
      "source": [
        "generate_text(model, tokenizer, init_sentence=\"<start> he\")"
      ]
    },
    {
      "cell_type": "code",
      "execution_count": null,
      "metadata": {
        "colab": {
          "base_uri": "https://localhost:8080/",
          "height": 36
        },
        "outputId": "736dd764-6bf9-48f1-fc8e-79e0bdf313fb",
        "id": "cxfy1ktdnbzk"
      },
      "outputs": [
        {
          "output_type": "execute_result",
          "data": {
            "text/plain": [
              "'<start> life s too short to not go for broke <end> '"
            ],
            "application/vnd.google.colaboratory.intrinsic+json": {
              "type": "string"
            }
          },
          "metadata": {},
          "execution_count": 24
        }
      ],
      "source": [
        "generate_text(model, tokenizer, init_sentence=\"<start> life\")"
      ]
    },
    {
      "cell_type": "code",
      "execution_count": null,
      "metadata": {
        "colab": {
          "base_uri": "https://localhost:8080/",
          "height": 36
        },
        "outputId": "533d1046-1179-4e92-c934-b2388232d082",
        "id": "AIcCJXSjnbzk"
      },
      "outputs": [
        {
          "output_type": "execute_result",
          "data": {
            "text/plain": [
              "'<start> what a girl is to do ? <end> '"
            ],
            "application/vnd.google.colaboratory.intrinsic+json": {
              "type": "string"
            }
          },
          "metadata": {},
          "execution_count": 25
        }
      ],
      "source": [
        "generate_text(model, tokenizer, init_sentence=\"<start> what a\")"
      ]
    },
    {
      "cell_type": "code",
      "execution_count": null,
      "metadata": {
        "colab": {
          "base_uri": "https://localhost:8080/",
          "height": 36
        },
        "outputId": "620926e8-aa49-4ee2-8edb-6e608c65c895",
        "id": "-uXLaTQYnbzl"
      },
      "outputs": [
        {
          "output_type": "execute_result",
          "data": {
            "text/plain": [
              "'<start> we are in the moment <end> '"
            ],
            "application/vnd.google.colaboratory.intrinsic+json": {
              "type": "string"
            }
          },
          "metadata": {},
          "execution_count": 26
        }
      ],
      "source": [
        "generate_text(model, tokenizer, init_sentence=\"<start> we are in\")"
      ]
    },
    {
      "cell_type": "code",
      "execution_count": null,
      "metadata": {
        "colab": {
          "base_uri": "https://localhost:8080/",
          "height": 36
        },
        "outputId": "1bc8e404-8236-40b2-9c9a-bf09f1bc4acd",
        "id": "haeoqtxQnbzl"
      },
      "outputs": [
        {
          "output_type": "execute_result",
          "data": {
            "text/plain": [
              "'<start> mind is like a compass <end> '"
            ],
            "application/vnd.google.colaboratory.intrinsic+json": {
              "type": "string"
            }
          },
          "metadata": {},
          "execution_count": 27
        }
      ],
      "source": [
        "generate_text(model, tokenizer, init_sentence=\"<start> mind is\")"
      ]
    },
    {
      "cell_type": "code",
      "execution_count": null,
      "metadata": {
        "colab": {
          "base_uri": "https://localhost:8080/",
          "height": 36
        },
        "outputId": "657e58fd-5c0b-4e6a-d929-acf12c49c199",
        "id": "Bv60Hubenbzm"
      },
      "outputs": [
        {
          "output_type": "execute_result",
          "data": {
            "text/plain": [
              "'<start> money is the motivation <end> '"
            ],
            "application/vnd.google.colaboratory.intrinsic+json": {
              "type": "string"
            }
          },
          "metadata": {},
          "execution_count": 28
        }
      ],
      "source": [
        "generate_text(model, tokenizer, init_sentence=\"<start> money is\")"
      ]
    },
    {
      "cell_type": "code",
      "execution_count": null,
      "metadata": {
        "colab": {
          "base_uri": "https://localhost:8080/",
          "height": 36
        },
        "outputId": "893b398e-bcb2-41ae-fc16-8792c61594b4",
        "id": "4C2lckXdnbzm"
      },
      "outputs": [
        {
          "output_type": "execute_result",
          "data": {
            "text/plain": [
              "'<start> first you get her name , then you get her number <end> '"
            ],
            "application/vnd.google.colaboratory.intrinsic+json": {
              "type": "string"
            }
          },
          "metadata": {},
          "execution_count": 29
        }
      ],
      "source": [
        "generate_text(model, tokenizer, init_sentence=\"<start> first\")"
      ]
    },
    {
      "cell_type": "code",
      "execution_count": null,
      "metadata": {
        "colab": {
          "base_uri": "https://localhost:8080/",
          "height": 36
        },
        "outputId": "d48141bd-badb-4522-c2fb-bc131b6c5b64",
        "id": "-5topWTXnbzm"
      },
      "outputs": [
        {
          "output_type": "execute_result",
          "data": {
            "text/plain": [
              "'<start> the most important thing is real <end> '"
            ],
            "application/vnd.google.colaboratory.intrinsic+json": {
              "type": "string"
            }
          },
          "metadata": {},
          "execution_count": 30
        }
      ],
      "source": [
        "generate_text(model, tokenizer, init_sentence=\"<start> The most important thing is\")"
      ]
    },
    {
      "cell_type": "markdown",
      "source": [
        "<br><br>\n",
        "\n",
        "###**3) Vocabulary 확대**\n",
        "\n",
        "<br>\n",
        "\n",
        "앞서 토큰을 생성하는 과정에서 num_words = 12000을 설정했다. 12000 단어만 기억할 수 있는 tokenizer를 만들고, 여기 포함되지 않는 단어는 \\<unk>으로 바꾸었다.\n",
        "\n",
        "인수를 바꿔가며 테스트를 하는 과정에서 \\<unk>이 쓰인 불완전한 문장도 여러번 발견되었다. \n",
        "\n",
        "*   money is a \\<unk>\n",
        "*   mind is a \\<unk>\n",
        "*   first i know i m a \\<unk>\n",
        "\n",
        "<br>\n",
        "\n",
        "이런 문제를 해결하고, 보다 풍성한 표현의 작사를 할 수 있기를 기대하며 tokenizer의 num_words 설정을 달리해보았다. \n",
        "\n",
        "**단어수를 각각 16000개, 20000개로 증가**시켰다. 정확한 비교를 위해 다른 인수들은 loss 최저값을 기록한 4회차와 동일하게 설정한다.\n",
        "\n",
        "<br>\n",
        "\n",
        "다음은 Vocabulary 조정의 결과이다.\n",
        "\n",
        "2회의 시도 모두 validation loss가 2.2 이하로 낮은 수치를 기록했다. 기본적으로 안정적인 문장을 생성했음을 알 수 있다.\n",
        "\n",
        "<br>\n",
        "\n",
        "**[ Vocabulary 조정 및 결과 ]**"
      ],
      "metadata": {
        "id": "T0iZEfJkdhVo"
      }
    },
    {
      "cell_type": "markdown",
      "source": [
        "| - | VOCABULARY | BATCH SIZE | EMBEDDING SIZE | HIDDEN SIZE | VALIDATION LOSS | BEST POINT | note |\n",
        "|:---:|:---:|:---:|:---:|:---:|:---:|:---:|:---:|\n",
        "|7차| **16000 words** |256|2048| 2048 |**2.15**| epoch 7 | |\n",
        "|8차| **20000 words** |256|2048| 2048 |**2.17**| epoch 7 |  |"
      ],
      "metadata": {
        "id": "EoQA5K7iuCMa"
      }
    },
    {
      "cell_type": "markdown",
      "source": [
        "<br><br>\n",
        "\n",
        "**⎮ 16000 words**"
      ],
      "metadata": {
        "id": "Ye1YsQcIt98e"
      }
    },
    {
      "cell_type": "code",
      "execution_count": null,
      "metadata": {
        "colab": {
          "base_uri": "https://localhost:8080/",
          "height": 36
        },
        "outputId": "0f8734d8-6c94-436e-9ae0-9f635f76b49e",
        "id": "QgZuvJZP2rye"
      },
      "outputs": [
        {
          "output_type": "execute_result",
          "data": {
            "text/plain": [
              "'<start> he s a monster <end> '"
            ],
            "application/vnd.google.colaboratory.intrinsic+json": {
              "type": "string"
            }
          },
          "metadata": {},
          "execution_count": 24
        }
      ],
      "source": [
        "generate_text(model, tokenizer, init_sentence=\"<start> he\")"
      ]
    },
    {
      "cell_type": "code",
      "execution_count": null,
      "metadata": {
        "colab": {
          "base_uri": "https://localhost:8080/",
          "height": 36
        },
        "outputId": "50452607-0ef0-4722-b86b-30089a8a77ef",
        "id": "VqPwaKuY2ryu"
      },
      "outputs": [
        {
          "output_type": "execute_result",
          "data": {
            "text/plain": [
              "'<start> life s trades . <end> '"
            ],
            "application/vnd.google.colaboratory.intrinsic+json": {
              "type": "string"
            }
          },
          "metadata": {},
          "execution_count": 25
        }
      ],
      "source": [
        "generate_text(model, tokenizer, init_sentence=\"<start> life\")"
      ]
    },
    {
      "cell_type": "code",
      "execution_count": null,
      "metadata": {
        "colab": {
          "base_uri": "https://localhost:8080/",
          "height": 36
        },
        "outputId": "c1169b48-2d74-4464-b1de-62593e22693c",
        "id": "XH591LTc2ryv"
      },
      "outputs": [
        {
          "output_type": "execute_result",
          "data": {
            "text/plain": [
              "'<start> what a lovely walk we ve taken ! <end> '"
            ],
            "application/vnd.google.colaboratory.intrinsic+json": {
              "type": "string"
            }
          },
          "metadata": {},
          "execution_count": 26
        }
      ],
      "source": [
        "generate_text(model, tokenizer, init_sentence=\"<start> what a\")"
      ]
    },
    {
      "cell_type": "code",
      "execution_count": null,
      "metadata": {
        "colab": {
          "base_uri": "https://localhost:8080/",
          "height": 36
        },
        "outputId": "30df3e01-66a3-4786-a7f3-a19bde50a8ba",
        "id": "hg_LTN-S2ryv"
      },
      "outputs": [
        {
          "output_type": "execute_result",
          "data": {
            "text/plain": [
              "'<start> we are in the same key <end> '"
            ],
            "application/vnd.google.colaboratory.intrinsic+json": {
              "type": "string"
            }
          },
          "metadata": {},
          "execution_count": 27
        }
      ],
      "source": [
        "generate_text(model, tokenizer, init_sentence=\"<start> we are in\")"
      ]
    },
    {
      "cell_type": "code",
      "execution_count": null,
      "metadata": {
        "colab": {
          "base_uri": "https://localhost:8080/",
          "height": 36
        },
        "outputId": "8c8711bc-9bbe-486e-d36d-8c59268c950a",
        "id": "uDfM-8zy2ryv"
      },
      "outputs": [
        {
          "output_type": "execute_result",
          "data": {
            "text/plain": [
              "'<start> mind is waiting <end> '"
            ],
            "application/vnd.google.colaboratory.intrinsic+json": {
              "type": "string"
            }
          },
          "metadata": {},
          "execution_count": 28
        }
      ],
      "source": [
        "generate_text(model, tokenizer, init_sentence=\"<start> mind is\")"
      ]
    },
    {
      "cell_type": "code",
      "execution_count": null,
      "metadata": {
        "colab": {
          "base_uri": "https://localhost:8080/",
          "height": 36
        },
        "outputId": "d19debb5-b683-4ec7-aff5-357545a41fa8",
        "id": "b7MMY5it2ryw"
      },
      "outputs": [
        {
          "output_type": "execute_result",
          "data": {
            "text/plain": [
              "'<start> money is the motivation <end> '"
            ],
            "application/vnd.google.colaboratory.intrinsic+json": {
              "type": "string"
            }
          },
          "metadata": {},
          "execution_count": 29
        }
      ],
      "source": [
        "generate_text(model, tokenizer, init_sentence=\"<start> money is\")"
      ]
    },
    {
      "cell_type": "code",
      "execution_count": null,
      "metadata": {
        "colab": {
          "base_uri": "https://localhost:8080/",
          "height": 36
        },
        "outputId": "8bdbe958-0930-4f67-89da-097781a434c4",
        "id": "nPoNL36I2ryw"
      },
      "outputs": [
        {
          "output_type": "execute_result",
          "data": {
            "text/plain": [
              "'<start> first i mma scorch her , then i mma torch her <end> '"
            ],
            "application/vnd.google.colaboratory.intrinsic+json": {
              "type": "string"
            }
          },
          "metadata": {},
          "execution_count": 30
        }
      ],
      "source": [
        "generate_text(model, tokenizer, init_sentence=\"<start> first\")"
      ]
    },
    {
      "cell_type": "code",
      "execution_count": null,
      "metadata": {
        "colab": {
          "base_uri": "https://localhost:8080/",
          "height": 36
        },
        "outputId": "d865065d-48be-4cd5-ded0-2f23518edcdb",
        "id": "agU4toDb2ryw"
      },
      "outputs": [
        {
          "output_type": "execute_result",
          "data": {
            "text/plain": [
              "'<start> the most important thing is the year <end> '"
            ],
            "application/vnd.google.colaboratory.intrinsic+json": {
              "type": "string"
            }
          },
          "metadata": {},
          "execution_count": 31
        }
      ],
      "source": [
        "generate_text(model, tokenizer, init_sentence=\"<start> The most important thing is\")"
      ]
    },
    {
      "cell_type": "markdown",
      "source": [
        "<br><br>\n",
        "\n",
        "**⎮ 20000 words**"
      ],
      "metadata": {
        "id": "Ivohddnv2P8N"
      }
    },
    {
      "cell_type": "code",
      "execution_count": null,
      "metadata": {
        "colab": {
          "base_uri": "https://localhost:8080/",
          "height": 36
        },
        "outputId": "aa1e8ce6-aca9-4338-ce39-939df2d28b5a",
        "id": "nWDSvMUU7EXa"
      },
      "outputs": [
        {
          "output_type": "execute_result",
          "data": {
            "text/plain": [
              "'<start> he s a highway chile <end> '"
            ],
            "application/vnd.google.colaboratory.intrinsic+json": {
              "type": "string"
            }
          },
          "metadata": {},
          "execution_count": 23
        }
      ],
      "source": [
        "generate_text(model, tokenizer, init_sentence=\"<start> he\")"
      ]
    },
    {
      "cell_type": "code",
      "execution_count": null,
      "metadata": {
        "colab": {
          "base_uri": "https://localhost:8080/",
          "height": 36
        },
        "outputId": "0bb7c09d-6371-421a-bb66-7f55a84646c6",
        "id": "IzY82f287EXo"
      },
      "outputs": [
        {
          "output_type": "execute_result",
          "data": {
            "text/plain": [
              "'<start> life is a marathon <end> '"
            ],
            "application/vnd.google.colaboratory.intrinsic+json": {
              "type": "string"
            }
          },
          "metadata": {},
          "execution_count": 24
        }
      ],
      "source": [
        "generate_text(model, tokenizer, init_sentence=\"<start> life\")"
      ]
    },
    {
      "cell_type": "code",
      "execution_count": null,
      "metadata": {
        "colab": {
          "base_uri": "https://localhost:8080/",
          "height": 36
        },
        "outputId": "9bed9221-a949-474b-ad7f-6c8a66474a01",
        "id": "U9tXz_w_7EXo"
      },
      "outputs": [
        {
          "output_type": "execute_result",
          "data": {
            "text/plain": [
              "'<start> what a lovely walk we ve taken ! <end> '"
            ],
            "application/vnd.google.colaboratory.intrinsic+json": {
              "type": "string"
            }
          },
          "metadata": {},
          "execution_count": 25
        }
      ],
      "source": [
        "generate_text(model, tokenizer, init_sentence=\"<start> what a\")"
      ]
    },
    {
      "cell_type": "code",
      "execution_count": null,
      "metadata": {
        "colab": {
          "base_uri": "https://localhost:8080/",
          "height": 36
        },
        "outputId": "160fc2eb-b88f-4edf-f5d0-bb5e2ffce085",
        "id": "RidhDNfM7EXo"
      },
      "outputs": [
        {
          "output_type": "execute_result",
          "data": {
            "text/plain": [
              "'<start> we are in the lab , we re not in the zone <end> '"
            ],
            "application/vnd.google.colaboratory.intrinsic+json": {
              "type": "string"
            }
          },
          "metadata": {},
          "execution_count": 26
        }
      ],
      "source": [
        "generate_text(model, tokenizer, init_sentence=\"<start> we are in\")"
      ]
    },
    {
      "cell_type": "code",
      "execution_count": null,
      "metadata": {
        "colab": {
          "base_uri": "https://localhost:8080/",
          "height": 36
        },
        "outputId": "b0508a78-c7ad-442e-a085-e1d4e359069e",
        "id": "elfb1xqS7EXp"
      },
      "outputs": [
        {
          "output_type": "execute_result",
          "data": {
            "text/plain": [
              "'<start> mind is a dialogue between <end> '"
            ],
            "application/vnd.google.colaboratory.intrinsic+json": {
              "type": "string"
            }
          },
          "metadata": {},
          "execution_count": 27
        }
      ],
      "source": [
        "generate_text(model, tokenizer, init_sentence=\"<start> mind is\")"
      ]
    },
    {
      "cell_type": "code",
      "execution_count": null,
      "metadata": {
        "colab": {
          "base_uri": "https://localhost:8080/",
          "height": 36
        },
        "outputId": "ac35992d-0c79-4b93-e1a4-d699fedc2587",
        "id": "PcavTHeW7EXp"
      },
      "outputs": [
        {
          "output_type": "execute_result",
          "data": {
            "text/plain": [
              "'<start> money is the motivation <end> '"
            ],
            "application/vnd.google.colaboratory.intrinsic+json": {
              "type": "string"
            }
          },
          "metadata": {},
          "execution_count": 28
        }
      ],
      "source": [
        "generate_text(model, tokenizer, init_sentence=\"<start> money is\")"
      ]
    },
    {
      "cell_type": "code",
      "execution_count": null,
      "metadata": {
        "colab": {
          "base_uri": "https://localhost:8080/",
          "height": 36
        },
        "outputId": "235bca8a-f137-499f-dff7-2a72a6e2923e",
        "id": "gw3EBVlW7EXp"
      },
      "outputs": [
        {
          "output_type": "execute_result",
          "data": {
            "text/plain": [
              "'<start> first you re up , then you re down and in between <end> '"
            ],
            "application/vnd.google.colaboratory.intrinsic+json": {
              "type": "string"
            }
          },
          "metadata": {},
          "execution_count": 29
        }
      ],
      "source": [
        "generate_text(model, tokenizer, init_sentence=\"<start> first\")"
      ]
    },
    {
      "cell_type": "code",
      "execution_count": null,
      "metadata": {
        "colab": {
          "base_uri": "https://localhost:8080/",
          "height": 36
        },
        "outputId": "15b86992-68c2-468b-f711-428c446ee851",
        "id": "laq8jHr_7EXq"
      },
      "outputs": [
        {
          "output_type": "execute_result",
          "data": {
            "text/plain": [
              "'<start> the most important thing is making music and it s all <end> '"
            ],
            "application/vnd.google.colaboratory.intrinsic+json": {
              "type": "string"
            }
          },
          "metadata": {},
          "execution_count": 30
        }
      ],
      "source": [
        "generate_text(model, tokenizer, init_sentence=\"<start> The most important thing is\")"
      ]
    },
    {
      "cell_type": "markdown",
      "source": [
        "<br><br><br><br>\n",
        "\n",
        "###**4) 소 결** \n",
        "\n",
        "<br><br>\n",
        "\n",
        "**[ 문장 생성에서의 손실값(loss)에 대한 고찰 ]**\n",
        "\n",
        "새롭게 만들어 낸 문장의 손실값(loss)을 구한다는 게 무슨 의미일까. 처음에는 수행목적과 전혀 일치하지 않는 평가방식이라고 생각했다. 전에 없던 문장을 창조해 냈는데 무엇과 비교를 해서 손실값을 구한다는 건가. 그게 무슨 의미가 있지? \n",
        "\n",
        "그러나 model의 구현방식을 자세히 들여다보고 나서야 이번 Exploration에서의 loss가 뜻하는 바를 이해하게 되었다.\n",
        "\n",
        "<br>\n",
        "\n",
        "src_input = tensor[:, :-1]  \n",
        "tgt_input = tensor[:, 1:]\n",
        "\n",
        "source문장과 target문장을 생성하는 위의 과정을 통해서 같은 문장 내의 뒷 단어를 label로 갖게 된다. 문장의 제일 마지막 단어는 label이 없다. 결국 정답이 있는 문제에 대해 최대의 확률값을 구하는 방식으로 다음에 올 단어를 유추하는 process가 구현된다.\n",
        "\n",
        "우리가 generate_text Function을 통해 새로운 단어 또는 구(句)를 입력하여 문장을 생성해내는 과정 역시 이러한 방식에 기반하여 이루어진다. Entropy를 최소화하기 위한 다음 단어를 선택하게 되고, 선택을 올바르게 할수록 그 이후의 선택의 폭은 줄어든다. \n",
        "\n",
        "그렇다면 이번 Exploration에서 loss를 줄여나간다는 것은 문맥이나 용법 상 적정한 답을 찾아나간다는 의미도 있겠지만, 결국 제일 평범한 답을 찾는다는 의미가 될 수도 있겠다. 그런 관점에서 **loss를 목표로 삼는 것은 '작사'라는 영역을 평가하기에 온전한 지표는 아닐 수도 있겠다**는 생각이 들었다.\n",
        "\n",
        "<br><br>"
      ],
      "metadata": {
        "id": "i-9htxKBAg68"
      }
    },
    {
      "cell_type": "markdown",
      "source": [
        "<br><br><br><br>"
      ],
      "metadata": {
        "id": "kF2xTT9P7KQz"
      }
    },
    {
      "cell_type": "markdown",
      "source": [
        "\n",
        "\n",
        "---\n",
        "\n",
        "\n",
        "\n",
        "\n",
        "##**2. 시적표현 선별; 정성적 평가**"
      ],
      "metadata": {
        "id": "yuvypF8iw3Nz"
      }
    },
    {
      "cell_type": "markdown",
      "source": [
        "<br><br>\n",
        "\n",
        "###**1) 회차별 문장력 비교**\n",
        "\n",
        "<br>\n"
      ],
      "metadata": {
        "id": "57rdowCDw3N0"
      }
    },
    {
      "cell_type": "markdown",
      "source": [
        "그렇다면 다양한 인자 조정에 따른 loss값의 비교는 잠시 내려놓고, 각각의 문장력이 어떤지 살펴보자. 회차별로 모델이 생성해 낸 문장을 입력한 첫 단어(init_sentence)끼리 묶어서 살펴보고, 퀄리티를 비교했다.\n",
        "\n",
        "문장력은 정성적으로 평가한다.(=내 마음이 움직이는 걸 뽑았다.)\n",
        "\n",
        "<br>\n",
        "\n",
        "**⎮ \\<start> he** ㅡ \n",
        "\n",
        "<br>\n",
        "\n",
        "| - ||LOSS| --------------------------------------------- SENTENCE --------------------------------------------- | QUALITY | note |\n",
        "|:---:|:---:|:---:|:---:|:---:|:---:|\n",
        "|1차|| 2.42 |he **s a monster**| ★☆☆☆☆ | Baseline |\n",
        "|2차|| 2.29 |he **s a monster**|★☆☆☆☆| - |\n",
        "|3차|| 2.26 |he **s a monster**|★☆☆☆☆| - |\n",
        "|4차|| 2.10 |he **s the only one for me** |★☆☆☆☆| - |\n",
        "|5차|| 2.44 |he **s a monster**|★☆☆☆☆| - |\n",
        "|6차|| 2.41 |he **s a monster**|★☆☆☆☆| - |\n",
        "|7차|| 2.15 |he **s a monster**|★☆☆☆☆| 16000 words |\n",
        "|8차|| 2.17 |he **s a highway chile**|★★★☆☆| 20000 words |"
      ],
      "metadata": {
        "id": "N0oH-l3ELqFb"
      }
    },
    {
      "cell_type": "markdown",
      "source": [
        "<br>\n",
        "\n",
        "**⎮ \\<start> life** ㅡ \n",
        "\n",
        "<br>\n",
        "\n",
        "| - ||LOSS| --------------------------------------------- SENTENCE --------------------------------------------- | QUALITY | note |\n",
        "|:---:|:---:|:---:|:---:|:---:|:---:|\n",
        "|1차|| 2.42 |life **is a gamble better make a fuss**| ★★☆☆☆ | Baseline |\n",
        "|2차|| 2.29 |life **is worth living , so don t be alarmed**|★★★☆☆| - |\n",
        "|3차|| 2.26 |life **is worth living again relationship on a ski slope**|★★★☆☆| - |\n",
        "|4차|| 2.10 |life **s too short to not go for broke**|★★★★☆| - |\n",
        "|5차|| 2.44 |life **is a marathon**|★☆☆☆☆| - |\n",
        "|6차|| 2.41 |life **is a gamble , a long time ago**|★★☆☆☆| - |\n",
        "|7차|| 2.15 |life **s trades**|★☆☆☆☆| 16000 words |\n",
        "|8차|| 2.17 |life **is a marathon**|★☆☆☆☆| 20000 words |"
      ],
      "metadata": {
        "id": "8yYNjl1lAKSg"
      }
    },
    {
      "cell_type": "markdown",
      "source": [
        "<br>\n",
        "\n",
        "**⎮ \\<start> what a** ㅡ \n",
        "\n",
        "<br>\n",
        "\n",
        "| - ||LOSS| --------------------------------------------- SENTENCE --------------------------------------------- | QUALITY | note |\n",
        "|:---:|:---:|:---:|:---:|:---:|:---:|\n",
        "|1차|| 2.42 |what a **victorious thrill**| ★☆☆☆☆ | Baseline |\n",
        "|2차|| 2.29 |what a **little bitty ?**|★☆☆☆☆| - |\n",
        "|3차|| 2.26 |what a **girl is to do ?**|★☆☆☆☆| - |\n",
        "|4차|| 2.10 |what a **girl is to do ?**|★☆☆☆☆| - |\n",
        "|5차|| 2.44 |what a **victorious thrill**|★★☆☆☆| - |\n",
        "|6차|| 2.41 |what a **lovely phrase i am a god**|★★☆☆☆| - |\n",
        "|7차|| 2.15 |what a **lovely walk we ve taken !**|★☆☆☆☆| 16000 words |\n",
        "|8차|| 2.17 |what a **lovely walk we ve taken !**|★☆☆☆☆| 20000 words |"
      ],
      "metadata": {
        "id": "UiXZnd2oAbDG"
      }
    },
    {
      "cell_type": "markdown",
      "source": [
        "<br>\n",
        "\n",
        "**⎮ \\<start> we are in** ㅡ \n",
        "\n",
        "<br>\n",
        "\n",
        "| - ||LOSS| --------------------------------------------- SENTENCE --------------------------------------------- | QUALITY | note |\n",
        "|:---:|:---:|:---:|:---:|:---:|:---:|\n",
        "|1차|| 2.42 |we are in **a world**| ★☆☆☆☆ | Baseline |\n",
        "|2차|| 2.29 |we are in **the dark**|★★☆☆☆| - |\n",
        "|3차|| 2.26 |we are in **the zone , damn near got my eyes closed**|★★★☆☆| - |\n",
        "|4차|| 2.10 |we are in **the moment**|★★☆☆☆| - |\n",
        "|5차|| 2.44 |we are in **the dark**|★★☆☆☆| - |\n",
        "|6차|| 2.41 |we are in **the right**|★★☆☆☆| - |\n",
        "|7차|| 2.15 |we are in **the same key**| ★★☆☆☆ |16000 words|\n",
        "|8차|| 2.17 |we are in **the lab , we re not in the zone**|★★★★☆| 20000 words |"
      ],
      "metadata": {
        "id": "BRqgrFkqAoBK"
      }
    },
    {
      "cell_type": "markdown",
      "source": [
        "<br>\n",
        "\n",
        "**⎮ \\<start> mind is** ㅡ \n",
        "\n",
        "<br>\n",
        "\n",
        "| - ||LOSS| --------------------------------------------- SENTENCE --------------------------------------------- | QUALITY | note |\n",
        "|:---:|:---:|:---:|:---:|:---:|:---:|\n",
        "|1차|| 2.42 | mind is **when i see you**| ★☆☆☆☆ | Baseline |\n",
        "|2차|| 2.29 |mind is **like a compass**|★☆☆☆☆| - |\n",
        "|3차|| 2.26 |mind is **like a compass**|★☆☆☆☆| - |\n",
        "|4차|| 2.10 |mind is **like a compass**|★☆☆☆☆| - |\n",
        "|5차|| 2.44 |mind is **all i need**|★☆☆☆☆| - |\n",
        "|6차|| 2.41 |mind is **a holiday**|★★★☆☆| - |\n",
        "|7차|| 2.15 |mind is **waiting**|★★★☆☆| 16000 words |\n",
        "|8차|| 2.17 |mind is **a dialogue between**|★★★★☆| 20000 words |"
      ],
      "metadata": {
        "id": "1JdbWLNJAoN3"
      }
    },
    {
      "cell_type": "markdown",
      "source": [
        "<br>\n",
        "\n",
        "**⎮ \\<start> money is** ㅡ \n",
        "\n",
        "<br>\n",
        "\n",
        "| - ||LOSS| --------------------------------------------- SENTENCE --------------------------------------------- | QUALITY | note |\n",
        "|:---:|:---:|:---:|:---:|:---:|:---:|\n",
        "|1차|| 2.42 |money is **on my mind**| ★☆☆☆☆ | Baseline |\n",
        "|2차|| 2.29 |money is **a shame i m a fool now you re mine**|★★★☆☆| - |\n",
        "|3차|| 2.26 |money is **the motivation**|★☆☆☆☆| - |\n",
        "|4차|| 2.10 |money is **the motivation**|★☆☆☆☆| - |\n",
        "|5차|| 2.44 |money is **the motivation**|★☆☆☆☆| - |\n",
        "|6차|| 2.41 |money is **the motivation**|★☆☆☆☆| - |\n",
        "|7차|| 2.15 |money is **the motivation**|★☆☆☆☆| 16000 words |\n",
        "|8차|| 2.17 |money is **the motivation**|★☆☆☆☆| 20000 words |"
      ],
      "metadata": {
        "id": "0mA3nBzNAoX0"
      }
    },
    {
      "cell_type": "markdown",
      "source": [
        "<br>\n",
        "\n",
        "**⎮ \\<start> first** ㅡ \n",
        "\n",
        "<br>\n",
        "\n",
        "| - ||LOSS| --------------------------------------------- SENTENCE --------------------------------------------- | QUALITY | note |\n",
        "|:---:|:---:|:---:|:---:|:---:|:---:|\n",
        "|1차|| 2.42 |first **i know i m a \\<unk>**| ☆☆☆☆☆ | Baseline |\n",
        "|2차|| 2.29 |first **you get her name , then you get her number**|★★☆☆☆| - |\n",
        "|3차|| 2.26 |first **i spin around and vomit then i shit up on it**|★☆☆☆☆| - |\n",
        "|4차|| 2.10 |first **you get her name , then you get her number**|★★☆☆☆| - |\n",
        "|5차|| 2.44 |first **i mma scorch her , then i mma torch her**|★★★★☆| - |\n",
        "|6차|| 2.41 |first **i mma scorch her , then i mma torch her**|★★★★☆| - |\n",
        "|7차|| 2.15 |first **i know i m a motherfucking monster**|★★☆☆☆| 16000 words |\n",
        "|8차|| 2.17 |first **you re up , then you re down and in between**|★★☆☆☆| 20000 words |"
      ],
      "metadata": {
        "id": "B3vmb4zYAoi9"
      }
    },
    {
      "cell_type": "markdown",
      "source": [
        "<br>\n",
        "\n",
        "**⎮ \\<start> The most important thing is** ㅡ \n",
        "\n",
        "<br>\n",
        "\n",
        "| - ||LOSS| --------------------------------------------- SENTENCE --------------------------------------------- | QUALITY | note |\n",
        "|:---:|:---:|:---:|:---:|:---:|:---:|\n",
        "|1차|| 2.42 |The most important thing is **-**| ☆☆☆☆☆ | Baseline |\n",
        "|2차|| 2.29 |the most important thing is **real**|★☆☆☆☆| - |\n",
        "|3차|| 2.26 |the most important thing is **ever promised tomorrow**|★★★☆☆| - |\n",
        "|4차|| 2.10 |the most important thing is **real**|★☆☆☆☆| - |\n",
        "|5차|| 2.44 |the most important thing is **\\<unk>**|☆☆☆☆☆| - |\n",
        "|6차|| 2.41 |the most important thing is **the year**|★☆☆☆☆| - |\n",
        "|7차|| 2.15 |the most important thing is **-**|☆☆☆☆☆| 16000 words |\n",
        "|8차|| 2.17 |the most important thing is **making music and it s all**|★★★☆☆| 20000 words |"
      ],
      "metadata": {
        "id": "tXawrEqdBfFa"
      }
    },
    {
      "cell_type": "markdown",
      "source": [
        "<br><br><br>\n",
        "\n",
        "###**2) 소 결**\n",
        "\n",
        "<br>\n",
        "\n",
        "loss값이 상대적으로 높더라도 비유적인 측면이나 창의성에서 한 번 더 생각하게 만드는 문장들이 있었다. 반면 loss값이 낮아서 더 좋은 결과물이라고 판단할만 하지만 사실상 진부한 표현도 있었다.\n",
        "\n",
        "전반적으로 더 많은 단어를 포함한 tokenizer를 적용했을 때의 표현이 더 새롭고 풍성하다고 느껴졌으나, 일반화할 정도의 차이는 아니라고 판단된다. \n",
        "\n",
        "7차 시도는 loss가 2.15로 우수한 성능을 보인 경우이나, 'the most important thing is'의 입력값을 그대로 출력해냈다. \\<end>로 바로 끝내버리는 게 확률적으로 유리했을지 모르지만 가사를 만들어내는 역할로서는 의미가 없다.\n",
        "\n",
        "오히려 살짝 비문처럼 느껴지기도 하지만 그런 측면에서 오히려 예술성이 느껴지는 문장들은 이번 과정에서 loss를 성능의 지표로 삼는 것이 완벽하지 않음을 시사한다.\n",
        "\n",
        "\n",
        "<br>\n",
        "\n",
        "사실 가장 오랜시간 결과창을 들여다 보게 만들었던 문장은 가중치 설정 등의 측면에서 유효하지 않다고 판단하여 결과에서는 제외했던 테스트 가운데 있었다.\n",
        "\n",
        "<br>"
      ],
      "metadata": {
        "id": "ZlVRWp-wczOI"
      }
    },
    {
      "cell_type": "code",
      "source": [
        "generate_text(model, tokenizer, init_sentence=\"<start> he\")"
      ],
      "metadata": {
        "colab": {
          "base_uri": "https://localhost:8080/",
          "height": 36
        },
        "outputId": "742740ad-8a5f-4cee-8cb7-7b16314ba8d5",
        "id": "zBpxOWsSwHlH"
      },
      "execution_count": null,
      "outputs": [
        {
          "output_type": "execute_result",
          "data": {
            "text/plain": [
              "'<start> he s a walker in the rain <end> '"
            ],
            "application/vnd.google.colaboratory.intrinsic+json": {
              "type": "string"
            }
          },
          "metadata": {},
          "execution_count": 22
        }
      ]
    },
    {
      "cell_type": "code",
      "source": [
        "generate_text(model, tokenizer, init_sentence=\"<start> life\")"
      ],
      "metadata": {
        "colab": {
          "base_uri": "https://localhost:8080/",
          "height": 36
        },
        "outputId": "249f7687-2e6f-4ef7-81b8-d0dc4f2d0c83",
        "id": "0kHexhZiwHlT"
      },
      "execution_count": null,
      "outputs": [
        {
          "output_type": "execute_result",
          "data": {
            "text/plain": [
              "'<start> life is a roller coaster but still unfair <end> '"
            ],
            "application/vnd.google.colaboratory.intrinsic+json": {
              "type": "string"
            }
          },
          "metadata": {},
          "execution_count": 23
        }
      ]
    },
    {
      "cell_type": "markdown",
      "source": [
        "-\n",
        "\n",
        "<br><br><br><br><br><br>\n"
      ],
      "metadata": {
        "id": "_RwKEC6inZkj"
      }
    },
    {
      "cell_type": "markdown",
      "source": [
        "\n",
        "\n",
        "---\n",
        "\n",
        "\n",
        "\n",
        "\n",
        "##**3. Case study**"
      ],
      "metadata": {
        "id": "AhAa2VR9wvl-"
      }
    },
    {
      "cell_type": "markdown",
      "source": [
        "<br><br>\n",
        "\n",
        "###**1) KoGPT2**\n",
        "\n",
        "<br>\n",
        "\n",
        "작사 관련 Exploration을 하면서 AI기반의 문장 생성에 관심이 생겼다. SKT에서 우리말을 기반으로 만든 Generative Pre-trained Transformer(GPT)을 경험해보자. \n",
        "\n",
        "GPT-2는 머신러닝 알고리즘을 활용해 입력된 샘플 텍스트를 구문론적, 문법적, 정보 등의 일관성을 갖춘 텍스트로 생성하는 자연어 처리 모델이다. 한국어로 학습된 오픈소스 기반 GPT-2 모델인 KoGPT-2는 질문에 대한 응답 생성, 문장 완성, 챗봇 등 한국어 해석이 필요한 여러 애플리케이션의 머신러닝 성능을 향상할 수 있다고 한다.\n",
        "\n",
        "챗봇 구축, 텍스트 감성 예측, 텍스트 분석 기반 응답 생성에 사용될 수 있으며, 관심 있는 개발자는 모델과 관련 소스를 다운로드해 프로젝트에 적용하거나 수정하면 된다[4]ㅡ고 나와있다.\n",
        "\n",
        "\n",
        "<br>\n"
      ],
      "metadata": {
        "id": "nK9oyBNMwvl-"
      }
    },
    {
      "cell_type": "code",
      "execution_count": null,
      "metadata": {
        "colab": {
          "base_uri": "https://localhost:8080/"
        },
        "id": "k1JSKLhIo3Xt",
        "outputId": "2192ec1d-44ad-4695-b238-62c73c44bbc3"
      },
      "outputs": [
        {
          "output_type": "stream",
          "name": "stdout",
          "text": [
            "Collecting transformers\n",
            "  Downloading transformers-4.19.2-py3-none-any.whl (4.2 MB)\n",
            "\u001b[K     |████████████████████████████████| 4.2 MB 5.6 MB/s \n",
            "\u001b[?25hRequirement already satisfied: numpy>=1.17 in /usr/local/lib/python3.7/dist-packages (from transformers) (1.21.6)\n",
            "Requirement already satisfied: packaging>=20.0 in /usr/local/lib/python3.7/dist-packages (from transformers) (21.3)\n",
            "Requirement already satisfied: filelock in /usr/local/lib/python3.7/dist-packages (from transformers) (3.7.0)\n",
            "Requirement already satisfied: importlib-metadata in /usr/local/lib/python3.7/dist-packages (from transformers) (4.11.3)\n",
            "Requirement already satisfied: tqdm>=4.27 in /usr/local/lib/python3.7/dist-packages (from transformers) (4.64.0)\n",
            "Collecting pyyaml>=5.1\n",
            "  Downloading PyYAML-6.0-cp37-cp37m-manylinux_2_5_x86_64.manylinux1_x86_64.manylinux_2_12_x86_64.manylinux2010_x86_64.whl (596 kB)\n",
            "\u001b[K     |████████████████████████████████| 596 kB 56.0 MB/s \n",
            "\u001b[?25hCollecting tokenizers!=0.11.3,<0.13,>=0.11.1\n",
            "  Downloading tokenizers-0.12.1-cp37-cp37m-manylinux_2_12_x86_64.manylinux2010_x86_64.whl (6.6 MB)\n",
            "\u001b[K     |████████████████████████████████| 6.6 MB 39.5 MB/s \n",
            "\u001b[?25hRequirement already satisfied: regex!=2019.12.17 in /usr/local/lib/python3.7/dist-packages (from transformers) (2019.12.20)\n",
            "Collecting huggingface-hub<1.0,>=0.1.0\n",
            "  Downloading huggingface_hub-0.6.0-py3-none-any.whl (84 kB)\n",
            "\u001b[K     |████████████████████████████████| 84 kB 2.8 MB/s \n",
            "\u001b[?25hRequirement already satisfied: requests in /usr/local/lib/python3.7/dist-packages (from transformers) (2.23.0)\n",
            "Requirement already satisfied: typing-extensions>=3.7.4.3 in /usr/local/lib/python3.7/dist-packages (from huggingface-hub<1.0,>=0.1.0->transformers) (4.2.0)\n",
            "Requirement already satisfied: pyparsing!=3.0.5,>=2.0.2 in /usr/local/lib/python3.7/dist-packages (from packaging>=20.0->transformers) (3.0.9)\n",
            "Requirement already satisfied: zipp>=0.5 in /usr/local/lib/python3.7/dist-packages (from importlib-metadata->transformers) (3.8.0)\n",
            "Requirement already satisfied: idna<3,>=2.5 in /usr/local/lib/python3.7/dist-packages (from requests->transformers) (2.10)\n",
            "Requirement already satisfied: chardet<4,>=3.0.2 in /usr/local/lib/python3.7/dist-packages (from requests->transformers) (3.0.4)\n",
            "Requirement already satisfied: urllib3!=1.25.0,!=1.25.1,<1.26,>=1.21.1 in /usr/local/lib/python3.7/dist-packages (from requests->transformers) (1.24.3)\n",
            "Requirement already satisfied: certifi>=2017.4.17 in /usr/local/lib/python3.7/dist-packages (from requests->transformers) (2021.10.8)\n",
            "Installing collected packages: pyyaml, tokenizers, huggingface-hub, transformers\n",
            "  Attempting uninstall: pyyaml\n",
            "    Found existing installation: PyYAML 3.13\n",
            "    Uninstalling PyYAML-3.13:\n",
            "      Successfully uninstalled PyYAML-3.13\n",
            "Successfully installed huggingface-hub-0.6.0 pyyaml-6.0 tokenizers-0.12.1 transformers-4.19.2\n"
          ]
        }
      ],
      "source": [
        "!pip install transformers"
      ]
    },
    {
      "cell_type": "code",
      "source": [
        "from transformers import PreTrainedTokenizerFast\n",
        "tokenizer = PreTrainedTokenizerFast.from_pretrained(\"skt/kogpt2-base-v2\",\n",
        "bos_token='</s>', eos_token='</s>', unk_token='<unk>',\n",
        "pad_token='<pad>', mask_token='<mask>')\n",
        "tokenizer.tokenize(\"이건 저도 처음 시도해보네요. 그럼우리 모두다 화이팅 아이펠🤗\")"
      ],
      "metadata": {
        "colab": {
          "base_uri": "https://localhost:8080/",
          "height": 428,
          "referenced_widgets": [
            "fb02e277f578443f9b4cdcde2467de1b",
            "80c9536622dc4aee984b2a7f782271a7",
            "a2c8d2942087483ca7e3c7a3d1e4e340",
            "599109db0bdc41bbaae950af7f6aa2d4",
            "17ebd0db5c6a4f62936d914eabd69d1e",
            "5dc9bd6f72f74027ab6e2c8cb3ef2a35",
            "e42857c0a5ed43f7b348e4dd1882585b",
            "e0bd2d91915948c99ec748968593e954",
            "50f9330fdf5f456cb0316bea0fafd07c",
            "a89d325953844909a224b0ac8e050ad8",
            "b976a55f41bd4868b5bbfccd3d0e1009",
            "9fe1678ccb1f46259cf5696b3ea7a5ff",
            "012aa6a655f649f2ac4489c7f7453303",
            "32f3b6afd2384f8a914e353e9052c2bf",
            "61c15064317141b4942448b40cd876d4",
            "27cce30a7a2d45839d5c367f0330f6ce",
            "3296807401ee4a1d9b235b691b2c5ab0",
            "be2e319749d946a78537022987a822af",
            "0a29ffa1c3b74215b18e55b353b22cfc",
            "eab8d1df3fb643ea9f8918240e62cba3",
            "89aac0e1749143f99d6c697c05c6ce77",
            "fe4434d9ae614438a2399a9656dfafb0"
          ]
        },
        "outputId": "a83b5efa-c279-4820-e8a1-efd45fab2389",
        "id": "spVeJMqsIi9c"
      },
      "execution_count": null,
      "outputs": [
        {
          "output_type": "display_data",
          "data": {
            "text/plain": [
              "Downloading:   0%|          | 0.00/2.69M [00:00<?, ?B/s]"
            ],
            "application/vnd.jupyter.widget-view+json": {
              "version_major": 2,
              "version_minor": 0,
              "model_id": "fb02e277f578443f9b4cdcde2467de1b"
            }
          },
          "metadata": {}
        },
        {
          "output_type": "display_data",
          "data": {
            "text/plain": [
              "Downloading:   0%|          | 0.00/0.98k [00:00<?, ?B/s]"
            ],
            "application/vnd.jupyter.widget-view+json": {
              "version_major": 2,
              "version_minor": 0,
              "model_id": "9fe1678ccb1f46259cf5696b3ea7a5ff"
            }
          },
          "metadata": {}
        },
        {
          "output_type": "stream",
          "name": "stderr",
          "text": [
            "The tokenizer class you load from this checkpoint is not the same type as the class this function is called from. It may result in unexpected tokenization. \n",
            "The tokenizer class you load from this checkpoint is 'GPT2Tokenizer'. \n",
            "The class this function is called from is 'PreTrainedTokenizerFast'.\n"
          ]
        },
        {
          "output_type": "execute_result",
          "data": {
            "text/plain": [
              "['▁이건',\n",
              " '▁저',\n",
              " '도',\n",
              " '▁처음',\n",
              " '▁시도',\n",
              " '해보',\n",
              " '네',\n",
              " '요.',\n",
              " '▁그럼',\n",
              " '우리',\n",
              " '▁모두',\n",
              " '다',\n",
              " '▁화',\n",
              " '이팅',\n",
              " '▁아이',\n",
              " '펠',\n",
              " '🤗']"
            ]
          },
          "metadata": {},
          "execution_count": 2
        }
      ]
    },
    {
      "cell_type": "code",
      "source": [
        "import torch\n",
        "from transformers import GPT2LMHeadModel\n",
        "\n",
        "model = GPT2LMHeadModel.from_pretrained('skt/kogpt2-base-v2')\n",
        "text = '인공지능'\n",
        "input_ids = tokenizer.encode(text, return_tensors='pt')\n",
        "gen_ids = model.generate(input_ids,\n",
        "                           max_length=50,\n",
        "                           repetition_penalty=2.0,\n",
        "                           pad_token_id=tokenizer.pad_token_id,\n",
        "                           eos_token_id=tokenizer.eos_token_id,\n",
        "                           bos_token_id=tokenizer.bos_token_id,\n",
        "                           use_cache=True)\n",
        "generated = tokenizer.decode(gen_ids[0])\n",
        "print(generated)"
      ],
      "metadata": {
        "colab": {
          "base_uri": "https://localhost:8080/"
        },
        "outputId": "ae2a0e37-6fac-4aa3-e390-847e6fcfa689",
        "id": "8t6a0bmyLOZm"
      },
      "execution_count": null,
      "outputs": [
        {
          "output_type": "stream",
          "name": "stdout",
          "text": [
            "인공지능(AI) 기반의 스마트시티를 구축하는 데 주력할 계획이다.\n",
            "이를 위해 올해부터 2022년까지 총 1조원을 투입한다.\n",
            "이번 사업은 △스마트도시 조성 및 운영체계 고도화 사업(총사업비 2\n"
          ]
        }
      ]
    },
    {
      "cell_type": "code",
      "source": [
        "import torch\n",
        "from transformers import GPT2LMHeadModel\n",
        "\n",
        "model = GPT2LMHeadModel.from_pretrained('skt/kogpt2-base-v2')\n",
        "text = '사랑한다는 말은'\n",
        "input_ids = tokenizer.encode(text, return_tensors='pt')\n",
        "gen_ids = model.generate(input_ids,\n",
        "                           max_length=50,\n",
        "                           repetition_penalty=2.0,\n",
        "                           pad_token_id=tokenizer.pad_token_id,\n",
        "                           eos_token_id=tokenizer.eos_token_id,\n",
        "                           bos_token_id=tokenizer.bos_token_id,\n",
        "                           use_cache=True)\n",
        "generated = tokenizer.decode(gen_ids[0])\n",
        "print(generated)"
      ],
      "metadata": {
        "colab": {
          "base_uri": "https://localhost:8080/"
        },
        "outputId": "769c52b8-1527-479a-886e-9137b4228b8a",
        "id": "kNPUmsMNLo8m"
      },
      "execution_count": null,
      "outputs": [
        {
          "output_type": "stream",
          "name": "stdout",
          "text": [
            "사랑한다는 말은, 그 자체가 하나의 '상징'일 수 있다.\n",
            "그것은 바로 이 상상의 세계를 구성하는 것이다.\n",
            "이러한 상상 세계는 어떤 특정한 대상을 향해 열려 있는 것이 아니라, 다른 대상과 함께 존재하는 것이기 때문이다.\n",
            "따라서 우리는 이러한 상상력을 통해 우리가 경험\n"
          ]
        }
      ]
    },
    {
      "cell_type": "code",
      "source": [
        "import torch\n",
        "from transformers import GPT2LMHeadModel\n",
        "\n",
        "model = GPT2LMHeadModel.from_pretrained('skt/kogpt2-base-v2')\n",
        "text = '떴다. 떴다. 비행기 날아라. 날아라.'\n",
        "input_ids = tokenizer.encode(text, return_tensors='pt')\n",
        "gen_ids = model.generate(input_ids,\n",
        "                           max_length=50,\n",
        "                           repetition_penalty=2.0,\n",
        "                           pad_token_id=tokenizer.pad_token_id,\n",
        "                           eos_token_id=tokenizer.eos_token_id,\n",
        "                           bos_token_id=tokenizer.bos_token_id,\n",
        "                           use_cache=True)\n",
        "generated = tokenizer.decode(gen_ids[0])\n",
        "print(generated)"
      ],
      "metadata": {
        "colab": {
          "base_uri": "https://localhost:8080/"
        },
        "outputId": "f389b397-7f64-4b84-887b-368a260bfb24",
        "id": "ApsinGVIk4fb"
      },
      "execution_count": null,
      "outputs": [
        {
          "output_type": "stream",
          "name": "stdout",
          "text": [
            "떴다. 떴다. 비행기 날아라. 날아라.\"\n",
            "\"그럼, 비행기를 타고 가자.\"\n",
            "비행기가 뜨자 나는 다시 한 번 하늘을 향해 외쳤다.\n",
            "하늘을 향한 나의 시선은 하늘 위로 치솟았다.\n",
            "나는 그제야 비로소 내 앞에 섰다.\n",
            "그리고\n"
          ]
        }
      ]
    },
    {
      "cell_type": "code",
      "source": [
        "import torch\n",
        "from transformers import GPT2LMHeadModel\n",
        "\n",
        "model = GPT2LMHeadModel.from_pretrained('skt/kogpt2-base-v2')\n",
        "text = '건강한 생활'\n",
        "input_ids = tokenizer.encode(text, return_tensors='pt')\n",
        "gen_ids = model.generate(input_ids,\n",
        "                           max_length=50,\n",
        "                           repetition_penalty=2.0,\n",
        "                           pad_token_id=tokenizer.pad_token_id,\n",
        "                           eos_token_id=tokenizer.eos_token_id,\n",
        "                           bos_token_id=tokenizer.bos_token_id,\n",
        "                           use_cache=True)\n",
        "generated = tokenizer.decode(gen_ids[0])\n",
        "print(generated)"
      ],
      "metadata": {
        "colab": {
          "base_uri": "https://localhost:8080/"
        },
        "outputId": "9858fd44-25ba-4ce8-f7b8-d9878318ab1c",
        "id": "GoF59iuPKLm9"
      },
      "execution_count": null,
      "outputs": [
        {
          "output_type": "stream",
          "name": "stdout",
          "text": [
            "건강한 생활습관을 개선하는 것이 중요하다.\n",
            "특히, 스트레스를 많이 받는 사람은 피해야 한다.\n",
            "스트레스가 쌓이면 면역력이 떨어지기 때문에 평소보다 더 많은 양의 음식을 섭취하고, 충분한 수면을 취하는 것도 도움이 된다.\n",
            "또한 규칙적인 운동을 통해 스트레스의\n"
          ]
        }
      ]
    },
    {
      "cell_type": "code",
      "source": [
        "import torch\n",
        "from transformers import GPT2LMHeadModel\n",
        "\n",
        "model = GPT2LMHeadModel.from_pretrained('skt/kogpt2-base-v2')\n",
        "text = '근력 운동을 할 때'\n",
        "input_ids = tokenizer.encode(text, return_tensors='pt')\n",
        "gen_ids = model.generate(input_ids,\n",
        "                           max_length=50,\n",
        "                           repetition_penalty=2.0,\n",
        "                           pad_token_id=tokenizer.pad_token_id,\n",
        "                           eos_token_id=tokenizer.eos_token_id,\n",
        "                           bos_token_id=tokenizer.bos_token_id,\n",
        "                           use_cache=True)\n",
        "generated = tokenizer.decode(gen_ids[0])\n",
        "print(generated)"
      ],
      "metadata": {
        "colab": {
          "base_uri": "https://localhost:8080/"
        },
        "outputId": "204e451e-7e92-4e01-f69d-e58637944475",
        "id": "AcACKxurLxAn"
      },
      "execution_count": null,
      "outputs": [
        {
          "output_type": "stream",
          "name": "stdout",
          "text": [
            "근력 운동을 할 때 가장 중요한 것은 바로 운동이다.\n",
            "운동할 때는 반드시 스트레칭을 해야 한다.\n",
            "스트레스는 체내 호르몬 분비를 촉진시켜 근육과 인대의 긴장을 풀어주고 혈액순환을 원활하게 해 준다.\n",
            "또한 스트레스를 해소하고 면역력을\n"
          ]
        }
      ]
    },
    {
      "cell_type": "markdown",
      "source": [
        "<br>\n",
        "\n",
        "전체적으로 구어체의 문장 보다는 문어체의 문장에 잘 맞는 것 같다. 노래가사와 같은 문구를 넣으면 주로 다음 줄에 대화체 형식의 문장이 이어져서 맥락이 깨지는 느낌을 받았다.\n",
        "\n",
        "내용이 연결되는 듯 하면서 아닌 것도 같고, 어디선가 단순히 긁어오는 듯한 느낌도 없지 않다. \n",
        "'건강한 생활'이라는 입력문과 '근련 운동을 할 때'라는 입력문을 넣었을 때 결과를 비교해 보면, 문장구조가 유사하면서도 겹치지 않아서 단순히 붙여넣는 건 아닌 것 같기도 하다. \n",
        "다만 \"근력 운동을 할 때 가장 중요한 것은 바로 운동이다.\"와 같이 의미상으로 중첩되는 문장을 생성하는 문제를 보였다.\n",
        "\n",
        "transformer 등에 관한 기본지식을 쌓은 이후에, GPT가 어떤 방식으로 구현되는지 자세히 알아보는 것도 도움이 되겠다. \n",
        "\n",
        "\n",
        "-\n",
        "\n",
        "<br><br><br><br><br><br>\n"
      ],
      "metadata": {
        "id": "JU74Ue5Xwvl_"
      }
    },
    {
      "cell_type": "markdown",
      "source": [
        "\n",
        "\n",
        "---\n",
        "\n",
        "# **III. 결 론**\n",
        "\n",
        "<br>\n",
        "\n",
        "* 해당 알고리즘도 결국 Lable이 있는 Classification의 일종이다.\n",
        "* 적정 embedding size, hidden size 등의 설정을 통해 validation loss를 조절할 수 있다.\n",
        "* tokenizer가 보유한 vocabulary의 양에 따라 validation loss를 조절할 수 있다.\n",
        "* 다만, validation loss가 낮다고해서 목적에 부합하는 문장생성을 보장하는 것은 아니다.\n",
        "* 문제의 성격에 따른 loss의 의미 이해가 요구되며, 필요 시 해당 문제에 부합하는 평가지표의 보완으로 효과적인 목적달성이 가능할 것으로 판단된다. \n",
        "\n",
        "\n",
        "<br>\n",
        "\n",
        "\n",
        "####**[ 맺음말 ]**\n",
        "\n",
        "\n",
        "이번 과정을 통해 구현해 낸 Model은 학습한 내용을 짜깁기하여 최대한 그럴 듯하게 유사한 문장을 생성해내는 것이겠지만, 입력으로 넣은 새로운 단어에 맞추어 문장을 만들어 주는 과정에서 마치 상호작용을 하는 듯한 느낌을 받았다. \n",
        "\n",
        "또한 생성한 문장이 내포하는 의미가 특정 성향이나 가치관과 결부된 경우를 보며, 기계에 의한 확률적 선택일 뿐 임에도 충분히 논란이 될 수 있겠다는 생각도 들었다. \n",
        "\n",
        "언어를 다루는 측면 때문일까. 이전 Exploration 과정들과는 확연히 구분되는 경험이었다. 주어진 데이터를 기반으로 AI가 만들어 낸 문장이 내포한 의미와 그 글귀를 보고 느끼는 감정은 어디에서 비롯되었다고 볼 것인가ㅡ하는 부질없는 물음이 남았다.\n",
        "\n",
        "\n",
        "<br>\n",
        "\n",
        "\n"
      ],
      "metadata": {
        "id": "1GyE3sDpSy4a"
      }
    },
    {
      "cell_type": "markdown",
      "source": [
        "            \n",
        "<br><br><br>\n",
        "\n",
        "\n",
        "\n",
        "---\n",
        "\n",
        "<br>\n",
        "\n",
        "< 참고문헌 >\n",
        "\n",
        "- LMS, E-06, 작사가 인공지능 만들기 [1]\n",
        "- ⌈혼자 공부하는 머신러닝 딥러닝⌋, 한빛미디어, 박해선 지음 [2]\n",
        "- 밑바닥부터 시작하는 딥러닝2 [3]\n",
        "- https://github.com/SKT-AI/KoGPT2 [4]\n",
        "- https://www.tensorflow.org/api_docs/python/tf/keras/callbacks/Callback\n",
        "\n",
        "<br><br>\n",
        "\n",
        "---\n",
        "\n"
      ],
      "metadata": {
        "id": "VvtvwZRiR-eU"
      }
    }
  ]
}